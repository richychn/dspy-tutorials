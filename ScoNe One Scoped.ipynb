{
 "cells": [
  {
   "cell_type": "code",
   "execution_count": 18,
   "id": "7fbe7590-c07c-42dd-aa5d-eb236cbd7937",
   "metadata": {},
   "outputs": [],
   "source": [
    "import glob\n",
    "import os\n",
    "import pandas as pd\n",
    "import random\n",
    "from dotenv import load_dotenv\n",
    "\n",
    "import dspy\n",
    "from dspy.evaluate import Evaluate\n",
    "from dspy.teleprompt import BootstrapFewShotWithRandomSearch"
   ]
  },
  {
   "cell_type": "code",
   "execution_count": 2,
   "id": "b10bcf35-b8b8-4cc3-ac24-5e7b3e7238e7",
   "metadata": {},
   "outputs": [],
   "source": [
    "os.environ[\"DSP_NOTEBOOK_CACHEDIR\"] = os.path.join('.', 'cache')"
   ]
  },
  {
   "cell_type": "code",
   "execution_count": 19,
   "id": "f1b0560f-559c-41b1-8486-fa49934c40a4",
   "metadata": {},
   "outputs": [
    {
     "data": {
      "text/plain": [
       "True"
      ]
     },
     "execution_count": 19,
     "metadata": {},
     "output_type": "execute_result"
    }
   ],
   "source": [
    "load_dotenv()"
   ]
  },
  {
   "cell_type": "markdown",
   "id": "c4bbacb5-8eb9-44db-8fbf-1a19779eb12c",
   "metadata": {},
   "source": [
    "## Initialize Models"
   ]
  },
  {
   "cell_type": "code",
   "execution_count": 3,
   "id": "d12264fb-d8b9-435a-ad41-e70892fdd5b2",
   "metadata": {},
   "outputs": [],
   "source": [
    "turbo = dspy.OpenAI(model='gpt-3.5-turbo-1106', max_tokens=250, model_type='chat')\n",
    "\n",
    "dspy.settings.configure(lm=turbo)"
   ]
  },
  {
   "cell_type": "code",
   "execution_count": 4,
   "id": "8b57d980-7411-4943-b5d6-119cd59f6d1d",
   "metadata": {},
   "outputs": [],
   "source": [
    "gpt4T = dspy.OpenAI(model='gpt-4-1106-preview', max_tokens=350, model_type='chat')"
   ]
  },
  {
   "cell_type": "code",
   "execution_count": 22,
   "id": "51c74bc5-ab36-4f67-a72b-4190a85c2400",
   "metadata": {},
   "outputs": [],
   "source": [
    "RUN_FROM_SCRATCH = True"
   ]
  },
  {
   "cell_type": "markdown",
   "id": "7f4975b3-cca7-4e67-a674-32b6ae735ff6",
   "metadata": {},
   "source": [
    "# ScoNe Data"
   ]
  },
  {
   "cell_type": "code",
   "execution_count": 5,
   "id": "d3110c25-a044-4557-867c-ba4ed8d73dfe",
   "metadata": {},
   "outputs": [
    {
     "name": "stdout",
     "output_type": "stream",
     "text": [
      "Cloning into 'ScoNe'...\n",
      "remote: Enumerating objects: 77, done.\u001b[K\n",
      "remote: Counting objects: 100% (77/77), done.\u001b[Ks:  51% (40/77)\u001b[K\n",
      "remote: Compressing objects: 100% (55/55), done.\u001b[K\n",
      "remote: Total 77 (delta 42), reused 42 (delta 20), pack-reused 0\u001b[K\n",
      "Receiving objects: 100% (77/77), 116.25 KiB | 1.25 MiB/s, done.\n",
      "Resolving deltas: 100% (42/42), done.\n"
     ]
    }
   ],
   "source": [
    "!git clone https://github.com/selenashe/ScoNe.git"
   ]
  },
  {
   "cell_type": "code",
   "execution_count": 6,
   "id": "ddd9b36c-0a51-405d-8950-44e489153545",
   "metadata": {},
   "outputs": [],
   "source": [
    "def load_scone(dirname):\n",
    "    dfs = []\n",
    "    for filename in glob.glob(dirname + \"/*.csv\"):\n",
    "        df = pd.read_csv(filename, index_col=0)\n",
    "        df['category'] = os.path.basename(filename).replace(\".csv\", \"\")\n",
    "        dfs.append(df)\n",
    "    data_df = pd.concat(dfs)\n",
    "\n",
    "    def as_example(row):\n",
    "        # The 'one_scoped' file is from an earlier dataset, MoNLI, and\n",
    "        # so is formatted a bit differently:\n",
    "        suffix = '' if row['category'] == 'one_scoped' else '_edited'\n",
    "        # Reformat the hypothesis to be an embedded clause in a question:\n",
    "        hkey = 'sentence2' + suffix\n",
    "        question = row[hkey][0].lower() + row[hkey][1: ].strip(\".\")\n",
    "        question = f\"Can we logically conclude for sure that {question}?\"\n",
    "        # Binary task formulation:\n",
    "        label = \"Yes\" if row['gold_label' + suffix] == 'entailment' else \"No\"\n",
    "        return dspy.Example({\n",
    "            \"context\": row['sentence1' + suffix],\n",
    "            \"question\": question,\n",
    "            \"answer\": label,\n",
    "            \"category\": row['category']\n",
    "        }).with_inputs(\"context\", \"question\")\n",
    "\n",
    "    return list(data_df.apply(as_example, axis=1).values)"
   ]
  },
  {
   "cell_type": "markdown",
   "id": "52fa4408-d1e6-4755-a9d0-d93d180daa87",
   "metadata": {},
   "source": [
    "## Train, Dev, Test"
   ]
  },
  {
   "cell_type": "code",
   "execution_count": 7,
   "id": "d89dec86-299e-4259-b09f-d9b846be1f3a",
   "metadata": {},
   "outputs": [
    {
     "data": {
      "text/plain": [
       "(200, 50)"
      ]
     },
     "execution_count": 7,
     "metadata": {},
     "output_type": "execute_result"
    }
   ],
   "source": [
    "all_train = load_scone(\"ScoNe/scone_nli/train\")\n",
    "\n",
    "random.seed(1)\n",
    "random.shuffle(all_train)\n",
    "\n",
    "# 200 random train, 50 random dev:\n",
    "train, dev = all_train[: 200], all_train[200: 250]\n",
    "\n",
    "len(train), len(dev)"
   ]
  },
  {
   "cell_type": "code",
   "execution_count": 34,
   "id": "4d699fd6-afbb-4c9a-bd5e-8c65d6e535e2",
   "metadata": {},
   "outputs": [
    {
     "data": {
      "text/plain": [
       "[Example({'context': 'The people are not happy when they play instruments.', 'question': 'Can we logically conclude for sure that the people are not happy when they play accordions?', 'answer': 'No', 'category': 'one_not_scoped'}) (input_keys={'question', 'context'}),\n",
       " Example({'context': 'the boy does not play a guitar', 'question': 'Can we logically conclude for sure that the boy does not play an instrument?', 'answer': 'No', 'category': 'one_scoped'}) (input_keys={'question', 'context'}),\n",
       " Example({'context': 'The three children not holding plants are not in school today.', 'question': 'Can we logically conclude for sure that the three children not holding poppies are not in school today?', 'answer': 'Yes', 'category': 'one_scoped_one_not_scoped'}) (input_keys={'question', 'context'}),\n",
       " Example({'context': 'A woman did not like cheeseburger and did not like clothes.', 'question': 'Can we logically conclude for sure that a woman did not like food and did not like clothes?', 'answer': 'No', 'category': 'one_scoped_one_not_scoped'}) (input_keys={'question', 'context'}),\n",
       " Example({'context': 'It is not true that there is not a lifeboat nearby.', 'question': 'Can we logically conclude for sure that it is not true that there is not a boat nearby?', 'answer': 'Yes', 'category': 'two_scoped'}) (input_keys={'question', 'context'}),\n",
       " Example({'context': 'A man is not standing on top of a ladder that is leaned against a not so tall magnolia.', 'question': 'Can we logically conclude for sure that a man is not standing on top of a ladder that is leaned against a not so tall tree?', 'answer': 'Yes', 'category': 'two_not_scoped'}) (input_keys={'question', 'context'}),\n",
       " Example({'context': 'A woman did not like lasagna.', 'question': 'Can we logically conclude for sure that a woman did not like food?', 'answer': 'No', 'category': 'one_scoped'}) (input_keys={'question', 'context'}),\n",
       " Example({'context': 'The child, who is not dressed in blue, finds a woman', 'question': 'Can we logically conclude for sure that the child, who is not dressed in blue, finds a mother?', 'answer': 'No', 'category': 'one_not_scoped'}) (input_keys={'question', 'context'}),\n",
       " Example({'context': \"There is a swimmer walking in the city when it's not dark.\", 'question': \"Can we logically conclude for sure that there is a person walking in the city when it's not dark?\", 'answer': 'Yes', 'category': 'one_not_scoped'}) (input_keys={'question', 'context'}),\n",
       " Example({'context': 'The people not wearing blue are not playing instruments.', 'question': 'Can we logically conclude for sure that the people not wearing blue are not playing flutes?', 'answer': 'Yes', 'category': 'one_scoped_one_not_scoped'}) (input_keys={'question', 'context'}),\n",
       " Example({'context': 'The cowboy did not fall off a horse at the competition.', 'question': 'Can we logically conclude for sure that the cowboy did not fall off a mustang at the competition?', 'answer': 'Yes', 'category': 'one_scoped'}) (input_keys={'question', 'context'}),\n",
       " Example({'context': 'The person did not like strawberries and did not like meat.', 'question': 'Can we logically conclude for sure that the person did not like fruit and did not like meat?', 'answer': 'No', 'category': 'one_scoped_one_not_scoped'}) (input_keys={'question', 'context'}),\n",
       " Example({'context': 'The boy is holding a weapon', 'question': 'Can we logically conclude for sure that the boy is holding a gun?', 'answer': 'No', 'category': 'no_negation'}) (input_keys={'question', 'context'}),\n",
       " Example({'context': 'a boy is concentrating, not distracted, on a machine that is not made of wood', 'question': 'Can we logically conclude for sure that a boy is concentrating, not distracted, on a jukebox that is not made of wood?', 'answer': 'No', 'category': 'two_not_scoped'}) (input_keys={'question', 'context'}),\n",
       " Example({'context': 'It is not true that there is not a single jew walking in the city.', 'question': 'Can we logically conclude for sure that it is not true that there is not a single person walking in the city?', 'answer': 'Yes', 'category': 'two_scoped'}) (input_keys={'question', 'context'}),\n",
       " Example({'context': 'The proposition that the person did not like fruit is untrue.', 'question': 'Can we logically conclude for sure that the proposition that the person did not like cranberries is untrue?', 'answer': 'No', 'category': 'two_scoped'}) (input_keys={'question', 'context'}),\n",
       " Example({'context': 'There is a single king walking in the city that does not sleep and does not rest.', 'question': 'Can we logically conclude for sure that there is a single person walking in the city that does not sleep and does not rest?', 'answer': 'Yes', 'category': 'two_not_scoped'}) (input_keys={'question', 'context'}),\n",
       " Example({'context': 'The woman is not cutting a cake.', 'question': 'Can we logically conclude for sure that the woman is not cutting a cheesecake?', 'answer': 'Yes', 'category': 'one_scoped'}) (input_keys={'question', 'context'}),\n",
       " Example({'context': 'The man not dancing is not listening to music.', 'question': 'Can we logically conclude for sure that the man not dancing is not listening to beethoven?', 'answer': 'Yes', 'category': 'one_scoped_one_not_scoped'}) (input_keys={'question', 'context'}),\n",
       " Example({'context': 'The diver has not seen any catfish on his dive that did not go too deep.', 'question': 'Can we logically conclude for sure that the diver has not seen any fish on his dive that did not go too deep?', 'answer': 'No', 'category': 'one_scoped_one_not_scoped'}) (input_keys={'question', 'context'}),\n",
       " Example({'context': 'It is a lie that a woman did not like lasagna.', 'question': 'Can we logically conclude for sure that it is a lie that a woman did not like food?', 'answer': 'Yes', 'category': 'two_scoped'}) (input_keys={'question', 'context'}),\n",
       " Example({'context': 'the boy does not play an instrument', 'question': 'Can we logically conclude for sure that the boy does not play a sousaphone?', 'answer': 'Yes', 'category': 'one_scoped'}) (input_keys={'question', 'context'}),\n",
       " Example({'context': 'The three children not holding plants are not in school today.', 'question': 'Can we logically conclude for sure that the three children not holding tulips are not in school today?', 'answer': 'Yes', 'category': 'one_scoped_one_not_scoped'}) (input_keys={'question', 'context'}),\n",
       " Example({'context': 'There is no way that a man is on top of a ladder not next to a tree.', 'question': 'Can we logically conclude for sure that there is no way that a man is on top of a ladder not next to a pine?', 'answer': 'No', 'category': 'two_scoped'}) (input_keys={'question', 'context'}),\n",
       " Example({'context': 'The proposition that the person did not like pears is untrue.', 'question': 'Can we logically conclude for sure that the proposition that the person did not like fruit is untrue?', 'answer': 'Yes', 'category': 'two_scoped'}) (input_keys={'question', 'context'}),\n",
       " Example({'context': 'The skier noticed a large tree dragging behind him but did not stop.', 'question': 'Can we logically conclude for sure that the skier noticed a large plant dragging behind him but did not stop?', 'answer': 'Yes', 'category': 'one_not_scoped'}) (input_keys={'question', 'context'}),\n",
       " Example({'context': 'The girl here is wearing necklaces, the other ones are not here yet.', 'question': 'Can we logically conclude for sure that the girl here is wearing jewelry, the other ones are not here yet?', 'answer': 'Yes', 'category': 'one_not_scoped'}) (input_keys={'question', 'context'}),\n",
       " Example({'context': 'The dog liked kebab, but not from the store that is not far away.', 'question': 'Can we logically conclude for sure that the dog liked food, but not from the store that is not far away?', 'answer': 'Yes', 'category': 'two_not_scoped'}) (input_keys={'question', 'context'}),\n",
       " Example({'context': 'The three children, not the parents, are holding plants but not ice creams.', 'question': 'Can we logically conclude for sure that the three children, not the parents, are holding ferns but not ice creams?', 'answer': 'No', 'category': 'two_not_scoped'}) (input_keys={'question', 'context'}),\n",
       " Example({'context': 'It is not the case that the diver has not seen any catfish on his dive.', 'question': 'Can we logically conclude for sure that it is not the case that the diver has not seen any fish on his dive?', 'answer': 'Yes', 'category': 'two_scoped'}) (input_keys={'question', 'context'}),\n",
       " Example({'context': 'a boy is not concentrating on a machine', 'question': 'Can we logically conclude for sure that a boy is not concentrating on a turbine?', 'answer': 'Yes', 'category': 'one_scoped'}) (input_keys={'question', 'context'}),\n",
       " Example({'context': 'The woman is not wearing shoes.', 'question': 'Can we logically conclude for sure that the woman is not wearing sandals?', 'answer': 'Yes', 'category': 'one_scoped'}) (input_keys={'question', 'context'}),\n",
       " Example({'context': 'The dog liked meatball, but not from the store that is not far away.', 'question': 'Can we logically conclude for sure that the dog liked food, but not from the store that is not far away?', 'answer': 'Yes', 'category': 'two_not_scoped'}) (input_keys={'question', 'context'}),\n",
       " Example({'context': 'a man walks shakily dropping produce', 'question': 'Can we logically conclude for sure that a man walks shakily dropping eggplants?', 'answer': 'No', 'category': 'no_negation'}) (input_keys={'question', 'context'}),\n",
       " Example({'context': 'a boy is not concentrating on a machine', 'question': 'Can we logically conclude for sure that a boy is not concentrating on an excavator?', 'answer': 'Yes', 'category': 'one_scoped'}) (input_keys={'question', 'context'}),\n",
       " Example({'context': 'The man is listening to samba for not longer than an hour because he cannot stay focused.', 'question': 'Can we logically conclude for sure that the man is listening to music for not longer than an hour because he cannot stay focused?', 'answer': 'Yes', 'category': 'two_not_scoped'}) (input_keys={'question', 'context'}),\n",
       " Example({'context': 'the boy, not girl, will play an instrument, but not for another week', 'question': 'Can we logically conclude for sure that the boy, not girl, will play an harpsichord, but not for another week?', 'answer': 'No', 'category': 'two_not_scoped'}) (input_keys={'question', 'context'}),\n",
       " Example({'context': 'The girl does not wear a sunhat when not sleeping.', 'question': 'Can we logically conclude for sure that the girl does not wear a hat when not sleeping?', 'answer': 'No', 'category': 'one_scoped_one_not_scoped'}) (input_keys={'question', 'context'}),\n",
       " Example({'context': 'A woman did not like food and did not like clothes.', 'question': 'Can we logically conclude for sure that a woman did not like corn and did not like clothes?', 'answer': 'Yes', 'category': 'one_scoped_one_not_scoped'}) (input_keys={'question', 'context'}),\n",
       " Example({'context': 'The proposition that the person did not like fruit is untrue.', 'question': 'Can we logically conclude for sure that the proposition that the person did not like oranges is untrue?', 'answer': 'No', 'category': 'two_scoped'}) (input_keys={'question', 'context'}),\n",
       " Example({'context': 'The person likes fruit.', 'question': 'Can we logically conclude for sure that the person likes pears?', 'answer': 'No', 'category': 'no_negation'}) (input_keys={'question', 'context'}),\n",
       " Example({'context': 'The dog liked pasta, but not from the store that is not far away.', 'question': 'Can we logically conclude for sure that the dog liked food, but not from the store that is not far away?', 'answer': 'Yes', 'category': 'two_not_scoped'}) (input_keys={'question', 'context'}),\n",
       " Example({'context': 'The statement that the man is not cutting the marlin is untrue.', 'question': 'Can we logically conclude for sure that the statement that the man is not cutting the fish is untrue?', 'answer': 'Yes', 'category': 'two_scoped'}) (input_keys={'question', 'context'}),\n",
       " Example({'context': 'It is false that the boy does not play an oboe.', 'question': 'Can we logically conclude for sure that it is false that the boy does not play an instrument?', 'answer': 'Yes', 'category': 'two_scoped'}) (input_keys={'question', 'context'}),\n",
       " Example({'context': \"There is a person walking in the city when it's not dark.\", 'question': \"Can we logically conclude for sure that there is a cashier walking in the city when it's not dark?\", 'answer': 'No', 'category': 'one_not_scoped'}) (input_keys={'question', 'context'}),\n",
       " Example({'context': 'To believe that a man walks confidently not dropping produce is to believe a falsity.', 'question': 'Can we logically conclude for sure that to believe that a man walks confidently not dropping food is to believe a falsity?', 'answer': 'Yes', 'category': 'two_scoped'}) (input_keys={'question', 'context'}),\n",
       " Example({'context': 'There is a single rescuer walking in the city that does not sleep and does not rest.', 'question': 'Can we logically conclude for sure that there is a single person walking in the city that does not sleep and does not rest?', 'answer': 'Yes', 'category': 'two_not_scoped'}) (input_keys={'question', 'context'}),\n",
       " Example({'context': 'It is not the case that people do not have any machines.', 'question': 'Can we logically conclude for sure that it is not the case that people do not have any treadmills?', 'answer': 'No', 'category': 'two_scoped'}) (input_keys={'question', 'context'}),\n",
       " Example({'context': 'There is a person cutting hair on the stage, not in the background.', 'question': 'Can we logically conclude for sure that there is a man cutting hair on the stage, not in the background?', 'answer': 'No', 'category': 'one_not_scoped'}) (input_keys={'question', 'context'}),\n",
       " Example({'context': 'The girl wears a hat.', 'question': 'Can we logically conclude for sure that the girl wears a fedora?', 'answer': 'No', 'category': 'no_negation'}) (input_keys={'question', 'context'})]"
      ]
     },
     "execution_count": 34,
     "metadata": {},
     "output_type": "execute_result"
    }
   ],
   "source": [
    "dev"
   ]
  },
  {
   "cell_type": "code",
   "execution_count": 8,
   "id": "621b2006-e903-4aac-9c78-a840806e8c5c",
   "metadata": {},
   "outputs": [],
   "source": [
    "random.seed(1)\n",
    "\n",
    "test = load_scone(dirname=f\"ScoNe/scone_nli/test\")\n",
    "\n",
    "# We're developing a system for the full ScoNe benchmark, but we'll\n",
    "# evaluate only on one of the hardest and most informative ScoNe\n",
    "# categories for now -- examples with a single negation that plays\n",
    "# a crucial role in the reasoning:\n",
    "test = [ex for ex in test if ex.category == \"one_scoped\"]"
   ]
  },
  {
   "cell_type": "code",
   "execution_count": 9,
   "id": "fb93e002-1bf1-4568-805c-9f803fc521ef",
   "metadata": {},
   "outputs": [
    {
     "data": {
      "text/plain": [
       "No     100\n",
       "Yes    100\n",
       "Name: count, dtype: int64"
      ]
     },
     "execution_count": 9,
     "metadata": {},
     "output_type": "execute_result"
    }
   ],
   "source": [
    "pd.Series([ex.answer for ex in test]).value_counts()"
   ]
  },
  {
   "cell_type": "markdown",
   "id": "8ab4c89f-bf9c-4c3c-876d-b7171eb56043",
   "metadata": {},
   "source": [
    "# Evaluation"
   ]
  },
  {
   "cell_type": "code",
   "execution_count": 10,
   "id": "1dbfe2e3-8f1e-4524-b747-09289aca4499",
   "metadata": {},
   "outputs": [],
   "source": [
    "scone_accuracy = dspy.evaluate.metrics.answer_exact_match"
   ]
  },
  {
   "cell_type": "code",
   "execution_count": 11,
   "id": "a70c63dc-52b2-4846-899d-db60eb109287",
   "metadata": {},
   "outputs": [],
   "source": [
    "evaluator = Evaluate(devset=test, num_threads=1, display_progress=True, display_table=0)"
   ]
  },
  {
   "cell_type": "markdown",
   "id": "653d44aa-f279-454e-9b24-9e62fb369239",
   "metadata": {},
   "source": [
    "# Zero Shot Chain of Thought"
   ]
  },
  {
   "cell_type": "code",
   "execution_count": 12,
   "id": "7caede3e-8d13-4c6a-8200-9536c92008e1",
   "metadata": {},
   "outputs": [],
   "source": [
    "class ScoNeSignature(dspy.Signature):\n",
    "    (\"\"\"You are given some context (a premise) and a question (a hypothesis). \"\"\"\n",
    "    \"\"\"You must indicate with Yes/No answer whether we can logically \"\"\"\n",
    "    \"\"\"conclude the hypothesis from the premise.\"\"\")\n",
    "\n",
    "    context = dspy.InputField()\n",
    "    question = dspy.InputField()\n",
    "    answer = dspy.OutputField(desc=\"Yes or No\")"
   ]
  },
  {
   "cell_type": "code",
   "execution_count": 13,
   "id": "6b5754c6-8f70-4bf7-ad16-46017ebd15d5",
   "metadata": {},
   "outputs": [],
   "source": [
    "class ScoNeCoT(dspy.Module):\n",
    "    def __init__(self):\n",
    "        super().__init__()\n",
    "        self.generate_answer = dspy.ChainOfThought(ScoNeSignature)\n",
    "\n",
    "    def forward(self, context, question):\n",
    "        return self.generate_answer(context=context, question=question)"
   ]
  },
  {
   "cell_type": "code",
   "execution_count": 14,
   "id": "b4ea5c84-bc68-43b1-a5a6-8dd010320775",
   "metadata": {},
   "outputs": [],
   "source": [
    "cot_zeroshot = ScoNeCoT()"
   ]
  },
  {
   "cell_type": "code",
   "execution_count": 20,
   "id": "b2806406-d49c-40ee-9c50-cfc19e5e3108",
   "metadata": {},
   "outputs": [
    {
     "name": "stderr",
     "output_type": "stream",
     "text": [
      "\n",
      "  0%|                                                                                                                                                      | 0/200 [00:00<?, ?it/s]\u001b[A\n",
      "Average Metric: 1 / 1  (100.0):   0%|                                                                                                                      | 0/200 [00:01<?, ?it/s]\u001b[A\n",
      "Average Metric: 1 / 1  (100.0):   0%|▌                                                                                                             | 1/200 [00:01<04:11,  1.26s/it]\u001b[A\n",
      "Average Metric: 1 / 2  (50.0):   0%|▌                                                                                                              | 1/200 [00:02<04:11,  1.26s/it]\u001b[A\n",
      "Average Metric: 1 / 2  (50.0):   1%|█                                                                                                              | 2/200 [00:02<04:36,  1.40s/it]\u001b[A\n",
      "Average Metric: 2 / 3  (66.7):   1%|█                                                                                                              | 2/200 [00:03<04:36,  1.40s/it]\u001b[A\n",
      "Average Metric: 2 / 3  (66.7):   2%|█▋                                                                                                             | 3/200 [00:03<03:53,  1.19s/it]\u001b[A\n",
      "Average Metric: 2 / 4  (50.0):   2%|█▋                                                                                                             | 3/200 [00:05<03:53,  1.19s/it]\u001b[A\n",
      "Average Metric: 2 / 4  (50.0):   2%|██▏                                                                                                            | 4/200 [00:05<04:51,  1.49s/it]\u001b[A\n",
      "Average Metric: 2 / 5  (40.0):   2%|██▏                                                                                                            | 4/200 [00:06<04:51,  1.49s/it]\u001b[A\n",
      "Average Metric: 2 / 5  (40.0):   2%|██▊                                                                                                            | 5/200 [00:06<04:23,  1.35s/it]\u001b[A\n",
      "Average Metric: 3 / 6  (50.0):   2%|██▊                                                                                                            | 5/200 [00:07<04:23,  1.35s/it]\u001b[A\n",
      "Average Metric: 3 / 6  (50.0):   3%|███▎                                                                                                           | 6/200 [00:07<04:05,  1.27s/it]\u001b[A\n",
      "Average Metric: 3 / 7  (42.9):   3%|███▎                                                                                                           | 6/200 [00:09<04:05,  1.27s/it]\u001b[A\n",
      "Average Metric: 3 / 7  (42.9):   4%|███▉                                                                                                           | 7/200 [00:09<04:22,  1.36s/it]\u001b[A\n",
      "Average Metric: 4 / 8  (50.0):   4%|███▉                                                                                                           | 7/200 [00:11<04:22,  1.36s/it]\u001b[A\n",
      "Average Metric: 4 / 8  (50.0):   4%|████▍                                                                                                          | 8/200 [00:11<04:43,  1.48s/it]\u001b[A\n",
      "Average Metric: 4 / 9  (44.4):   4%|████▍                                                                                                          | 8/200 [00:12<04:43,  1.48s/it]\u001b[A\n",
      "Average Metric: 4 / 9  (44.4):   4%|████▉                                                                                                          | 9/200 [00:12<04:12,  1.32s/it]\u001b[A\n",
      "Average Metric: 5 / 10  (50.0):   4%|████▉                                                                                                         | 9/200 [00:13<04:12,  1.32s/it]\u001b[A\n",
      "Average Metric: 5 / 10  (50.0):   5%|█████▍                                                                                                       | 10/200 [00:13<03:55,  1.24s/it]\u001b[A\n",
      "Average Metric: 5 / 11  (45.5):   5%|█████▍                                                                                                       | 10/200 [00:14<03:55,  1.24s/it]\u001b[A\n",
      "Average Metric: 5 / 11  (45.5):   6%|█████▉                                                                                                       | 11/200 [00:14<03:48,  1.21s/it]\u001b[A\n",
      "Average Metric: 6 / 12  (50.0):   6%|█████▉                                                                                                       | 11/200 [00:15<03:48,  1.21s/it]\u001b[A\n",
      "Average Metric: 6 / 12  (50.0):   6%|██████▌                                                                                                      | 12/200 [00:15<03:46,  1.20s/it]\u001b[A\n",
      "Average Metric: 6 / 13  (46.2):   6%|██████▌                                                                                                      | 12/200 [00:16<03:46,  1.20s/it]\u001b[A\n",
      "Average Metric: 6 / 13  (46.2):   6%|███████                                                                                                      | 13/200 [00:16<03:55,  1.26s/it]\u001b[A\n",
      "Average Metric: 7 / 14  (50.0):   6%|███████                                                                                                      | 13/200 [00:18<03:55,  1.26s/it]\u001b[A\n",
      "Average Metric: 7 / 14  (50.0):   7%|███████▋                                                                                                     | 14/200 [00:18<03:48,  1.23s/it]\u001b[A\n",
      "Average Metric: 7 / 15  (46.7):   7%|███████▋                                                                                                     | 14/200 [00:19<03:48,  1.23s/it]\u001b[A\n",
      "Average Metric: 7 / 15  (46.7):   8%|████████▏                                                                                                    | 15/200 [00:19<03:33,  1.16s/it]\u001b[A\n",
      "Average Metric: 8 / 16  (50.0):   8%|████████▏                                                                                                    | 15/200 [00:20<03:33,  1.16s/it]\u001b[A\n",
      "Average Metric: 8 / 16  (50.0):   8%|████████▋                                                                                                    | 16/200 [00:20<03:34,  1.16s/it]\u001b[A\n",
      "Average Metric: 8 / 17  (47.1):   8%|████████▋                                                                                                    | 16/200 [00:21<03:34,  1.16s/it]\u001b[A\n",
      "Average Metric: 8 / 17  (47.1):   8%|█████████▎                                                                                                   | 17/200 [00:21<03:18,  1.08s/it]\u001b[A\n",
      "Average Metric: 9 / 18  (50.0):   8%|█████████▎                                                                                                   | 17/200 [00:22<03:18,  1.08s/it]\u001b[A\n",
      "Average Metric: 9 / 18  (50.0):   9%|█████████▊                                                                                                   | 18/200 [00:22<03:24,  1.13s/it]\u001b[A\n",
      "Average Metric: 9 / 19  (47.4):   9%|█████████▊                                                                                                   | 18/200 [00:23<03:24,  1.13s/it]\u001b[A\n",
      "Average Metric: 9 / 19  (47.4):  10%|██████████▎                                                                                                  | 19/200 [00:23<03:16,  1.08s/it]\u001b[A\n",
      "Average Metric: 10 / 20  (50.0):  10%|██████████▎                                                                                                 | 19/200 [00:24<03:16,  1.08s/it]\u001b[A\n",
      "Average Metric: 10 / 20  (50.0):  10%|██████████▊                                                                                                 | 20/200 [00:24<03:28,  1.16s/it]\u001b[A\n",
      "Average Metric: 10 / 21  (47.6):  10%|██████████▊                                                                                                 | 20/200 [00:25<03:28,  1.16s/it]\u001b[A\n",
      "Average Metric: 10 / 21  (47.6):  10%|███████████▎                                                                                                | 21/200 [00:25<03:15,  1.09s/it]\u001b[A\n",
      "Average Metric: 11 / 22  (50.0):  10%|███████████▎                                                                                                | 21/200 [00:26<03:15,  1.09s/it]\u001b[A\n",
      "Average Metric: 11 / 22  (50.0):  11%|███████████▉                                                                                                | 22/200 [00:26<03:06,  1.05s/it]\u001b[A\n",
      "Average Metric: 11 / 23  (47.8):  11%|███████████▉                                                                                                | 22/200 [00:28<03:06,  1.05s/it]\u001b[A\n",
      "Average Metric: 11 / 23  (47.8):  12%|████████████▍                                                                                               | 23/200 [00:28<04:19,  1.47s/it]\u001b[A\n",
      "Average Metric: 12 / 24  (50.0):  12%|████████████▍                                                                                               | 23/200 [00:29<04:19,  1.47s/it]\u001b[A\n",
      "Average Metric: 12 / 24  (50.0):  12%|████████████▉                                                                                               | 24/200 [00:29<03:52,  1.32s/it]\u001b[A\n",
      "Average Metric: 12 / 25  (48.0):  12%|████████████▉                                                                                               | 24/200 [00:31<03:52,  1.32s/it]\u001b[A\n",
      "Average Metric: 12 / 25  (48.0):  12%|█████████████▌                                                                                              | 25/200 [00:31<03:48,  1.30s/it]\u001b[A\n",
      "Average Metric: 13 / 26  (50.0):  12%|█████████████▌                                                                                              | 25/200 [00:32<03:48,  1.30s/it]\u001b[A\n",
      "Average Metric: 13 / 26  (50.0):  13%|██████████████                                                                                              | 26/200 [00:32<04:09,  1.43s/it]\u001b[A\n",
      "Average Metric: 13 / 27  (48.1):  13%|██████████████                                                                                              | 26/200 [00:33<04:09,  1.43s/it]\u001b[A\n",
      "Average Metric: 13 / 27  (48.1):  14%|██████████████▌                                                                                             | 27/200 [00:33<03:42,  1.28s/it]\u001b[A\n",
      "Average Metric: 14 / 28  (50.0):  14%|██████████████▌                                                                                             | 27/200 [00:34<03:42,  1.28s/it]\u001b[A\n",
      "Average Metric: 14 / 28  (50.0):  14%|███████████████                                                                                             | 28/200 [00:34<03:15,  1.14s/it]\u001b[A\n",
      "Average Metric: 14 / 29  (48.3):  14%|███████████████                                                                                             | 28/200 [00:35<03:15,  1.14s/it]\u001b[A\n",
      "Average Metric: 14 / 29  (48.3):  14%|███████████████▋                                                                                            | 29/200 [00:35<03:08,  1.10s/it]\u001b[A\n",
      "Average Metric: 15 / 30  (50.0):  14%|███████████████▋                                                                                            | 29/200 [00:36<03:08,  1.10s/it]\u001b[A\n",
      "Average Metric: 15 / 30  (50.0):  15%|████████████████▏                                                                                           | 30/200 [00:36<03:07,  1.10s/it]\u001b[A\n",
      "Average Metric: 15 / 31  (48.4):  15%|████████████████▏                                                                                           | 30/200 [00:37<03:07,  1.10s/it]\u001b[A\n",
      "Average Metric: 15 / 31  (48.4):  16%|████████████████▋                                                                                           | 31/200 [00:37<02:56,  1.04s/it]\u001b[A\n",
      "Average Metric: 16 / 32  (50.0):  16%|████████████████▋                                                                                           | 31/200 [00:38<02:56,  1.04s/it]\u001b[A\n",
      "Average Metric: 16 / 32  (50.0):  16%|█████████████████▎                                                                                          | 32/200 [00:38<02:45,  1.01it/s]\u001b[A\n",
      "Average Metric: 16 / 33  (48.5):  16%|█████████████████▎                                                                                          | 32/200 [00:39<02:45,  1.01it/s]\u001b[A\n",
      "Average Metric: 16 / 33  (48.5):  16%|█████████████████▊                                                                                          | 33/200 [00:39<02:35,  1.07it/s]\u001b[A\n",
      "Average Metric: 17 / 34  (50.0):  16%|█████████████████▊                                                                                          | 33/200 [00:40<02:35,  1.07it/s]\u001b[A\n",
      "Average Metric: 17 / 34  (50.0):  17%|██████████████████▎                                                                                         | 34/200 [00:40<02:24,  1.15it/s]\u001b[A\n",
      "Average Metric: 17 / 35  (48.6):  17%|██████████████████▎                                                                                         | 34/200 [00:40<02:24,  1.15it/s]\u001b[A\n",
      "Average Metric: 17 / 35  (48.6):  18%|██████████████████▉                                                                                         | 35/200 [00:40<02:16,  1.21it/s]\u001b[A\n",
      "Average Metric: 18 / 36  (50.0):  18%|██████████████████▉                                                                                         | 35/200 [00:41<02:16,  1.21it/s]\u001b[A\n",
      "Average Metric: 18 / 36  (50.0):  18%|███████████████████▍                                                                                        | 36/200 [00:41<02:14,  1.22it/s]\u001b[A\n",
      "Average Metric: 18 / 37  (48.6):  18%|███████████████████▍                                                                                        | 36/200 [00:42<02:14,  1.22it/s]\u001b[A\n",
      "Average Metric: 18 / 37  (48.6):  18%|███████████████████▉                                                                                        | 37/200 [00:42<02:13,  1.23it/s]\u001b[A\n",
      "Average Metric: 19 / 38  (50.0):  18%|███████████████████▉                                                                                        | 37/200 [00:43<02:13,  1.23it/s]\u001b[A\n",
      "Average Metric: 19 / 38  (50.0):  19%|████████████████████▌                                                                                       | 38/200 [00:43<02:10,  1.24it/s]\u001b[A\n",
      "Average Metric: 19 / 39  (48.7):  19%|████████████████████▌                                                                                       | 38/200 [00:44<02:10,  1.24it/s]\u001b[A\n",
      "Average Metric: 19 / 39  (48.7):  20%|█████████████████████                                                                                       | 39/200 [00:44<02:08,  1.25it/s]\u001b[A\n",
      "Average Metric: 20 / 40  (50.0):  20%|█████████████████████                                                                                       | 39/200 [00:45<02:08,  1.25it/s]\u001b[A\n",
      "Average Metric: 20 / 40  (50.0):  20%|█████████████████████▌                                                                                      | 40/200 [00:45<02:41,  1.01s/it]\u001b[A\n",
      "Average Metric: 20 / 41  (48.8):  20%|█████████████████████▌                                                                                      | 40/200 [00:46<02:41,  1.01s/it]\u001b[A\n",
      "Average Metric: 20 / 41  (48.8):  20%|██████████████████████▏                                                                                     | 41/200 [00:46<02:36,  1.01it/s]\u001b[A\n",
      "Average Metric: 21 / 42  (50.0):  20%|██████████████████████▏                                                                                     | 41/200 [00:47<02:36,  1.01it/s]\u001b[A\n",
      "Average Metric: 21 / 42  (50.0):  21%|██████████████████████▋                                                                                     | 42/200 [00:47<02:33,  1.03it/s]\u001b[A\n",
      "Average Metric: 21 / 43  (48.8):  21%|██████████████████████▋                                                                                     | 42/200 [00:48<02:33,  1.03it/s]\u001b[A\n",
      "Average Metric: 21 / 43  (48.8):  22%|███████████████████████▏                                                                                    | 43/200 [00:48<02:29,  1.05it/s]\u001b[A\n",
      "Average Metric: 22 / 44  (50.0):  22%|███████████████████████▏                                                                                    | 43/200 [00:49<02:29,  1.05it/s]\u001b[A\n",
      "Average Metric: 22 / 44  (50.0):  22%|███████████████████████▊                                                                                    | 44/200 [00:49<02:33,  1.02it/s]\u001b[A\n",
      "Average Metric: 22 / 45  (48.9):  22%|███████████████████████▊                                                                                    | 44/200 [00:50<02:33,  1.02it/s]\u001b[A\n",
      "Average Metric: 22 / 45  (48.9):  22%|████████████████████████▎                                                                                   | 45/200 [00:50<02:26,  1.06it/s]\u001b[A\n",
      "Average Metric: 23 / 46  (50.0):  22%|████████████████████████▎                                                                                   | 45/200 [00:51<02:26,  1.06it/s]\u001b[A\n",
      "Average Metric: 23 / 46  (50.0):  23%|████████████████████████▊                                                                                   | 46/200 [00:51<02:21,  1.09it/s]\u001b[A\n",
      "Average Metric: 23 / 47  (48.9):  23%|████████████████████████▊                                                                                   | 46/200 [00:51<02:21,  1.09it/s]\u001b[A\n",
      "Average Metric: 23 / 47  (48.9):  24%|█████████████████████████▍                                                                                  | 47/200 [00:51<02:20,  1.09it/s]\u001b[A\n",
      "Average Metric: 24 / 48  (50.0):  24%|█████████████████████████▍                                                                                  | 47/200 [00:53<02:20,  1.09it/s]\u001b[A\n",
      "Average Metric: 24 / 48  (50.0):  24%|█████████████████████████▉                                                                                  | 48/200 [00:53<02:29,  1.02it/s]\u001b[A\n",
      "Average Metric: 24 / 49  (49.0):  24%|█████████████████████████▉                                                                                  | 48/200 [00:54<02:29,  1.02it/s]\u001b[A\n",
      "Average Metric: 24 / 49  (49.0):  24%|██████████████████████████▍                                                                                 | 49/200 [00:54<02:53,  1.15s/it]\u001b[A\n",
      "Average Metric: 25 / 50  (50.0):  24%|██████████████████████████▍                                                                                 | 49/200 [00:56<02:53,  1.15s/it]\u001b[A\n",
      "Average Metric: 25 / 50  (50.0):  25%|███████████████████████████                                                                                 | 50/200 [00:56<03:05,  1.23s/it]\u001b[A\n",
      "Average Metric: 25 / 51  (49.0):  25%|███████████████████████████                                                                                 | 50/200 [00:57<03:05,  1.23s/it]\u001b[A\n",
      "Average Metric: 25 / 51  (49.0):  26%|███████████████████████████▌                                                                                | 51/200 [00:57<02:50,  1.15s/it]\u001b[A\n",
      "Average Metric: 26 / 52  (50.0):  26%|███████████████████████████▌                                                                                | 51/200 [00:58<02:50,  1.15s/it]\u001b[A\n",
      "Average Metric: 26 / 52  (50.0):  26%|████████████████████████████                                                                                | 52/200 [00:58<03:09,  1.28s/it]\u001b[A\n",
      "Average Metric: 27 / 53  (50.9):  26%|████████████████████████████                                                                                | 52/200 [00:59<03:09,  1.28s/it]\u001b[A\n",
      "Average Metric: 27 / 53  (50.9):  26%|████████████████████████████▌                                                                               | 53/200 [00:59<02:48,  1.15s/it]\u001b[A\n",
      "Average Metric: 27 / 54  (50.0):  26%|████████████████████████████▌                                                                               | 53/200 [01:01<02:48,  1.15s/it]\u001b[A\n",
      "Average Metric: 27 / 54  (50.0):  27%|█████████████████████████████▏                                                                              | 54/200 [01:01<03:11,  1.31s/it]\u001b[A\n",
      "Average Metric: 28 / 55  (50.9):  27%|█████████████████████████████▏                                                                              | 54/200 [01:02<03:11,  1.31s/it]\u001b[A\n",
      "Average Metric: 28 / 55  (50.9):  28%|█████████████████████████████▋                                                                              | 55/200 [01:02<02:53,  1.19s/it]\u001b[A\n",
      "Average Metric: 28 / 56  (50.0):  28%|█████████████████████████████▋                                                                              | 55/200 [01:02<02:53,  1.19s/it]\u001b[A\n",
      "Average Metric: 28 / 56  (50.0):  28%|██████████████████████████████▏                                                                             | 56/200 [01:02<02:33,  1.07s/it]\u001b[A\n",
      "Average Metric: 28 / 57  (49.1):  28%|██████████████████████████████▏                                                                             | 56/200 [01:04<02:33,  1.07s/it]\u001b[A\n",
      "Average Metric: 28 / 57  (49.1):  28%|██████████████████████████████▊                                                                             | 57/200 [01:04<03:03,  1.28s/it]\u001b[A\n",
      "Average Metric: 29 / 58  (50.0):  28%|██████████████████████████████▊                                                                             | 57/200 [01:05<03:03,  1.28s/it]\u001b[A\n",
      "Average Metric: 29 / 58  (50.0):  29%|███████████████████████████████▎                                                                            | 58/200 [01:05<02:58,  1.26s/it]\u001b[A\n",
      "Average Metric: 29 / 59  (49.2):  29%|███████████████████████████████▎                                                                            | 58/200 [01:06<02:58,  1.26s/it]\u001b[A\n",
      "Average Metric: 29 / 59  (49.2):  30%|███████████████████████████████▊                                                                            | 59/200 [01:06<02:49,  1.21s/it]\u001b[A\n",
      "Average Metric: 30 / 60  (50.0):  30%|███████████████████████████████▊                                                                            | 59/200 [01:07<02:49,  1.21s/it]\u001b[A\n",
      "Average Metric: 30 / 60  (50.0):  30%|████████████████████████████████▍                                                                           | 60/200 [01:07<02:37,  1.12s/it]\u001b[A\n",
      "Average Metric: 30 / 61  (49.2):  30%|████████████████████████████████▍                                                                           | 60/200 [01:09<02:37,  1.12s/it]\u001b[A\n",
      "Average Metric: 30 / 61  (49.2):  30%|████████████████████████████████▉                                                                           | 61/200 [01:09<02:37,  1.14s/it]\u001b[A\n",
      "Average Metric: 31 / 62  (50.0):  30%|████████████████████████████████▉                                                                           | 61/200 [01:10<02:37,  1.14s/it]\u001b[A\n",
      "Average Metric: 31 / 62  (50.0):  31%|█████████████████████████████████▍                                                                          | 62/200 [01:10<02:34,  1.12s/it]\u001b[A\n",
      "Average Metric: 31 / 63  (49.2):  31%|█████████████████████████████████▍                                                                          | 62/200 [01:11<02:34,  1.12s/it]\u001b[A\n",
      "Average Metric: 31 / 63  (49.2):  32%|██████████████████████████████████                                                                          | 63/200 [01:11<02:28,  1.08s/it]\u001b[A\n",
      "Average Metric: 31 / 64  (48.4):  32%|██████████████████████████████████                                                                          | 63/200 [01:12<02:28,  1.08s/it]\u001b[A\n",
      "Average Metric: 31 / 64  (48.4):  32%|██████████████████████████████████▌                                                                         | 64/200 [01:12<02:35,  1.14s/it]\u001b[A\n",
      "Average Metric: 31 / 65  (47.7):  32%|██████████████████████████████████▌                                                                         | 64/200 [01:13<02:35,  1.14s/it]\u001b[A\n",
      "Average Metric: 31 / 65  (47.7):  32%|███████████████████████████████████                                                                         | 65/200 [01:13<02:47,  1.24s/it]\u001b[A\n",
      "Average Metric: 32 / 66  (48.5):  32%|███████████████████████████████████                                                                         | 65/200 [01:15<02:47,  1.24s/it]\u001b[A\n",
      "Average Metric: 32 / 66  (48.5):  33%|███████████████████████████████████▋                                                                        | 66/200 [01:15<02:54,  1.30s/it]\u001b[A\n",
      "Average Metric: 32 / 67  (47.8):  33%|███████████████████████████████████▋                                                                        | 66/200 [01:16<02:54,  1.30s/it]\u001b[A\n",
      "Average Metric: 32 / 67  (47.8):  34%|████████████████████████████████████▏                                                                       | 67/200 [01:16<02:48,  1.26s/it]\u001b[A\n",
      "Average Metric: 33 / 68  (48.5):  34%|████████████████████████████████████▏                                                                       | 67/200 [01:17<02:48,  1.26s/it]\u001b[A\n",
      "Average Metric: 33 / 68  (48.5):  34%|████████████████████████████████████▋                                                                       | 68/200 [01:17<02:27,  1.12s/it]\u001b[A\n",
      "Average Metric: 33 / 69  (47.8):  34%|████████████████████████████████████▋                                                                       | 68/200 [01:18<02:27,  1.12s/it]\u001b[A\n",
      "Average Metric: 33 / 69  (47.8):  34%|█████████████████████████████████████▎                                                                      | 69/200 [01:18<02:37,  1.20s/it]\u001b[A\n",
      "Average Metric: 34 / 70  (48.6):  34%|█████████████████████████████████████▎                                                                      | 69/200 [01:20<02:37,  1.20s/it]\u001b[A\n",
      "Average Metric: 34 / 70  (48.6):  35%|█████████████████████████████████████▊                                                                      | 70/200 [01:20<02:52,  1.33s/it]\u001b[A\n",
      "Average Metric: 34 / 71  (47.9):  35%|█████████████████████████████████████▊                                                                      | 70/200 [01:21<02:52,  1.33s/it]\u001b[A\n",
      "Average Metric: 34 / 71  (47.9):  36%|██████████████████████████████████████▎                                                                     | 71/200 [01:21<02:37,  1.22s/it]\u001b[A\n",
      "Average Metric: 35 / 72  (48.6):  36%|██████████████████████████████████████▎                                                                     | 71/200 [01:22<02:37,  1.22s/it]\u001b[A\n",
      "Average Metric: 35 / 72  (48.6):  36%|██████████████████████████████████████▉                                                                     | 72/200 [01:22<02:22,  1.11s/it]\u001b[A\n",
      "Average Metric: 35 / 73  (47.9):  36%|██████████████████████████████████████▉                                                                     | 72/200 [01:23<02:22,  1.11s/it]\u001b[A\n",
      "Average Metric: 35 / 73  (47.9):  36%|███████████████████████████████████████▍                                                                    | 73/200 [01:23<02:49,  1.33s/it]\u001b[A\n",
      "Average Metric: 36 / 74  (48.6):  36%|███████████████████████████████████████▍                                                                    | 73/200 [01:24<02:49,  1.33s/it]\u001b[A\n",
      "Average Metric: 36 / 74  (48.6):  37%|███████████████████████████████████████▉                                                                    | 74/200 [01:24<02:24,  1.15s/it]\u001b[A\n",
      "Average Metric: 36 / 75  (48.0):  37%|███████████████████████████████████████▉                                                                    | 74/200 [01:25<02:24,  1.15s/it]\u001b[A\n",
      "Average Metric: 36 / 75  (48.0):  38%|████████████████████████████████████████▌                                                                   | 75/200 [01:25<02:12,  1.06s/it]\u001b[A\n",
      "Average Metric: 37 / 76  (48.7):  38%|████████████████████████████████████████▌                                                                   | 75/200 [01:26<02:12,  1.06s/it]\u001b[A\n",
      "Average Metric: 37 / 76  (48.7):  38%|█████████████████████████████████████████                                                                   | 76/200 [01:26<01:56,  1.06it/s]\u001b[A\n",
      "Average Metric: 37 / 77  (48.1):  38%|█████████████████████████████████████████                                                                   | 76/200 [01:27<01:56,  1.06it/s]\u001b[A\n",
      "Average Metric: 37 / 77  (48.1):  38%|█████████████████████████████████████████▌                                                                  | 77/200 [01:27<01:59,  1.03it/s]\u001b[A\n",
      "Average Metric: 38 / 78  (48.7):  38%|█████████████████████████████████████████▌                                                                  | 77/200 [01:28<01:59,  1.03it/s]\u001b[A\n",
      "Average Metric: 38 / 78  (48.7):  39%|██████████████████████████████████████████                                                                  | 78/200 [01:28<02:04,  1.02s/it]\u001b[A\n",
      "Average Metric: 38 / 79  (48.1):  39%|██████████████████████████████████████████                                                                  | 78/200 [01:29<02:04,  1.02s/it]\u001b[A\n",
      "Average Metric: 38 / 79  (48.1):  40%|██████████████████████████████████████████▋                                                                 | 79/200 [01:29<02:25,  1.20s/it]\u001b[A\n",
      "Average Metric: 39 / 80  (48.8):  40%|██████████████████████████████████████████▋                                                                 | 79/200 [01:31<02:25,  1.20s/it]\u001b[A\n",
      "Average Metric: 39 / 80  (48.8):  40%|███████████████████████████████████████████▏                                                                | 80/200 [01:31<02:20,  1.17s/it]\u001b[A\n",
      "Average Metric: 39 / 81  (48.1):  40%|███████████████████████████████████████████▏                                                                | 80/200 [01:32<02:20,  1.17s/it]\u001b[A\n",
      "Average Metric: 39 / 81  (48.1):  40%|███████████████████████████████████████████▋                                                                | 81/200 [01:32<02:45,  1.39s/it]\u001b[A\n",
      "Average Metric: 40 / 82  (48.8):  40%|███████████████████████████████████████████▋                                                                | 81/200 [01:34<02:45,  1.39s/it]\u001b[A\n",
      "Average Metric: 40 / 82  (48.8):  41%|████████████████████████████████████████████▎                                                               | 82/200 [01:34<02:33,  1.30s/it]\u001b[A\n",
      "Average Metric: 40 / 83  (48.2):  41%|████████████████████████████████████████████▎                                                               | 82/200 [01:35<02:33,  1.30s/it]\u001b[A\n",
      "Average Metric: 40 / 83  (48.2):  42%|████████████████████████████████████████████▊                                                               | 83/200 [01:35<02:36,  1.34s/it]\u001b[A\n",
      "Average Metric: 41 / 84  (48.8):  42%|████████████████████████████████████████████▊                                                               | 83/200 [01:37<02:36,  1.34s/it]\u001b[A\n",
      "Average Metric: 41 / 84  (48.8):  42%|█████████████████████████████████████████████▎                                                              | 84/200 [01:37<02:46,  1.43s/it]\u001b[A\n",
      "Average Metric: 41 / 85  (48.2):  42%|█████████████████████████████████████████████▎                                                              | 84/200 [01:38<02:46,  1.43s/it]\u001b[A\n",
      "Average Metric: 41 / 85  (48.2):  42%|█████████████████████████████████████████████▉                                                              | 85/200 [01:38<02:38,  1.38s/it]\u001b[A\n",
      "Average Metric: 42 / 86  (48.8):  42%|█████████████████████████████████████████████▉                                                              | 85/200 [01:39<02:38,  1.38s/it]\u001b[A\n",
      "Average Metric: 42 / 86  (48.8):  43%|██████████████████████████████████████████████▍                                                             | 86/200 [01:39<02:13,  1.17s/it]\u001b[A\n",
      "Average Metric: 42 / 87  (48.3):  43%|██████████████████████████████████████████████▍                                                             | 86/200 [01:41<02:13,  1.17s/it]\u001b[A\n",
      "Average Metric: 42 / 87  (48.3):  44%|██████████████████████████████████████████████▉                                                             | 87/200 [01:41<02:39,  1.41s/it]\u001b[A\n",
      "Average Metric: 43 / 88  (48.9):  44%|██████████████████████████████████████████████▉                                                             | 87/200 [01:41<02:39,  1.41s/it]\u001b[A\n",
      "Average Metric: 43 / 88  (48.9):  44%|███████████████████████████████████████████████▌                                                            | 88/200 [01:41<02:19,  1.24s/it]\u001b[A\n",
      "Average Metric: 43 / 89  (48.3):  44%|███████████████████████████████████████████████▌                                                            | 88/200 [01:43<02:19,  1.24s/it]\u001b[A\n",
      "Average Metric: 43 / 89  (48.3):  44%|████████████████████████████████████████████████                                                            | 89/200 [01:43<02:32,  1.37s/it]\u001b[A\n",
      "Average Metric: 44 / 90  (48.9):  44%|████████████████████████████████████████████████                                                            | 89/200 [01:44<02:32,  1.37s/it]\u001b[A\n",
      "Average Metric: 44 / 90  (48.9):  45%|████████████████████████████████████████████████▌                                                           | 90/200 [01:44<02:10,  1.18s/it]\u001b[A\n",
      "Average Metric: 44 / 91  (48.4):  45%|████████████████████████████████████████████████▌                                                           | 90/200 [01:45<02:10,  1.18s/it]\u001b[A\n",
      "Average Metric: 44 / 91  (48.4):  46%|█████████████████████████████████████████████████▏                                                          | 91/200 [01:45<01:58,  1.09s/it]\u001b[A\n",
      "Average Metric: 45 / 92  (48.9):  46%|█████████████████████████████████████████████████▏                                                          | 91/200 [01:45<01:58,  1.09s/it]\u001b[A\n",
      "Average Metric: 45 / 92  (48.9):  46%|█████████████████████████████████████████████████▋                                                          | 92/200 [01:45<01:46,  1.02it/s]\u001b[A\n",
      "Average Metric: 45 / 93  (48.4):  46%|█████████████████████████████████████████████████▋                                                          | 92/200 [01:46<01:46,  1.02it/s]\u001b[A\n",
      "Average Metric: 45 / 93  (48.4):  46%|██████████████████████████████████████████████████▏                                                         | 93/200 [01:46<01:43,  1.03it/s]\u001b[A\n",
      "Average Metric: 46 / 94  (48.9):  46%|██████████████████████████████████████████████████▏                                                         | 93/200 [01:47<01:43,  1.03it/s]\u001b[A\n",
      "Average Metric: 46 / 94  (48.9):  47%|██████████████████████████████████████████████████▊                                                         | 94/200 [01:47<01:36,  1.10it/s]\u001b[A\n",
      "Average Metric: 46 / 95  (48.4):  47%|██████████████████████████████████████████████████▊                                                         | 94/200 [01:48<01:36,  1.10it/s]\u001b[A\n",
      "Average Metric: 46 / 95  (48.4):  48%|███████████████████████████████████████████████████▎                                                        | 95/200 [01:48<01:41,  1.03it/s]\u001b[A\n",
      "Average Metric: 47 / 96  (49.0):  48%|███████████████████████████████████████████████████▎                                                        | 95/200 [01:49<01:41,  1.03it/s]\u001b[A\n",
      "Average Metric: 47 / 96  (49.0):  48%|███████████████████████████████████████████████████▊                                                        | 96/200 [01:49<01:31,  1.14it/s]\u001b[A\n",
      "Average Metric: 47 / 97  (48.5):  48%|███████████████████████████████████████████████████▊                                                        | 96/200 [01:50<01:31,  1.14it/s]\u001b[A\n",
      "Average Metric: 47 / 97  (48.5):  48%|████████████████████████████████████████████████████▍                                                       | 97/200 [01:50<01:36,  1.07it/s]\u001b[A\n",
      "Average Metric: 48 / 98  (49.0):  48%|████████████████████████████████████████████████████▍                                                       | 97/200 [01:51<01:36,  1.07it/s]\u001b[A\n",
      "Average Metric: 48 / 98  (49.0):  49%|████████████████████████████████████████████████████▉                                                       | 98/200 [01:51<01:31,  1.12it/s]\u001b[A\n",
      "Average Metric: 48 / 99  (48.5):  49%|████████████████████████████████████████████████████▉                                                       | 98/200 [01:52<01:31,  1.12it/s]\u001b[A\n",
      "Average Metric: 48 / 99  (48.5):  50%|█████████████████████████████████████████████████████▍                                                      | 99/200 [01:52<01:30,  1.11it/s]\u001b[A\n",
      "Average Metric: 49 / 100  (49.0):  50%|████████████████████████████████████████████████████▉                                                      | 99/200 [01:53<01:30,  1.11it/s]\u001b[A\n",
      "Average Metric: 49 / 100  (49.0):  50%|█████████████████████████████████████████████████████                                                     | 100/200 [01:53<01:37,  1.03it/s]\u001b[A\n",
      "Average Metric: 49 / 101  (48.5):  50%|█████████████████████████████████████████████████████                                                     | 100/200 [01:55<01:37,  1.03it/s]\u001b[A\n",
      "Average Metric: 49 / 101  (48.5):  50%|█████████████████████████████████████████████████████▌                                                    | 101/200 [01:55<02:01,  1.23s/it]\u001b[A\n",
      "Average Metric: 50 / 102  (49.0):  50%|█████████████████████████████████████████████████████▌                                                    | 101/200 [01:55<02:01,  1.23s/it]\u001b[A\n",
      "Average Metric: 50 / 102  (49.0):  51%|██████████████████████████████████████████████████████                                                    | 102/200 [01:55<01:46,  1.08s/it]\u001b[A\n",
      "Average Metric: 50 / 103  (48.5):  51%|██████████████████████████████████████████████████████                                                    | 102/200 [01:56<01:46,  1.08s/it]\u001b[A\n",
      "Average Metric: 50 / 103  (48.5):  52%|██████████████████████████████████████████████████████▌                                                   | 103/200 [01:56<01:40,  1.03s/it]\u001b[A\n",
      "Average Metric: 51 / 104  (49.0):  52%|██████████████████████████████████████████████████████▌                                                   | 103/200 [01:58<01:40,  1.03s/it]\u001b[A\n",
      "Average Metric: 51 / 104  (49.0):  52%|███████████████████████████████████████████████████████                                                   | 104/200 [01:58<01:52,  1.17s/it]\u001b[A\n",
      "Average Metric: 51 / 105  (48.6):  52%|███████████████████████████████████████████████████████                                                   | 104/200 [01:59<01:52,  1.17s/it]\u001b[A\n",
      "Average Metric: 51 / 105  (48.6):  52%|███████████████████████████████████████████████████████▋                                                  | 105/200 [01:59<01:51,  1.17s/it]\u001b[A\n",
      "Average Metric: 52 / 106  (49.1):  52%|███████████████████████████████████████████████████████▋                                                  | 105/200 [02:00<01:51,  1.17s/it]\u001b[A\n",
      "Average Metric: 52 / 106  (49.1):  53%|████████████████████████████████████████████████████████▏                                                 | 106/200 [02:00<01:40,  1.07s/it]\u001b[A\n",
      "Average Metric: 52 / 107  (48.6):  53%|████████████████████████████████████████████████████████▏                                                 | 106/200 [02:01<01:40,  1.07s/it]\u001b[A\n",
      "Average Metric: 52 / 107  (48.6):  54%|████████████████████████████████████████████████████████▋                                                 | 107/200 [02:01<01:51,  1.20s/it]\u001b[A\n",
      "Average Metric: 53 / 108  (49.1):  54%|████████████████████████████████████████████████████████▋                                                 | 107/200 [02:02<01:51,  1.20s/it]\u001b[A\n",
      "Average Metric: 53 / 108  (49.1):  54%|█████████████████████████████████████████████████████████▏                                                | 108/200 [02:02<01:46,  1.16s/it]\u001b[A\n",
      "Average Metric: 53 / 109  (48.6):  54%|█████████████████████████████████████████████████████████▏                                                | 108/200 [02:04<01:46,  1.16s/it]\u001b[A\n",
      "Average Metric: 53 / 109  (48.6):  55%|█████████████████████████████████████████████████████████▊                                                | 109/200 [02:04<01:47,  1.18s/it]\u001b[A\n",
      "Average Metric: 54 / 110  (49.1):  55%|█████████████████████████████████████████████████████████▊                                                | 109/200 [02:05<01:47,  1.18s/it]\u001b[A\n",
      "Average Metric: 54 / 110  (49.1):  55%|██████████████████████████████████████████████████████████▎                                               | 110/200 [02:05<01:44,  1.16s/it]\u001b[A\n",
      "Average Metric: 54 / 111  (48.6):  55%|██████████████████████████████████████████████████████████▎                                               | 110/200 [02:06<01:44,  1.16s/it]\u001b[A\n",
      "Average Metric: 54 / 111  (48.6):  56%|██████████████████████████████████████████████████████████▊                                               | 111/200 [02:06<01:42,  1.15s/it]\u001b[A\n",
      "Average Metric: 55 / 112  (49.1):  56%|██████████████████████████████████████████████████████████▊                                               | 111/200 [02:07<01:42,  1.15s/it]\u001b[A\n",
      "Average Metric: 55 / 112  (49.1):  56%|███████████████████████████████████████████████████████████▎                                              | 112/200 [02:07<01:30,  1.02s/it]\u001b[A\n",
      "Average Metric: 55 / 113  (48.7):  56%|███████████████████████████████████████████████████████████▎                                              | 112/200 [02:08<01:30,  1.02s/it]\u001b[A\n",
      "Average Metric: 55 / 113  (48.7):  56%|███████████████████████████████████████████████████████████▉                                              | 113/200 [02:08<01:27,  1.01s/it]\u001b[A\n",
      "Average Metric: 56 / 114  (49.1):  56%|███████████████████████████████████████████████████████████▉                                              | 113/200 [02:08<01:27,  1.01s/it]\u001b[A\n",
      "Average Metric: 56 / 114  (49.1):  57%|████████████████████████████████████████████████████████████▍                                             | 114/200 [02:08<01:19,  1.09it/s]\u001b[A\n",
      "Average Metric: 56 / 115  (48.7):  57%|████████████████████████████████████████████████████████████▍                                             | 114/200 [02:10<01:19,  1.09it/s]\u001b[A\n",
      "Average Metric: 56 / 115  (48.7):  57%|████████████████████████████████████████████████████████████▉                                             | 115/200 [02:10<01:30,  1.07s/it]\u001b[A\n",
      "Average Metric: 57 / 116  (49.1):  57%|████████████████████████████████████████████████████████████▉                                             | 115/200 [02:11<01:30,  1.07s/it]\u001b[A\n",
      "Average Metric: 57 / 116  (49.1):  58%|█████████████████████████████████████████████████████████████▍                                            | 116/200 [02:11<01:27,  1.05s/it]\u001b[A\n",
      "Average Metric: 57 / 117  (48.7):  58%|█████████████████████████████████████████████████████████████▍                                            | 116/200 [02:12<01:27,  1.05s/it]\u001b[A\n",
      "Average Metric: 57 / 117  (48.7):  58%|██████████████████████████████████████████████████████████████                                            | 117/200 [02:12<01:33,  1.13s/it]\u001b[A\n",
      "Average Metric: 58 / 118  (49.2):  58%|██████████████████████████████████████████████████████████████                                            | 117/200 [02:13<01:33,  1.13s/it]\u001b[A\n",
      "Average Metric: 58 / 118  (49.2):  59%|██████████████████████████████████████████████████████████████▌                                           | 118/200 [02:13<01:40,  1.23s/it]\u001b[A\n",
      "Average Metric: 58 / 119  (48.7):  59%|██████████████████████████████████████████████████████████████▌                                           | 118/200 [02:15<01:40,  1.23s/it]\u001b[A\n",
      "Average Metric: 58 / 119  (48.7):  60%|███████████████████████████████████████████████████████████████                                           | 119/200 [02:15<01:36,  1.20s/it]\u001b[A\n",
      "Average Metric: 59 / 120  (49.2):  60%|███████████████████████████████████████████████████████████████                                           | 119/200 [02:16<01:36,  1.20s/it]\u001b[A\n",
      "Average Metric: 59 / 120  (49.2):  60%|███████████████████████████████████████████████████████████████▌                                          | 120/200 [02:16<01:34,  1.18s/it]\u001b[A\n",
      "Average Metric: 59 / 121  (48.8):  60%|███████████████████████████████████████████████████████████████▌                                          | 120/200 [02:17<01:34,  1.18s/it]\u001b[A\n",
      "Average Metric: 59 / 121  (48.8):  60%|████████████████████████████████████████████████████████████████▏                                         | 121/200 [02:17<01:25,  1.08s/it]\u001b[A\n",
      "Average Metric: 60 / 122  (49.2):  60%|████████████████████████████████████████████████████████████████▏                                         | 121/200 [02:18<01:25,  1.08s/it]\u001b[A\n",
      "Average Metric: 60 / 122  (49.2):  61%|████████████████████████████████████████████████████████████████▋                                         | 122/200 [02:18<01:28,  1.13s/it]\u001b[A\n",
      "Average Metric: 60 / 123  (48.8):  61%|████████████████████████████████████████████████████████████████▋                                         | 122/200 [02:19<01:28,  1.13s/it]\u001b[A\n",
      "Average Metric: 60 / 123  (48.8):  62%|█████████████████████████████████████████████████████████████████▏                                        | 123/200 [02:19<01:23,  1.09s/it]\u001b[A\n",
      "Average Metric: 61 / 124  (49.2):  62%|█████████████████████████████████████████████████████████████████▏                                        | 123/200 [02:20<01:23,  1.09s/it]\u001b[A\n",
      "Average Metric: 61 / 124  (49.2):  62%|█████████████████████████████████████████████████████████████████▋                                        | 124/200 [02:20<01:20,  1.06s/it]\u001b[A\n",
      "Average Metric: 61 / 125  (48.8):  62%|█████████████████████████████████████████████████████████████████▋                                        | 124/200 [02:21<01:20,  1.06s/it]\u001b[A\n",
      "Average Metric: 61 / 125  (48.8):  62%|██████████████████████████████████████████████████████████████████▎                                       | 125/200 [02:21<01:17,  1.04s/it]\u001b[A\n",
      "Average Metric: 62 / 126  (49.2):  62%|██████████████████████████████████████████████████████████████████▎                                       | 125/200 [02:22<01:17,  1.04s/it]\u001b[A\n",
      "Average Metric: 62 / 126  (49.2):  63%|██████████████████████████████████████████████████████████████████▊                                       | 126/200 [02:22<01:10,  1.04it/s]\u001b[A\n",
      "Average Metric: 62 / 127  (48.8):  63%|██████████████████████████████████████████████████████████████████▊                                       | 126/200 [02:23<01:10,  1.04it/s]\u001b[A\n",
      "Average Metric: 62 / 127  (48.8):  64%|███████████████████████████████████████████████████████████████████▎                                      | 127/200 [02:23<01:10,  1.04it/s]\u001b[A\n",
      "Average Metric: 63 / 128  (49.2):  64%|███████████████████████████████████████████████████████████████████▎                                      | 127/200 [02:23<01:10,  1.04it/s]\u001b[A\n",
      "Average Metric: 63 / 128  (49.2):  64%|███████████████████████████████████████████████████████████████████▊                                      | 128/200 [02:23<01:08,  1.05it/s]\u001b[A\n",
      "Average Metric: 63 / 129  (48.8):  64%|███████████████████████████████████████████████████████████████████▊                                      | 128/200 [02:25<01:08,  1.05it/s]\u001b[A\n",
      "Average Metric: 63 / 129  (48.8):  64%|████████████████████████████████████████████████████████████████████▎                                     | 129/200 [02:25<01:13,  1.04s/it]\u001b[A\n",
      "Average Metric: 64 / 130  (49.2):  64%|████████████████████████████████████████████████████████████████████▎                                     | 129/200 [02:26<01:13,  1.04s/it]\u001b[A\n",
      "Average Metric: 64 / 130  (49.2):  65%|████████████████████████████████████████████████████████████████████▉                                     | 130/200 [02:26<01:12,  1.03s/it]\u001b[A\n",
      "Average Metric: 64 / 131  (48.9):  65%|████████████████████████████████████████████████████████████████████▉                                     | 130/200 [02:27<01:12,  1.03s/it]\u001b[A\n",
      "Average Metric: 64 / 131  (48.9):  66%|█████████████████████████████████████████████████████████████████████▍                                    | 131/200 [02:27<01:10,  1.03s/it]\u001b[A\n",
      "Average Metric: 65 / 132  (49.2):  66%|█████████████████████████████████████████████████████████████████████▍                                    | 131/200 [02:28<01:10,  1.03s/it]\u001b[A\n",
      "Average Metric: 65 / 132  (49.2):  66%|█████████████████████████████████████████████████████████████████████▉                                    | 132/200 [02:28<01:16,  1.12s/it]\u001b[A\n",
      "Average Metric: 65 / 133  (48.9):  66%|█████████████████████████████████████████████████████████████████████▉                                    | 132/200 [02:29<01:16,  1.12s/it]\u001b[A\n",
      "Average Metric: 65 / 133  (48.9):  66%|██████████████████████████████████████████████████████████████████████▍                                   | 133/200 [02:29<01:14,  1.11s/it]\u001b[A\n",
      "Average Metric: 66 / 134  (49.3):  66%|██████████████████████████████████████████████████████████████████████▍                                   | 133/200 [02:30<01:14,  1.11s/it]\u001b[A\n",
      "Average Metric: 66 / 134  (49.3):  67%|███████████████████████████████████████████████████████████████████████                                   | 134/200 [02:30<01:09,  1.06s/it]\u001b[A\n",
      "Average Metric: 66 / 135  (48.9):  67%|███████████████████████████████████████████████████████████████████████                                   | 134/200 [02:31<01:09,  1.06s/it]\u001b[A\n",
      "Average Metric: 66 / 135  (48.9):  68%|███████████████████████████████████████████████████████████████████████▌                                  | 135/200 [02:31<01:05,  1.01s/it]\u001b[A\n",
      "Average Metric: 67 / 136  (49.3):  68%|███████████████████████████████████████████████████████████████████████▌                                  | 135/200 [02:32<01:05,  1.01s/it]\u001b[A\n",
      "Average Metric: 67 / 136  (49.3):  68%|████████████████████████████████████████████████████████████████████████                                  | 136/200 [02:32<00:59,  1.07it/s]\u001b[A\n",
      "Average Metric: 67 / 137  (48.9):  68%|████████████████████████████████████████████████████████████████████████                                  | 136/200 [02:33<00:59,  1.07it/s]\u001b[A\n",
      "Average Metric: 67 / 137  (48.9):  68%|████████████████████████████████████████████████████████████████████████▌                                 | 137/200 [02:33<01:01,  1.02it/s]\u001b[A\n",
      "Average Metric: 68 / 138  (49.3):  68%|████████████████████████████████████████████████████████████████████████▌                                 | 137/200 [02:34<01:01,  1.02it/s]\u001b[A\n",
      "Average Metric: 68 / 138  (49.3):  69%|█████████████████████████████████████████████████████████████████████████▏                                | 138/200 [02:34<00:58,  1.07it/s]\u001b[A\n",
      "Average Metric: 68 / 139  (48.9):  69%|█████████████████████████████████████████████████████████████████████████▏                                | 138/200 [02:34<00:58,  1.07it/s]\u001b[A\n",
      "Average Metric: 68 / 139  (48.9):  70%|█████████████████████████████████████████████████████████████████████████▋                                | 139/200 [02:34<00:53,  1.15it/s]\u001b[A\n",
      "Average Metric: 69 / 140  (49.3):  70%|█████████████████████████████████████████████████████████████████████████▋                                | 139/200 [02:35<00:53,  1.15it/s]\u001b[A\n",
      "Average Metric: 69 / 140  (49.3):  70%|██████████████████████████████████████████████████████████████████████████▏                               | 140/200 [02:35<00:48,  1.25it/s]\u001b[A\n",
      "Average Metric: 69 / 141  (48.9):  70%|██████████████████████████████████████████████████████████████████████████▏                               | 140/200 [02:37<00:48,  1.25it/s]\u001b[A\n",
      "Average Metric: 69 / 141  (48.9):  70%|██████████████████████████████████████████████████████████████████████████▋                               | 141/200 [02:37<01:01,  1.05s/it]\u001b[A\n",
      "Average Metric: 70 / 142  (49.3):  70%|██████████████████████████████████████████████████████████████████████████▋                               | 141/200 [02:38<01:01,  1.05s/it]\u001b[A\n",
      "Average Metric: 70 / 142  (49.3):  71%|███████████████████████████████████████████████████████████████████████████▎                              | 142/200 [02:38<01:00,  1.05s/it]\u001b[A\n",
      "Average Metric: 70 / 143  (49.0):  71%|███████████████████████████████████████████████████████████████████████████▎                              | 142/200 [02:39<01:00,  1.05s/it]\u001b[A\n",
      "Average Metric: 70 / 143  (49.0):  72%|███████████████████████████████████████████████████████████████████████████▊                              | 143/200 [02:39<00:57,  1.01s/it]\u001b[A\n",
      "Average Metric: 71 / 144  (49.3):  72%|███████████████████████████████████████████████████████████████████████████▊                              | 143/200 [02:39<00:57,  1.01s/it]\u001b[A\n",
      "Average Metric: 71 / 144  (49.3):  72%|████████████████████████████████████████████████████████████████████████████▎                             | 144/200 [02:39<00:52,  1.07it/s]\u001b[A\n",
      "Average Metric: 71 / 145  (49.0):  72%|████████████████████████████████████████████████████████████████████████████▎                             | 144/200 [02:40<00:52,  1.07it/s]\u001b[A\n",
      "Average Metric: 71 / 145  (49.0):  72%|████████████████████████████████████████████████████████████████████████████▊                             | 145/200 [02:40<00:52,  1.05it/s]\u001b[A\n",
      "Average Metric: 72 / 146  (49.3):  72%|████████████████████████████████████████████████████████████████████████████▊                             | 145/200 [02:41<00:52,  1.05it/s]\u001b[A\n",
      "Average Metric: 72 / 146  (49.3):  73%|█████████████████████████████████████████████████████████████████████████████▍                            | 146/200 [02:41<00:48,  1.11it/s]\u001b[A\n",
      "Average Metric: 72 / 147  (49.0):  73%|█████████████████████████████████████████████████████████████████████████████▍                            | 146/200 [02:42<00:48,  1.11it/s]\u001b[A\n",
      "Average Metric: 72 / 147  (49.0):  74%|█████████████████████████████████████████████████████████████████████████████▉                            | 147/200 [02:42<00:51,  1.03it/s]\u001b[A\n",
      "Average Metric: 73 / 148  (49.3):  74%|█████████████████████████████████████████████████████████████████████████████▉                            | 147/200 [02:43<00:51,  1.03it/s]\u001b[A\n",
      "Average Metric: 73 / 148  (49.3):  74%|██████████████████████████████████████████████████████████████████████████████▍                           | 148/200 [02:43<00:48,  1.08it/s]\u001b[A\n",
      "Average Metric: 73 / 149  (49.0):  74%|██████████████████████████████████████████████████████████████████████████████▍                           | 148/200 [02:44<00:48,  1.08it/s]\u001b[A\n",
      "Average Metric: 73 / 149  (49.0):  74%|██████████████████████████████████████████████████████████████████████████████▉                           | 149/200 [02:44<00:44,  1.15it/s]\u001b[A\n",
      "Average Metric: 74 / 150  (49.3):  74%|██████████████████████████████████████████████████████████████████████████████▉                           | 149/200 [02:45<00:44,  1.15it/s]\u001b[A\n",
      "Average Metric: 74 / 150  (49.3):  75%|███████████████████████████████████████████████████████████████████████████████▌                          | 150/200 [02:45<00:43,  1.15it/s]\u001b[A\n",
      "Average Metric: 74 / 151  (49.0):  75%|███████████████████████████████████████████████████████████████████████████████▌                          | 150/200 [02:46<00:43,  1.15it/s]\u001b[A\n",
      "Average Metric: 74 / 151  (49.0):  76%|████████████████████████████████████████████████████████████████████████████████                          | 151/200 [02:46<00:42,  1.16it/s]\u001b[A\n",
      "Average Metric: 75 / 152  (49.3):  76%|████████████████████████████████████████████████████████████████████████████████                          | 151/200 [02:46<00:42,  1.16it/s]\u001b[A\n",
      "Average Metric: 75 / 152  (49.3):  76%|████████████████████████████████████████████████████████████████████████████████▌                         | 152/200 [02:46<00:40,  1.17it/s]\u001b[A\n",
      "Average Metric: 75 / 153  (49.0):  76%|████████████████████████████████████████████████████████████████████████████████▌                         | 152/200 [02:48<00:40,  1.17it/s]\u001b[A\n",
      "Average Metric: 75 / 153  (49.0):  76%|█████████████████████████████████████████████████████████████████████████████████                         | 153/200 [02:48<00:47,  1.00s/it]\u001b[A\n",
      "Average Metric: 76 / 154  (49.4):  76%|█████████████████████████████████████████████████████████████████████████████████                         | 153/200 [02:49<00:47,  1.00s/it]\u001b[A\n",
      "Average Metric: 76 / 154  (49.4):  77%|█████████████████████████████████████████████████████████████████████████████████▌                        | 154/200 [02:49<00:43,  1.06it/s]\u001b[A\n",
      "Average Metric: 76 / 155  (49.0):  77%|█████████████████████████████████████████████████████████████████████████████████▌                        | 154/200 [02:50<00:43,  1.06it/s]\u001b[A\n",
      "Average Metric: 76 / 155  (49.0):  78%|██████████████████████████████████████████████████████████████████████████████████▏                       | 155/200 [02:50<00:46,  1.03s/it]\u001b[A\n",
      "Average Metric: 77 / 156  (49.4):  78%|██████████████████████████████████████████████████████████████████████████████████▏                       | 155/200 [02:51<00:46,  1.03s/it]\u001b[A\n",
      "Average Metric: 77 / 156  (49.4):  78%|██████████████████████████████████████████████████████████████████████████████████▋                       | 156/200 [02:51<00:45,  1.04s/it]\u001b[A\n",
      "Average Metric: 77 / 157  (49.0):  78%|██████████████████████████████████████████████████████████████████████████████████▋                       | 156/200 [02:52<00:45,  1.04s/it]\u001b[A\n",
      "Average Metric: 77 / 157  (49.0):  78%|███████████████████████████████████████████████████████████████████████████████████▏                      | 157/200 [02:52<00:44,  1.03s/it]\u001b[A\n",
      "Average Metric: 78 / 158  (49.4):  78%|███████████████████████████████████████████████████████████████████████████████████▏                      | 157/200 [02:53<00:44,  1.03s/it]\u001b[A\n",
      "Average Metric: 78 / 158  (49.4):  79%|███████████████████████████████████████████████████████████████████████████████████▋                      | 158/200 [02:53<00:43,  1.03s/it]\u001b[A\n",
      "Average Metric: 78 / 159  (49.1):  79%|███████████████████████████████████████████████████████████████████████████████████▋                      | 158/200 [02:54<00:43,  1.03s/it]\u001b[A\n",
      "Average Metric: 78 / 159  (49.1):  80%|████████████████████████████████████████████████████████████████████████████████████▎                     | 159/200 [02:54<00:41,  1.00s/it]\u001b[A\n",
      "Average Metric: 79 / 160  (49.4):  80%|████████████████████████████████████████████████████████████████████████████████████▎                     | 159/200 [02:55<00:41,  1.00s/it]\u001b[A\n",
      "Average Metric: 79 / 160  (49.4):  80%|████████████████████████████████████████████████████████████████████████████████████▊                     | 160/200 [02:55<00:37,  1.07it/s]\u001b[A\n",
      "Average Metric: 79 / 161  (49.1):  80%|████████████████████████████████████████████████████████████████████████████████████▊                     | 160/200 [02:56<00:37,  1.07it/s]\u001b[A\n",
      "Average Metric: 79 / 161  (49.1):  80%|█████████████████████████████████████████████████████████████████████████████████████▎                    | 161/200 [02:56<00:39,  1.03s/it]\u001b[A\n",
      "Average Metric: 80 / 162  (49.4):  80%|█████████████████████████████████████████████████████████████████████████████████████▎                    | 161/200 [02:57<00:39,  1.03s/it]\u001b[A\n",
      "Average Metric: 80 / 162  (49.4):  81%|█████████████████████████████████████████████████████████████████████████████████████▊                    | 162/200 [02:57<00:37,  1.01it/s]\u001b[A\n",
      "Average Metric: 80 / 163  (49.1):  81%|█████████████████████████████████████████████████████████████████████████████████████▊                    | 162/200 [02:58<00:37,  1.01it/s]\u001b[A\n",
      "Average Metric: 80 / 163  (49.1):  82%|██████████████████████████████████████████████████████████████████████████████████████▍                   | 163/200 [02:58<00:37,  1.00s/it]\u001b[A\n",
      "Average Metric: 81 / 164  (49.4):  82%|██████████████████████████████████████████████████████████████████████████████████████▍                   | 163/200 [02:59<00:37,  1.00s/it]\u001b[A\n",
      "Average Metric: 81 / 164  (49.4):  82%|██████████████████████████████████████████████████████████████████████████████████████▉                   | 164/200 [02:59<00:36,  1.01s/it]\u001b[A\n",
      "Average Metric: 81 / 165  (49.1):  82%|██████████████████████████████████████████████████████████████████████████████████████▉                   | 164/200 [03:00<00:36,  1.01s/it]\u001b[A\n",
      "Average Metric: 81 / 165  (49.1):  82%|███████████████████████████████████████████████████████████████████████████████████████▍                  | 165/200 [03:00<00:32,  1.07it/s]\u001b[A\n",
      "Average Metric: 82 / 166  (49.4):  82%|███████████████████████████████████████████████████████████████████████████████████████▍                  | 165/200 [03:01<00:32,  1.07it/s]\u001b[A\n",
      "Average Metric: 82 / 166  (49.4):  83%|███████████████████████████████████████████████████████████████████████████████████████▉                  | 166/200 [03:01<00:33,  1.00it/s]\u001b[A\n",
      "Average Metric: 82 / 167  (49.1):  83%|███████████████████████████████████████████████████████████████████████████████████████▉                  | 166/200 [03:02<00:33,  1.00it/s]\u001b[A\n",
      "Average Metric: 82 / 167  (49.1):  84%|████████████████████████████████████████████████████████████████████████████████████████▌                 | 167/200 [03:02<00:32,  1.03it/s]\u001b[A\n",
      "Average Metric: 83 / 168  (49.4):  84%|████████████████████████████████████████████████████████████████████████████████████████▌                 | 167/200 [03:03<00:32,  1.03it/s]\u001b[A\n",
      "Average Metric: 83 / 168  (49.4):  84%|█████████████████████████████████████████████████████████████████████████████████████████                 | 168/200 [03:03<00:31,  1.03it/s]\u001b[A\n",
      "Average Metric: 83 / 169  (49.1):  84%|█████████████████████████████████████████████████████████████████████████████████████████                 | 168/200 [03:04<00:31,  1.03it/s]\u001b[A\n",
      "Average Metric: 83 / 169  (49.1):  84%|█████████████████████████████████████████████████████████████████████████████████████████▌                | 169/200 [03:04<00:30,  1.01it/s]\u001b[A\n",
      "Average Metric: 84 / 170  (49.4):  84%|█████████████████████████████████████████████████████████████████████████████████████████▌                | 169/200 [03:05<00:30,  1.01it/s]\u001b[A\n",
      "Average Metric: 84 / 170  (49.4):  85%|██████████████████████████████████████████████████████████████████████████████████████████                | 170/200 [03:05<00:29,  1.02it/s]\u001b[A\n",
      "Average Metric: 84 / 171  (49.1):  85%|██████████████████████████████████████████████████████████████████████████████████████████                | 170/200 [03:05<00:29,  1.02it/s]\u001b[A\n",
      "Average Metric: 84 / 171  (49.1):  86%|██████████████████████████████████████████████████████████████████████████████████████████▋               | 171/200 [03:05<00:27,  1.06it/s]\u001b[A\n",
      "Average Metric: 85 / 172  (49.4):  86%|██████████████████████████████████████████████████████████████████████████████████████████▋               | 171/200 [03:06<00:27,  1.06it/s]\u001b[A\n",
      "Average Metric: 85 / 172  (49.4):  86%|███████████████████████████████████████████████████████████████████████████████████████████▏              | 172/200 [03:06<00:27,  1.02it/s]\u001b[A\n",
      "Average Metric: 85 / 173  (49.1):  86%|███████████████████████████████████████████████████████████████████████████████████████████▏              | 172/200 [03:07<00:27,  1.02it/s]\u001b[A\n",
      "Average Metric: 85 / 173  (49.1):  86%|███████████████████████████████████████████████████████████████████████████████████████████▋              | 173/200 [03:07<00:25,  1.07it/s]\u001b[A\n",
      "Average Metric: 86 / 174  (49.4):  86%|███████████████████████████████████████████████████████████████████████████████████████████▋              | 173/200 [03:08<00:25,  1.07it/s]\u001b[A\n",
      "Average Metric: 86 / 174  (49.4):  87%|████████████████████████████████████████████████████████████████████████████████████████████▏             | 174/200 [03:08<00:23,  1.12it/s]\u001b[A\n",
      "Average Metric: 86 / 175  (49.1):  87%|████████████████████████████████████████████████████████████████████████████████████████████▏             | 174/200 [03:09<00:23,  1.12it/s]\u001b[A\n",
      "Average Metric: 86 / 175  (49.1):  88%|████████████████████████████████████████████████████████████████████████████████████████████▊             | 175/200 [03:09<00:22,  1.11it/s]\u001b[A\n",
      "Average Metric: 87 / 176  (49.4):  88%|████████████████████████████████████████████████████████████████████████████████████████████▊             | 175/200 [03:10<00:22,  1.11it/s]\u001b[A\n",
      "Average Metric: 87 / 176  (49.4):  88%|█████████████████████████████████████████████████████████████████████████████████████████████▎            | 176/200 [03:10<00:20,  1.15it/s]\u001b[A\n",
      "Average Metric: 87 / 177  (49.2):  88%|█████████████████████████████████████████████████████████████████████████████████████████████▎            | 176/200 [03:11<00:20,  1.15it/s]\u001b[A\n",
      "Average Metric: 87 / 177  (49.2):  88%|█████████████████████████████████████████████████████████████████████████████████████████████▊            | 177/200 [03:11<00:22,  1.02it/s]\u001b[A\n",
      "Average Metric: 88 / 178  (49.4):  88%|█████████████████████████████████████████████████████████████████████████████████████████████▊            | 177/200 [03:12<00:22,  1.02it/s]\u001b[A\n",
      "Average Metric: 88 / 178  (49.4):  89%|██████████████████████████████████████████████████████████████████████████████████████████████▎           | 178/200 [03:12<00:20,  1.07it/s]\u001b[A\n",
      "Average Metric: 88 / 179  (49.2):  89%|██████████████████████████████████████████████████████████████████████████████████████████████▎           | 178/200 [03:13<00:20,  1.07it/s]\u001b[A\n",
      "Average Metric: 88 / 179  (49.2):  90%|██████████████████████████████████████████████████████████████████████████████████████████████▊           | 179/200 [03:13<00:19,  1.07it/s]\u001b[A\n",
      "Average Metric: 89 / 180  (49.4):  90%|██████████████████████████████████████████████████████████████████████████████████████████████▊           | 179/200 [03:16<00:19,  1.07it/s]\u001b[A\n",
      "Average Metric: 89 / 180  (49.4):  90%|███████████████████████████████████████████████████████████████████████████████████████████████▍          | 180/200 [03:16<00:32,  1.65s/it]\u001b[A\n",
      "Average Metric: 89 / 181  (49.2):  90%|███████████████████████████████████████████████████████████████████████████████████████████████▍          | 180/200 [03:17<00:32,  1.65s/it]\u001b[A\n",
      "Average Metric: 89 / 181  (49.2):  90%|███████████████████████████████████████████████████████████████████████████████████████████████▉          | 181/200 [03:17<00:29,  1.53s/it]\u001b[A\n",
      "Average Metric: 90 / 182  (49.5):  90%|███████████████████████████████████████████████████████████████████████████████████████████████▉          | 181/200 [03:18<00:29,  1.53s/it]\u001b[A\n",
      "Average Metric: 90 / 182  (49.5):  91%|████████████████████████████████████████████████████████████████████████████████████████████████▍         | 182/200 [03:18<00:23,  1.30s/it]\u001b[A\n",
      "Average Metric: 90 / 183  (49.2):  91%|████████████████████████████████████████████████████████████████████████████████████████████████▍         | 182/200 [03:20<00:23,  1.30s/it]\u001b[A\n",
      "Average Metric: 90 / 183  (49.2):  92%|████████████████████████████████████████████████████████████████████████████████████████████████▉         | 183/200 [03:20<00:23,  1.40s/it]\u001b[A\n",
      "Average Metric: 91 / 184  (49.5):  92%|████████████████████████████████████████████████████████████████████████████████████████████████▉         | 183/200 [03:21<00:23,  1.40s/it]\u001b[A\n",
      "Average Metric: 91 / 184  (49.5):  92%|█████████████████████████████████████████████████████████████████████████████████████████████████▌        | 184/200 [03:21<00:21,  1.32s/it]\u001b[A\n",
      "Average Metric: 91 / 185  (49.2):  92%|█████████████████████████████████████████████████████████████████████████████████████████████████▌        | 184/200 [03:22<00:21,  1.32s/it]\u001b[A\n",
      "Average Metric: 91 / 185  (49.2):  92%|██████████████████████████████████████████████████████████████████████████████████████████████████        | 185/200 [03:22<00:16,  1.13s/it]\u001b[A\n",
      "Average Metric: 92 / 186  (49.5):  92%|██████████████████████████████████████████████████████████████████████████████████████████████████        | 185/200 [03:22<00:16,  1.13s/it]\u001b[A\n",
      "Average Metric: 92 / 186  (49.5):  93%|██████████████████████████████████████████████████████████████████████████████████████████████████▌       | 186/200 [03:22<00:14,  1.01s/it]\u001b[A\n",
      "Average Metric: 92 / 187  (49.2):  93%|██████████████████████████████████████████████████████████████████████████████████████████████████▌       | 186/200 [03:23<00:14,  1.01s/it]\u001b[A\n",
      "Average Metric: 92 / 187  (49.2):  94%|███████████████████████████████████████████████████████████████████████████████████████████████████       | 187/200 [03:23<00:12,  1.05it/s]\u001b[A\n",
      "Average Metric: 93 / 188  (49.5):  94%|███████████████████████████████████████████████████████████████████████████████████████████████████       | 187/200 [03:24<00:12,  1.05it/s]\u001b[A\n",
      "Average Metric: 93 / 188  (49.5):  94%|███████████████████████████████████████████████████████████████████████████████████████████████████▋      | 188/200 [03:24<00:12,  1.07s/it]\u001b[A\n",
      "Average Metric: 93 / 189  (49.2):  94%|███████████████████████████████████████████████████████████████████████████████████████████████████▋      | 188/200 [03:25<00:12,  1.07s/it]\u001b[A\n",
      "Average Metric: 93 / 189  (49.2):  94%|████████████████████████████████████████████████████████████████████████████████████████████████████▏     | 189/200 [03:25<00:11,  1.00s/it]\u001b[A\n",
      "Average Metric: 94 / 190  (49.5):  94%|████████████████████████████████████████████████████████████████████████████████████████████████████▏     | 189/200 [03:26<00:11,  1.00s/it]\u001b[A\n",
      "Average Metric: 94 / 190  (49.5):  95%|████████████████████████████████████████████████████████████████████████████████████████████████████▋     | 190/200 [03:26<00:09,  1.06it/s]\u001b[A\n",
      "Average Metric: 94 / 191  (49.2):  95%|████████████████████████████████████████████████████████████████████████████████████████████████████▋     | 190/200 [03:27<00:09,  1.06it/s]\u001b[A\n",
      "Average Metric: 94 / 191  (49.2):  96%|█████████████████████████████████████████████████████████████████████████████████████████████████████▏    | 191/200 [03:27<00:09,  1.06s/it]\u001b[A\n",
      "Average Metric: 95 / 192  (49.5):  96%|█████████████████████████████████████████████████████████████████████████████████████████████████████▏    | 191/200 [03:28<00:09,  1.06s/it]\u001b[A\n",
      "Average Metric: 95 / 192  (49.5):  96%|█████████████████████████████████████████████████████████████████████████████████████████████████████▊    | 192/200 [03:28<00:07,  1.02it/s]\u001b[A\n",
      "Average Metric: 95 / 193  (49.2):  96%|█████████████████████████████████████████████████████████████████████████████████████████████████████▊    | 192/200 [03:30<00:07,  1.02it/s]\u001b[A\n",
      "Average Metric: 95 / 193  (49.2):  96%|██████████████████████████████████████████████████████████████████████████████████████████████████████▎   | 193/200 [03:30<00:08,  1.15s/it]\u001b[A\n",
      "Average Metric: 96 / 194  (49.5):  96%|██████████████████████████████████████████████████████████████████████████████████████████████████████▎   | 193/200 [03:31<00:08,  1.15s/it]\u001b[A\n",
      "Average Metric: 96 / 194  (49.5):  97%|██████████████████████████████████████████████████████████████████████████████████████████████████████▊   | 194/200 [03:31<00:06,  1.04s/it]\u001b[A\n",
      "Average Metric: 96 / 195  (49.2):  97%|██████████████████████████████████████████████████████████████████████████████████████████████████████▊   | 194/200 [03:32<00:06,  1.04s/it]\u001b[A\n",
      "Average Metric: 96 / 195  (49.2):  98%|███████████████████████████████████████████████████████████████████████████████████████████████████████▎  | 195/200 [03:32<00:05,  1.02s/it]\u001b[A\n",
      "Average Metric: 97 / 196  (49.5):  98%|███████████████████████████████████████████████████████████████████████████████████████████████████████▎  | 195/200 [03:33<00:05,  1.02s/it]\u001b[A\n",
      "Average Metric: 97 / 196  (49.5):  98%|███████████████████████████████████████████████████████████████████████████████████████████████████████▉  | 196/200 [03:33<00:04,  1.01s/it]\u001b[A\n",
      "Average Metric: 97 / 197  (49.2):  98%|███████████████████████████████████████████████████████████████████████████████████████████████████████▉  | 196/200 [03:33<00:04,  1.01s/it]\u001b[A\n",
      "Average Metric: 97 / 197  (49.2):  98%|████████████████████████████████████████████████████████████████████████████████████████████████████████▍ | 197/200 [03:33<00:02,  1.03it/s]\u001b[A\n",
      "Average Metric: 98 / 198  (49.5):  98%|████████████████████████████████████████████████████████████████████████████████████████████████████████▍ | 197/200 [03:35<00:02,  1.03it/s]\u001b[A\n",
      "Average Metric: 98 / 198  (49.5):  99%|████████████████████████████████████████████████████████████████████████████████████████████████████████▉ | 198/200 [03:35<00:02,  1.01s/it]\u001b[A\n",
      "Average Metric: 98 / 199  (49.2):  99%|████████████████████████████████████████████████████████████████████████████████████████████████████████▉ | 198/200 [03:36<00:02,  1.01s/it]\u001b[A\n",
      "Average Metric: 98 / 199  (49.2): 100%|█████████████████████████████████████████████████████████████████████████████████████████████████████████▍| 199/200 [03:36<00:01,  1.01s/it]\u001b[A\n",
      "Average Metric: 99 / 200  (49.5): 100%|█████████████████████████████████████████████████████████████████████████████████████████████████████████▍| 199/200 [03:37<00:01,  1.01s/it]\u001b[A\n",
      "Average Metric: 99 / 200  (49.5): 100%|██████████████████████████████████████████████████████████████████████████████████████████████████████████| 200/200 [03:37<00:00,  1.09s/it]\u001b[A"
     ]
    },
    {
     "name": "stdout",
     "output_type": "stream",
     "text": [
      "Average Metric: 99 / 200  (49.5%)\n"
     ]
    },
    {
     "name": "stderr",
     "output_type": "stream",
     "text": [
      "\n",
      "/Users/richy/.pyenv/versions/3.11.7/envs/llm/lib/python3.11/site-packages/dspy/evaluate/evaluate.py:187: FutureWarning: DataFrame.applymap has been deprecated. Use DataFrame.map instead.\n",
      "  df = df.applymap(truncate_cell)\n"
     ]
    },
    {
     "data": {
      "text/plain": [
       "49.5"
      ]
     },
     "execution_count": 20,
     "metadata": {},
     "output_type": "execute_result"
    }
   ],
   "source": [
    "evaluator(cot_zeroshot, metric=scone_accuracy)"
   ]
  },
  {
   "cell_type": "markdown",
   "id": "e1cd527b-f6ab-497f-917c-274f85fc10d4",
   "metadata": {},
   "source": [
    "# Bootstrap Few Shot Optimization with Random Search"
   ]
  },
  {
   "cell_type": "markdown",
   "id": "f8164154-cd0d-4521-8044-bacb620e6445",
   "metadata": {},
   "source": [
    "Use \"teacher,\" in this case GPT4, to generate \"demonstrations\". Demonstrations basically include the \"thoughts\" or other LLM responses alongside the final answer. These thoughts help guide the LLM to do something similar in the test scenario. Then, uses those examples to do few shot prompting. Examples of this at the end. "
   ]
  },
  {
   "cell_type": "code",
   "execution_count": 21,
   "id": "e43d4cfd-1e88-41ce-be6d-9e44486691c1",
   "metadata": {},
   "outputs": [
    {
     "name": "stdout",
     "output_type": "stream",
     "text": [
      "Going to sample between 1 and 8 traces per predictor.\n",
      "Will attempt to train 10 candidate sets.\n"
     ]
    }
   ],
   "source": [
    "bootstrap_optimizer = BootstrapFewShotWithRandomSearch(\n",
    "    max_bootstrapped_demos=8,\n",
    "    max_labeled_demos=8,\n",
    "    num_candidate_programs=10,\n",
    "    num_threads=8,\n",
    "    metric=scone_accuracy,\n",
    "    teacher_settings=dict(lm=gpt4T))"
   ]
  },
  {
   "cell_type": "code",
   "execution_count": 23,
   "id": "639ca8d3-bf31-400c-b20f-0a9ed1a7f7cf",
   "metadata": {},
   "outputs": [
    {
     "name": "stderr",
     "output_type": "stream",
     "text": [
      "\n",
      "  0%|                                                                                                                                                       | 0/50 [00:00<?, ?it/s]\u001b[A\n",
      "Average Metric: 1 / 1  (100.0):   0%|                                                                                                                       | 0/50 [00:00<?, ?it/s]\u001b[A\n",
      "Average Metric: 1 / 1  (100.0):   2%|██▏                                                                                                            | 1/50 [00:00<00:42,  1.15it/s]\u001b[A\n",
      "Average Metric: 2 / 2  (100.0):   2%|██▏                                                                                                            | 1/50 [00:00<00:42,  1.15it/s]\u001b[A\n",
      "Average Metric: 3 / 3  (100.0):   4%|████▍                                                                                                          | 2/50 [00:01<00:41,  1.15it/s]\u001b[A\n",
      "Average Metric: 3 / 3  (100.0):   6%|██████▋                                                                                                        | 3/50 [00:01<00:13,  3.57it/s]\u001b[A\n",
      "Average Metric: 4 / 4  (100.0):   6%|██████▋                                                                                                        | 3/50 [00:01<00:13,  3.57it/s]\u001b[A\n",
      "Average Metric: 5 / 5  (100.0):   8%|████████▉                                                                                                      | 4/50 [00:01<00:12,  3.57it/s]\u001b[A\n",
      "Average Metric: 5 / 6  (83.3):  10%|███████████▏                                                                                                    | 5/50 [00:01<00:12,  3.57it/s]\u001b[A\n",
      "Average Metric: 5 / 7  (71.4):  12%|█████████████▍                                                                                                  | 6/50 [00:01<00:12,  3.57it/s]\u001b[A\n",
      "Average Metric: 5 / 7  (71.4):  14%|███████████████▋                                                                                                | 7/50 [00:01<00:04,  9.01it/s]\u001b[A\n",
      "Average Metric: 6 / 8  (75.0):  14%|███████████████▋                                                                                                | 7/50 [00:01<00:04,  9.01it/s]\u001b[A\n",
      "Average Metric: 7 / 9  (77.8):  16%|█████████████████▉                                                                                              | 8/50 [00:01<00:04,  9.01it/s]\u001b[A\n",
      "Average Metric: 7 / 9  (77.8):  18%|████████████████████▏                                                                                           | 9/50 [00:01<00:06,  6.16it/s]\u001b[A\n",
      "Average Metric: 7 / 10  (70.0):  18%|███████████████████▉                                                                                           | 9/50 [00:01<00:06,  6.16it/s]\u001b[A\n",
      "Average Metric: 8 / 11  (72.7):  20%|██████████████████████                                                                                        | 10/50 [00:01<00:06,  6.16it/s]\u001b[A\n",
      "Average Metric: 8 / 11  (72.7):  22%|████████████████████████▏                                                                                     | 11/50 [00:01<00:05,  6.62it/s]\u001b[A\n",
      "Average Metric: 8 / 12  (66.7):  22%|████████████████████████▏                                                                                     | 11/50 [00:01<00:05,  6.62it/s]\u001b[A\n",
      "Average Metric: 9 / 13  (69.2):  24%|██████████████████████████▍                                                                                   | 12/50 [00:02<00:05,  6.62it/s]\u001b[A\n",
      "Average Metric: 9 / 14  (64.3):  26%|████████████████████████████▌                                                                                 | 13/50 [00:02<00:05,  6.62it/s]\u001b[A\n",
      "Average Metric: 9 / 14  (64.3):  28%|██████████████████████████████▊                                                                               | 14/50 [00:02<00:03,  9.34it/s]\u001b[A\n",
      "Average Metric: 10 / 15  (66.7):  28%|██████████████████████████████▌                                                                              | 14/50 [00:02<00:03,  9.34it/s]\u001b[A\n",
      "Average Metric: 10 / 16  (62.5):  30%|████████████████████████████████▋                                                                            | 15/50 [00:02<00:03,  9.34it/s]\u001b[A\n",
      "Average Metric: 10 / 16  (62.5):  32%|██████████████████████████████████▉                                                                          | 16/50 [00:02<00:03, 10.06it/s]\u001b[A\n",
      "Average Metric: 10 / 17  (58.8):  32%|██████████████████████████████████▉                                                                          | 16/50 [00:02<00:03, 10.06it/s]\u001b[A\n",
      "Average Metric: 10 / 18  (55.6):  34%|█████████████████████████████████████                                                                        | 17/50 [00:02<00:03, 10.06it/s]\u001b[A\n",
      "Average Metric: 10 / 18  (55.6):  36%|███████████████████████████████████████▏                                                                     | 18/50 [00:02<00:04,  6.43it/s]\u001b[A\n",
      "Average Metric: 11 / 19  (57.9):  36%|███████████████████████████████████████▏                                                                     | 18/50 [00:02<00:04,  6.43it/s]\u001b[A\n",
      "Average Metric: 11 / 20  (55.0):  38%|█████████████████████████████████████████▍                                                                   | 19/50 [00:02<00:04,  6.43it/s]\u001b[A\n",
      "Average Metric: 11 / 21  (52.4):  40%|███████████████████████████████████████████▌                                                                 | 20/50 [00:03<00:04,  6.43it/s]\u001b[A\n",
      "Average Metric: 11 / 21  (52.4):  42%|█████████████████████████████████████████████▊                                                               | 21/50 [00:03<00:03,  7.92it/s]\u001b[A\n",
      "Average Metric: 11 / 22  (50.0):  42%|█████████████████████████████████████████████▊                                                               | 21/50 [00:03<00:03,  7.92it/s]\u001b[A\n",
      "Average Metric: 12 / 23  (52.2):  44%|███████████████████████████████████████████████▉                                                             | 22/50 [00:03<00:03,  7.92it/s]\u001b[A\n",
      "Average Metric: 12 / 23  (52.2):  46%|██████████████████████████████████████████████████▏                                                          | 23/50 [00:03<00:03,  8.11it/s]\u001b[A\n",
      "Average Metric: 12 / 24  (50.0):  46%|██████████████████████████████████████████████████▏                                                          | 23/50 [00:03<00:03,  8.11it/s]\u001b[A\n",
      "Average Metric: 12 / 25  (48.0):  48%|████████████████████████████████████████████████████▎                                                        | 24/50 [00:03<00:03,  8.11it/s]\u001b[A\n",
      "Average Metric: 12 / 25  (48.0):  50%|██████████████████████████████████████████████████████▌                                                      | 25/50 [00:03<00:04,  6.03it/s]\u001b[A\n",
      "Average Metric: 12 / 26  (46.2):  50%|██████████████████████████████████████████████████████▌                                                      | 25/50 [00:03<00:04,  6.03it/s]\u001b[A\n",
      "Average Metric: 12 / 27  (44.4):  52%|████████████████████████████████████████████████████████▋                                                    | 26/50 [00:03<00:03,  6.03it/s]\u001b[A\n",
      "Average Metric: 12 / 27  (44.4):  54%|██████████████████████████████████████████████████████████▊                                                  | 27/50 [00:03<00:03,  7.25it/s]\u001b[A\n",
      "Average Metric: 12 / 28  (42.9):  54%|██████████████████████████████████████████████████████████▊                                                  | 27/50 [00:04<00:03,  7.25it/s]\u001b[A\n",
      "Average Metric: 12 / 29  (41.4):  56%|█████████████████████████████████████████████████████████████                                                | 28/50 [00:04<00:03,  7.25it/s]\u001b[A\n",
      "Average Metric: 12 / 29  (41.4):  58%|███████████████████████████████████████████████████████████████▏                                             | 29/50 [00:04<00:03,  6.95it/s]\u001b[A\n",
      "Average Metric: 12 / 30  (40.0):  58%|███████████████████████████████████████████████████████████████▏                                             | 29/50 [00:04<00:03,  6.95it/s]\u001b[A\n",
      "Average Metric: 12 / 30  (40.0):  60%|█████████████████████████████████████████████████████████████████▍                                           | 30/50 [00:04<00:02,  7.20it/s]\u001b[A\n",
      "Average Metric: 12 / 31  (38.7):  60%|█████████████████████████████████████████████████████████████████▍                                           | 30/50 [00:04<00:02,  7.20it/s]\u001b[A\n",
      "Average Metric: 12 / 32  (37.5):  62%|███████████████████████████████████████████████████████████████████▌                                         | 31/50 [00:04<00:02,  7.20it/s]\u001b[A\n",
      "Average Metric: 12 / 32  (37.5):  64%|█████████████████████████████████████████████████████████████████████▊                                       | 32/50 [00:04<00:02,  7.87it/s]\u001b[A\n",
      "Average Metric: 13 / 33  (39.4):  64%|█████████████████████████████████████████████████████████████████████▊                                       | 32/50 [00:04<00:02,  7.87it/s]\u001b[A\n",
      "Average Metric: 13 / 34  (38.2):  66%|███████████████████████████████████████████████████████████████████████▉                                     | 33/50 [00:04<00:02,  7.87it/s]\u001b[A\n",
      "Average Metric: 13 / 34  (38.2):  68%|██████████████████████████████████████████████████████████████████████████                                   | 34/50 [00:04<00:01,  9.48it/s]\u001b[A\n",
      "Average Metric: 14 / 35  (40.0):  68%|██████████████████████████████████████████████████████████████████████████                                   | 34/50 [00:04<00:01,  9.48it/s]\u001b[A\n",
      "Average Metric: 15 / 36  (41.7):  70%|████████████████████████████████████████████████████████████████████████████▎                                | 35/50 [00:05<00:01,  9.48it/s]\u001b[A\n",
      "Average Metric: 15 / 36  (41.7):  72%|██████████████████████████████████████████████████████████████████████████████▍                              | 36/50 [00:05<00:02,  6.55it/s]\u001b[A\n",
      "Average Metric: 15 / 37  (40.5):  72%|██████████████████████████████████████████████████████████████████████████████▍                              | 36/50 [00:05<00:02,  6.55it/s]\u001b[A\n",
      "Average Metric: 16 / 38  (42.1):  74%|████████████████████████████████████████████████████████████████████████████████▋                            | 37/50 [00:05<00:01,  6.55it/s]\u001b[A\n",
      "Average Metric: 17 / 39  (43.6):  76%|██████████████████████████████████████████████████████████████████████████████████▊                          | 38/50 [00:05<00:01,  6.55it/s]\u001b[A\n",
      "Average Metric: 17 / 39  (43.6):  78%|█████████████████████████████████████████████████████████████████████████████████████                        | 39/50 [00:05<00:01,  8.53it/s]\u001b[A\n",
      "Average Metric: 18 / 40  (45.0):  78%|█████████████████████████████████████████████████████████████████████████████████████                        | 39/50 [00:05<00:01,  8.53it/s]\u001b[A\n",
      "Average Metric: 19 / 41  (46.3):  80%|███████████████████████████████████████████████████████████████████████████████████████▏                     | 40/50 [00:05<00:01,  8.53it/s]\u001b[A\n",
      "Average Metric: 19 / 41  (46.3):  82%|█████████████████████████████████████████████████████████████████████████████████████████▍                   | 41/50 [00:05<00:01,  7.67it/s]\u001b[A\n",
      "Average Metric: 20 / 42  (47.6):  82%|█████████████████████████████████████████████████████████████████████████████████████████▍                   | 41/50 [00:05<00:01,  7.67it/s]\u001b[A\n",
      "Average Metric: 20 / 42  (47.6):  84%|███████████████████████████████████████████████████████████████████████████████████████████▌                 | 42/50 [00:05<00:01,  6.88it/s]\u001b[A\n",
      "Average Metric: 20 / 43  (46.5):  84%|███████████████████████████████████████████████████████████████████████████████████████████▌                 | 42/50 [00:06<00:01,  6.88it/s]\u001b[A\n",
      "Average Metric: 21 / 44  (47.7):  86%|█████████████████████████████████████████████████████████████████████████████████████████████▋               | 43/50 [00:06<00:01,  6.88it/s]\u001b[A\n",
      "Average Metric: 21 / 44  (47.7):  88%|███████████████████████████████████████████████████████████████████████████████████████████████▉             | 44/50 [00:06<00:00,  7.79it/s]\u001b[A\n",
      "Average Metric: 21 / 45  (46.7):  88%|███████████████████████████████████████████████████████████████████████████████████████████████▉             | 44/50 [00:06<00:00,  7.79it/s]\u001b[A\n",
      "Average Metric: 21 / 45  (46.7):  90%|██████████████████████████████████████████████████████████████████████████████████████████████████           | 45/50 [00:06<00:00,  8.07it/s]\u001b[A\n",
      "Average Metric: 22 / 46  (47.8):  90%|██████████████████████████████████████████████████████████████████████████████████████████████████           | 45/50 [00:06<00:00,  8.07it/s]\u001b[A\n",
      "Average Metric: 23 / 47  (48.9):  92%|████████████████████████████████████████████████████████████████████████████████████████████████████▎        | 46/50 [00:06<00:00,  8.07it/s]\u001b[A\n",
      "Average Metric: 23 / 47  (48.9):  94%|██████████████████████████████████████████████████████████████████████████████████████████████████████▍      | 47/50 [00:06<00:00,  6.82it/s]\u001b[A\n",
      "Average Metric: 23 / 48  (47.9):  94%|██████████████████████████████████████████████████████████████████████████████████████████████████████▍      | 47/50 [00:06<00:00,  6.82it/s]\u001b[A\n",
      "Average Metric: 24 / 49  (49.0):  96%|████████████████████████████████████████████████████████████████████████████████████████████████████████▋    | 48/50 [00:07<00:00,  6.82it/s]\u001b[A\n",
      "Average Metric: 24 / 49  (49.0):  98%|██████████████████████████████████████████████████████████████████████████████████████████████████████████▊  | 49/50 [00:07<00:00,  5.47it/s]\u001b[A\n",
      "Average Metric: 24 / 50  (48.0):  98%|██████████████████████████████████████████████████████████████████████████████████████████████████████████▊  | 49/50 [00:08<00:00,  5.47it/s]\u001b[A\n",
      "Average Metric: 24 / 50  (48.0): 100%|█████████████████████████████████████████████████████████████████████████████████████████████████████████████| 50/50 [00:08<00:00,  6.13it/s]\u001b[A\n"
     ]
    },
    {
     "name": "stdout",
     "output_type": "stream",
     "text": [
      "Average Metric: 24 / 50  (48.0%)\n",
      "Score: 48.0 for set: [0]\n",
      "New best score: 48.0 for seed -3\n",
      "Scores so far: [48.0]\n",
      "Best score: 48.0\n"
     ]
    },
    {
     "name": "stderr",
     "output_type": "stream",
     "text": [
      "\n",
      "  0%|                                                                                                                                                       | 0/50 [00:00<?, ?it/s]\u001b[A\n",
      "Average Metric: 1 / 1  (100.0):   0%|                                                                                                                       | 0/50 [00:00<?, ?it/s]\u001b[A\n",
      "Average Metric: 1 / 1  (100.0):   2%|██▏                                                                                                            | 1/50 [00:00<00:24,  1.98it/s]\u001b[A\n",
      "Average Metric: 2 / 2  (100.0):   2%|██▏                                                                                                            | 1/50 [00:00<00:24,  1.98it/s]\u001b[A\n",
      "Average Metric: 2 / 2  (100.0):   4%|████▍                                                                                                          | 2/50 [00:00<00:14,  3.25it/s]\u001b[A\n",
      "Average Metric: 3 / 3  (100.0):   4%|████▍                                                                                                          | 2/50 [00:00<00:14,  3.25it/s]\u001b[A\n",
      "Average Metric: 4 / 4  (100.0):   6%|██████▋                                                                                                        | 3/50 [00:00<00:14,  3.25it/s]\u001b[A\n",
      "Average Metric: 4 / 4  (100.0):   8%|████████▉                                                                                                      | 4/50 [00:00<00:08,  5.12it/s]\u001b[A\n",
      "Average Metric: 4 / 5  (80.0):   8%|████████▉                                                                                                       | 4/50 [00:00<00:08,  5.12it/s]\u001b[A\n",
      "Average Metric: 5 / 6  (83.3):  10%|███████████▏                                                                                                    | 5/50 [00:01<00:08,  5.12it/s]\u001b[A\n",
      "Average Metric: 5 / 6  (83.3):  12%|█████████████▍                                                                                                  | 6/50 [00:01<00:05,  7.75it/s]\u001b[A\n",
      "Average Metric: 6 / 7  (85.7):  12%|█████████████▍                                                                                                  | 6/50 [00:01<00:05,  7.75it/s]\u001b[A\n",
      "Average Metric: 6 / 8  (75.0):  14%|███████████████▋                                                                                                | 7/50 [00:01<00:05,  7.75it/s]\u001b[A\n",
      "Average Metric: 6 / 8  (75.0):  16%|█████████████████▉                                                                                              | 8/50 [00:01<00:04, 10.03it/s]\u001b[A\n",
      "Average Metric: 7 / 9  (77.8):  16%|█████████████████▉                                                                                              | 8/50 [00:01<00:04, 10.03it/s]\u001b[A\n",
      "Average Metric: 8 / 10  (80.0):  18%|███████████████████▉                                                                                           | 9/50 [00:01<00:04, 10.03it/s]\u001b[A\n",
      "Average Metric: 8 / 10  (80.0):  20%|██████████████████████                                                                                        | 10/50 [00:01<00:05,  6.82it/s]\u001b[A\n",
      "Average Metric: 8 / 11  (72.7):  20%|██████████████████████                                                                                        | 10/50 [00:01<00:05,  6.82it/s]\u001b[A\n",
      "Average Metric: 9 / 12  (75.0):  22%|████████████████████████▏                                                                                     | 11/50 [00:01<00:05,  6.82it/s]\u001b[A\n",
      "Average Metric: 10 / 13  (76.9):  24%|██████████████████████████▏                                                                                  | 12/50 [00:01<00:05,  6.82it/s]\u001b[A\n",
      "Average Metric: 10 / 13  (76.9):  26%|████████████████████████████▎                                                                                | 13/50 [00:01<00:04,  9.03it/s]\u001b[A\n",
      "Average Metric: 10 / 14  (71.4):  26%|████████████████████████████▎                                                                                | 13/50 [00:01<00:04,  9.03it/s]\u001b[A\n",
      "Average Metric: 10 / 15  (66.7):  28%|██████████████████████████████▌                                                                              | 14/50 [00:01<00:03,  9.03it/s]\u001b[A\n",
      "Average Metric: 11 / 16  (68.8):  30%|████████████████████████████████▋                                                                            | 15/50 [00:02<00:03,  9.03it/s]\u001b[A\n",
      "Average Metric: 11 / 16  (68.8):  32%|██████████████████████████████████▉                                                                          | 16/50 [00:02<00:04,  8.33it/s]\u001b[A\n",
      "Average Metric: 12 / 17  (70.6):  32%|██████████████████████████████████▉                                                                          | 16/50 [00:02<00:04,  8.33it/s]\u001b[A\n",
      "Average Metric: 13 / 18  (72.2):  34%|█████████████████████████████████████                                                                        | 17/50 [00:02<00:03,  8.33it/s]\u001b[A\n",
      "Average Metric: 13 / 18  (72.2):  36%|███████████████████████████████████████▏                                                                     | 18/50 [00:02<00:03,  9.79it/s]\u001b[A\n",
      "Average Metric: 13 / 19  (68.4):  36%|███████████████████████████████████████▏                                                                     | 18/50 [00:02<00:03,  9.79it/s]\u001b[A\n",
      "Average Metric: 13 / 20  (65.0):  38%|█████████████████████████████████████████▍                                                                   | 19/50 [00:02<00:03,  9.79it/s]\u001b[A\n",
      "Average Metric: 13 / 20  (65.0):  40%|███████████████████████████████████████████▌                                                                 | 20/50 [00:02<00:02, 10.64it/s]\u001b[A\n",
      "Average Metric: 13 / 21  (61.9):  40%|███████████████████████████████████████████▌                                                                 | 20/50 [00:02<00:02, 10.64it/s]\u001b[A\n",
      "Average Metric: 13 / 22  (59.1):  42%|█████████████████████████████████████████████▊                                                               | 21/50 [00:02<00:02, 10.64it/s]\u001b[A\n",
      "Average Metric: 13 / 22  (59.1):  44%|███████████████████████████████████████████████▉                                                             | 22/50 [00:02<00:02, 10.09it/s]\u001b[A\n",
      "Average Metric: 13 / 23  (56.5):  44%|███████████████████████████████████████████████▉                                                             | 22/50 [00:02<00:02, 10.09it/s]\u001b[A\n",
      "Average Metric: 14 / 24  (58.3):  46%|██████████████████████████████████████████████████▏                                                          | 23/50 [00:03<00:02, 10.09it/s]\u001b[A\n",
      "Average Metric: 14 / 24  (58.3):  48%|████████████████████████████████████████████████████▎                                                        | 24/50 [00:03<00:03,  7.86it/s]\u001b[A\n",
      "Average Metric: 14 / 25  (56.0):  48%|████████████████████████████████████████████████████▎                                                        | 24/50 [00:03<00:03,  7.86it/s]\u001b[A\n",
      "Average Metric: 14 / 25  (56.0):  50%|██████████████████████████████████████████████████████▌                                                      | 25/50 [00:03<00:03,  7.45it/s]\u001b[A\n",
      "Average Metric: 15 / 26  (57.7):  50%|██████████████████████████████████████████████████████▌                                                      | 25/50 [00:03<00:03,  7.45it/s]\u001b[A\n",
      "Average Metric: 15 / 27  (55.6):  52%|████████████████████████████████████████████████████████▋                                                    | 26/50 [00:03<00:03,  7.45it/s]\u001b[A\n",
      "Average Metric: 15 / 28  (53.6):  54%|██████████████████████████████████████████████████████████▊                                                  | 27/50 [00:03<00:03,  7.45it/s]\u001b[A\n",
      "Average Metric: 15 / 28  (53.6):  56%|█████████████████████████████████████████████████████████████                                                | 28/50 [00:03<00:02, 10.52it/s]\u001b[A\n",
      "Average Metric: 15 / 29  (51.7):  56%|█████████████████████████████████████████████████████████████                                                | 28/50 [00:03<00:02, 10.52it/s]\u001b[A\n",
      "Average Metric: 16 / 30  (53.3):  58%|███████████████████████████████████████████████████████████████▏                                             | 29/50 [00:03<00:01, 10.52it/s]\u001b[A\n",
      "Average Metric: 17 / 31  (54.8):  60%|█████████████████████████████████████████████████████████████████▍                                           | 30/50 [00:03<00:01, 10.52it/s]\u001b[A\n",
      "Average Metric: 17 / 31  (54.8):  62%|███████████████████████████████████████████████████████████████████▌                                         | 31/50 [00:03<00:02,  9.33it/s]\u001b[A\n",
      "Average Metric: 17 / 32  (53.1):  62%|███████████████████████████████████████████████████████████████████▌                                         | 31/50 [00:03<00:02,  9.33it/s]\u001b[A\n",
      "Average Metric: 18 / 33  (54.5):  64%|█████████████████████████████████████████████████████████████████████▊                                       | 32/50 [00:03<00:01,  9.33it/s]\u001b[A\n",
      "Average Metric: 18 / 33  (54.5):  66%|███████████████████████████████████████████████████████████████████████▉                                     | 33/50 [00:03<00:01, 10.42it/s]\u001b[A\n",
      "Average Metric: 18 / 34  (52.9):  66%|███████████████████████████████████████████████████████████████████████▉                                     | 33/50 [00:04<00:01, 10.42it/s]\u001b[A\n",
      "Average Metric: 19 / 35  (54.3):  68%|██████████████████████████████████████████████████████████████████████████                                   | 34/50 [00:04<00:01, 10.42it/s]\u001b[A\n",
      "Average Metric: 19 / 35  (54.3):  70%|████████████████████████████████████████████████████████████████████████████▎                                | 35/50 [00:04<00:01,  9.36it/s]\u001b[A\n",
      "Average Metric: 20 / 36  (55.6):  70%|████████████████████████████████████████████████████████████████████████████▎                                | 35/50 [00:04<00:01,  9.36it/s]\u001b[A\n",
      "Average Metric: 20 / 37  (54.1):  72%|██████████████████████████████████████████████████████████████████████████████▍                              | 36/50 [00:04<00:01,  9.36it/s]\u001b[A\n",
      "Average Metric: 20 / 37  (54.1):  74%|████████████████████████████████████████████████████████████████████████████████▋                            | 37/50 [00:04<00:01,  8.80it/s]\u001b[A\n",
      "Average Metric: 21 / 38  (55.3):  74%|████████████████████████████████████████████████████████████████████████████████▋                            | 37/50 [00:04<00:01,  8.80it/s]\u001b[A\n",
      "Average Metric: 21 / 39  (53.8):  76%|██████████████████████████████████████████████████████████████████████████████████▊                          | 38/50 [00:04<00:01,  8.80it/s]\u001b[A\n",
      "Average Metric: 21 / 39  (53.8):  78%|█████████████████████████████████████████████████████████████████████████████████████                        | 39/50 [00:04<00:01,  9.70it/s]\u001b[A\n",
      "Average Metric: 22 / 40  (55.0):  78%|█████████████████████████████████████████████████████████████████████████████████████                        | 39/50 [00:04<00:01,  9.70it/s]\u001b[A\n",
      "Average Metric: 22 / 41  (53.7):  80%|███████████████████████████████████████████████████████████████████████████████████████▏                     | 40/50 [00:04<00:01,  9.70it/s]\u001b[A\n",
      "Average Metric: 22 / 41  (53.7):  82%|█████████████████████████████████████████████████████████████████████████████████████████▍                   | 41/50 [00:04<00:01,  8.57it/s]\u001b[A\n",
      "Average Metric: 23 / 42  (54.8):  82%|█████████████████████████████████████████████████████████████████████████████████████████▍                   | 41/50 [00:05<00:01,  8.57it/s]\u001b[A\n",
      "Average Metric: 23 / 42  (54.8):  84%|███████████████████████████████████████████████████████████████████████████████████████████▌                 | 42/50 [00:05<00:00,  8.37it/s]\u001b[A\n",
      "Average Metric: 24 / 43  (55.8):  84%|███████████████████████████████████████████████████████████████████████████████████████████▌                 | 42/50 [00:05<00:00,  8.37it/s]\u001b[A\n",
      "Average Metric: 25 / 44  (56.8):  86%|█████████████████████████████████████████████████████████████████████████████████████████████▋               | 43/50 [00:05<00:00,  8.37it/s]\u001b[A\n",
      "Average Metric: 25 / 44  (56.8):  88%|███████████████████████████████████████████████████████████████████████████████████████████████▉             | 44/50 [00:05<00:00,  8.32it/s]\u001b[A\n",
      "Average Metric: 26 / 45  (57.8):  88%|███████████████████████████████████████████████████████████████████████████████████████████████▉             | 44/50 [00:05<00:00,  8.32it/s]\u001b[A\n",
      "Average Metric: 26 / 46  (56.5):  90%|██████████████████████████████████████████████████████████████████████████████████████████████████           | 45/50 [00:05<00:00,  8.32it/s]\u001b[A\n",
      "Average Metric: 27 / 47  (57.4):  92%|████████████████████████████████████████████████████████████████████████████████████████████████████▎        | 46/50 [00:05<00:00,  8.32it/s]\u001b[A\n",
      "Average Metric: 27 / 47  (57.4):  94%|██████████████████████████████████████████████████████████████████████████████████████████████████████▍      | 47/50 [00:05<00:00, 11.15it/s]\u001b[A\n",
      "Average Metric: 28 / 48  (58.3):  94%|██████████████████████████████████████████████████████████████████████████████████████████████████████▍      | 47/50 [00:05<00:00, 11.15it/s]\u001b[A\n",
      "Average Metric: 28 / 49  (57.1):  96%|████████████████████████████████████████████████████████████████████████████████████████████████████████▋    | 48/50 [00:05<00:00, 11.15it/s]\u001b[A\n",
      "Average Metric: 29 / 50  (58.0):  98%|██████████████████████████████████████████████████████████████████████████████████████████████████████████▊  | 49/50 [00:05<00:00, 11.15it/s]\u001b[A\n",
      "Average Metric: 29 / 50  (58.0): 100%|█████████████████████████████████████████████████████████████████████████████████████████████████████████████| 50/50 [00:05<00:00,  8.90it/s]\u001b[A\n"
     ]
    },
    {
     "name": "stdout",
     "output_type": "stream",
     "text": [
      "Average Metric: 29 / 50  (58.0%)\n",
      "Score: 58.0 for set: [8]\n",
      "New best score: 58.0 for seed -2\n",
      "Scores so far: [48.0, 58.0]\n",
      "Best score: 58.0\n"
     ]
    },
    {
     "name": "stderr",
     "output_type": "stream",
     "text": [
      "\n",
      "  0%|                                                                                                                                                      | 0/200 [00:00<?, ?it/s]\u001b[A\n",
      "  0%|▋                                                                                                                                             | 1/200 [00:04<15:37,  4.71s/it]\u001b[A\n",
      "  1%|█▍                                                                                                                                            | 2/200 [00:08<13:44,  4.16s/it]\u001b[A\n",
      "  2%|██▏                                                                                                                                           | 3/200 [00:12<12:49,  3.91s/it]\u001b[A\n",
      "  2%|██▊                                                                                                                                           | 4/200 [00:14<11:23,  3.49s/it]\u001b[A\n",
      "  2%|███▌                                                                                                                                          | 5/200 [00:18<11:05,  3.41s/it]\u001b[A\n",
      "  3%|████▎                                                                                                                                         | 6/200 [00:21<10:41,  3.31s/it]\u001b[A\n",
      "  4%|████▉                                                                                                                                         | 7/200 [00:24<10:33,  3.28s/it]\u001b[A\n",
      "  4%|█████▋                                                                                                                                        | 8/200 [00:27<10:35,  3.31s/it]\u001b[A\n",
      "  4%|██████▍                                                                                                                                       | 9/200 [00:30<09:59,  3.14s/it]\u001b[A\n",
      "  5%|███████                                                                                                                                      | 10/200 [00:33<09:36,  3.03s/it]\u001b[A\n",
      "  6%|███████▊                                                                                                                                     | 11/200 [00:35<10:17,  3.27s/it]\u001b[A\n"
     ]
    },
    {
     "name": "stdout",
     "output_type": "stream",
     "text": [
      "Bootstrapped 8 full traces after 12 examples in round 0.\n"
     ]
    },
    {
     "name": "stderr",
     "output_type": "stream",
     "text": [
      "\n",
      "  0%|                                                                                                                                                       | 0/50 [00:00<?, ?it/s]\u001b[A\n",
      "Average Metric: 0 / 1  (0.0):   0%|                                                                                                                         | 0/50 [00:00<?, ?it/s]\u001b[A\n",
      "Average Metric: 0 / 1  (0.0):   2%|██▎                                                                                                              | 1/50 [00:00<00:41,  1.18it/s]\u001b[A\n",
      "Average Metric: 1 / 2  (50.0):   2%|██▏                                                                                                             | 1/50 [00:00<00:41,  1.18it/s]\u001b[A\n",
      "Average Metric: 2 / 3  (66.7):   4%|████▍                                                                                                           | 2/50 [00:01<00:40,  1.18it/s]\u001b[A\n",
      "Average Metric: 2 / 3  (66.7):   6%|██████▋                                                                                                         | 3/50 [00:01<00:15,  3.06it/s]\u001b[A\n",
      "Average Metric: 3 / 4  (75.0):   6%|██████▋                                                                                                         | 3/50 [00:01<00:15,  3.06it/s]\u001b[A\n",
      "Average Metric: 4 / 5  (80.0):   8%|████████▉                                                                                                       | 4/50 [00:01<00:15,  3.06it/s]\u001b[A\n",
      "Average Metric: 5 / 6  (83.3):  10%|███████████▏                                                                                                    | 5/50 [00:01<00:14,  3.06it/s]\u001b[A\n",
      "Average Metric: 5 / 6  (83.3):  12%|█████████████▍                                                                                                  | 6/50 [00:01<00:06,  6.61it/s]\u001b[A\n",
      "Average Metric: 6 / 7  (85.7):  12%|█████████████▍                                                                                                  | 6/50 [00:01<00:06,  6.61it/s]\u001b[A\n",
      "Average Metric: 6 / 8  (75.0):  14%|███████████████▋                                                                                                | 7/50 [00:01<00:06,  6.61it/s]\u001b[A\n",
      "Average Metric: 6 / 8  (75.0):  16%|█████████████████▉                                                                                              | 8/50 [00:01<00:05,  7.98it/s]\u001b[A\n",
      "Average Metric: 6 / 9  (66.7):  16%|█████████████████▉                                                                                              | 8/50 [00:01<00:05,  7.98it/s]\u001b[A\n",
      "Average Metric: 7 / 10  (70.0):  18%|███████████████████▉                                                                                           | 9/50 [00:01<00:05,  7.98it/s]\u001b[A\n",
      "Average Metric: 7 / 10  (70.0):  20%|██████████████████████                                                                                        | 10/50 [00:01<00:07,  5.51it/s]\u001b[A\n",
      "Average Metric: 7 / 11  (63.6):  20%|██████████████████████                                                                                        | 10/50 [00:02<00:07,  5.51it/s]\u001b[A\n",
      "Average Metric: 7 / 12  (58.3):  22%|████████████████████████▏                                                                                     | 11/50 [00:02<00:07,  5.51it/s]\u001b[A\n",
      "Average Metric: 8 / 13  (61.5):  24%|██████████████████████████▍                                                                                   | 12/50 [00:02<00:06,  5.51it/s]\u001b[A\n",
      "Average Metric: 8 / 13  (61.5):  26%|████████████████████████████▌                                                                                 | 13/50 [00:02<00:05,  6.74it/s]\u001b[A\n",
      "Average Metric: 8 / 14  (57.1):  26%|████████████████████████████▌                                                                                 | 13/50 [00:02<00:05,  6.74it/s]\u001b[A\n",
      "Average Metric: 9 / 15  (60.0):  28%|██████████████████████████████▊                                                                               | 14/50 [00:02<00:05,  6.74it/s]\u001b[A\n",
      "Average Metric: 9 / 15  (60.0):  30%|█████████████████████████████████                                                                             | 15/50 [00:02<00:04,  8.20it/s]\u001b[A\n",
      "Average Metric: 9 / 16  (56.2):  30%|█████████████████████████████████                                                                             | 15/50 [00:02<00:04,  8.20it/s]\u001b[A\n",
      "Average Metric: 10 / 17  (58.8):  32%|██████████████████████████████████▉                                                                          | 16/50 [00:02<00:04,  8.20it/s]\u001b[A\n",
      "Average Metric: 10 / 17  (58.8):  34%|█████████████████████████████████████                                                                        | 17/50 [00:02<00:04,  7.20it/s]\u001b[A\n",
      "Average Metric: 10 / 18  (55.6):  34%|█████████████████████████████████████                                                                        | 17/50 [00:02<00:04,  7.20it/s]\u001b[A\n",
      "Average Metric: 11 / 19  (57.9):  36%|███████████████████████████████████████▏                                                                     | 18/50 [00:03<00:04,  7.20it/s]\u001b[A\n",
      "Average Metric: 11 / 19  (57.9):  38%|█████████████████████████████████████████▍                                                                   | 19/50 [00:03<00:04,  7.33it/s]\u001b[A\n",
      "Average Metric: 12 / 20  (60.0):  38%|█████████████████████████████████████████▍                                                                   | 19/50 [00:03<00:04,  7.33it/s]\u001b[A\n",
      "Average Metric: 12 / 20  (60.0):  40%|███████████████████████████████████████████▌                                                                 | 20/50 [00:03<00:04,  6.36it/s]\u001b[A\n",
      "Average Metric: 13 / 21  (61.9):  40%|███████████████████████████████████████████▌                                                                 | 20/50 [00:03<00:04,  6.36it/s]\u001b[A\n",
      "Average Metric: 14 / 22  (63.6):  42%|█████████████████████████████████████████████▊                                                               | 21/50 [00:03<00:04,  6.36it/s]\u001b[A\n",
      "Average Metric: 14 / 22  (63.6):  44%|███████████████████████████████████████████████▉                                                             | 22/50 [00:03<00:03,  7.26it/s]\u001b[A\n",
      "Average Metric: 14 / 23  (60.9):  44%|███████████████████████████████████████████████▉                                                             | 22/50 [00:03<00:03,  7.26it/s]\u001b[A\n",
      "Average Metric: 14 / 24  (58.3):  46%|██████████████████████████████████████████████████▏                                                          | 23/50 [00:03<00:03,  7.26it/s]\u001b[A\n",
      "Average Metric: 14 / 24  (58.3):  48%|████████████████████████████████████████████████████▎                                                        | 24/50 [00:03<00:04,  6.13it/s]\u001b[A\n",
      "Average Metric: 14 / 25  (56.0):  48%|████████████████████████████████████████████████████▎                                                        | 24/50 [00:04<00:04,  6.13it/s]\u001b[A\n",
      "Average Metric: 14 / 25  (56.0):  50%|██████████████████████████████████████████████████████▌                                                      | 25/50 [00:04<00:04,  6.16it/s]\u001b[A\n",
      "Average Metric: 14 / 26  (53.8):  50%|██████████████████████████████████████████████████████▌                                                      | 25/50 [00:04<00:04,  6.16it/s]\u001b[A\n",
      "Average Metric: 14 / 26  (53.8):  52%|████████████████████████████████████████████████████████▋                                                    | 26/50 [00:04<00:03,  6.59it/s]\u001b[A\n",
      "Average Metric: 15 / 27  (55.6):  52%|████████████████████████████████████████████████████████▋                                                    | 26/50 [00:04<00:03,  6.59it/s]\u001b[A\n",
      "Average Metric: 16 / 28  (57.1):  54%|██████████████████████████████████████████████████████████▊                                                  | 27/50 [00:04<00:03,  6.59it/s]\u001b[A\n",
      "Average Metric: 16 / 28  (57.1):  56%|█████████████████████████████████████████████████████████████                                                | 28/50 [00:04<00:03,  5.98it/s]\u001b[A\n",
      "Average Metric: 16 / 29  (55.2):  56%|█████████████████████████████████████████████████████████████                                                | 28/50 [00:04<00:03,  5.98it/s]\u001b[A\n",
      "Average Metric: 17 / 30  (56.7):  58%|███████████████████████████████████████████████████████████████▏                                             | 29/50 [00:04<00:03,  5.98it/s]\u001b[A\n",
      "Average Metric: 17 / 31  (54.8):  60%|█████████████████████████████████████████████████████████████████▍                                           | 30/50 [00:04<00:03,  5.98it/s]\u001b[A\n",
      "Average Metric: 17 / 32  (53.1):  62%|███████████████████████████████████████████████████████████████████▌                                         | 31/50 [00:04<00:03,  5.98it/s]\u001b[A\n",
      "Average Metric: 17 / 32  (53.1):  64%|█████████████████████████████████████████████████████████████████████▊                                       | 32/50 [00:04<00:02,  8.52it/s]\u001b[A\n",
      "Average Metric: 18 / 33  (54.5):  64%|█████████████████████████████████████████████████████████████████████▊                                       | 32/50 [00:05<00:02,  8.52it/s]\u001b[A\n",
      "Average Metric: 18 / 33  (54.5):  66%|███████████████████████████████████████████████████████████████████████▉                                     | 33/50 [00:05<00:02,  8.07it/s]\u001b[A\n",
      "Average Metric: 19 / 34  (55.9):  66%|███████████████████████████████████████████████████████████████████████▉                                     | 33/50 [00:05<00:02,  8.07it/s]\u001b[A\n",
      "Average Metric: 19 / 34  (55.9):  68%|██████████████████████████████████████████████████████████████████████████                                   | 34/50 [00:05<00:02,  6.49it/s]\u001b[A\n",
      "Average Metric: 20 / 35  (57.1):  68%|██████████████████████████████████████████████████████████████████████████                                   | 34/50 [00:05<00:02,  6.49it/s]\u001b[A\n",
      "Average Metric: 21 / 36  (58.3):  70%|████████████████████████████████████████████████████████████████████████████▎                                | 35/50 [00:05<00:02,  6.49it/s]\u001b[A\n",
      "Average Metric: 21 / 36  (58.3):  72%|██████████████████████████████████████████████████████████████████████████████▍                              | 36/50 [00:05<00:02,  7.00it/s]\u001b[A\n",
      "Average Metric: 22 / 37  (59.5):  72%|██████████████████████████████████████████████████████████████████████████████▍                              | 36/50 [00:05<00:02,  7.00it/s]\u001b[A\n",
      "Average Metric: 22 / 38  (57.9):  74%|████████████████████████████████████████████████████████████████████████████████▋                            | 37/50 [00:05<00:01,  7.00it/s]\u001b[A\n",
      "Average Metric: 22 / 38  (57.9):  76%|██████████████████████████████████████████████████████████████████████████████████▊                          | 38/50 [00:05<00:01,  7.64it/s]\u001b[A\n",
      "Average Metric: 22 / 39  (56.4):  76%|██████████████████████████████████████████████████████████████████████████████████▊                          | 38/50 [00:05<00:01,  7.64it/s]\u001b[A\n",
      "Average Metric: 23 / 40  (57.5):  78%|█████████████████████████████████████████████████████████████████████████████████████                        | 39/50 [00:05<00:01,  7.64it/s]\u001b[A\n",
      "Average Metric: 23 / 40  (57.5):  80%|███████████████████████████████████████████████████████████████████████████████████████▏                     | 40/50 [00:06<00:01,  7.98it/s]\u001b[A\n",
      "Average Metric: 23 / 41  (56.1):  80%|███████████████████████████████████████████████████████████████████████████████████████▏                     | 40/50 [00:06<00:01,  7.98it/s]\u001b[A\n",
      "Average Metric: 24 / 42  (57.1):  82%|█████████████████████████████████████████████████████████████████████████████████████████▍                   | 41/50 [00:06<00:01,  7.98it/s]\u001b[A\n",
      "Average Metric: 24 / 42  (57.1):  84%|███████████████████████████████████████████████████████████████████████████████████████████▌                 | 42/50 [00:06<00:00,  8.38it/s]\u001b[A\n",
      "Average Metric: 24 / 43  (55.8):  84%|███████████████████████████████████████████████████████████████████████████████████████████▌                 | 42/50 [00:06<00:00,  8.38it/s]\u001b[A\n",
      "Average Metric: 24 / 43  (55.8):  86%|█████████████████████████████████████████████████████████████████████████████████████████████▋               | 43/50 [00:06<00:01,  5.91it/s]\u001b[A\n",
      "Average Metric: 25 / 44  (56.8):  86%|█████████████████████████████████████████████████████████████████████████████████████████████▋               | 43/50 [00:06<00:01,  5.91it/s]\u001b[A\n",
      "Average Metric: 26 / 45  (57.8):  88%|███████████████████████████████████████████████████████████████████████████████████████████████▉             | 44/50 [00:06<00:01,  5.91it/s]\u001b[A\n",
      "Average Metric: 27 / 46  (58.7):  90%|██████████████████████████████████████████████████████████████████████████████████████████████████           | 45/50 [00:06<00:00,  5.91it/s]\u001b[A\n",
      "Average Metric: 27 / 46  (58.7):  92%|████████████████████████████████████████████████████████████████████████████████████████████████████▎        | 46/50 [00:06<00:00,  8.50it/s]\u001b[A\n",
      "Average Metric: 27 / 47  (57.4):  92%|████████████████████████████████████████████████████████████████████████████████████████████████████▎        | 46/50 [00:06<00:00,  8.50it/s]\u001b[A\n",
      "Average Metric: 28 / 48  (58.3):  94%|██████████████████████████████████████████████████████████████████████████████████████████████████████▍      | 47/50 [00:06<00:00,  8.50it/s]\u001b[A\n",
      "Average Metric: 28 / 48  (58.3):  96%|████████████████████████████████████████████████████████████████████████████████████████████████████████▋    | 48/50 [00:06<00:00,  8.60it/s]\u001b[A\n",
      "Average Metric: 29 / 49  (59.2):  96%|████████████████████████████████████████████████████████████████████████████████████████████████████████▋    | 48/50 [00:07<00:00,  8.60it/s]\u001b[A\n",
      "Average Metric: 30 / 50  (60.0):  98%|██████████████████████████████████████████████████████████████████████████████████████████████████████████▊  | 49/50 [00:07<00:00,  8.60it/s]\u001b[A\n",
      "Average Metric: 30 / 50  (60.0): 100%|█████████████████████████████████████████████████████████████████████████████████████████████████████████████| 50/50 [00:07<00:00,  7.00it/s]\u001b[A\n"
     ]
    },
    {
     "name": "stdout",
     "output_type": "stream",
     "text": [
      "Average Metric: 30 / 50  (60.0%)\n",
      "Score: 60.0 for set: [8]\n",
      "New best score: 60.0 for seed -1\n",
      "Scores so far: [48.0, 58.0, 60.0]\n",
      "Best score: 60.0\n",
      "Average of max per entry across top 1 scores: 0.6\n",
      "Average of max per entry across top 2 scores: 0.82\n",
      "Average of max per entry across top 3 scores: 0.92\n",
      "Average of max per entry across top 5 scores: 0.92\n",
      "Average of max per entry across top 8 scores: 0.92\n",
      "Average of max per entry across top 9999 scores: 0.92\n"
     ]
    },
    {
     "name": "stderr",
     "output_type": "stream",
     "text": [
      "\n",
      "  0%|                                                                                                                                                      | 0/200 [00:00<?, ?it/s]\u001b[A\n",
      "  0%|▋                                                                                                                                             | 1/200 [00:04<13:41,  4.13s/it]\u001b[A\n",
      "  1%|█▍                                                                                                                                            | 2/200 [00:08<14:18,  4.33s/it]\u001b[A\n",
      "  2%|██▏                                                                                                                                           | 3/200 [00:11<11:55,  3.63s/it]\u001b[A\n",
      "  2%|██▊                                                                                                                                           | 4/200 [00:14<11:11,  3.42s/it]\u001b[A\n",
      "  2%|███▌                                                                                                                                          | 5/200 [00:17<10:17,  3.17s/it]\u001b[A\n",
      "  3%|████▎                                                                                                                                         | 6/200 [00:21<11:26,  3.54s/it]\u001b[A\n",
      "  4%|████▉                                                                                                                                         | 7/200 [00:24<10:28,  3.26s/it]\u001b[A\n",
      "  4%|█████▋                                                                                                                                        | 8/200 [00:27<10:06,  3.16s/it]\u001b[A\n",
      "  4%|██████▍                                                                                                                                       | 9/200 [00:29<10:27,  3.29s/it]\u001b[A\n"
     ]
    },
    {
     "name": "stdout",
     "output_type": "stream",
     "text": [
      "Bootstrapped 7 full traces after 10 examples in round 0.\n"
     ]
    },
    {
     "name": "stderr",
     "output_type": "stream",
     "text": [
      "\n",
      "  0%|                                                                                                                                                       | 0/50 [00:00<?, ?it/s]\u001b[A\n",
      "Average Metric: 0 / 1  (0.0):   0%|                                                                                                                         | 0/50 [00:00<?, ?it/s]\u001b[A\n",
      "Average Metric: 0 / 1  (0.0):   2%|██▎                                                                                                              | 1/50 [00:00<00:46,  1.06it/s]\u001b[A\n",
      "Average Metric: 1 / 2  (50.0):   2%|██▏                                                                                                             | 1/50 [00:01<00:46,  1.06it/s]\u001b[A\n",
      "Average Metric: 1 / 2  (50.0):   4%|████▍                                                                                                           | 2/50 [00:01<00:23,  2.06it/s]\u001b[A\n",
      "Average Metric: 2 / 3  (66.7):   4%|████▍                                                                                                           | 2/50 [00:01<00:23,  2.06it/s]\u001b[A\n",
      "Average Metric: 3 / 4  (75.0):   6%|██████▋                                                                                                         | 3/50 [00:01<00:22,  2.06it/s]\u001b[A\n",
      "Average Metric: 4 / 5  (80.0):   8%|████████▉                                                                                                       | 4/50 [00:01<00:22,  2.06it/s]\u001b[A\n",
      "Average Metric: 4 / 6  (66.7):  10%|███████████▏                                                                                                    | 5/50 [00:01<00:21,  2.06it/s]\u001b[A\n",
      "Average Metric: 4 / 6  (66.7):  12%|█████████████▍                                                                                                  | 6/50 [00:01<00:06,  6.83it/s]\u001b[A\n",
      "Average Metric: 4 / 7  (57.1):  12%|█████████████▍                                                                                                  | 6/50 [00:01<00:06,  6.83it/s]\u001b[A\n",
      "Average Metric: 5 / 8  (62.5):  14%|███████████████▋                                                                                                | 7/50 [00:01<00:06,  6.83it/s]\u001b[A\n",
      "Average Metric: 6 / 9  (66.7):  16%|█████████████████▉                                                                                              | 8/50 [00:01<00:06,  6.83it/s]\u001b[A\n",
      "Average Metric: 6 / 9  (66.7):  18%|████████████████████▏                                                                                           | 9/50 [00:01<00:07,  5.82it/s]\u001b[A\n",
      "Average Metric: 7 / 10  (70.0):  18%|███████████████████▉                                                                                           | 9/50 [00:02<00:07,  5.82it/s]\u001b[A\n",
      "Average Metric: 7 / 10  (70.0):  20%|██████████████████████                                                                                        | 10/50 [00:02<00:06,  6.04it/s]\u001b[A\n",
      "Average Metric: 8 / 11  (72.7):  20%|██████████████████████                                                                                        | 10/50 [00:02<00:06,  6.04it/s]\u001b[A\n",
      "Average Metric: 8 / 11  (72.7):  22%|████████████████████████▏                                                                                     | 11/50 [00:02<00:06,  6.07it/s]\u001b[A\n",
      "Average Metric: 9 / 12  (75.0):  22%|████████████████████████▏                                                                                     | 11/50 [00:02<00:06,  6.07it/s]\u001b[A\n",
      "Average Metric: 9 / 12  (75.0):  24%|██████████████████████████▍                                                                                   | 12/50 [00:02<00:05,  6.50it/s]\u001b[A\n",
      "Average Metric: 9 / 13  (69.2):  24%|██████████████████████████▍                                                                                   | 12/50 [00:02<00:05,  6.50it/s]\u001b[A\n",
      "Average Metric: 10 / 14  (71.4):  26%|████████████████████████████▎                                                                                | 13/50 [00:02<00:05,  6.50it/s]\u001b[A\n",
      "Average Metric: 10 / 14  (71.4):  28%|██████████████████████████████▌                                                                              | 14/50 [00:02<00:04,  8.16it/s]\u001b[A\n",
      "Average Metric: 11 / 15  (73.3):  28%|██████████████████████████████▌                                                                              | 14/50 [00:02<00:04,  8.16it/s]\u001b[A\n",
      "Average Metric: 12 / 16  (75.0):  30%|████████████████████████████████▋                                                                            | 15/50 [00:02<00:04,  8.16it/s]\u001b[A\n",
      "Average Metric: 12 / 16  (75.0):  32%|██████████████████████████████████▉                                                                          | 16/50 [00:02<00:05,  6.77it/s]\u001b[A\n",
      "Average Metric: 12 / 17  (70.6):  32%|██████████████████████████████████▉                                                                          | 16/50 [00:02<00:05,  6.77it/s]\u001b[A\n",
      "Average Metric: 13 / 18  (72.2):  34%|█████████████████████████████████████                                                                        | 17/50 [00:03<00:04,  6.77it/s]\u001b[A\n",
      "Average Metric: 13 / 18  (72.2):  36%|███████████████████████████████████████▏                                                                     | 18/50 [00:03<00:05,  6.02it/s]\u001b[A\n",
      "Average Metric: 14 / 19  (73.7):  36%|███████████████████████████████████████▏                                                                     | 18/50 [00:03<00:05,  6.02it/s]\u001b[A\n",
      "Average Metric: 15 / 20  (75.0):  38%|█████████████████████████████████████████▍                                                                   | 19/50 [00:03<00:05,  6.02it/s]\u001b[A\n",
      "Average Metric: 16 / 21  (76.2):  40%|███████████████████████████████████████████▌                                                                 | 20/50 [00:03<00:04,  6.02it/s]\u001b[A\n",
      "Average Metric: 16 / 21  (76.2):  42%|█████████████████████████████████████████████▊                                                               | 21/50 [00:03<00:03,  8.73it/s]\u001b[A\n",
      "Average Metric: 17 / 22  (77.3):  42%|█████████████████████████████████████████████▊                                                               | 21/50 [00:03<00:03,  8.73it/s]\u001b[A\n",
      "Average Metric: 18 / 23  (78.3):  44%|███████████████████████████████████████████████▉                                                             | 22/50 [00:03<00:03,  8.73it/s]\u001b[A\n",
      "Average Metric: 18 / 23  (78.3):  46%|██████████████████████████████████████████████████▏                                                          | 23/50 [00:03<00:02,  9.35it/s]\u001b[A\n",
      "Average Metric: 18 / 24  (75.0):  46%|██████████████████████████████████████████████████▏                                                          | 23/50 [00:03<00:02,  9.35it/s]\u001b[A\n",
      "Average Metric: 19 / 25  (76.0):  48%|████████████████████████████████████████████████████▎                                                        | 24/50 [00:04<00:02,  9.35it/s]\u001b[A\n",
      "Average Metric: 19 / 25  (76.0):  50%|██████████████████████████████████████████████████████▌                                                      | 25/50 [00:04<00:03,  6.30it/s]\u001b[A\n",
      "Average Metric: 19 / 26  (73.1):  50%|██████████████████████████████████████████████████████▌                                                      | 25/50 [00:04<00:03,  6.30it/s]\u001b[A\n",
      "Average Metric: 20 / 27  (74.1):  52%|████████████████████████████████████████████████████████▋                                                    | 26/50 [00:04<00:03,  6.30it/s]\u001b[A\n",
      "Average Metric: 20 / 27  (74.1):  54%|██████████████████████████████████████████████████████████▊                                                  | 27/50 [00:04<00:03,  7.24it/s]\u001b[A\n",
      "Average Metric: 20 / 28  (71.4):  54%|██████████████████████████████████████████████████████████▊                                                  | 27/50 [00:04<00:03,  7.24it/s]\u001b[A\n",
      "Average Metric: 20 / 28  (71.4):  56%|█████████████████████████████████████████████████████████████                                                | 28/50 [00:04<00:03,  6.96it/s]\u001b[A\n",
      "Average Metric: 20 / 29  (69.0):  56%|█████████████████████████████████████████████████████████████                                                | 28/50 [00:04<00:03,  6.96it/s]\u001b[A\n",
      "Average Metric: 20 / 29  (69.0):  58%|███████████████████████████████████████████████████████████████▏                                             | 29/50 [00:04<00:02,  7.30it/s]\u001b[A\n",
      "Average Metric: 21 / 30  (70.0):  58%|███████████████████████████████████████████████████████████████▏                                             | 29/50 [00:04<00:02,  7.30it/s]\u001b[A\n",
      "Average Metric: 22 / 31  (71.0):  60%|█████████████████████████████████████████████████████████████████▍                                           | 30/50 [00:04<00:02,  7.30it/s]\u001b[A\n",
      "Average Metric: 22 / 31  (71.0):  62%|███████████████████████████████████████████████████████████████████▌                                         | 31/50 [00:04<00:02,  9.21it/s]\u001b[A\n",
      "Average Metric: 23 / 32  (71.9):  62%|███████████████████████████████████████████████████████████████████▌                                         | 31/50 [00:04<00:02,  9.21it/s]\u001b[A\n",
      "Average Metric: 24 / 33  (72.7):  64%|█████████████████████████████████████████████████████████████████████▊                                       | 32/50 [00:04<00:01,  9.21it/s]\u001b[A\n",
      "Average Metric: 24 / 33  (72.7):  66%|███████████████████████████████████████████████████████████████████████▉                                     | 33/50 [00:04<00:02,  8.27it/s]\u001b[A\n",
      "Average Metric: 25 / 34  (73.5):  66%|███████████████████████████████████████████████████████████████████████▉                                     | 33/50 [00:05<00:02,  8.27it/s]\u001b[A\n",
      "Average Metric: 25 / 34  (73.5):  68%|██████████████████████████████████████████████████████████████████████████                                   | 34/50 [00:05<00:02,  7.64it/s]\u001b[A\n",
      "Average Metric: 26 / 35  (74.3):  68%|██████████████████████████████████████████████████████████████████████████                                   | 34/50 [00:05<00:02,  7.64it/s]\u001b[A\n",
      "Average Metric: 27 / 36  (75.0):  70%|████████████████████████████████████████████████████████████████████████████▎                                | 35/50 [00:05<00:01,  7.64it/s]\u001b[A\n",
      "Average Metric: 27 / 36  (75.0):  72%|██████████████████████████████████████████████████████████████████████████████▍                              | 36/50 [00:05<00:02,  6.11it/s]\u001b[A\n",
      "Average Metric: 27 / 37  (73.0):  72%|██████████████████████████████████████████████████████████████████████████████▍                              | 36/50 [00:05<00:02,  6.11it/s]\u001b[A\n",
      "Average Metric: 28 / 38  (73.7):  74%|████████████████████████████████████████████████████████████████████████████████▋                            | 37/50 [00:05<00:02,  6.11it/s]\u001b[A\n",
      "Average Metric: 28 / 38  (73.7):  76%|██████████████████████████████████████████████████████████████████████████████████▊                          | 38/50 [00:05<00:01,  7.77it/s]\u001b[A\n",
      "Average Metric: 29 / 39  (74.4):  76%|██████████████████████████████████████████████████████████████████████████████████▊                          | 38/50 [00:05<00:01,  7.77it/s]\u001b[A\n",
      "Average Metric: 30 / 40  (75.0):  78%|█████████████████████████████████████████████████████████████████████████████████████                        | 39/50 [00:05<00:01,  7.77it/s]\u001b[A\n",
      "Average Metric: 30 / 40  (75.0):  80%|███████████████████████████████████████████████████████████████████████████████████████▏                     | 40/50 [00:05<00:01,  8.80it/s]\u001b[A\n",
      "Average Metric: 30 / 41  (73.2):  80%|███████████████████████████████████████████████████████████████████████████████████████▏                     | 40/50 [00:06<00:01,  8.80it/s]\u001b[A\n",
      "Average Metric: 31 / 42  (73.8):  82%|█████████████████████████████████████████████████████████████████████████████████████████▍                   | 41/50 [00:06<00:01,  8.80it/s]\u001b[A\n",
      "Average Metric: 31 / 42  (73.8):  84%|███████████████████████████████████████████████████████████████████████████████████████████▌                 | 42/50 [00:06<00:00,  9.62it/s]\u001b[A\n",
      "Average Metric: 31 / 43  (72.1):  84%|███████████████████████████████████████████████████████████████████████████████████████████▌                 | 42/50 [00:06<00:00,  9.62it/s]\u001b[A\n",
      "Average Metric: 31 / 44  (70.5):  86%|█████████████████████████████████████████████████████████████████████████████████████████████▋               | 43/50 [00:06<00:00,  9.62it/s]\u001b[A\n",
      "Average Metric: 31 / 44  (70.5):  88%|███████████████████████████████████████████████████████████████████████████████████████████████▉             | 44/50 [00:06<00:01,  5.19it/s]\u001b[A\n",
      "Average Metric: 32 / 45  (71.1):  88%|███████████████████████████████████████████████████████████████████████████████████████████████▉             | 44/50 [00:06<00:01,  5.19it/s]\u001b[A\n",
      "Average Metric: 33 / 46  (71.7):  90%|██████████████████████████████████████████████████████████████████████████████████████████████████           | 45/50 [00:06<00:00,  5.19it/s]\u001b[A\n",
      "Average Metric: 34 / 47  (72.3):  92%|████████████████████████████████████████████████████████████████████████████████████████████████████▎        | 46/50 [00:06<00:00,  5.19it/s]\u001b[A\n",
      "Average Metric: 34 / 48  (70.8):  94%|██████████████████████████████████████████████████████████████████████████████████████████████████████▍      | 47/50 [00:06<00:00,  5.19it/s]\u001b[A\n",
      "Average Metric: 35 / 49  (71.4):  96%|████████████████████████████████████████████████████████████████████████████████████████████████████████▋    | 48/50 [00:07<00:00,  5.19it/s]\u001b[A\n",
      "Average Metric: 35 / 49  (71.4):  98%|██████████████████████████████████████████████████████████████████████████████████████████████████████████▊  | 49/50 [00:07<00:00,  9.12it/s]\u001b[A\n",
      "Average Metric: 36 / 50  (72.0): 100%|█████████████████████████████████████████████████████████████████████████████████████████████████████████████| 50/50 [00:07<00:00,  6.98it/s]\u001b[A\n"
     ]
    },
    {
     "name": "stdout",
     "output_type": "stream",
     "text": [
      "Average Metric: 36 / 50  (72.0%)\n",
      "Score: 72.0 for set: [8]\n",
      "New best score: 72.0 for seed 0\n",
      "Scores so far: [48.0, 58.0, 60.0, 72.0]\n",
      "Best score: 72.0\n",
      "Average of max per entry across top 1 scores: 0.72\n",
      "Average of max per entry across top 2 scores: 0.88\n",
      "Average of max per entry across top 3 scores: 0.96\n",
      "Average of max per entry across top 5 scores: 0.98\n",
      "Average of max per entry across top 8 scores: 0.98\n",
      "Average of max per entry across top 9999 scores: 0.98\n"
     ]
    },
    {
     "name": "stderr",
     "output_type": "stream",
     "text": [
      "\n",
      "  0%|                                                                                                                                                      | 0/200 [00:00<?, ?it/s]\u001b[A\n",
      "  0%|▋                                                                                                                                             | 1/200 [00:02<08:40,  2.61s/it]\u001b[A\n",
      "  1%|█▍                                                                                                                                            | 2/200 [00:05<10:04,  3.05s/it]\u001b[A\n",
      "  2%|██▏                                                                                                                                           | 3/200 [00:09<10:22,  3.16s/it]\u001b[A\n"
     ]
    },
    {
     "name": "stdout",
     "output_type": "stream",
     "text": [
      "Bootstrapped 3 full traces after 4 examples in round 0.\n"
     ]
    },
    {
     "name": "stderr",
     "output_type": "stream",
     "text": [
      "\n",
      "  0%|                                                                                                                                                       | 0/50 [00:00<?, ?it/s]\u001b[A\n",
      "Average Metric: 1 / 1  (100.0):   0%|                                                                                                                       | 0/50 [00:00<?, ?it/s]\u001b[A\n",
      "Average Metric: 1 / 1  (100.0):   2%|██▏                                                                                                            | 1/50 [00:00<00:42,  1.16it/s]\u001b[A\n",
      "Average Metric: 1 / 2  (50.0):   2%|██▏                                                                                                             | 1/50 [00:00<00:42,  1.16it/s]\u001b[A\n",
      "Average Metric: 2 / 3  (66.7):   4%|████▍                                                                                                           | 2/50 [00:00<00:41,  1.16it/s]\u001b[A\n",
      "Average Metric: 3 / 4  (75.0):   6%|██████▋                                                                                                         | 3/50 [00:00<00:40,  1.16it/s]\u001b[A\n",
      "Average Metric: 3 / 5  (60.0):   8%|████████▉                                                                                                       | 4/50 [00:01<00:39,  1.16it/s]\u001b[A\n",
      "Average Metric: 3 / 5  (60.0):  10%|███████████▏                                                                                                    | 5/50 [00:01<00:07,  5.76it/s]\u001b[A\n",
      "Average Metric: 4 / 6  (66.7):  10%|███████████▏                                                                                                    | 5/50 [00:01<00:07,  5.76it/s]\u001b[A\n",
      "Average Metric: 5 / 7  (71.4):  12%|█████████████▍                                                                                                  | 6/50 [00:01<00:07,  5.76it/s]\u001b[A\n",
      "Average Metric: 5 / 7  (71.4):  14%|███████████████▋                                                                                                | 7/50 [00:01<00:06,  6.81it/s]\u001b[A\n",
      "Average Metric: 5 / 8  (62.5):  14%|███████████████▋                                                                                                | 7/50 [00:01<00:06,  6.81it/s]\u001b[A\n",
      "Average Metric: 5 / 9  (55.6):  16%|█████████████████▉                                                                                              | 8/50 [00:01<00:06,  6.81it/s]\u001b[A\n",
      "Average Metric: 5 / 9  (55.6):  18%|████████████████████▏                                                                                           | 9/50 [00:01<00:06,  5.86it/s]\u001b[A\n",
      "Average Metric: 6 / 10  (60.0):  18%|███████████████████▉                                                                                           | 9/50 [00:01<00:06,  5.86it/s]\u001b[A\n",
      "Average Metric: 6 / 11  (54.5):  20%|██████████████████████                                                                                        | 10/50 [00:01<00:06,  5.86it/s]\u001b[A\n",
      "Average Metric: 6 / 11  (54.5):  22%|████████████████████████▏                                                                                     | 11/50 [00:01<00:05,  7.49it/s]\u001b[A\n",
      "Average Metric: 7 / 12  (58.3):  22%|████████████████████████▏                                                                                     | 11/50 [00:01<00:05,  7.49it/s]\u001b[A\n",
      "Average Metric: 8 / 13  (61.5):  24%|██████████████████████████▍                                                                                   | 12/50 [00:02<00:05,  7.49it/s]\u001b[A\n",
      "Average Metric: 8 / 13  (61.5):  26%|████████████████████████████▌                                                                                 | 13/50 [00:02<00:04,  8.40it/s]\u001b[A\n",
      "Average Metric: 8 / 14  (57.1):  26%|████████████████████████████▌                                                                                 | 13/50 [00:02<00:04,  8.40it/s]\u001b[A\n",
      "Average Metric: 9 / 15  (60.0):  28%|██████████████████████████████▊                                                                               | 14/50 [00:02<00:04,  8.40it/s]\u001b[A\n",
      "Average Metric: 9 / 15  (60.0):  30%|█████████████████████████████████                                                                             | 15/50 [00:02<00:03,  9.12it/s]\u001b[A\n",
      "Average Metric: 9 / 16  (56.2):  30%|█████████████████████████████████                                                                             | 15/50 [00:02<00:03,  9.12it/s]\u001b[A\n",
      "Average Metric: 9 / 17  (52.9):  32%|███████████████████████████████████▏                                                                          | 16/50 [00:02<00:03,  9.12it/s]\u001b[A\n",
      "Average Metric: 9 / 17  (52.9):  34%|█████████████████████████████████████▍                                                                        | 17/50 [00:02<00:03,  8.90it/s]\u001b[A\n",
      "Average Metric: 10 / 18  (55.6):  34%|█████████████████████████████████████                                                                        | 17/50 [00:02<00:03,  8.90it/s]\u001b[A\n",
      "Average Metric: 11 / 19  (57.9):  36%|███████████████████████████████████████▏                                                                     | 18/50 [00:02<00:03,  8.90it/s]\u001b[A\n",
      "Average Metric: 11 / 19  (57.9):  38%|█████████████████████████████████████████▍                                                                   | 19/50 [00:02<00:04,  7.23it/s]\u001b[A\n",
      "Average Metric: 11 / 20  (55.0):  38%|█████████████████████████████████████████▍                                                                   | 19/50 [00:02<00:04,  7.23it/s]\u001b[A\n",
      "Average Metric: 12 / 21  (57.1):  40%|███████████████████████████████████████████▌                                                                 | 20/50 [00:03<00:04,  7.23it/s]\u001b[A\n",
      "Average Metric: 12 / 21  (57.1):  42%|█████████████████████████████████████████████▊                                                               | 21/50 [00:03<00:03,  7.59it/s]\u001b[A\n",
      "Average Metric: 12 / 22  (54.5):  42%|█████████████████████████████████████████████▊                                                               | 21/50 [00:03<00:03,  7.59it/s]\u001b[A\n",
      "Average Metric: 12 / 23  (52.2):  44%|███████████████████████████████████████████████▉                                                             | 22/50 [00:03<00:03,  7.59it/s]\u001b[A\n",
      "Average Metric: 12 / 23  (52.2):  46%|██████████████████████████████████████████████████▏                                                          | 23/50 [00:03<00:03,  8.80it/s]\u001b[A\n",
      "Average Metric: 12 / 24  (50.0):  46%|██████████████████████████████████████████████████▏                                                          | 23/50 [00:03<00:03,  8.80it/s]\u001b[A\n",
      "Average Metric: 13 / 25  (52.0):  48%|████████████████████████████████████████████████████▎                                                        | 24/50 [00:03<00:02,  8.80it/s]\u001b[A\n",
      "Average Metric: 13 / 26  (50.0):  50%|██████████████████████████████████████████████████████▌                                                      | 25/50 [00:03<00:02,  8.80it/s]\u001b[A\n",
      "Average Metric: 13 / 26  (50.0):  52%|████████████████████████████████████████████████████████▋                                                    | 26/50 [00:03<00:02, 11.27it/s]\u001b[A\n",
      "Average Metric: 14 / 27  (51.9):  52%|████████████████████████████████████████████████████████▋                                                    | 26/50 [00:04<00:02, 11.27it/s]\u001b[A\n",
      "Average Metric: 15 / 28  (53.6):  54%|██████████████████████████████████████████████████████████▊                                                  | 27/50 [00:04<00:02, 11.27it/s]\u001b[A\n",
      "Average Metric: 15 / 28  (53.6):  56%|█████████████████████████████████████████████████████████████                                                | 28/50 [00:04<00:03,  6.15it/s]\u001b[A\n",
      "Average Metric: 15 / 29  (51.7):  56%|█████████████████████████████████████████████████████████████                                                | 28/50 [00:04<00:03,  6.15it/s]\u001b[A\n",
      "Average Metric: 15 / 30  (50.0):  58%|███████████████████████████████████████████████████████████████▏                                             | 29/50 [00:04<00:03,  6.15it/s]\u001b[A\n",
      "Average Metric: 15 / 30  (50.0):  60%|█████████████████████████████████████████████████████████████████▍                                           | 30/50 [00:04<00:02,  7.53it/s]\u001b[A\n",
      "Average Metric: 15 / 31  (48.4):  60%|█████████████████████████████████████████████████████████████████▍                                           | 30/50 [00:04<00:02,  7.53it/s]\u001b[A\n",
      "Average Metric: 16 / 32  (50.0):  62%|███████████████████████████████████████████████████████████████████▌                                         | 31/50 [00:04<00:02,  7.53it/s]\u001b[A\n",
      "Average Metric: 16 / 32  (50.0):  64%|█████████████████████████████████████████████████████████████████████▊                                       | 32/50 [00:04<00:02,  7.79it/s]\u001b[A\n",
      "Average Metric: 17 / 33  (51.5):  64%|█████████████████████████████████████████████████████████████████████▊                                       | 32/50 [00:04<00:02,  7.79it/s]\u001b[A\n",
      "Average Metric: 18 / 34  (52.9):  66%|███████████████████████████████████████████████████████████████████████▉                                     | 33/50 [00:04<00:02,  7.79it/s]\u001b[A\n",
      "Average Metric: 18 / 34  (52.9):  68%|██████████████████████████████████████████████████████████████████████████                                   | 34/50 [00:04<00:02,  7.80it/s]\u001b[A\n",
      "Average Metric: 18 / 35  (51.4):  68%|██████████████████████████████████████████████████████████████████████████                                   | 34/50 [00:05<00:02,  7.80it/s]\u001b[A\n",
      "Average Metric: 19 / 36  (52.8):  70%|████████████████████████████████████████████████████████████████████████████▎                                | 35/50 [00:05<00:01,  7.80it/s]\u001b[A\n",
      "Average Metric: 19 / 36  (52.8):  72%|██████████████████████████████████████████████████████████████████████████████▍                              | 36/50 [00:05<00:02,  6.50it/s]\u001b[A\n",
      "Average Metric: 20 / 37  (54.1):  72%|██████████████████████████████████████████████████████████████████████████████▍                              | 36/50 [00:05<00:02,  6.50it/s]\u001b[A\n",
      "Average Metric: 21 / 38  (55.3):  74%|████████████████████████████████████████████████████████████████████████████████▋                            | 37/50 [00:05<00:02,  6.50it/s]\u001b[A\n",
      "Average Metric: 21 / 38  (55.3):  76%|██████████████████████████████████████████████████████████████████████████████████▊                          | 38/50 [00:05<00:01,  7.68it/s]\u001b[A\n",
      "Average Metric: 22 / 39  (56.4):  76%|██████████████████████████████████████████████████████████████████████████████████▊                          | 38/50 [00:05<00:01,  7.68it/s]\u001b[A\n",
      "Average Metric: 22 / 40  (55.0):  78%|█████████████████████████████████████████████████████████████████████████████████████                        | 39/50 [00:05<00:01,  7.68it/s]\u001b[A\n",
      "Average Metric: 23 / 41  (56.1):  80%|███████████████████████████████████████████████████████████████████████████████████████▏                     | 40/50 [00:05<00:01,  7.68it/s]\u001b[A\n",
      "Average Metric: 23 / 41  (56.1):  82%|█████████████████████████████████████████████████████████████████████████████████████████▍                   | 41/50 [00:05<00:01,  7.96it/s]\u001b[A\n",
      "Average Metric: 24 / 42  (57.1):  82%|█████████████████████████████████████████████████████████████████████████████████████████▍                   | 41/50 [00:05<00:01,  7.96it/s]\u001b[A\n",
      "Average Metric: 24 / 42  (57.1):  84%|███████████████████████████████████████████████████████████████████████████████████████████▌                 | 42/50 [00:05<00:01,  7.58it/s]\u001b[A\n",
      "Average Metric: 24 / 43  (55.8):  84%|███████████████████████████████████████████████████████████████████████████████████████████▌                 | 42/50 [00:05<00:01,  7.58it/s]\u001b[A\n",
      "Average Metric: 24 / 43  (55.8):  86%|█████████████████████████████████████████████████████████████████████████████████████████████▋               | 43/50 [00:05<00:01,  6.83it/s]\u001b[A\n",
      "Average Metric: 25 / 44  (56.8):  86%|█████████████████████████████████████████████████████████████████████████████████████████████▋               | 43/50 [00:06<00:01,  6.83it/s]\u001b[A\n",
      "Average Metric: 25 / 45  (55.6):  88%|███████████████████████████████████████████████████████████████████████████████████████████████▉             | 44/50 [00:06<00:00,  6.83it/s]\u001b[A\n",
      "Average Metric: 25 / 45  (55.6):  90%|██████████████████████████████████████████████████████████████████████████████████████████████████           | 45/50 [00:06<00:00,  8.46it/s]\u001b[A\n",
      "Average Metric: 25 / 46  (54.3):  90%|██████████████████████████████████████████████████████████████████████████████████████████████████           | 45/50 [00:06<00:00,  8.46it/s]\u001b[A\n",
      "Average Metric: 25 / 47  (53.2):  92%|████████████████████████████████████████████████████████████████████████████████████████████████████▎        | 46/50 [00:06<00:00,  8.46it/s]\u001b[A\n",
      "Average Metric: 26 / 48  (54.2):  94%|██████████████████████████████████████████████████████████████████████████████████████████████████████▍      | 47/50 [00:06<00:00,  8.46it/s]\u001b[A\n",
      "Average Metric: 26 / 48  (54.2):  96%|████████████████████████████████████████████████████████████████████████████████████████████████████████▋    | 48/50 [00:06<00:00,  7.17it/s]\u001b[A\n",
      "Average Metric: 27 / 49  (55.1):  96%|████████████████████████████████████████████████████████████████████████████████████████████████████████▋    | 48/50 [00:06<00:00,  7.17it/s]\u001b[A\n",
      "Average Metric: 28 / 50  (56.0):  98%|██████████████████████████████████████████████████████████████████████████████████████████████████████████▊  | 49/50 [00:06<00:00,  7.17it/s]\u001b[A\n",
      "Average Metric: 28 / 50  (56.0): 100%|█████████████████████████████████████████████████████████████████████████████████████████████████████████████| 50/50 [00:06<00:00,  7.32it/s]\u001b[A\n"
     ]
    },
    {
     "name": "stdout",
     "output_type": "stream",
     "text": [
      "Average Metric: 28 / 50  (56.0%)\n",
      "Score: 56.0 for set: [8]\n",
      "Scores so far: [48.0, 58.0, 60.0, 72.0, 56.0]\n",
      "Best score: 72.0\n",
      "Average of max per entry across top 1 scores: 0.72\n",
      "Average of max per entry across top 2 scores: 0.88\n",
      "Average of max per entry across top 3 scores: 0.96\n",
      "Average of max per entry across top 5 scores: 0.98\n",
      "Average of max per entry across top 8 scores: 0.98\n",
      "Average of max per entry across top 9999 scores: 0.98\n"
     ]
    },
    {
     "name": "stderr",
     "output_type": "stream",
     "text": [
      "\n",
      "  0%|                                                                                                                                                      | 0/200 [00:00<?, ?it/s]\u001b[A\n",
      "  0%|▋                                                                                                                                             | 1/200 [00:02<07:51,  2.37s/it]\u001b[A\n"
     ]
    },
    {
     "name": "stdout",
     "output_type": "stream",
     "text": [
      "Bootstrapped 1 full traces after 2 examples in round 0.\n"
     ]
    },
    {
     "name": "stderr",
     "output_type": "stream",
     "text": [
      "\n",
      "  0%|                                                                                                                                                       | 0/50 [00:00<?, ?it/s]\u001b[A\n",
      "Average Metric: 1 / 1  (100.0):   0%|                                                                                                                       | 0/50 [00:00<?, ?it/s]\u001b[A\n",
      "Average Metric: 1 / 1  (100.0):   2%|██▏                                                                                                            | 1/50 [00:00<00:37,  1.31it/s]\u001b[A\n",
      "Average Metric: 2 / 2  (100.0):   2%|██▏                                                                                                            | 1/50 [00:00<00:37,  1.31it/s]\u001b[A\n",
      "Average Metric: 3 / 3  (100.0):   4%|████▍                                                                                                          | 2/50 [00:00<00:36,  1.31it/s]\u001b[A\n",
      "Average Metric: 4 / 4  (100.0):   6%|██████▋                                                                                                        | 3/50 [00:00<00:35,  1.31it/s]\u001b[A\n",
      "Average Metric: 5 / 5  (100.0):   8%|████████▉                                                                                                      | 4/50 [00:00<00:35,  1.31it/s]\u001b[A\n",
      "Average Metric: 5 / 5  (100.0):  10%|███████████                                                                                                    | 5/50 [00:00<00:06,  7.13it/s]\u001b[A\n",
      "Average Metric: 6 / 6  (100.0):  10%|███████████                                                                                                    | 5/50 [00:00<00:06,  7.13it/s]\u001b[A\n",
      "Average Metric: 7 / 7  (100.0):  12%|█████████████▎                                                                                                 | 6/50 [00:00<00:06,  7.13it/s]\u001b[A\n",
      "Average Metric: 8 / 8  (100.0):  14%|███████████████▌                                                                                               | 7/50 [00:01<00:06,  7.13it/s]\u001b[A\n",
      "Average Metric: 8 / 8  (100.0):  16%|█████████████████▊                                                                                             | 8/50 [00:01<00:04,  9.38it/s]\u001b[A\n",
      "Average Metric: 9 / 9  (100.0):  16%|█████████████████▊                                                                                             | 8/50 [00:01<00:04,  9.38it/s]\u001b[A\n",
      "Average Metric: 9 / 10  (90.0):  18%|███████████████████▉                                                                                           | 9/50 [00:01<00:04,  9.38it/s]\u001b[A\n",
      "Average Metric: 9 / 10  (90.0):  20%|██████████████████████                                                                                        | 10/50 [00:01<00:05,  7.11it/s]\u001b[A\n",
      "Average Metric: 9 / 11  (81.8):  20%|██████████████████████                                                                                        | 10/50 [00:01<00:05,  7.11it/s]\u001b[A\n",
      "Average Metric: 10 / 12  (83.3):  22%|███████████████████████▉                                                                                     | 11/50 [00:01<00:05,  7.11it/s]\u001b[A\n",
      "Average Metric: 11 / 13  (84.6):  24%|██████████████████████████▏                                                                                  | 12/50 [00:01<00:05,  7.11it/s]\u001b[A\n",
      "Average Metric: 11 / 13  (84.6):  26%|████████████████████████████▎                                                                                | 13/50 [00:01<00:03,  9.38it/s]\u001b[A\n",
      "Average Metric: 11 / 14  (78.6):  26%|████████████████████████████▎                                                                                | 13/50 [00:01<00:03,  9.38it/s]\u001b[A\n",
      "Average Metric: 12 / 15  (80.0):  28%|██████████████████████████████▌                                                                              | 14/50 [00:01<00:03,  9.38it/s]\u001b[A\n",
      "Average Metric: 12 / 15  (80.0):  30%|████████████████████████████████▋                                                                            | 15/50 [00:01<00:03, 10.42it/s]\u001b[A\n",
      "Average Metric: 13 / 16  (81.2):  30%|████████████████████████████████▋                                                                            | 15/50 [00:02<00:03, 10.42it/s]\u001b[A\n",
      "Average Metric: 14 / 17  (82.4):  32%|██████████████████████████████████▉                                                                          | 16/50 [00:02<00:03, 10.42it/s]\u001b[A\n",
      "Average Metric: 14 / 17  (82.4):  34%|█████████████████████████████████████                                                                        | 17/50 [00:02<00:04,  6.98it/s]\u001b[A\n",
      "Average Metric: 14 / 18  (77.8):  34%|█████████████████████████████████████                                                                        | 17/50 [00:02<00:04,  6.98it/s]\u001b[A\n",
      "Average Metric: 15 / 19  (78.9):  36%|███████████████████████████████████████▏                                                                     | 18/50 [00:02<00:04,  6.98it/s]\u001b[A\n",
      "Average Metric: 15 / 20  (75.0):  38%|█████████████████████████████████████████▍                                                                   | 19/50 [00:02<00:04,  6.98it/s]\u001b[A\n",
      "Average Metric: 16 / 21  (76.2):  40%|███████████████████████████████████████████▌                                                                 | 20/50 [00:02<00:04,  6.98it/s]\u001b[A\n",
      "Average Metric: 16 / 21  (76.2):  42%|█████████████████████████████████████████████▊                                                               | 21/50 [00:02<00:02, 10.09it/s]\u001b[A\n",
      "Average Metric: 17 / 22  (77.3):  42%|█████████████████████████████████████████████▊                                                               | 21/50 [00:02<00:02, 10.09it/s]\u001b[A\n",
      "Average Metric: 18 / 23  (78.3):  44%|███████████████████████████████████████████████▉                                                             | 22/50 [00:02<00:02, 10.09it/s]\u001b[A\n",
      "Average Metric: 18 / 23  (78.3):  46%|██████████████████████████████████████████████████▏                                                          | 23/50 [00:02<00:03,  8.25it/s]\u001b[A\n",
      "Average Metric: 19 / 24  (79.2):  46%|██████████████████████████████████████████████████▏                                                          | 23/50 [00:03<00:03,  8.25it/s]\u001b[A\n",
      "Average Metric: 20 / 25  (80.0):  48%|████████████████████████████████████████████████████▎                                                        | 24/50 [00:03<00:03,  8.25it/s]\u001b[A\n",
      "Average Metric: 20 / 25  (80.0):  50%|██████████████████████████████████████████████████████▌                                                      | 25/50 [00:03<00:03,  6.59it/s]\u001b[A\n",
      "Average Metric: 21 / 26  (80.8):  50%|██████████████████████████████████████████████████████▌                                                      | 25/50 [00:03<00:03,  6.59it/s]\u001b[A\n",
      "Average Metric: 21 / 27  (77.8):  52%|████████████████████████████████████████████████████████▋                                                    | 26/50 [00:03<00:03,  6.59it/s]\u001b[A\n",
      "Average Metric: 21 / 28  (75.0):  54%|██████████████████████████████████████████████████████████▊                                                  | 27/50 [00:03<00:03,  6.59it/s]\u001b[A\n",
      "Average Metric: 21 / 29  (72.4):  56%|█████████████████████████████████████████████████████████████                                                | 28/50 [00:03<00:03,  6.59it/s]\u001b[A"
     ]
    },
    {
     "name": "stdout",
     "output_type": "stream",
     "text": [
      "Backing off 0.8 seconds after 1 tries calling function <function GPT3.request at 0x117742200> with kwargs {}\n"
     ]
    },
    {
     "name": "stderr",
     "output_type": "stream",
     "text": [
      "\n",
      "Average Metric: 22 / 30  (73.3):  58%|███████████████████████████████████████████████████████████████▏                                             | 29/50 [00:04<00:03,  6.59it/s]\u001b[A\n",
      "Average Metric: 22 / 30  (73.3):  60%|█████████████████████████████████████████████████████████████████▍                                           | 30/50 [00:04<00:03,  6.18it/s]\u001b[A\n",
      "Average Metric: 22 / 31  (71.0):  60%|█████████████████████████████████████████████████████████████████▍                                           | 30/50 [00:04<00:03,  6.18it/s]\u001b[A\n",
      "Average Metric: 23 / 32  (71.9):  62%|███████████████████████████████████████████████████████████████████▌                                         | 31/50 [00:04<00:03,  6.18it/s]\u001b[A\n",
      "Average Metric: 23 / 32  (71.9):  64%|█████████████████████████████████████████████████████████████████████▊                                       | 32/50 [00:04<00:02,  7.23it/s]\u001b[A\n",
      "Average Metric: 23 / 33  (69.7):  64%|█████████████████████████████████████████████████████████████████████▊                                       | 32/50 [00:04<00:02,  7.23it/s]\u001b[A\n",
      "Average Metric: 23 / 34  (67.6):  66%|███████████████████████████████████████████████████████████████████████▉                                     | 33/50 [00:04<00:02,  7.23it/s]\u001b[A\n",
      "Average Metric: 23 / 34  (67.6):  68%|██████████████████████████████████████████████████████████████████████████                                   | 34/50 [00:05<00:02,  5.54it/s]\u001b[A\n",
      "Average Metric: 24 / 35  (68.6):  68%|██████████████████████████████████████████████████████████████████████████                                   | 34/50 [00:05<00:02,  5.54it/s]\u001b[A"
     ]
    },
    {
     "name": "stdout",
     "output_type": "stream",
     "text": [
      "Backing off 0.8 seconds after 1 tries calling function <function GPT3.request at 0x117742200> with kwargs {}\n",
      "Backing off 0.3 seconds after 1 tries calling function <function GPT3.request at 0x117742200> with kwargs {}\n",
      "Backing off 0.5 seconds after 1 tries calling function <function GPT3.request at 0x117742200> with kwargs {}\n",
      "Backing off 0.4 seconds after 1 tries calling function <function GPT3.request at 0x117742200> with kwargs {}\n"
     ]
    },
    {
     "name": "stderr",
     "output_type": "stream",
     "text": [
      "\n",
      "Average Metric: 24 / 36  (66.7):  70%|████████████████████████████████████████████████████████████████████████████▎                                | 35/50 [00:05<00:02,  5.54it/s]\u001b[A\n",
      "Average Metric: 24 / 36  (66.7):  72%|██████████████████████████████████████████████████████████████████████████████▍                              | 36/50 [00:05<00:03,  4.17it/s]\u001b[A\n",
      "Average Metric: 25 / 37  (67.6):  72%|██████████████████████████████████████████████████████████████████████████████▍                              | 36/50 [00:05<00:03,  4.17it/s]\u001b[A\n",
      "Average Metric: 25 / 38  (65.8):  74%|████████████████████████████████████████████████████████████████████████████████▋                            | 37/50 [00:06<00:03,  4.17it/s]\u001b[A\n",
      "Average Metric: 25 / 38  (65.8):  76%|██████████████████████████████████████████████████████████████████████████████████▊                          | 38/50 [00:06<00:02,  4.05it/s]\u001b[A"
     ]
    },
    {
     "name": "stdout",
     "output_type": "stream",
     "text": [
      "Backing off 1.3 seconds after 2 tries calling function <function GPT3.request at 0x117742200> with kwargs {}\n",
      "Backing off 0.8 seconds after 1 tries calling function <function GPT3.request at 0x117742200> with kwargs {}\n",
      "Backing off 0.2 seconds after 2 tries calling function <function GPT3.request at 0x117742200> with kwargs {}\n"
     ]
    },
    {
     "name": "stderr",
     "output_type": "stream",
     "text": [
      "\n",
      "Average Metric: 26 / 39  (66.7):  76%|██████████████████████████████████████████████████████████████████████████████████▊                          | 38/50 [00:06<00:02,  4.05it/s]\u001b[A\n",
      "Average Metric: 26 / 39  (66.7):  78%|█████████████████████████████████████████████████████████████████████████████████████                        | 39/50 [00:06<00:03,  3.56it/s]\u001b[A"
     ]
    },
    {
     "name": "stdout",
     "output_type": "stream",
     "text": [
      "Backing off 0.1 seconds after 2 tries calling function <function GPT3.request at 0x117742200> with kwargs {}\n",
      "Backing off 1.7 seconds after 2 tries calling function <function GPT3.request at 0x117742200> with kwargs {}\n",
      "Backing off 0.4 seconds after 1 tries calling function <function GPT3.request at 0x117742200> with kwargs {}\n"
     ]
    },
    {
     "name": "stderr",
     "output_type": "stream",
     "text": [
      "\n",
      "Average Metric: 27 / 40  (67.5):  78%|█████████████████████████████████████████████████████████████████████████████████████                        | 39/50 [00:07<00:03,  3.56it/s]\u001b[A\n",
      "Average Metric: 27 / 40  (67.5):  80%|███████████████████████████████████████████████████████████████████████████████████████▏                     | 40/50 [00:07<00:03,  2.80it/s]\u001b[A\n",
      "Average Metric: 28 / 41  (68.3):  80%|███████████████████████████████████████████████████████████████████████████████████████▏                     | 40/50 [00:07<00:03,  2.80it/s]\u001b[A\n",
      "Average Metric: 28 / 41  (68.3):  82%|█████████████████████████████████████████████████████████████████████████████████████████▍                   | 41/50 [00:07<00:02,  3.03it/s]\u001b[A"
     ]
    },
    {
     "name": "stdout",
     "output_type": "stream",
     "text": [
      "Backing off 3.0 seconds after 3 tries calling function <function GPT3.request at 0x117742200> with kwargs {}\n"
     ]
    },
    {
     "name": "stderr",
     "output_type": "stream",
     "text": [
      "\n",
      "Average Metric: 29 / 42  (69.0):  82%|█████████████████████████████████████████████████████████████████████████████████████████▍                   | 41/50 [00:08<00:02,  3.03it/s]\u001b[A\n",
      "Average Metric: 29 / 42  (69.0):  84%|███████████████████████████████████████████████████████████████████████████████████████████▌                 | 42/50 [00:08<00:03,  2.22it/s]\u001b[A"
     ]
    },
    {
     "name": "stdout",
     "output_type": "stream",
     "text": [
      "Backing off 0.0 seconds after 2 tries calling function <function GPT3.request at 0x117742200> with kwargs {}\n"
     ]
    },
    {
     "name": "stderr",
     "output_type": "stream",
     "text": [
      "\n",
      "Average Metric: 30 / 43  (69.8):  84%|███████████████████████████████████████████████████████████████████████████████████████████▌                 | 42/50 [00:09<00:03,  2.22it/s]\u001b[A\n",
      "Average Metric: 30 / 43  (69.8):  86%|█████████████████████████████████████████████████████████████████████████████████████████████▋               | 43/50 [00:09<00:03,  2.15it/s]\u001b[A\n",
      "Average Metric: 31 / 44  (70.5):  86%|█████████████████████████████████████████████████████████████████████████████████████████████▋               | 43/50 [00:09<00:03,  2.15it/s]\u001b[A"
     ]
    },
    {
     "name": "stdout",
     "output_type": "stream",
     "text": [
      "Backing off 0.4 seconds after 1 tries calling function <function GPT3.request at 0x117742200> with kwargs {}\n"
     ]
    },
    {
     "name": "stderr",
     "output_type": "stream",
     "text": [
      "\n",
      "Average Metric: 32 / 45  (71.1):  88%|███████████████████████████████████████████████████████████████████████████████████████████████▉             | 44/50 [00:09<00:02,  2.15it/s]\u001b[A\n",
      "Average Metric: 32 / 45  (71.1):  90%|██████████████████████████████████████████████████████████████████████████████████████████████████           | 45/50 [00:09<00:01,  2.94it/s]\u001b[A"
     ]
    },
    {
     "name": "stdout",
     "output_type": "stream",
     "text": [
      "Backing off 2.9 seconds after 3 tries calling function <function GPT3.request at 0x117742200> with kwargs {}\n"
     ]
    },
    {
     "name": "stderr",
     "output_type": "stream",
     "text": [
      "\n",
      "Average Metric: 33 / 46  (71.7):  90%|██████████████████████████████████████████████████████████████████████████████████████████████████           | 45/50 [00:10<00:01,  2.94it/s]\u001b[A\n",
      "Average Metric: 33 / 46  (71.7):  92%|████████████████████████████████████████████████████████████████████████████████████████████████████▎        | 46/50 [00:10<00:01,  2.15it/s]\u001b[A\n",
      "Average Metric: 34 / 47  (72.3):  92%|████████████████████████████████████████████████████████████████████████████████████████████████████▎        | 46/50 [00:10<00:01,  2.15it/s]\u001b[A\n",
      "Average Metric: 34 / 48  (70.8):  94%|██████████████████████████████████████████████████████████████████████████████████████████████████████▍      | 47/50 [00:11<00:01,  2.15it/s]\u001b[A\n",
      "Average Metric: 34 / 48  (70.8):  96%|████████████████████████████████████████████████████████████████████████████████████████████████████████▋    | 48/50 [00:11<00:01,  1.86it/s]\u001b[A\n",
      "Average Metric: 34 / 49  (69.4):  96%|████████████████████████████████████████████████████████████████████████████████████████████████████████▋    | 48/50 [00:11<00:01,  1.86it/s]\u001b[A\n",
      "Average Metric: 34 / 49  (69.4):  98%|██████████████████████████████████████████████████████████████████████████████████████████████████████████▊  | 49/50 [00:11<00:00,  2.01it/s]\u001b[A\n",
      "Average Metric: 35 / 50  (70.0):  98%|██████████████████████████████████████████████████████████████████████████████████████████████████████████▊  | 49/50 [00:13<00:00,  2.01it/s]\u001b[A\n",
      "Average Metric: 35 / 50  (70.0): 100%|█████████████████████████████████████████████████████████████████████████████████████████████████████████████| 50/50 [00:13<00:00,  3.78it/s]\u001b[A\n"
     ]
    },
    {
     "name": "stdout",
     "output_type": "stream",
     "text": [
      "Average Metric: 35 / 50  (70.0%)\n",
      "Score: 70.0 for set: [8]\n",
      "Scores so far: [48.0, 58.0, 60.0, 72.0, 56.0, 70.0]\n",
      "Best score: 72.0\n",
      "Average of max per entry across top 1 scores: 0.72\n",
      "Average of max per entry across top 2 scores: 0.94\n",
      "Average of max per entry across top 3 scores: 0.98\n",
      "Average of max per entry across top 5 scores: 0.98\n",
      "Average of max per entry across top 8 scores: 0.98\n",
      "Average of max per entry across top 9999 scores: 0.98\n"
     ]
    },
    {
     "name": "stderr",
     "output_type": "stream",
     "text": [
      "\n",
      "  0%|                                                                                                                                                      | 0/200 [00:00<?, ?it/s]\u001b[A\n",
      "  0%|▋                                                                                                                                             | 1/200 [00:02<09:47,  2.95s/it]\u001b[A\n",
      "  1%|█▍                                                                                                                                            | 2/200 [00:06<11:24,  3.46s/it]\u001b[A\n",
      "  2%|██▏                                                                                                                                           | 3/200 [00:10<11:57,  3.64s/it]\u001b[A\n",
      "  2%|██▊                                                                                                                                           | 4/200 [00:13<10:41,  3.27s/it]\u001b[A\n"
     ]
    },
    {
     "name": "stdout",
     "output_type": "stream",
     "text": [
      "Bootstrapped 4 full traces after 5 examples in round 0.\n"
     ]
    },
    {
     "name": "stderr",
     "output_type": "stream",
     "text": [
      "\n",
      "  0%|                                                                                                                                                       | 0/50 [00:00<?, ?it/s]\u001b[A\n",
      "Average Metric: 1 / 1  (100.0):   0%|                                                                                                                       | 0/50 [00:01<?, ?it/s]\u001b[A\n",
      "Average Metric: 1 / 1  (100.0):   2%|██▏                                                                                                            | 1/50 [00:01<01:07,  1.38s/it]\u001b[A\n",
      "Average Metric: 2 / 2  (100.0):   2%|██▏                                                                                                            | 1/50 [00:01<01:07,  1.38s/it]\u001b[A\n",
      "Average Metric: 2 / 2  (100.0):   4%|████▍                                                                                                          | 2/50 [00:01<00:42,  1.13it/s]\u001b[A\n",
      "Average Metric: 3 / 3  (100.0):   4%|████▍                                                                                                          | 2/50 [00:01<00:42,  1.13it/s]\u001b[A\n",
      "Average Metric: 3 / 4  (75.0):   6%|██████▋                                                                                                         | 3/50 [00:02<00:41,  1.13it/s]\u001b[A\n",
      "Average Metric: 3 / 4  (75.0):   8%|████████▉                                                                                                       | 4/50 [00:02<00:19,  2.34it/s]\u001b[A\n",
      "Average Metric: 4 / 5  (80.0):   8%|████████▉                                                                                                       | 4/50 [00:02<00:19,  2.34it/s]\u001b[A\n",
      "Average Metric: 4 / 6  (66.7):  10%|███████████▏                                                                                                    | 5/50 [00:02<00:19,  2.34it/s]\u001b[A\n",
      "Average Metric: 4 / 7  (57.1):  12%|█████████████▍                                                                                                  | 6/50 [00:02<00:18,  2.34it/s]\u001b[A\n",
      "Average Metric: 4 / 8  (50.0):  14%|███████████████▋                                                                                                | 7/50 [00:02<00:18,  2.34it/s]\u001b[A\n",
      "Average Metric: 4 / 8  (50.0):  16%|█████████████████▉                                                                                              | 8/50 [00:02<00:07,  5.53it/s]\u001b[A\n",
      "Average Metric: 5 / 9  (55.6):  16%|█████████████████▉                                                                                              | 8/50 [00:02<00:07,  5.53it/s]\u001b[A\n",
      "Average Metric: 5 / 10  (50.0):  18%|███████████████████▉                                                                                           | 9/50 [00:02<00:07,  5.53it/s]\u001b[A\n",
      "Average Metric: 5 / 10  (50.0):  20%|██████████████████████                                                                                        | 10/50 [00:02<00:07,  5.58it/s]\u001b[A\n",
      "Average Metric: 5 / 11  (45.5):  20%|██████████████████████                                                                                        | 10/50 [00:02<00:07,  5.58it/s]\u001b[A\n",
      "Average Metric: 6 / 12  (50.0):  22%|████████████████████████▏                                                                                     | 11/50 [00:02<00:06,  5.58it/s]\u001b[A\n",
      "Average Metric: 6 / 12  (50.0):  24%|██████████████████████████▍                                                                                   | 12/50 [00:02<00:05,  6.71it/s]\u001b[A\n",
      "Average Metric: 7 / 13  (53.8):  24%|██████████████████████████▍                                                                                   | 12/50 [00:03<00:05,  6.71it/s]\u001b[A\n",
      "Average Metric: 7 / 14  (50.0):  26%|████████████████████████████▌                                                                                 | 13/50 [00:03<00:05,  6.71it/s]\u001b[A\n",
      "Average Metric: 7 / 14  (50.0):  28%|██████████████████████████████▊                                                                               | 14/50 [00:03<00:06,  5.39it/s]\u001b[A\n",
      "Average Metric: 8 / 15  (53.3):  28%|██████████████████████████████▊                                                                               | 14/50 [00:03<00:06,  5.39it/s]\u001b[A\n",
      "Average Metric: 9 / 16  (56.2):  30%|█████████████████████████████████                                                                             | 15/50 [00:03<00:06,  5.39it/s]\u001b[A\n",
      "Average Metric: 9 / 17  (52.9):  32%|███████████████████████████████████▏                                                                          | 16/50 [00:03<00:06,  5.39it/s]\u001b[A\n",
      "Average Metric: 9 / 17  (52.9):  34%|█████████████████████████████████████▍                                                                        | 17/50 [00:03<00:04,  7.93it/s]\u001b[A\n",
      "Average Metric: 9 / 18  (50.0):  34%|█████████████████████████████████████▍                                                                        | 17/50 [00:03<00:04,  7.93it/s]\u001b[A\n",
      "Average Metric: 10 / 19  (52.6):  36%|███████████████████████████████████████▏                                                                     | 18/50 [00:03<00:04,  7.93it/s]\u001b[A\n",
      "Average Metric: 10 / 19  (52.6):  38%|█████████████████████████████████████████▍                                                                   | 19/50 [00:03<00:04,  7.38it/s]\u001b[A\n",
      "Average Metric: 10 / 20  (50.0):  38%|█████████████████████████████████████████▍                                                                   | 19/50 [00:03<00:04,  7.38it/s]\u001b[A\n",
      "Average Metric: 11 / 21  (52.4):  40%|███████████████████████████████████████████▌                                                                 | 20/50 [00:04<00:04,  7.38it/s]\u001b[A\n",
      "Average Metric: 11 / 21  (52.4):  42%|█████████████████████████████████████████████▊                                                               | 21/50 [00:04<00:03,  7.54it/s]\u001b[A\n",
      "Average Metric: 11 / 22  (50.0):  42%|█████████████████████████████████████████████▊                                                               | 21/50 [00:04<00:03,  7.54it/s]\u001b[A\n",
      "Average Metric: 11 / 23  (47.8):  44%|███████████████████████████████████████████████▉                                                             | 22/50 [00:04<00:03,  7.54it/s]\u001b[A\n",
      "Average Metric: 11 / 23  (47.8):  46%|██████████████████████████████████████████████████▏                                                          | 23/50 [00:04<00:02,  9.06it/s]\u001b[A\n",
      "Average Metric: 11 / 24  (45.8):  46%|██████████████████████████████████████████████████▏                                                          | 23/50 [00:04<00:02,  9.06it/s]\u001b[A\n",
      "Average Metric: 11 / 25  (44.0):  48%|████████████████████████████████████████████████████▎                                                        | 24/50 [00:04<00:02,  9.06it/s]\u001b[A\n",
      "Average Metric: 11 / 25  (44.0):  50%|██████████████████████████████████████████████████████▌                                                      | 25/50 [00:04<00:02,  9.30it/s]\u001b[A\n",
      "Average Metric: 11 / 26  (42.3):  50%|██████████████████████████████████████████████████████▌                                                      | 25/50 [00:04<00:02,  9.30it/s]\u001b[A\n",
      "Average Metric: 11 / 27  (40.7):  52%|████████████████████████████████████████████████████████▋                                                    | 26/50 [00:04<00:02,  9.30it/s]\u001b[A\n",
      "Average Metric: 11 / 27  (40.7):  54%|██████████████████████████████████████████████████████████▊                                                  | 27/50 [00:04<00:02,  8.93it/s]\u001b[A\n",
      "Average Metric: 11 / 28  (39.3):  54%|██████████████████████████████████████████████████████████▊                                                  | 27/50 [00:04<00:02,  8.93it/s]\u001b[A\n",
      "Average Metric: 12 / 29  (41.4):  56%|█████████████████████████████████████████████████████████████                                                | 28/50 [00:05<00:02,  8.93it/s]\u001b[A\n",
      "Average Metric: 12 / 29  (41.4):  58%|███████████████████████████████████████████████████████████████▏                                             | 29/50 [00:05<00:02,  7.21it/s]\u001b[A\n",
      "Average Metric: 12 / 30  (40.0):  58%|███████████████████████████████████████████████████████████████▏                                             | 29/50 [00:05<00:02,  7.21it/s]\u001b[A\n",
      "Average Metric: 12 / 30  (40.0):  60%|█████████████████████████████████████████████████████████████████▍                                           | 30/50 [00:05<00:02,  7.32it/s]\u001b[A\n",
      "Average Metric: 12 / 31  (38.7):  60%|█████████████████████████████████████████████████████████████████▍                                           | 30/50 [00:05<00:02,  7.32it/s]\u001b[A\n",
      "Average Metric: 12 / 32  (37.5):  62%|███████████████████████████████████████████████████████████████████▌                                         | 31/50 [00:05<00:02,  7.32it/s]\u001b[A"
     ]
    },
    {
     "name": "stdout",
     "output_type": "stream",
     "text": [
      "Backing off 0.2 seconds after 1 tries calling function <function GPT3.request at 0x117742200> with kwargs {}\n"
     ]
    },
    {
     "name": "stderr",
     "output_type": "stream",
     "text": [
      "\n",
      "Average Metric: 12 / 33  (36.4):  64%|█████████████████████████████████████████████████████████████████████▊                                       | 32/50 [00:05<00:02,  7.32it/s]\u001b[A\n",
      "Average Metric: 12 / 33  (36.4):  66%|███████████████████████████████████████████████████████████████████████▉                                     | 33/50 [00:05<00:02,  6.17it/s]\u001b[A\n",
      "Average Metric: 13 / 34  (38.2):  66%|███████████████████████████████████████████████████████████████████████▉                                     | 33/50 [00:06<00:02,  6.17it/s]\u001b[A\n",
      "Average Metric: 13 / 34  (38.2):  68%|██████████████████████████████████████████████████████████████████████████                                   | 34/50 [00:06<00:02,  5.83it/s]\u001b[A\n",
      "Average Metric: 13 / 35  (37.1):  68%|██████████████████████████████████████████████████████████████████████████                                   | 34/50 [00:06<00:02,  5.83it/s]\u001b[A\n",
      "Average Metric: 13 / 35  (37.1):  70%|████████████████████████████████████████████████████████████████████████████▎                                | 35/50 [00:06<00:03,  4.35it/s]\u001b[A"
     ]
    },
    {
     "name": "stdout",
     "output_type": "stream",
     "text": [
      "Backing off 0.9 seconds after 1 tries calling function <function GPT3.request at 0x117742200> with kwargs {}\n",
      "Backing off 0.9 seconds after 1 tries calling function <function GPT3.request at 0x117742200> with kwargs {}\n",
      "Backing off 0.0 seconds after 1 tries calling function <function GPT3.request at 0x117742200> with kwargs {}\n",
      "Backing off 0.0 seconds after 1 tries calling function <function GPT3.request at 0x117742200> with kwargs {}\n"
     ]
    },
    {
     "name": "stderr",
     "output_type": "stream",
     "text": [
      "\n",
      "Average Metric: 13 / 36  (36.1):  70%|████████████████████████████████████████████████████████████████████████████▎                                | 35/50 [00:06<00:03,  4.35it/s]\u001b[A\n"
     ]
    },
    {
     "name": "stdout",
     "output_type": "stream",
     "text": [
      "Backing off 0.5 seconds after 1 tries calling function <function GPT3.request at 0x117742200> with kwargs {}\n",
      "Backing off 1.9 seconds after 2 tries calling function <function GPT3.request at 0x117742200> with kwargs {}\n"
     ]
    },
    {
     "name": "stderr",
     "output_type": "stream",
     "text": [
      "Average Metric: 13 / 36  (36.1):  72%|██████████████████████████████████████████████████████████████████████████████▍                              | 36/50 [00:06<00:03,  3.70it/s]\u001b[A\n",
      "Average Metric: 14 / 37  (37.8):  72%|██████████████████████████████████████████████████████████████████████████████▍                              | 36/50 [00:07<00:03,  3.70it/s]\u001b[A\n",
      "Average Metric: 14 / 37  (37.8):  74%|████████████████████████████████████████████████████████████████████████████████▋                            | 37/50 [00:07<00:03,  3.41it/s]\u001b[A"
     ]
    },
    {
     "name": "stdout",
     "output_type": "stream",
     "text": [
      "Backing off 0.4 seconds after 1 tries calling function <function GPT3.request at 0x117742200> with kwargs {}\n",
      "Backing off 0.4 seconds after 2 tries calling function <function GPT3.request at 0x117742200> with kwargs {}\n"
     ]
    },
    {
     "name": "stderr",
     "output_type": "stream",
     "text": [
      "\n",
      "Average Metric: 14 / 38  (36.8):  74%|████████████████████████████████████████████████████████████████████████████████▋                            | 37/50 [00:08<00:03,  3.41it/s]\u001b[A\n",
      "Average Metric: 14 / 38  (36.8):  76%|██████████████████████████████████████████████████████████████████████████████████▊                          | 38/50 [00:08<00:05,  2.34it/s]\u001b[A\n",
      "Average Metric: 15 / 39  (38.5):  76%|██████████████████████████████████████████████████████████████████████████████████▊                          | 38/50 [00:08<00:05,  2.34it/s]\u001b[A\n",
      "Average Metric: 15 / 39  (38.5):  78%|█████████████████████████████████████████████████████████████████████████████████████                        | 39/50 [00:08<00:04,  2.49it/s]\u001b[A"
     ]
    },
    {
     "name": "stdout",
     "output_type": "stream",
     "text": [
      "Backing off 0.8 seconds after 2 tries calling function <function GPT3.request at 0x117742200> with kwargs {}\n",
      "Backing off 0.1 seconds after 2 tries calling function <function GPT3.request at 0x117742200> with kwargs {}\n",
      "Backing off 0.4 seconds after 2 tries calling function <function GPT3.request at 0x117742200> with kwargs {}\n"
     ]
    },
    {
     "name": "stderr",
     "output_type": "stream",
     "text": [
      "\n",
      "Average Metric: 15 / 40  (37.5):  78%|█████████████████████████████████████████████████████████████████████████████████████                        | 39/50 [00:09<00:04,  2.49it/s]\u001b[A\n",
      "Average Metric: 15 / 40  (37.5):  80%|███████████████████████████████████████████████████████████████████████████████████████▏                     | 40/50 [00:09<00:05,  1.81it/s]\u001b[A\n",
      "Average Metric: 16 / 41  (39.0):  80%|███████████████████████████████████████████████████████████████████████████████████████▏                     | 40/50 [00:09<00:05,  1.81it/s]\u001b[A\n",
      "Average Metric: 16 / 41  (39.0):  82%|█████████████████████████████████████████████████████████████████████████████████████████▍                   | 41/50 [00:09<00:04,  2.19it/s]\u001b[A"
     ]
    },
    {
     "name": "stdout",
     "output_type": "stream",
     "text": [
      "Backing off 1.8 seconds after 3 tries calling function <function GPT3.request at 0x117742200> with kwargs {}\n",
      "Backing off 1.0 seconds after 2 tries calling function <function GPT3.request at 0x117742200> with kwargs {}\n",
      "Backing off 0.2 seconds after 1 tries calling function <function GPT3.request at 0x117742200> with kwargs {}\n",
      "Backing off 0.9 seconds after 3 tries calling function <function GPT3.request at 0x117742200> with kwargs {}\n"
     ]
    },
    {
     "name": "stderr",
     "output_type": "stream",
     "text": [
      "\n",
      "Average Metric: 17 / 42  (40.5):  82%|█████████████████████████████████████████████████████████████████████████████████████████▍                   | 41/50 [00:10<00:04,  2.19it/s]\u001b[A\n",
      "Average Metric: 17 / 42  (40.5):  84%|███████████████████████████████████████████████████████████████████████████████████████████▌                 | 42/50 [00:10<00:04,  1.74it/s]\u001b[A\n",
      "Average Metric: 18 / 43  (41.9):  84%|███████████████████████████████████████████████████████████████████████████████████████████▌                 | 42/50 [00:10<00:04,  1.74it/s]\u001b[A\n",
      "Average Metric: 18 / 43  (41.9):  86%|█████████████████████████████████████████████████████████████████████████████████████████████▋               | 43/50 [00:10<00:03,  1.85it/s]\u001b[A"
     ]
    },
    {
     "name": "stdout",
     "output_type": "stream",
     "text": [
      "Backing off 0.9 seconds after 3 tries calling function <function GPT3.request at 0x117742200> with kwargs {}\n",
      "Backing off 0.5 seconds after 1 tries calling function <function GPT3.request at 0x117742200> with kwargs {}\n"
     ]
    },
    {
     "name": "stderr",
     "output_type": "stream",
     "text": [
      "\n",
      "Average Metric: 19 / 44  (43.2):  86%|█████████████████████████████████████████████████████████████████████████████████████████████▋               | 43/50 [00:11<00:03,  1.85it/s]\u001b[A\n",
      "Average Metric: 19 / 44  (43.2):  88%|███████████████████████████████████████████████████████████████████████████████████████████████▉             | 44/50 [00:11<00:03,  1.89it/s]\u001b[A"
     ]
    },
    {
     "name": "stdout",
     "output_type": "stream",
     "text": [
      "Backing off 0.6 seconds after 2 tries calling function <function GPT3.request at 0x117742200> with kwargs {}\n"
     ]
    },
    {
     "name": "stderr",
     "output_type": "stream",
     "text": [
      "\n",
      "Average Metric: 19 / 45  (42.2):  88%|███████████████████████████████████████████████████████████████████████████████████████████████▉             | 44/50 [00:11<00:03,  1.89it/s]\u001b[A\n",
      "Average Metric: 19 / 45  (42.2):  90%|██████████████████████████████████████████████████████████████████████████████████████████████████           | 45/50 [00:11<00:02,  1.94it/s]\u001b[A"
     ]
    },
    {
     "name": "stdout",
     "output_type": "stream",
     "text": [
      "Backing off 0.1 seconds after 3 tries calling function <function GPT3.request at 0x117742200> with kwargs {}\n"
     ]
    },
    {
     "name": "stderr",
     "output_type": "stream",
     "text": [
      "\n",
      "Average Metric: 20 / 46  (43.5):  90%|██████████████████████████████████████████████████████████████████████████████████████████████████           | 45/50 [00:12<00:02,  1.94it/s]\u001b[A\n",
      "Average Metric: 20 / 46  (43.5):  92%|████████████████████████████████████████████████████████████████████████████████████████████████████▎        | 46/50 [00:12<00:02,  1.89it/s]\u001b[A"
     ]
    },
    {
     "name": "stdout",
     "output_type": "stream",
     "text": [
      "Backing off 1.7 seconds after 2 tries calling function <function GPT3.request at 0x117742200> with kwargs {}\n",
      "Backing off 4.5 seconds after 4 tries calling function <function GPT3.request at 0x117742200> with kwargs {}\n"
     ]
    },
    {
     "name": "stderr",
     "output_type": "stream",
     "text": [
      "\n",
      "Average Metric: 20 / 47  (42.6):  92%|████████████████████████████████████████████████████████████████████████████████████████████████████▎        | 46/50 [00:13<00:02,  1.89it/s]\u001b[A\n",
      "Average Metric: 20 / 47  (42.6):  94%|██████████████████████████████████████████████████████████████████████████████████████████████████████▍      | 47/50 [00:13<00:02,  1.46it/s]\u001b[A\n",
      "Average Metric: 20 / 48  (41.7):  94%|██████████████████████████████████████████████████████████████████████████████████████████████████████▍      | 47/50 [00:14<00:02,  1.46it/s]\u001b[A\n",
      "Average Metric: 20 / 48  (41.7):  96%|████████████████████████████████████████████████████████████████████████████████████████████████████████▋    | 48/50 [00:14<00:01,  1.39it/s]\u001b[A\n",
      "Average Metric: 21 / 49  (42.9):  96%|████████████████████████████████████████████████████████████████████████████████████████████████████████▋    | 48/50 [00:14<00:01,  1.39it/s]\u001b[A\n",
      "Average Metric: 21 / 49  (42.9):  98%|██████████████████████████████████████████████████████████████████████████████████████████████████████████▊  | 49/50 [00:14<00:00,  1.54it/s]\u001b[A\n",
      "Average Metric: 21 / 50  (42.0):  98%|██████████████████████████████████████████████████████████████████████████████████████████████████████████▊  | 49/50 [00:18<00:00,  1.54it/s]\u001b[A\n",
      "Average Metric: 21 / 50  (42.0): 100%|█████████████████████████████████████████████████████████████████████████████████████████████████████████████| 50/50 [00:18<00:00,  2.71it/s]\u001b[A\n"
     ]
    },
    {
     "name": "stdout",
     "output_type": "stream",
     "text": [
      "Average Metric: 21 / 50  (42.0%)\n",
      "Score: 42.0 for set: [8]\n",
      "Scores so far: [48.0, 58.0, 60.0, 72.0, 56.0, 70.0, 42.0]\n",
      "Best score: 72.0\n",
      "Average of max per entry across top 1 scores: 0.72\n",
      "Average of max per entry across top 2 scores: 0.94\n",
      "Average of max per entry across top 3 scores: 0.98\n",
      "Average of max per entry across top 5 scores: 0.98\n",
      "Average of max per entry across top 8 scores: 1.0\n",
      "Average of max per entry across top 9999 scores: 1.0\n"
     ]
    },
    {
     "name": "stderr",
     "output_type": "stream",
     "text": [
      "\n",
      "  0%|                                                                                                                                                      | 0/200 [00:00<?, ?it/s]\u001b[A\n",
      "  0%|▋                                                                                                                                             | 1/200 [00:02<09:50,  2.97s/it]\u001b[A\n",
      "  1%|█▍                                                                                                                                            | 2/200 [00:07<13:30,  4.10s/it]\u001b[A\n",
      "  2%|██▏                                                                                                                                           | 3/200 [00:10<11:44,  3.58s/it]\u001b[A\n",
      "  2%|██▊                                                                                                                                           | 4/200 [00:15<12:23,  3.79s/it]\u001b[A\n"
     ]
    },
    {
     "name": "stdout",
     "output_type": "stream",
     "text": [
      "Bootstrapped 4 full traces after 5 examples in round 0.\n"
     ]
    },
    {
     "name": "stderr",
     "output_type": "stream",
     "text": [
      "\n",
      "  0%|                                                                                                                                                       | 0/50 [00:00<?, ?it/s]\u001b[A\n",
      "Average Metric: 1 / 1  (100.0):   0%|                                                                                                                       | 0/50 [00:00<?, ?it/s]\u001b[A\n",
      "Average Metric: 1 / 1  (100.0):   2%|██▏                                                                                                            | 1/50 [00:00<00:48,  1.01it/s]\u001b[A\n",
      "Average Metric: 1 / 2  (50.0):   2%|██▏                                                                                                             | 1/50 [00:01<00:48,  1.01it/s]\u001b[A\n",
      "Average Metric: 1 / 3  (33.3):   4%|████▍                                                                                                           | 2/50 [00:01<00:47,  1.01it/s]\u001b[A\n",
      "Average Metric: 1 / 3  (33.3):   6%|██████▋                                                                                                         | 3/50 [00:01<00:17,  2.73it/s]\u001b[A\n",
      "Average Metric: 2 / 4  (50.0):   6%|██████▋                                                                                                         | 3/50 [00:01<00:17,  2.73it/s]\u001b[A\n",
      "Average Metric: 3 / 5  (60.0):   8%|████████▉                                                                                                       | 4/50 [00:01<00:16,  2.73it/s]\u001b[A\n",
      "Average Metric: 4 / 6  (66.7):  10%|███████████▏                                                                                                    | 5/50 [00:01<00:16,  2.73it/s]\u001b[A\n",
      "Average Metric: 4 / 6  (66.7):  12%|█████████████▍                                                                                                  | 6/50 [00:01<00:07,  5.88it/s]\u001b[A\n",
      "Average Metric: 4 / 7  (57.1):  12%|█████████████▍                                                                                                  | 6/50 [00:01<00:07,  5.88it/s]\u001b[A\n",
      "Average Metric: 4 / 8  (50.0):  14%|███████████████▋                                                                                                | 7/50 [00:02<00:07,  5.88it/s]\u001b[A\n",
      "Average Metric: 4 / 8  (50.0):  16%|█████████████████▉                                                                                              | 8/50 [00:02<00:09,  4.43it/s]\u001b[A\n",
      "Average Metric: 4 / 9  (44.4):  16%|█████████████████▉                                                                                              | 8/50 [00:02<00:09,  4.43it/s]\u001b[A\n",
      "Average Metric: 4 / 10  (40.0):  18%|███████████████████▉                                                                                           | 9/50 [00:02<00:09,  4.43it/s]\u001b[A\n",
      "Average Metric: 4 / 10  (40.0):  20%|██████████████████████                                                                                        | 10/50 [00:02<00:07,  5.62it/s]\u001b[A\n",
      "Average Metric: 5 / 11  (45.5):  20%|██████████████████████                                                                                        | 10/50 [00:02<00:07,  5.62it/s]\u001b[A\n",
      "Average Metric: 5 / 12  (41.7):  22%|████████████████████████▏                                                                                     | 11/50 [00:02<00:06,  5.62it/s]\u001b[A\n",
      "Average Metric: 5 / 12  (41.7):  24%|██████████████████████████▍                                                                                   | 12/50 [00:02<00:06,  5.96it/s]\u001b[A\n",
      "Average Metric: 6 / 13  (46.2):  24%|██████████████████████████▍                                                                                   | 12/50 [00:02<00:06,  5.96it/s]\u001b[A\n",
      "Average Metric: 6 / 14  (42.9):  26%|████████████████████████████▌                                                                                 | 13/50 [00:02<00:06,  5.96it/s]\u001b[A\n",
      "Average Metric: 6 / 14  (42.9):  28%|██████████████████████████████▊                                                                               | 14/50 [00:02<00:05,  6.55it/s]\u001b[A\n",
      "Average Metric: 6 / 15  (40.0):  28%|██████████████████████████████▊                                                                               | 14/50 [00:03<00:05,  6.55it/s]\u001b[A\n",
      "Average Metric: 6 / 15  (40.0):  30%|█████████████████████████████████                                                                             | 15/50 [00:03<00:05,  5.93it/s]\u001b[A\n",
      "Average Metric: 7 / 16  (43.8):  30%|█████████████████████████████████                                                                             | 15/50 [00:03<00:05,  5.93it/s]\u001b[A\n",
      "Average Metric: 7 / 16  (43.8):  32%|███████████████████████████████████▏                                                                          | 16/50 [00:03<00:05,  6.19it/s]\u001b[A\n",
      "Average Metric: 8 / 17  (47.1):  32%|███████████████████████████████████▏                                                                          | 16/50 [00:03<00:05,  6.19it/s]\u001b[A\n",
      "Average Metric: 8 / 17  (47.1):  34%|█████████████████████████████████████▍                                                                        | 17/50 [00:03<00:04,  6.67it/s]\u001b[A\n",
      "Average Metric: 9 / 18  (50.0):  34%|█████████████████████████████████████▍                                                                        | 17/50 [00:03<00:04,  6.67it/s]\u001b[A\n",
      "Average Metric: 9 / 19  (47.4):  36%|███████████████████████████████████████▌                                                                      | 18/50 [00:03<00:04,  6.67it/s]\u001b[A\n",
      "Average Metric: 9 / 19  (47.4):  38%|█████████████████████████████████████████▊                                                                    | 19/50 [00:03<00:03,  8.41it/s]\u001b[A\n",
      "Average Metric: 10 / 20  (50.0):  38%|█████████████████████████████████████████▍                                                                   | 19/50 [00:03<00:03,  8.41it/s]\u001b[A\n",
      "Average Metric: 10 / 20  (50.0):  40%|███████████████████████████████████████████▌                                                                 | 20/50 [00:03<00:04,  6.41it/s]\u001b[A\n",
      "Average Metric: 11 / 21  (52.4):  40%|███████████████████████████████████████████▌                                                                 | 20/50 [00:03<00:04,  6.41it/s]\u001b[A\n",
      "Average Metric: 11 / 22  (50.0):  42%|█████████████████████████████████████████████▊                                                               | 21/50 [00:03<00:04,  6.41it/s]\u001b[A\n",
      "Average Metric: 11 / 23  (47.8):  44%|███████████████████████████████████████████████▉                                                             | 22/50 [00:03<00:04,  6.41it/s]\u001b[A\n",
      "Average Metric: 11 / 23  (47.8):  46%|██████████████████████████████████████████████████▏                                                          | 23/50 [00:03<00:02,  9.42it/s]\u001b[A\n",
      "Average Metric: 12 / 24  (50.0):  46%|██████████████████████████████████████████████████▏                                                          | 23/50 [00:04<00:02,  9.42it/s]\u001b[A\n",
      "Average Metric: 13 / 25  (52.0):  48%|████████████████████████████████████████████████████▎                                                        | 24/50 [00:04<00:02,  9.42it/s]\u001b[A\n",
      "Average Metric: 13 / 25  (52.0):  50%|██████████████████████████████████████████████████████▌                                                      | 25/50 [00:04<00:04,  5.82it/s]\u001b[A\n",
      "Average Metric: 14 / 26  (53.8):  50%|██████████████████████████████████████████████████████▌                                                      | 25/50 [00:04<00:04,  5.82it/s]\u001b[A\n",
      "Average Metric: 15 / 27  (55.6):  52%|████████████████████████████████████████████████████████▋                                                    | 26/50 [00:04<00:04,  5.82it/s]\u001b[A\n",
      "Average Metric: 16 / 28  (57.1):  54%|██████████████████████████████████████████████████████████▊                                                  | 27/50 [00:04<00:03,  5.82it/s]\u001b[A\n",
      "Average Metric: 16 / 28  (57.1):  56%|█████████████████████████████████████████████████████████████                                                | 28/50 [00:04<00:02,  7.71it/s]\u001b[A\n",
      "Average Metric: 16 / 29  (55.2):  56%|█████████████████████████████████████████████████████████████                                                | 28/50 [00:04<00:02,  7.71it/s]\u001b[A\n",
      "Average Metric: 17 / 30  (56.7):  58%|███████████████████████████████████████████████████████████████▏                                             | 29/50 [00:04<00:02,  7.71it/s]\u001b[A\n",
      "Average Metric: 17 / 30  (56.7):  60%|█████████████████████████████████████████████████████████████████▍                                           | 30/50 [00:04<00:02,  7.82it/s]\u001b[A\n",
      "Average Metric: 17 / 31  (54.8):  60%|█████████████████████████████████████████████████████████████████▍                                           | 30/50 [00:05<00:02,  7.82it/s]\u001b[A\n",
      "Average Metric: 17 / 31  (54.8):  62%|███████████████████████████████████████████████████████████████████▌                                         | 31/50 [00:05<00:02,  7.23it/s]\u001b[A\n",
      "Average Metric: 18 / 32  (56.2):  62%|███████████████████████████████████████████████████████████████████▌                                         | 31/50 [00:05<00:02,  7.23it/s]\u001b[A\n",
      "Average Metric: 18 / 32  (56.2):  64%|█████████████████████████████████████████████████████████████████████▊                                       | 32/50 [00:05<00:02,  6.59it/s]\u001b[A\n",
      "Average Metric: 18 / 33  (54.5):  64%|█████████████████████████████████████████████████████████████████████▊                                       | 32/50 [00:05<00:02,  6.59it/s]\u001b[A\n",
      "Average Metric: 18 / 33  (54.5):  66%|███████████████████████████████████████████████████████████████████████▉                                     | 33/50 [00:05<00:03,  4.93it/s]\u001b[A\n",
      "Average Metric: 18 / 34  (52.9):  66%|███████████████████████████████████████████████████████████████████████▉                                     | 33/50 [00:05<00:03,  4.93it/s]\u001b[A"
     ]
    },
    {
     "name": "stdout",
     "output_type": "stream",
     "text": [
      "Backing off 0.6 seconds after 1 tries calling function <function GPT3.request at 0x117742200> with kwargs {}\n"
     ]
    },
    {
     "name": "stderr",
     "output_type": "stream",
     "text": [
      "\n",
      "Average Metric: 19 / 35  (54.3):  68%|██████████████████████████████████████████████████████████████████████████                                   | 34/50 [00:05<00:03,  4.93it/s]\u001b[A\n",
      "Average Metric: 19 / 35  (54.3):  70%|████████████████████████████████████████████████████████████████████████████▎                                | 35/50 [00:05<00:02,  6.31it/s]\u001b[A\n",
      "Average Metric: 19 / 36  (52.8):  70%|████████████████████████████████████████████████████████████████████████████▎                                | 35/50 [00:06<00:02,  6.31it/s]\u001b[A\n",
      "Average Metric: 19 / 36  (52.8):  72%|██████████████████████████████████████████████████████████████████████████████▍                              | 36/50 [00:06<00:02,  5.52it/s]\u001b[A\n",
      "Average Metric: 19 / 37  (51.4):  72%|██████████████████████████████████████████████████████████████████████████████▍                              | 36/50 [00:06<00:02,  5.52it/s]\u001b[A\n",
      "Average Metric: 20 / 38  (52.6):  74%|████████████████████████████████████████████████████████████████████████████████▋                            | 37/50 [00:06<00:02,  5.52it/s]\u001b[A\n",
      "Average Metric: 20 / 38  (52.6):  76%|██████████████████████████████████████████████████████████████████████████████████▊                          | 38/50 [00:06<00:02,  5.33it/s]\u001b[A"
     ]
    },
    {
     "name": "stdout",
     "output_type": "stream",
     "text": [
      "Backing off 0.2 seconds after 1 tries calling function <function GPT3.request at 0x117742200> with kwargs {}\n",
      "Backing off 1.0 seconds after 1 tries calling function <function GPT3.request at 0x117742200> with kwargs {}\n"
     ]
    },
    {
     "name": "stderr",
     "output_type": "stream",
     "text": [
      "\n",
      "Average Metric: 20 / 39  (51.3):  76%|██████████████████████████████████████████████████████████████████████████████████▊                          | 38/50 [00:07<00:02,  5.33it/s]\u001b[A\n",
      "Average Metric: 20 / 39  (51.3):  78%|█████████████████████████████████████████████████████████████████████████████████████                        | 39/50 [00:07<00:03,  3.43it/s]\u001b[A\n",
      "Average Metric: 21 / 40  (52.5):  78%|█████████████████████████████████████████████████████████████████████████████████████                        | 39/50 [00:07<00:03,  3.43it/s]\u001b[A\n",
      "Average Metric: 21 / 40  (52.5):  80%|███████████████████████████████████████████████████████████████████████████████████████▏                     | 40/50 [00:07<00:03,  2.94it/s]\u001b[A"
     ]
    },
    {
     "name": "stdout",
     "output_type": "stream",
     "text": [
      "Backing off 0.9 seconds after 1 tries calling function <function GPT3.request at 0x117742200> with kwargs {}\n",
      "Backing off 0.1 seconds after 1 tries calling function <function GPT3.request at 0x117742200> with kwargs {}\n",
      "Backing off 0.7 seconds after 2 tries calling function <function GPT3.request at 0x117742200> with kwargs {}\n"
     ]
    },
    {
     "name": "stderr",
     "output_type": "stream",
     "text": [
      "\n",
      "Average Metric: 22 / 41  (53.7):  80%|███████████████████████████████████████████████████████████████████████████████████████▏                     | 40/50 [00:08<00:03,  2.94it/s]\u001b[A\n",
      "Average Metric: 22 / 41  (53.7):  82%|█████████████████████████████████████████████████████████████████████████████████████████▍                   | 41/50 [00:08<00:03,  2.66it/s]\u001b[A\n",
      "Average Metric: 23 / 42  (54.8):  82%|█████████████████████████████████████████████████████████████████████████████████████████▍                   | 41/50 [00:08<00:03,  2.66it/s]\u001b[A\n",
      "Average Metric: 23 / 42  (54.8):  84%|███████████████████████████████████████████████████████████████████████████████████████████▌                 | 42/50 [00:08<00:03,  2.64it/s]\u001b[A"
     ]
    },
    {
     "name": "stdout",
     "output_type": "stream",
     "text": [
      "Backing off 0.7 seconds after 1 tries calling function <function GPT3.request at 0x117742200> with kwargs {}\n",
      "Backing off 0.7 seconds after 1 tries calling function <function GPT3.request at 0x117742200> with kwargs {}\n",
      "Backing off 1.9 seconds after 2 tries calling function <function GPT3.request at 0x117742200> with kwargs {}\n",
      "Backing off 0.8 seconds after 2 tries calling function <function GPT3.request at 0x117742200> with kwargs {}\n"
     ]
    },
    {
     "name": "stderr",
     "output_type": "stream",
     "text": [
      "\n",
      "Average Metric: 23 / 43  (53.5):  84%|███████████████████████████████████████████████████████████████████████████████████████████▌                 | 42/50 [00:09<00:03,  2.64it/s]\u001b[A\n",
      "Average Metric: 23 / 43  (53.5):  86%|█████████████████████████████████████████████████████████████████████████████████████████████▋               | 43/50 [00:09<00:04,  1.53it/s]\u001b[A\n",
      "Average Metric: 24 / 44  (54.5):  86%|█████████████████████████████████████████████████████████████████████████████████████████████▋               | 43/50 [00:10<00:04,  1.53it/s]\u001b[A"
     ]
    },
    {
     "name": "stdout",
     "output_type": "stream",
     "text": [
      "Backing off 0.8 seconds after 1 tries calling function <function GPT3.request at 0x117742200> with kwargs {}\n"
     ]
    },
    {
     "name": "stderr",
     "output_type": "stream",
     "text": [
      "\n",
      "Average Metric: 25 / 45  (55.6):  88%|███████████████████████████████████████████████████████████████████████████████████████████████▉             | 44/50 [00:10<00:03,  1.53it/s]\u001b[A\n",
      "Average Metric: 25 / 45  (55.6):  90%|██████████████████████████████████████████████████████████████████████████████████████████████████           | 45/50 [00:10<00:02,  1.94it/s]\u001b[A"
     ]
    },
    {
     "name": "stdout",
     "output_type": "stream",
     "text": [
      "Backing off 1.3 seconds after 2 tries calling function <function GPT3.request at 0x117742200> with kwargs {}\n"
     ]
    },
    {
     "name": "stderr",
     "output_type": "stream",
     "text": [
      "\n",
      "Average Metric: 25 / 46  (54.3):  90%|██████████████████████████████████████████████████████████████████████████████████████████████████           | 45/50 [00:11<00:02,  1.94it/s]\u001b[A\n",
      "Average Metric: 25 / 46  (54.3):  92%|████████████████████████████████████████████████████████████████████████████████████████████████████▎        | 46/50 [00:11<00:02,  1.43it/s]\u001b[A\n",
      "Average Metric: 26 / 47  (55.3):  92%|████████████████████████████████████████████████████████████████████████████████████████████████████▎        | 46/50 [00:12<00:02,  1.43it/s]\u001b[A\n",
      "Average Metric: 26 / 47  (55.3):  94%|██████████████████████████████████████████████████████████████████████████████████████████████████████▍      | 47/50 [00:12<00:01,  1.75it/s]\u001b[A"
     ]
    },
    {
     "name": "stdout",
     "output_type": "stream",
     "text": [
      "Backing off 1.2 seconds after 3 tries calling function <function GPT3.request at 0x117742200> with kwargs {}\n"
     ]
    },
    {
     "name": "stderr",
     "output_type": "stream",
     "text": [
      "\n",
      "Average Metric: 26 / 48  (54.2):  94%|██████████████████████████████████████████████████████████████████████████████████████████████████████▍      | 47/50 [00:13<00:01,  1.75it/s]\u001b[A\n",
      "Average Metric: 26 / 48  (54.2):  96%|████████████████████████████████████████████████████████████████████████████████████████████████████████▋    | 48/50 [00:13<00:01,  1.36it/s]\u001b[A\n",
      "Average Metric: 27 / 49  (55.1):  96%|████████████████████████████████████████████████████████████████████████████████████████████████████████▋    | 48/50 [00:14<00:01,  1.36it/s]\u001b[A\n",
      "Average Metric: 27 / 49  (55.1):  98%|██████████████████████████████████████████████████████████████████████████████████████████████████████████▊  | 49/50 [00:14<00:00,  1.34it/s]\u001b[A\n",
      "Average Metric: 28 / 50  (56.0):  98%|██████████████████████████████████████████████████████████████████████████████████████████████████████████▊  | 49/50 [00:14<00:00,  1.34it/s]\u001b[A\n",
      "Average Metric: 28 / 50  (56.0): 100%|█████████████████████████████████████████████████████████████████████████████████████████████████████████████| 50/50 [00:14<00:00,  3.38it/s]\u001b[A\n"
     ]
    },
    {
     "name": "stdout",
     "output_type": "stream",
     "text": [
      "Average Metric: 28 / 50  (56.0%)\n",
      "Score: 56.0 for set: [8]\n",
      "Scores so far: [48.0, 58.0, 60.0, 72.0, 56.0, 70.0, 42.0, 56.0]\n",
      "Best score: 72.0\n",
      "Average of max per entry across top 1 scores: 0.72\n",
      "Average of max per entry across top 2 scores: 0.94\n",
      "Average of max per entry across top 3 scores: 0.98\n",
      "Average of max per entry across top 5 scores: 0.98\n",
      "Average of max per entry across top 8 scores: 1.0\n",
      "Average of max per entry across top 9999 scores: 1.0\n"
     ]
    },
    {
     "name": "stderr",
     "output_type": "stream",
     "text": [
      "\n",
      "  0%|                                                                                                                                                      | 0/200 [00:00<?, ?it/s]\u001b[A\n",
      "  0%|▋                                                                                                                                             | 1/200 [00:04<16:17,  4.91s/it]\u001b[A\n",
      "  1%|█▍                                                                                                                                            | 2/200 [00:08<13:51,  4.20s/it]\u001b[A\n",
      "  2%|██▏                                                                                                                                           | 3/200 [00:12<12:42,  3.87s/it]\u001b[A\n",
      "  2%|██▊                                                                                                                                           | 4/200 [00:14<11:20,  3.47s/it]\u001b[A\n",
      "  2%|███▌                                                                                                                                          | 5/200 [00:18<11:56,  3.67s/it]\u001b[A\n"
     ]
    },
    {
     "name": "stdout",
     "output_type": "stream",
     "text": [
      "Bootstrapped 5 full traces after 6 examples in round 0.\n"
     ]
    },
    {
     "name": "stderr",
     "output_type": "stream",
     "text": [
      "\n",
      "  0%|                                                                                                                                                       | 0/50 [00:00<?, ?it/s]\u001b[A\n",
      "Average Metric: 0 / 1  (0.0):   0%|                                                                                                                         | 0/50 [00:01<?, ?it/s]\u001b[A\n",
      "Average Metric: 0 / 1  (0.0):   2%|██▎                                                                                                              | 1/50 [00:01<00:55,  1.12s/it]\u001b[A\n",
      "Average Metric: 1 / 2  (50.0):   2%|██▏                                                                                                             | 1/50 [00:01<00:55,  1.12s/it]\u001b[A\n",
      "Average Metric: 1 / 2  (50.0):   4%|████▍                                                                                                           | 2/50 [00:01<00:26,  1.81it/s]\u001b[A\n",
      "Average Metric: 2 / 3  (66.7):   4%|████▍                                                                                                           | 2/50 [00:01<00:26,  1.81it/s]\u001b[A\n",
      "Average Metric: 3 / 4  (75.0):   6%|██████▋                                                                                                         | 3/50 [00:01<00:25,  1.81it/s]\u001b[A\n",
      "Average Metric: 3 / 4  (75.0):   8%|████████▉                                                                                                       | 4/50 [00:01<00:12,  3.75it/s]\u001b[A\n",
      "Average Metric: 4 / 5  (80.0):   8%|████████▉                                                                                                       | 4/50 [00:01<00:12,  3.75it/s]\u001b[A\n",
      "Average Metric: 5 / 6  (83.3):  10%|███████████▏                                                                                                    | 5/50 [00:01<00:11,  3.75it/s]\u001b[A\n",
      "Average Metric: 5 / 6  (83.3):  12%|█████████████▍                                                                                                  | 6/50 [00:01<00:07,  5.83it/s]\u001b[A\n",
      "Average Metric: 5 / 7  (71.4):  12%|█████████████▍                                                                                                  | 6/50 [00:01<00:07,  5.83it/s]\u001b[A\n",
      "Average Metric: 5 / 8  (62.5):  14%|███████████████▋                                                                                                | 7/50 [00:01<00:07,  5.83it/s]\u001b[A\n",
      "Average Metric: 5 / 8  (62.5):  16%|█████████████████▉                                                                                              | 8/50 [00:01<00:07,  5.92it/s]\u001b[A\n",
      "Average Metric: 6 / 9  (66.7):  16%|█████████████████▉                                                                                              | 8/50 [00:01<00:07,  5.92it/s]\u001b[A\n",
      "Average Metric: 7 / 10  (70.0):  18%|███████████████████▉                                                                                           | 9/50 [00:02<00:06,  5.92it/s]\u001b[A\n",
      "Average Metric: 7 / 10  (70.0):  20%|██████████████████████                                                                                        | 10/50 [00:02<00:05,  7.29it/s]\u001b[A\n",
      "Average Metric: 7 / 11  (63.6):  20%|██████████████████████                                                                                        | 10/50 [00:02<00:05,  7.29it/s]\u001b[A\n",
      "Average Metric: 7 / 11  (63.6):  22%|████████████████████████▏                                                                                     | 11/50 [00:02<00:07,  5.53it/s]\u001b[A\n",
      "Average Metric: 8 / 12  (66.7):  22%|████████████████████████▏                                                                                     | 11/50 [00:02<00:07,  5.53it/s]\u001b[A\n",
      "Average Metric: 8 / 12  (66.7):  24%|██████████████████████████▍                                                                                   | 12/50 [00:02<00:06,  5.55it/s]\u001b[A\n",
      "Average Metric: 8 / 13  (61.5):  24%|██████████████████████████▍                                                                                   | 12/50 [00:02<00:06,  5.55it/s]\u001b[A\n",
      "Average Metric: 8 / 13  (61.5):  26%|████████████████████████████▌                                                                                 | 13/50 [00:02<00:07,  4.97it/s]\u001b[A\n",
      "Average Metric: 8 / 14  (57.1):  26%|████████████████████████████▌                                                                                 | 13/50 [00:02<00:07,  4.97it/s]\u001b[A\n",
      "Average Metric: 8 / 15  (53.3):  28%|██████████████████████████████▊                                                                               | 14/50 [00:02<00:07,  4.97it/s]\u001b[A\n",
      "Average Metric: 9 / 16  (56.2):  30%|█████████████████████████████████                                                                             | 15/50 [00:02<00:07,  4.97it/s]\u001b[A\n",
      "Average Metric: 10 / 17  (58.8):  32%|██████████████████████████████████▉                                                                          | 16/50 [00:03<00:06,  4.97it/s]\u001b[A\n",
      "Average Metric: 10 / 17  (58.8):  34%|█████████████████████████████████████                                                                        | 17/50 [00:03<00:03,  9.42it/s]\u001b[A\n",
      "Average Metric: 10 / 18  (55.6):  34%|█████████████████████████████████████                                                                        | 17/50 [00:03<00:03,  9.42it/s]\u001b[A\n",
      "Average Metric: 10 / 19  (52.6):  36%|███████████████████████████████████████▏                                                                     | 18/50 [00:03<00:03,  9.42it/s]\u001b[A\n",
      "Average Metric: 10 / 19  (52.6):  38%|█████████████████████████████████████████▍                                                                   | 19/50 [00:03<00:04,  7.55it/s]\u001b[A\n",
      "Average Metric: 11 / 20  (55.0):  38%|█████████████████████████████████████████▍                                                                   | 19/50 [00:03<00:04,  7.55it/s]\u001b[A\n",
      "Average Metric: 12 / 21  (57.1):  40%|███████████████████████████████████████████▌                                                                 | 20/50 [00:03<00:03,  7.55it/s]\u001b[A\n",
      "Average Metric: 12 / 21  (57.1):  42%|█████████████████████████████████████████████▊                                                               | 21/50 [00:03<00:04,  6.55it/s]\u001b[A\n",
      "Average Metric: 13 / 22  (59.1):  42%|█████████████████████████████████████████████▊                                                               | 21/50 [00:03<00:04,  6.55it/s]\u001b[A\n",
      "Average Metric: 13 / 23  (56.5):  44%|███████████████████████████████████████████████▉                                                             | 22/50 [00:04<00:04,  6.55it/s]\u001b[A\n",
      "Average Metric: 13 / 23  (56.5):  46%|██████████████████████████████████████████████████▏                                                          | 23/50 [00:04<00:03,  6.79it/s]\u001b[A\n",
      "Average Metric: 13 / 24  (54.2):  46%|██████████████████████████████████████████████████▏                                                          | 23/50 [00:04<00:03,  6.79it/s]\u001b[A\n",
      "Average Metric: 13 / 25  (52.0):  48%|████████████████████████████████████████████████████▎                                                        | 24/50 [00:04<00:03,  6.79it/s]\u001b[A\n",
      "Average Metric: 13 / 25  (52.0):  50%|██████████████████████████████████████████████████████▌                                                      | 25/50 [00:04<00:03,  7.81it/s]\u001b[A\n",
      "Average Metric: 13 / 26  (50.0):  50%|██████████████████████████████████████████████████████▌                                                      | 25/50 [00:04<00:03,  7.81it/s]\u001b[A\n",
      "Average Metric: 13 / 26  (50.0):  52%|████████████████████████████████████████████████████████▋                                                    | 26/50 [00:04<00:03,  6.56it/s]\u001b[A\n",
      "Average Metric: 14 / 27  (51.9):  52%|████████████████████████████████████████████████████████▋                                                    | 26/50 [00:04<00:03,  6.56it/s]\u001b[A\n",
      "Average Metric: 14 / 28  (50.0):  54%|██████████████████████████████████████████████████████████▊                                                  | 27/50 [00:04<00:03,  6.56it/s]\u001b[A\n",
      "Average Metric: 14 / 28  (50.0):  56%|█████████████████████████████████████████████████████████████                                                | 28/50 [00:04<00:02,  7.82it/s]\u001b[A\n",
      "Average Metric: 15 / 29  (51.7):  56%|█████████████████████████████████████████████████████████████                                                | 28/50 [00:04<00:02,  7.82it/s]\u001b[A\n",
      "Average Metric: 15 / 29  (51.7):  58%|███████████████████████████████████████████████████████████████▏                                             | 29/50 [00:04<00:02,  7.10it/s]\u001b[A\n",
      "Average Metric: 16 / 30  (53.3):  58%|███████████████████████████████████████████████████████████████▏                                             | 29/50 [00:05<00:02,  7.10it/s]\u001b[A\n",
      "Average Metric: 16 / 30  (53.3):  60%|█████████████████████████████████████████████████████████████████▍                                           | 30/50 [00:05<00:03,  6.63it/s]\u001b[A\n",
      "Average Metric: 17 / 31  (54.8):  60%|█████████████████████████████████████████████████████████████████▍                                           | 30/50 [00:05<00:03,  6.63it/s]\u001b[A\n",
      "Average Metric: 17 / 32  (53.1):  62%|███████████████████████████████████████████████████████████████████▌                                         | 31/50 [00:05<00:02,  6.63it/s]\u001b[A\n",
      "Average Metric: 17 / 32  (53.1):  64%|█████████████████████████████████████████████████████████████████████▊                                       | 32/50 [00:05<00:02,  8.35it/s]\u001b[A\n",
      "Average Metric: 17 / 33  (51.5):  64%|█████████████████████████████████████████████████████████████████████▊                                       | 32/50 [00:05<00:02,  8.35it/s]\u001b[A\n",
      "Average Metric: 17 / 33  (51.5):  66%|███████████████████████████████████████████████████████████████████████▉                                     | 33/50 [00:05<00:01,  8.60it/s]\u001b[A\n",
      "Average Metric: 18 / 34  (52.9):  66%|███████████████████████████████████████████████████████████████████████▉                                     | 33/50 [00:05<00:01,  8.60it/s]\u001b[A\n",
      "Average Metric: 18 / 34  (52.9):  68%|██████████████████████████████████████████████████████████████████████████                                   | 34/50 [00:05<00:02,  7.11it/s]\u001b[A"
     ]
    },
    {
     "name": "stdout",
     "output_type": "stream",
     "text": [
      "Backing off 0.6 seconds after 1 tries calling function <function GPT3.request at 0x117742200> with kwargs {}\n",
      "Backing off 0.9 seconds after 1 tries calling function <function GPT3.request at 0x117742200> with kwargs {}\n",
      "Backing off 0.8 seconds after 1 tries calling function <function GPT3.request at 0x117742200> with kwargs {}\n"
     ]
    },
    {
     "name": "stderr",
     "output_type": "stream",
     "text": [
      "\n",
      "Average Metric: 19 / 35  (54.3):  68%|██████████████████████████████████████████████████████████████████████████                                   | 34/50 [00:06<00:02,  7.11it/s]\u001b[A\n",
      "Average Metric: 19 / 35  (54.3):  70%|████████████████████████████████████████████████████████████████████████████▎                                | 35/50 [00:06<00:04,  3.30it/s]\u001b[A\n",
      "Average Metric: 20 / 36  (55.6):  70%|████████████████████████████████████████████████████████████████████████████▎                                | 35/50 [00:06<00:04,  3.30it/s]\u001b[A"
     ]
    },
    {
     "name": "stdout",
     "output_type": "stream",
     "text": [
      "Backing off 0.5 seconds after 1 tries calling function <function GPT3.request at 0x117742200> with kwargs {}\n",
      "Backing off 0.6 seconds after 1 tries calling function <function GPT3.request at 0x117742200> with kwargs {}\n"
     ]
    },
    {
     "name": "stderr",
     "output_type": "stream",
     "text": [
      "\n",
      "Average Metric: 20 / 37  (54.1):  72%|██████████████████████████████████████████████████████████████████████████████▍                              | 36/50 [00:07<00:04,  3.30it/s]\u001b[A\n",
      "Average Metric: 20 / 37  (54.1):  74%|████████████████████████████████████████████████████████████████████████████████▋                            | 37/50 [00:07<00:05,  2.36it/s]\u001b[A\n",
      "Average Metric: 21 / 38  (55.3):  74%|████████████████████████████████████████████████████████████████████████████████▋                            | 37/50 [00:07<00:05,  2.36it/s]\u001b[A\n",
      "Average Metric: 21 / 38  (55.3):  76%|██████████████████████████████████████████████████████████████████████████████████▊                          | 38/50 [00:07<00:05,  2.32it/s]\u001b[A\n",
      "Average Metric: 22 / 39  (56.4):  76%|██████████████████████████████████████████████████████████████████████████████████▊                          | 38/50 [00:08<00:05,  2.32it/s]\u001b[A\n",
      "Average Metric: 22 / 39  (56.4):  78%|█████████████████████████████████████████████████████████████████████████████████████                        | 39/50 [00:08<00:04,  2.37it/s]\u001b[A"
     ]
    },
    {
     "name": "stdout",
     "output_type": "stream",
     "text": [
      "Backing off 0.1 seconds after 2 tries calling function <function GPT3.request at 0x117742200> with kwargs {}\n",
      "Backing off 0.2 seconds after 1 tries calling function <function GPT3.request at 0x117742200> with kwargs {}\n",
      "Backing off 1.6 seconds after 2 tries calling function <function GPT3.request at 0x117742200> with kwargs {}\n",
      "Backing off 0.8 seconds after 2 tries calling function <function GPT3.request at 0x117742200> with kwargs {}\n",
      "Backing off 0.3 seconds after 2 tries calling function <function GPT3.request at 0x117742200> with kwargs {}\n"
     ]
    },
    {
     "name": "stderr",
     "output_type": "stream",
     "text": [
      "\n",
      "Average Metric: 23 / 40  (57.5):  78%|█████████████████████████████████████████████████████████████████████████████████████                        | 39/50 [00:08<00:04,  2.37it/s]\u001b[A\n",
      "Average Metric: 23 / 40  (57.5):  80%|███████████████████████████████████████████████████████████████████████████████████████▏                     | 40/50 [00:08<00:04,  2.27it/s]\u001b[A\n",
      "Average Metric: 24 / 41  (58.5):  80%|███████████████████████████████████████████████████████████████████████████████████████▏                     | 40/50 [00:09<00:04,  2.27it/s]\u001b[A\n",
      "Average Metric: 24 / 41  (58.5):  82%|█████████████████████████████████████████████████████████████████████████████████████████▍                   | 41/50 [00:09<00:03,  2.34it/s]\u001b[A"
     ]
    },
    {
     "name": "stdout",
     "output_type": "stream",
     "text": [
      "Backing off 0.5 seconds after 1 tries calling function <function GPT3.request at 0x117742200> with kwargs {}\n",
      "Backing off 1.4 seconds after 2 tries calling function <function GPT3.request at 0x117742200> with kwargs {}\n",
      "Backing off 0.7 seconds after 1 tries calling function <function GPT3.request at 0x117742200> with kwargs {}\n"
     ]
    },
    {
     "name": "stderr",
     "output_type": "stream",
     "text": [
      "\n",
      "Average Metric: 25 / 42  (59.5):  82%|█████████████████████████████████████████████████████████████████████████████████████████▍                   | 41/50 [00:10<00:03,  2.34it/s]\u001b[A\n",
      "Average Metric: 25 / 42  (59.5):  84%|███████████████████████████████████████████████████████████████████████████████████████████▌                 | 42/50 [00:10<00:04,  1.67it/s]\u001b[A\n",
      "Average Metric: 26 / 43  (60.5):  84%|███████████████████████████████████████████████████████████████████████████████████████████▌                 | 42/50 [00:10<00:04,  1.67it/s]\u001b[A\n",
      "Average Metric: 26 / 43  (60.5):  86%|█████████████████████████████████████████████████████████████████████████████████████████████▋               | 43/50 [00:10<00:03,  1.84it/s]\u001b[A"
     ]
    },
    {
     "name": "stdout",
     "output_type": "stream",
     "text": [
      "Backing off 1.5 seconds after 3 tries calling function <function GPT3.request at 0x117742200> with kwargs {}\n",
      "Backing off 1.8 seconds after 3 tries calling function <function GPT3.request at 0x117742200> with kwargs {}\n"
     ]
    },
    {
     "name": "stderr",
     "output_type": "stream",
     "text": [
      "\n",
      "Average Metric: 27 / 44  (61.4):  86%|█████████████████████████████████████████████████████████████████████████████████████████████▋               | 43/50 [00:11<00:03,  1.84it/s]\u001b[A\n",
      "Average Metric: 27 / 44  (61.4):  88%|███████████████████████████████████████████████████████████████████████████████████████████████▉             | 44/50 [00:11<00:03,  1.88it/s]\u001b[A"
     ]
    },
    {
     "name": "stdout",
     "output_type": "stream",
     "text": [
      "Backing off 1.0 seconds after 2 tries calling function <function GPT3.request at 0x117742200> with kwargs {}\n",
      "Backing off 3.1 seconds after 3 tries calling function <function GPT3.request at 0x117742200> with kwargs {}\n"
     ]
    },
    {
     "name": "stderr",
     "output_type": "stream",
     "text": [
      "\n",
      "Average Metric: 28 / 45  (62.2):  88%|███████████████████████████████████████████████████████████████████████████████████████████████▉             | 44/50 [00:12<00:03,  1.88it/s]\u001b[A\n",
      "Average Metric: 28 / 45  (62.2):  90%|██████████████████████████████████████████████████████████████████████████████████████████████████           | 45/50 [00:12<00:04,  1.25it/s]\u001b[A\n",
      "Average Metric: 29 / 46  (63.0):  90%|██████████████████████████████████████████████████████████████████████████████████████████████████           | 45/50 [00:13<00:04,  1.25it/s]\u001b[A\n",
      "Average Metric: 29 / 46  (63.0):  92%|████████████████████████████████████████████████████████████████████████████████████████████████████▎        | 46/50 [00:13<00:02,  1.44it/s]\u001b[A"
     ]
    },
    {
     "name": "stdout",
     "output_type": "stream",
     "text": [
      "Backing off 2.1 seconds after 3 tries calling function <function GPT3.request at 0x117742200> with kwargs {}\n"
     ]
    },
    {
     "name": "stderr",
     "output_type": "stream",
     "text": [
      "\n",
      "Average Metric: 30 / 47  (63.8):  92%|████████████████████████████████████████████████████████████████████████████████████████████████████▎        | 46/50 [00:13<00:02,  1.44it/s]\u001b[A\n",
      "Average Metric: 30 / 47  (63.8):  94%|██████████████████████████████████████████████████████████████████████████████████████████████████████▍      | 47/50 [00:13<00:02,  1.36it/s]\u001b[A\n",
      "Average Metric: 31 / 48  (64.6):  94%|██████████████████████████████████████████████████████████████████████████████████████████████████████▍      | 47/50 [00:14<00:02,  1.36it/s]\u001b[A\n",
      "Average Metric: 31 / 48  (64.6):  96%|████████████████████████████████████████████████████████████████████████████████████████████████████████▋    | 48/50 [00:14<00:01,  1.48it/s]\u001b[A\n",
      "Average Metric: 32 / 49  (65.3):  96%|████████████████████████████████████████████████████████████████████████████████████████████████████████▋    | 48/50 [00:15<00:01,  1.48it/s]\u001b[A\n",
      "Average Metric: 32 / 49  (65.3):  98%|██████████████████████████████████████████████████████████████████████████████████████████████████████████▊  | 49/50 [00:15<00:00,  1.14it/s]\u001b[A\n",
      "Average Metric: 33 / 50  (66.0):  98%|██████████████████████████████████████████████████████████████████████████████████████████████████████████▊  | 49/50 [00:16<00:00,  1.14it/s]\u001b[A\n",
      "Average Metric: 33 / 50  (66.0): 100%|█████████████████████████████████████████████████████████████████████████████████████████████████████████████| 50/50 [00:16<00:00,  2.95it/s]\u001b[A\n"
     ]
    },
    {
     "name": "stdout",
     "output_type": "stream",
     "text": [
      "Average Metric: 33 / 50  (66.0%)\n",
      "Score: 66.0 for set: [8]\n",
      "Scores so far: [48.0, 58.0, 60.0, 72.0, 56.0, 70.0, 42.0, 56.0, 66.0]\n",
      "Best score: 72.0\n",
      "Average of max per entry across top 1 scores: 0.72\n",
      "Average of max per entry across top 2 scores: 0.94\n",
      "Average of max per entry across top 3 scores: 0.98\n",
      "Average of max per entry across top 5 scores: 1.0\n",
      "Average of max per entry across top 8 scores: 1.0\n",
      "Average of max per entry across top 9999 scores: 1.0\n"
     ]
    },
    {
     "name": "stderr",
     "output_type": "stream",
     "text": [
      "\n",
      "  0%|                                                                                                                                                      | 0/200 [00:00<?, ?it/s]\u001b[A\n",
      "  0%|▋                                                                                                                                             | 1/200 [00:02<08:49,  2.66s/it]\u001b[A\n",
      "  1%|█▍                                                                                                                                            | 2/200 [00:04<08:02,  2.44s/it]\u001b[A\n"
     ]
    },
    {
     "name": "stdout",
     "output_type": "stream",
     "text": [
      "Bootstrapped 2 full traces after 3 examples in round 0.\n"
     ]
    },
    {
     "name": "stderr",
     "output_type": "stream",
     "text": [
      "\n",
      "  0%|                                                                                                                                                       | 0/50 [00:00<?, ?it/s]\u001b[A\n",
      "Average Metric: 1 / 1  (100.0):   0%|                                                                                                                       | 0/50 [00:00<?, ?it/s]\u001b[A\n",
      "Average Metric: 1 / 1  (100.0):   2%|██▏                                                                                                            | 1/50 [00:00<00:38,  1.27it/s]\u001b[A\n",
      "Average Metric: 2 / 2  (100.0):   2%|██▏                                                                                                            | 1/50 [00:00<00:38,  1.27it/s]\u001b[A\n",
      "Average Metric: 2 / 3  (66.7):   4%|████▍                                                                                                           | 2/50 [00:00<00:37,  1.27it/s]\u001b[A\n",
      "Average Metric: 3 / 4  (75.0):   6%|██████▋                                                                                                         | 3/50 [00:01<00:37,  1.27it/s]\u001b[A\n",
      "Average Metric: 3 / 4  (75.0):   8%|████████▉                                                                                                       | 4/50 [00:01<00:09,  4.76it/s]\u001b[A\n",
      "Average Metric: 3 / 5  (60.0):   8%|████████▉                                                                                                       | 4/50 [00:01<00:09,  4.76it/s]\u001b[A\n",
      "Average Metric: 4 / 6  (66.7):  10%|███████████▏                                                                                                    | 5/50 [00:01<00:09,  4.76it/s]\u001b[A\n",
      "Average Metric: 4 / 6  (66.7):  12%|█████████████▍                                                                                                  | 6/50 [00:01<00:06,  7.09it/s]\u001b[A\n",
      "Average Metric: 5 / 7  (71.4):  12%|█████████████▍                                                                                                  | 6/50 [00:01<00:06,  7.09it/s]\u001b[A\n",
      "Average Metric: 5 / 8  (62.5):  14%|███████████████▋                                                                                                | 7/50 [00:01<00:06,  7.09it/s]\u001b[A\n",
      "Average Metric: 5 / 8  (62.5):  16%|█████████████████▉                                                                                              | 8/50 [00:01<00:06,  6.76it/s]\u001b[A\n",
      "Average Metric: 6 / 9  (66.7):  16%|█████████████████▉                                                                                              | 8/50 [00:01<00:06,  6.76it/s]\u001b[A\n",
      "Average Metric: 6 / 10  (60.0):  18%|███████████████████▉                                                                                           | 9/50 [00:01<00:06,  6.76it/s]\u001b[A\n",
      "Average Metric: 6 / 10  (60.0):  20%|██████████████████████                                                                                        | 10/50 [00:01<00:06,  6.11it/s]\u001b[A\n",
      "Average Metric: 6 / 11  (54.5):  20%|██████████████████████                                                                                        | 10/50 [00:01<00:06,  6.11it/s]\u001b[A\n",
      "Average Metric: 7 / 12  (58.3):  22%|████████████████████████▏                                                                                     | 11/50 [00:01<00:06,  6.11it/s]\u001b[A\n",
      "Average Metric: 8 / 13  (61.5):  24%|██████████████████████████▍                                                                                   | 12/50 [00:01<00:06,  6.11it/s]\u001b[A\n",
      "Average Metric: 8 / 14  (57.1):  26%|████████████████████████████▌                                                                                 | 13/50 [00:01<00:06,  6.11it/s]\u001b[A\n",
      "Average Metric: 8 / 14  (57.1):  28%|██████████████████████████████▊                                                                               | 14/50 [00:01<00:03,  9.76it/s]\u001b[A\n",
      "Average Metric: 9 / 15  (60.0):  28%|██████████████████████████████▊                                                                               | 14/50 [00:02<00:03,  9.76it/s]\u001b[A\n",
      "Average Metric: 10 / 16  (62.5):  30%|████████████████████████████████▋                                                                            | 15/50 [00:02<00:03,  9.76it/s]\u001b[A\n",
      "Average Metric: 10 / 16  (62.5):  32%|██████████████████████████████████▉                                                                          | 16/50 [00:02<00:04,  7.59it/s]\u001b[A"
     ]
    },
    {
     "name": "stdout",
     "output_type": "stream",
     "text": [
      "Backing off 0.4 seconds after 1 tries calling function <function GPT3.request at 0x117742200> with kwargs {}\n",
      "Backing off 0.5 seconds after 1 tries calling function <function GPT3.request at 0x117742200> with kwargs {}\n"
     ]
    },
    {
     "name": "stderr",
     "output_type": "stream",
     "text": [
      "\n",
      "Average Metric: 10 / 17  (58.8):  32%|██████████████████████████████████▉                                                                          | 16/50 [00:02<00:04,  7.59it/s]\u001b[A"
     ]
    },
    {
     "name": "stdout",
     "output_type": "stream",
     "text": [
      "Backing off 0.0 seconds after 1 tries calling function <function GPT3.request at 0x117742200> with kwargs {}\n"
     ]
    },
    {
     "name": "stderr",
     "output_type": "stream",
     "text": [
      "\n",
      "Average Metric: 11 / 18  (61.1):  34%|█████████████████████████████████████                                                                        | 17/50 [00:03<00:04,  7.59it/s]\u001b[A\n",
      "Average Metric: 11 / 18  (61.1):  36%|███████████████████████████████████████▏                                                                     | 18/50 [00:03<00:06,  5.00it/s]\u001b[A\n",
      "Average Metric: 11 / 19  (57.9):  36%|███████████████████████████████████████▏                                                                     | 18/50 [00:03<00:06,  5.00it/s]\u001b[A\n",
      "Average Metric: 11 / 19  (57.9):  38%|█████████████████████████████████████████▍                                                                   | 19/50 [00:03<00:06,  4.66it/s]\u001b[A\n",
      "Average Metric: 11 / 20  (55.0):  38%|█████████████████████████████████████████▍                                                                   | 19/50 [00:03<00:06,  4.66it/s]\u001b[A\n",
      "Average Metric: 11 / 20  (55.0):  40%|███████████████████████████████████████████▌                                                                 | 20/50 [00:03<00:05,  5.14it/s]\u001b[A"
     ]
    },
    {
     "name": "stdout",
     "output_type": "stream",
     "text": [
      "Backing off 0.0 seconds after 1 tries calling function <function GPT3.request at 0x117742200> with kwargs {}\n",
      "Backing off 1.4 seconds after 2 tries calling function <function GPT3.request at 0x117742200> with kwargs {}\n",
      "Backing off 1.0 seconds after 1 tries calling function <function GPT3.request at 0x117742200> with kwargs {}\n",
      "Backing off 1.2 seconds after 2 tries calling function <function GPT3.request at 0x117742200> with kwargs {}\n"
     ]
    },
    {
     "name": "stderr",
     "output_type": "stream",
     "text": [
      "\n",
      "Average Metric: 11 / 21  (52.4):  40%|███████████████████████████████████████████▌                                                                 | 20/50 [00:04<00:05,  5.14it/s]\u001b[A\n",
      "Average Metric: 11 / 21  (52.4):  42%|█████████████████████████████████████████████▊                                                               | 21/50 [00:04<00:09,  3.13it/s]\u001b[A"
     ]
    },
    {
     "name": "stdout",
     "output_type": "stream",
     "text": [
      "Backing off 0.4 seconds after 1 tries calling function <function GPT3.request at 0x117742200> with kwargs {}\n",
      "Backing off 0.2 seconds after 1 tries calling function <function GPT3.request at 0x117742200> with kwargs {}\n"
     ]
    },
    {
     "name": "stderr",
     "output_type": "stream",
     "text": [
      "\n",
      "Average Metric: 11 / 22  (50.0):  42%|█████████████████████████████████████████████▊                                                               | 21/50 [00:04<00:09,  3.13it/s]\u001b[A\n",
      "Average Metric: 12 / 23  (52.2):  44%|███████████████████████████████████████████████▉                                                             | 22/50 [00:05<00:08,  3.13it/s]\u001b[A\n",
      "Average Metric: 12 / 23  (52.2):  46%|██████████████████████████████████████████████████▏                                                          | 23/50 [00:05<00:10,  2.55it/s]\u001b[A\n",
      "Average Metric: 13 / 24  (54.2):  46%|██████████████████████████████████████████████████▏                                                          | 23/50 [00:05<00:10,  2.55it/s]\u001b[A\n",
      "Average Metric: 13 / 25  (52.0):  48%|████████████████████████████████████████████████████▎                                                        | 24/50 [00:05<00:10,  2.55it/s]\u001b[A\n",
      "Average Metric: 13 / 25  (52.0):  50%|██████████████████████████████████████████████████████▌                                                      | 25/50 [00:05<00:08,  2.96it/s]\u001b[A"
     ]
    },
    {
     "name": "stdout",
     "output_type": "stream",
     "text": [
      "Backing off 1.0 seconds after 2 tries calling function <function GPT3.request at 0x117742200> with kwargs {}\n",
      "Backing off 2.0 seconds after 2 tries calling function <function GPT3.request at 0x117742200> with kwargs {}\n",
      "Backing off 1.5 seconds after 2 tries calling function <function GPT3.request at 0x117742200> with kwargs {}\n",
      "Backing off 2.2 seconds after 3 tries calling function <function GPT3.request at 0x117742200> with kwargs {}\n"
     ]
    },
    {
     "name": "stderr",
     "output_type": "stream",
     "text": [
      "\n",
      "Average Metric: 13 / 26  (50.0):  50%|██████████████████████████████████████████████████████▌                                                      | 25/50 [00:06<00:08,  2.96it/s]\u001b[A\n",
      "Average Metric: 13 / 26  (50.0):  52%|████████████████████████████████████████████████████████▋                                                    | 26/50 [00:06<00:08,  2.97it/s]\u001b[A"
     ]
    },
    {
     "name": "stdout",
     "output_type": "stream",
     "text": [
      "Backing off 3.4 seconds after 3 tries calling function <function GPT3.request at 0x117742200> with kwargs {}\n"
     ]
    },
    {
     "name": "stderr",
     "output_type": "stream",
     "text": [
      "\n",
      "Average Metric: 13 / 27  (48.1):  52%|████████████████████████████████████████████████████████▋                                                    | 26/50 [00:06<00:08,  2.97it/s]\u001b[A\n",
      "Average Metric: 13 / 27  (48.1):  54%|██████████████████████████████████████████████████████████▊                                                  | 27/50 [00:06<00:08,  2.82it/s]\u001b[A"
     ]
    },
    {
     "name": "stdout",
     "output_type": "stream",
     "text": [
      "Backing off 0.2 seconds after 1 tries calling function <function GPT3.request at 0x117742200> with kwargs {}\n"
     ]
    },
    {
     "name": "stderr",
     "output_type": "stream",
     "text": [
      "\n",
      "Average Metric: 14 / 28  (50.0):  54%|██████████████████████████████████████████████████████████▊                                                  | 27/50 [00:07<00:08,  2.82it/s]\u001b[A\n",
      "Average Metric: 14 / 28  (50.0):  56%|█████████████████████████████████████████████████████████████                                                | 28/50 [00:07<00:08,  2.60it/s]\u001b[A"
     ]
    },
    {
     "name": "stdout",
     "output_type": "stream",
     "text": [
      "Backing off 0.5 seconds after 1 tries calling function <function GPT3.request at 0x117742200> with kwargs {}\n",
      "Backing off 3.8 seconds after 3 tries calling function <function GPT3.request at 0x117742200> with kwargs {}\n"
     ]
    },
    {
     "name": "stderr",
     "output_type": "stream",
     "text": [
      "\n",
      "Average Metric: 14 / 29  (48.3):  56%|█████████████████████████████████████████████████████████████                                                | 28/50 [00:08<00:08,  2.60it/s]\u001b[A\n",
      "Average Metric: 14 / 29  (48.3):  58%|███████████████████████████████████████████████████████████████▏                                             | 29/50 [00:08<00:13,  1.60it/s]\u001b[A\n",
      "Average Metric: 14 / 30  (46.7):  58%|███████████████████████████████████████████████████████████████▏                                             | 29/50 [00:08<00:13,  1.60it/s]\u001b[A\n",
      "Average Metric: 14 / 30  (46.7):  60%|█████████████████████████████████████████████████████████████████▍                                           | 30/50 [00:08<00:10,  1.82it/s]\u001b[A\n",
      "Average Metric: 14 / 31  (45.2):  60%|█████████████████████████████████████████████████████████████████▍                                           | 30/50 [00:08<00:10,  1.82it/s]\u001b[A"
     ]
    },
    {
     "name": "stdout",
     "output_type": "stream",
     "text": [
      "Backing off 2.3 seconds after 3 tries calling function <function GPT3.request at 0x117742200> with kwargs {}\n"
     ]
    },
    {
     "name": "stderr",
     "output_type": "stream",
     "text": [
      "\n",
      "Average Metric: 15 / 32  (46.9):  62%|███████████████████████████████████████████████████████████████████▌                                         | 31/50 [00:09<00:10,  1.82it/s]\u001b[A\n",
      "Average Metric: 15 / 32  (46.9):  64%|█████████████████████████████████████████████████████████████████████▊                                       | 32/50 [00:09<00:07,  2.26it/s]\u001b[A\n",
      "Average Metric: 15 / 33  (45.5):  64%|█████████████████████████████████████████████████████████████████████▊                                       | 32/50 [00:09<00:07,  2.26it/s]\u001b[A\n",
      "Average Metric: 15 / 33  (45.5):  66%|███████████████████████████████████████████████████████████████████████▉                                     | 33/50 [00:09<00:06,  2.51it/s]\u001b[A"
     ]
    },
    {
     "name": "stdout",
     "output_type": "stream",
     "text": [
      "Backing off 0.5 seconds after 1 tries calling function <function GPT3.request at 0x117742200> with kwargs {}\n",
      "Backing off 2.2 seconds after 4 tries calling function <function GPT3.request at 0x117742200> with kwargs {}\n",
      "Backing off 0.5 seconds after 1 tries calling function <function GPT3.request at 0x117742200> with kwargs {}\n"
     ]
    },
    {
     "name": "stderr",
     "output_type": "stream",
     "text": [
      "\n",
      "Average Metric: 16 / 34  (47.1):  66%|███████████████████████████████████████████████████████████████████████▉                                     | 33/50 [00:10<00:06,  2.51it/s]\u001b[A\n",
      "Average Metric: 16 / 34  (47.1):  68%|██████████████████████████████████████████████████████████████████████████                                   | 34/50 [00:10<00:07,  2.00it/s]\u001b[A"
     ]
    },
    {
     "name": "stdout",
     "output_type": "stream",
     "text": [
      "Backing off 7.7 seconds after 4 tries calling function <function GPT3.request at 0x117742200> with kwargs {}\n"
     ]
    },
    {
     "name": "stderr",
     "output_type": "stream",
     "text": [
      "\n",
      "Average Metric: 17 / 35  (48.6):  68%|██████████████████████████████████████████████████████████████████████████                                   | 34/50 [00:10<00:07,  2.00it/s]\u001b[A\n",
      "Average Metric: 17 / 35  (48.6):  70%|████████████████████████████████████████████████████████████████████████████▎                                | 35/50 [00:10<00:07,  2.08it/s]\u001b[A"
     ]
    },
    {
     "name": "stdout",
     "output_type": "stream",
     "text": [
      "Backing off 0.0 seconds after 2 tries calling function <function GPT3.request at 0x117742200> with kwargs {}\n"
     ]
    },
    {
     "name": "stderr",
     "output_type": "stream",
     "text": [
      "\n",
      "Average Metric: 17 / 36  (47.2):  70%|████████████████████████████████████████████████████████████████████████████▎                                | 35/50 [00:11<00:07,  2.08it/s]\u001b[A\n",
      "Average Metric: 17 / 36  (47.2):  72%|██████████████████████████████████████████████████████████████████████████████▍                              | 36/50 [00:11<00:07,  1.81it/s]\u001b[A\n",
      "Average Metric: 17 / 37  (45.9):  72%|██████████████████████████████████████████████████████████████████████████████▍                              | 36/50 [00:11<00:07,  1.81it/s]\u001b[A"
     ]
    },
    {
     "name": "stdout",
     "output_type": "stream",
     "text": [
      "Backing off 1.6 seconds after 2 tries calling function <function GPT3.request at 0x117742200> with kwargs {}\n",
      "Backing off 3.3 seconds after 3 tries calling function <function GPT3.request at 0x117742200> with kwargs {}\n"
     ]
    },
    {
     "name": "stderr",
     "output_type": "stream",
     "text": [
      "\n",
      "Average Metric: 17 / 38  (44.7):  74%|████████████████████████████████████████████████████████████████████████████████▋                            | 37/50 [00:12<00:07,  1.81it/s]\u001b[A\n",
      "Average Metric: 17 / 38  (44.7):  76%|██████████████████████████████████████████████████████████████████████████████████▊                          | 38/50 [00:12<00:05,  2.13it/s]\u001b[A\n",
      "Average Metric: 17 / 39  (43.6):  76%|██████████████████████████████████████████████████████████████████████████████████▊                          | 38/50 [00:12<00:05,  2.13it/s]\u001b[A\n",
      "Average Metric: 17 / 39  (43.6):  78%|█████████████████████████████████████████████████████████████████████████████████████                        | 39/50 [00:12<00:05,  2.16it/s]\u001b[A"
     ]
    },
    {
     "name": "stdout",
     "output_type": "stream",
     "text": [
      "Backing off 0.9 seconds after 1 tries calling function <function GPT3.request at 0x117742200> with kwargs {}\n",
      "Backing off 5.9 seconds after 4 tries calling function <function GPT3.request at 0x117742200> with kwargs {}\n",
      "Backing off 12.9 seconds after 5 tries calling function <function GPT3.request at 0x117742200> with kwargs {}\n"
     ]
    },
    {
     "name": "stderr",
     "output_type": "stream",
     "text": [
      "\n",
      "Average Metric: 17 / 40  (42.5):  78%|█████████████████████████████████████████████████████████████████████████████████████                        | 39/50 [00:13<00:05,  2.16it/s]\u001b[A\n",
      "Average Metric: 17 / 40  (42.5):  80%|███████████████████████████████████████████████████████████████████████████████████████▏                     | 40/50 [00:13<00:05,  1.85it/s]\u001b[A\n",
      "Average Metric: 18 / 41  (43.9):  80%|███████████████████████████████████████████████████████████████████████████████████████▏                     | 40/50 [00:13<00:05,  1.85it/s]\u001b[A"
     ]
    },
    {
     "name": "stdout",
     "output_type": "stream",
     "text": [
      "Backing off 2.1 seconds after 3 tries calling function <function GPT3.request at 0x117742200> with kwargs {}\n"
     ]
    },
    {
     "name": "stderr",
     "output_type": "stream",
     "text": [
      "\n",
      "Average Metric: 19 / 42  (45.2):  82%|█████████████████████████████████████████████████████████████████████████████████████████▍                   | 41/50 [00:14<00:04,  1.85it/s]\u001b[A\n",
      "Average Metric: 19 / 42  (45.2):  84%|███████████████████████████████████████████████████████████████████████████████████████████▌                 | 42/50 [00:14<00:03,  2.10it/s]\u001b[A\n",
      "Average Metric: 20 / 43  (46.5):  84%|███████████████████████████████████████████████████████████████████████████████████████████▌                 | 42/50 [00:14<00:03,  2.10it/s]\u001b[A\n",
      "Average Metric: 20 / 43  (46.5):  86%|█████████████████████████████████████████████████████████████████████████████████████████████▋               | 43/50 [00:14<00:02,  2.38it/s]\u001b[A"
     ]
    },
    {
     "name": "stdout",
     "output_type": "stream",
     "text": [
      "Backing off 0.6 seconds after 1 tries calling function <function GPT3.request at 0x117742200> with kwargs {}\n"
     ]
    },
    {
     "name": "stderr",
     "output_type": "stream",
     "text": [
      "\n",
      "Average Metric: 21 / 44  (47.7):  86%|█████████████████████████████████████████████████████████████████████████████████████████████▋               | 43/50 [00:14<00:02,  2.38it/s]\u001b[A\n",
      "Average Metric: 21 / 44  (47.7):  88%|███████████████████████████████████████████████████████████████████████████████████████████████▉             | 44/50 [00:14<00:02,  2.44it/s]\u001b[A\n",
      "Average Metric: 22 / 45  (48.9):  88%|███████████████████████████████████████████████████████████████████████████████████████████████▉             | 44/50 [00:16<00:02,  2.44it/s]\u001b[A\n",
      "Average Metric: 22 / 45  (48.9):  90%|██████████████████████████████████████████████████████████████████████████████████████████████████           | 45/50 [00:16<00:03,  1.63it/s]\u001b[A\n",
      "Average Metric: 23 / 46  (50.0):  90%|██████████████████████████████████████████████████████████████████████████████████████████████████           | 45/50 [00:16<00:03,  1.63it/s]\u001b[A\n",
      "Average Metric: 23 / 47  (48.9):  92%|████████████████████████████████████████████████████████████████████████████████████████████████████▎        | 46/50 [00:16<00:02,  1.63it/s]\u001b[A\n",
      "Average Metric: 23 / 47  (48.9):  94%|██████████████████████████████████████████████████████████████████████████████████████████████████████▍      | 47/50 [00:16<00:01,  1.90it/s]\u001b[A\n",
      "Average Metric: 23 / 48  (47.9):  94%|██████████████████████████████████████████████████████████████████████████████████████████████████████▍      | 47/50 [00:19<00:01,  1.90it/s]\u001b[A\n",
      "Average Metric: 23 / 48  (47.9):  96%|████████████████████████████████████████████████████████████████████████████████████████████████████████▋    | 48/50 [00:19<00:01,  1.02it/s]\u001b[A\n",
      "Average Metric: 23 / 49  (46.9):  96%|████████████████████████████████████████████████████████████████████████████████████████████████████████▋    | 48/50 [00:19<00:01,  1.02it/s]\u001b[A\n",
      "Average Metric: 23 / 49  (46.9):  98%|██████████████████████████████████████████████████████████████████████████████████████████████████████████▊  | 49/50 [00:19<00:00,  1.17it/s]\u001b[A\n",
      "Average Metric: 23 / 50  (46.0):  98%|██████████████████████████████████████████████████████████████████████████████████████████████████████████▊  | 49/50 [00:27<00:00,  1.17it/s]\u001b[A\n",
      "Average Metric: 23 / 50  (46.0): 100%|█████████████████████████████████████████████████████████████████████████████████████████████████████████████| 50/50 [00:27<00:00,  1.84it/s]\u001b[A\n"
     ]
    },
    {
     "name": "stdout",
     "output_type": "stream",
     "text": [
      "Average Metric: 23 / 50  (46.0%)\n",
      "Score: 46.0 for set: [8]\n",
      "Scores so far: [48.0, 58.0, 60.0, 72.0, 56.0, 70.0, 42.0, 56.0, 66.0, 46.0]\n",
      "Best score: 72.0\n",
      "Average of max per entry across top 1 scores: 0.72\n",
      "Average of max per entry across top 2 scores: 0.94\n",
      "Average of max per entry across top 3 scores: 0.98\n",
      "Average of max per entry across top 5 scores: 1.0\n",
      "Average of max per entry across top 8 scores: 1.0\n",
      "Average of max per entry across top 9999 scores: 1.0\n"
     ]
    },
    {
     "name": "stderr",
     "output_type": "stream",
     "text": [
      "\n",
      "  0%|                                                                                                                                                      | 0/200 [00:00<?, ?it/s]\u001b[A\n",
      "  0%|▋                                                                                                                                             | 1/200 [00:02<09:28,  2.86s/it]\u001b[A\n",
      "  1%|█▍                                                                                                                                            | 2/200 [00:06<11:26,  3.47s/it]\u001b[A\n",
      "  2%|██▏                                                                                                                                           | 3/200 [00:10<11:47,  3.59s/it]\u001b[A\n",
      "  2%|██▊                                                                                                                                           | 4/200 [00:15<13:45,  4.21s/it]\u001b[A\n",
      "  2%|███▌                                                                                                                                          | 5/200 [00:19<13:06,  4.03s/it]\u001b[A\n",
      "  3%|████▎                                                                                                                                         | 6/200 [00:22<11:30,  3.56s/it]\u001b[A\n",
      "  4%|████▉                                                                                                                                         | 7/200 [00:25<11:31,  3.58s/it]\u001b[A\n"
     ]
    },
    {
     "name": "stdout",
     "output_type": "stream",
     "text": [
      "Bootstrapped 6 full traces after 8 examples in round 0.\n"
     ]
    },
    {
     "name": "stderr",
     "output_type": "stream",
     "text": [
      "\n",
      "  0%|                                                                                                                                                       | 0/50 [00:00<?, ?it/s]\u001b[A\n",
      "Average Metric: 1 / 1  (100.0):   0%|                                                                                                                       | 0/50 [00:00<?, ?it/s]\u001b[A\n",
      "Average Metric: 1 / 1  (100.0):   2%|██▏                                                                                                            | 1/50 [00:00<00:39,  1.24it/s]\u001b[A\n",
      "Average Metric: 2 / 2  (100.0):   2%|██▏                                                                                                            | 1/50 [00:00<00:39,  1.24it/s]\u001b[A\n",
      "Average Metric: 2 / 2  (100.0):   4%|████▍                                                                                                          | 2/50 [00:00<00:20,  2.32it/s]\u001b[A\n",
      "Average Metric: 3 / 3  (100.0):   4%|████▍                                                                                                          | 2/50 [00:01<00:20,  2.32it/s]\u001b[A\n",
      "Average Metric: 4 / 4  (100.0):   6%|██████▋                                                                                                        | 3/50 [00:01<00:20,  2.32it/s]\u001b[A\n",
      "Average Metric: 4 / 4  (100.0):   8%|████████▉                                                                                                      | 4/50 [00:01<00:09,  4.84it/s]\u001b[A\n",
      "Average Metric: 5 / 5  (100.0):   8%|████████▉                                                                                                      | 4/50 [00:01<00:09,  4.84it/s]\u001b[A\n",
      "Average Metric: 6 / 6  (100.0):  10%|███████████                                                                                                    | 5/50 [00:01<00:09,  4.84it/s]\u001b[A\n",
      "Average Metric: 7 / 7  (100.0):  12%|█████████████▎                                                                                                 | 6/50 [00:01<00:09,  4.84it/s]\u001b[A\n",
      "Average Metric: 7 / 8  (87.5):  14%|███████████████▋                                                                                                | 7/50 [00:01<00:08,  4.84it/s]\u001b[A\n",
      "Average Metric: 7 / 8  (87.5):  16%|█████████████████▉                                                                                              | 8/50 [00:01<00:08,  5.14it/s]\u001b[A\n",
      "Average Metric: 8 / 9  (88.9):  16%|█████████████████▉                                                                                              | 8/50 [00:01<00:08,  5.14it/s]\u001b[A\n",
      "Average Metric: 9 / 10  (90.0):  18%|███████████████████▉                                                                                           | 9/50 [00:02<00:07,  5.14it/s]\u001b[A\n",
      "Average Metric: 9 / 10  (90.0):  20%|██████████████████████                                                                                        | 10/50 [00:02<00:06,  6.20it/s]\u001b[A\n",
      "Average Metric: 10 / 11  (90.9):  20%|█████████████████████▊                                                                                       | 10/50 [00:02<00:06,  6.20it/s]\u001b[A\n",
      "Average Metric: 11 / 12  (91.7):  22%|███████████████████████▉                                                                                     | 11/50 [00:02<00:06,  6.20it/s]\u001b[A\n",
      "Average Metric: 11 / 12  (91.7):  24%|██████████████████████████▏                                                                                  | 12/50 [00:02<00:06,  5.94it/s]\u001b[A\n",
      "Average Metric: 12 / 13  (92.3):  24%|██████████████████████████▏                                                                                  | 12/50 [00:02<00:06,  5.94it/s]\u001b[A\n",
      "Average Metric: 13 / 14  (92.9):  26%|████████████████████████████▎                                                                                | 13/50 [00:02<00:06,  5.94it/s]\u001b[A\n",
      "Average Metric: 13 / 15  (86.7):  28%|██████████████████████████████▌                                                                              | 14/50 [00:02<00:06,  5.94it/s]\u001b[A\n",
      "Average Metric: 14 / 16  (87.5):  30%|████████████████████████████████▋                                                                            | 15/50 [00:02<00:05,  5.94it/s]\u001b[A\n",
      "Average Metric: 14 / 16  (87.5):  32%|██████████████████████████████████▉                                                                          | 16/50 [00:02<00:05,  6.69it/s]\u001b[A\n",
      "Average Metric: 15 / 17  (88.2):  32%|██████████████████████████████████▉                                                                          | 16/50 [00:03<00:05,  6.69it/s]\u001b[A\n",
      "Average Metric: 15 / 17  (88.2):  34%|█████████████████████████████████████                                                                        | 17/50 [00:03<00:04,  7.01it/s]\u001b[A\n",
      "Average Metric: 15 / 18  (83.3):  34%|█████████████████████████████████████                                                                        | 17/50 [00:03<00:04,  7.01it/s]\u001b[A\n",
      "Average Metric: 16 / 19  (84.2):  36%|███████████████████████████████████████▏                                                                     | 18/50 [00:03<00:04,  7.01it/s]\u001b[A\n",
      "Average Metric: 16 / 19  (84.2):  38%|█████████████████████████████████████████▍                                                                   | 19/50 [00:03<00:04,  6.37it/s]\u001b[A\n",
      "Average Metric: 16 / 20  (80.0):  38%|█████████████████████████████████████████▍                                                                   | 19/50 [00:03<00:04,  6.37it/s]\u001b[A\n",
      "Average Metric: 17 / 21  (81.0):  40%|███████████████████████████████████████████▌                                                                 | 20/50 [00:03<00:04,  6.37it/s]\u001b[A\n",
      "Average Metric: 17 / 22  (77.3):  42%|█████████████████████████████████████████████▊                                                               | 21/50 [00:03<00:04,  6.37it/s]\u001b[A\n",
      "Average Metric: 17 / 22  (77.3):  44%|███████████████████████████████████████████████▉                                                             | 22/50 [00:03<00:03,  8.91it/s]\u001b[A\n",
      "Average Metric: 18 / 23  (78.3):  44%|███████████████████████████████████████████████▉                                                             | 22/50 [00:03<00:03,  8.91it/s]\u001b[A\n",
      "Average Metric: 18 / 24  (75.0):  46%|██████████████████████████████████████████████████▏                                                          | 23/50 [00:03<00:03,  8.91it/s]\u001b[A\n",
      "Average Metric: 18 / 24  (75.0):  48%|████████████████████████████████████████████████████▎                                                        | 24/50 [00:03<00:03,  7.56it/s]\u001b[A\n",
      "Average Metric: 18 / 25  (72.0):  48%|████████████████████████████████████████████████████▎                                                        | 24/50 [00:04<00:03,  7.56it/s]\u001b[A\n",
      "Average Metric: 19 / 26  (73.1):  50%|██████████████████████████████████████████████████████▌                                                      | 25/50 [00:04<00:03,  7.56it/s]\u001b[A\n",
      "Average Metric: 19 / 26  (73.1):  52%|████████████████████████████████████████████████████████▋                                                    | 26/50 [00:04<00:02,  8.66it/s]\u001b[A\n",
      "Average Metric: 19 / 27  (70.4):  52%|████████████████████████████████████████████████████████▋                                                    | 26/50 [00:04<00:02,  8.66it/s]\u001b[A\n",
      "Average Metric: 19 / 28  (67.9):  54%|██████████████████████████████████████████████████████████▊                                                  | 27/50 [00:04<00:02,  8.66it/s]\u001b[A\n",
      "Average Metric: 19 / 28  (67.9):  56%|█████████████████████████████████████████████████████████████                                                | 28/50 [00:04<00:03,  5.95it/s]\u001b[A\n",
      "Average Metric: 19 / 29  (65.5):  56%|█████████████████████████████████████████████████████████████                                                | 28/50 [00:04<00:03,  5.95it/s]\u001b[A\n",
      "Average Metric: 20 / 30  (66.7):  58%|███████████████████████████████████████████████████████████████▏                                             | 29/50 [00:04<00:03,  5.95it/s]\u001b[A\n",
      "Average Metric: 20 / 31  (64.5):  60%|█████████████████████████████████████████████████████████████████▍                                           | 30/50 [00:04<00:03,  5.95it/s]\u001b[A\n",
      "Average Metric: 20 / 31  (64.5):  62%|███████████████████████████████████████████████████████████████████▌                                         | 31/50 [00:04<00:02,  7.43it/s]\u001b[A\n",
      "Average Metric: 20 / 32  (62.5):  62%|███████████████████████████████████████████████████████████████████▌                                         | 31/50 [00:04<00:02,  7.43it/s]\u001b[A\n",
      "Average Metric: 21 / 33  (63.6):  64%|█████████████████████████████████████████████████████████████████████▊                                       | 32/50 [00:05<00:02,  7.43it/s]\u001b[A\n",
      "Average Metric: 21 / 33  (63.6):  66%|███████████████████████████████████████████████████████████████████████▉                                     | 33/50 [00:05<00:01,  8.75it/s]\u001b[A\n",
      "Average Metric: 22 / 34  (64.7):  66%|███████████████████████████████████████████████████████████████████████▉                                     | 33/50 [00:05<00:01,  8.75it/s]\u001b[A\n",
      "Average Metric: 22 / 35  (62.9):  68%|██████████████████████████████████████████████████████████████████████████                                   | 34/50 [00:05<00:01,  8.75it/s]\u001b[A\n",
      "Average Metric: 22 / 35  (62.9):  70%|████████████████████████████████████████████████████████████████████████████▎                                | 35/50 [00:05<00:02,  5.58it/s]\u001b[A\n",
      "Average Metric: 23 / 36  (63.9):  70%|████████████████████████████████████████████████████████████████████████████▎                                | 35/50 [00:05<00:02,  5.58it/s]\u001b[A\n",
      "Average Metric: 23 / 36  (63.9):  72%|██████████████████████████████████████████████████████████████████████████████▍                              | 36/50 [00:05<00:02,  5.77it/s]\u001b[A\n",
      "Average Metric: 24 / 37  (64.9):  72%|██████████████████████████████████████████████████████████████████████████████▍                              | 36/50 [00:06<00:02,  5.77it/s]\u001b[A\n",
      "Average Metric: 24 / 37  (64.9):  74%|████████████████████████████████████████████████████████████████████████████████▋                            | 37/50 [00:06<00:02,  5.87it/s]\u001b[A\n",
      "Average Metric: 25 / 38  (65.8):  74%|████████████████████████████████████████████████████████████████████████████████▋                            | 37/50 [00:06<00:02,  5.87it/s]\u001b[A\n",
      "Average Metric: 25 / 39  (64.1):  76%|██████████████████████████████████████████████████████████████████████████████████▊                          | 38/50 [00:06<00:02,  5.87it/s]\u001b[A\n",
      "Average Metric: 26 / 40  (65.0):  78%|█████████████████████████████████████████████████████████████████████████████████████                        | 39/50 [00:06<00:01,  5.87it/s]\u001b[A\n",
      "Average Metric: 27 / 41  (65.9):  80%|███████████████████████████████████████████████████████████████████████████████████████▏                     | 40/50 [00:06<00:01,  5.87it/s]\u001b[A\n",
      "Average Metric: 27 / 41  (65.9):  82%|█████████████████████████████████████████████████████████████████████████████████████████▍                   | 41/50 [00:06<00:00,  9.69it/s]\u001b[A\n",
      "Average Metric: 28 / 42  (66.7):  82%|█████████████████████████████████████████████████████████████████████████████████████████▍                   | 41/50 [00:06<00:00,  9.69it/s]\u001b[A\n",
      "Average Metric: 28 / 43  (65.1):  84%|███████████████████████████████████████████████████████████████████████████████████████████▌                 | 42/50 [00:07<00:00,  9.69it/s]\u001b[A\n",
      "Average Metric: 28 / 43  (65.1):  86%|█████████████████████████████████████████████████████████████████████████████████████████████▋               | 43/50 [00:07<00:01,  5.28it/s]\u001b[A\n",
      "Average Metric: 28 / 44  (63.6):  86%|█████████████████████████████████████████████████████████████████████████████████████████████▋               | 43/50 [00:07<00:01,  5.28it/s]\u001b[A\n",
      "Average Metric: 29 / 45  (64.4):  88%|███████████████████████████████████████████████████████████████████████████████████████████████▉             | 44/50 [00:07<00:01,  5.28it/s]\u001b[A\n",
      "Average Metric: 29 / 46  (63.0):  90%|██████████████████████████████████████████████████████████████████████████████████████████████████           | 45/50 [00:07<00:00,  5.28it/s]\u001b[A\n",
      "Average Metric: 29 / 46  (63.0):  92%|████████████████████████████████████████████████████████████████████████████████████████████████████▎        | 46/50 [00:07<00:00,  7.30it/s]\u001b[A\n",
      "Average Metric: 30 / 47  (63.8):  92%|████████████████████████████████████████████████████████████████████████████████████████████████████▎        | 46/50 [00:07<00:00,  7.30it/s]\u001b[A\n",
      "Average Metric: 30 / 48  (62.5):  94%|██████████████████████████████████████████████████████████████████████████████████████████████████████▍      | 47/50 [00:07<00:00,  7.30it/s]\u001b[A\n",
      "Average Metric: 31 / 49  (63.3):  96%|████████████████████████████████████████████████████████████████████████████████████████████████████████▋    | 48/50 [00:07<00:00,  7.30it/s]\u001b[A\n",
      "Average Metric: 31 / 49  (63.3):  98%|██████████████████████████████████████████████████████████████████████████████████████████████████████████▊  | 49/50 [00:07<00:00,  9.32it/s]\u001b[A\n",
      "Average Metric: 32 / 50  (64.0): 100%|█████████████████████████████████████████████████████████████████████████████████████████████████████████████| 50/50 [00:07<00:00,  6.45it/s]\u001b[A\n"
     ]
    },
    {
     "name": "stdout",
     "output_type": "stream",
     "text": [
      "Average Metric: 32 / 50  (64.0%)\n",
      "Score: 64.0 for set: [8]\n",
      "Scores so far: [48.0, 58.0, 60.0, 72.0, 56.0, 70.0, 42.0, 56.0, 66.0, 46.0, 64.0]\n",
      "Best score: 72.0\n",
      "Average of max per entry across top 1 scores: 0.72\n",
      "Average of max per entry across top 2 scores: 0.94\n",
      "Average of max per entry across top 3 scores: 0.98\n",
      "Average of max per entry across top 5 scores: 1.0\n",
      "Average of max per entry across top 8 scores: 1.0\n",
      "Average of max per entry across top 9999 scores: 1.0\n"
     ]
    },
    {
     "name": "stderr",
     "output_type": "stream",
     "text": [
      "\n",
      "  0%|                                                                                                                                                      | 0/200 [00:00<?, ?it/s]\u001b[A\n",
      "  0%|▋                                                                                                                                             | 1/200 [00:03<11:58,  3.61s/it]\u001b[A\n",
      "  1%|█▍                                                                                                                                            | 2/200 [00:06<09:57,  3.02s/it]\u001b[A\n",
      "  2%|██▏                                                                                                                                           | 3/200 [00:10<12:30,  3.81s/it]\u001b[A\n",
      "  2%|██▊                                                                                                                                           | 4/200 [00:13<11:15,  3.45s/it]\u001b[A\n",
      "  2%|███▌                                                                                                                                          | 5/200 [00:17<11:08,  3.43s/it]\u001b[A\n"
     ]
    },
    {
     "name": "stdout",
     "output_type": "stream",
     "text": [
      "Bootstrapped 4 full traces after 6 examples in round 0.\n"
     ]
    },
    {
     "name": "stderr",
     "output_type": "stream",
     "text": [
      "\n",
      "  0%|                                                                                                                                                       | 0/50 [00:00<?, ?it/s]\u001b[A\n",
      "Average Metric: 1 / 1  (100.0):   0%|                                                                                                                       | 0/50 [00:00<?, ?it/s]\u001b[A\n",
      "Average Metric: 1 / 1  (100.0):   2%|██▏                                                                                                            | 1/50 [00:00<00:38,  1.27it/s]\u001b[A\n",
      "Average Metric: 2 / 2  (100.0):   2%|██▏                                                                                                            | 1/50 [00:00<00:38,  1.27it/s]\u001b[A\n",
      "Average Metric: 2 / 3  (66.7):   4%|████▍                                                                                                           | 2/50 [00:00<00:37,  1.27it/s]\u001b[A\n",
      "Average Metric: 3 / 4  (75.0):   6%|██████▋                                                                                                         | 3/50 [00:00<00:36,  1.27it/s]\u001b[A\n",
      "Average Metric: 3 / 4  (75.0):   8%|████████▉                                                                                                       | 4/50 [00:00<00:09,  4.95it/s]\u001b[A\n",
      "Average Metric: 4 / 5  (80.0):   8%|████████▉                                                                                                       | 4/50 [00:01<00:09,  4.95it/s]\u001b[A\n",
      "Average Metric: 5 / 6  (83.3):  10%|███████████▏                                                                                                    | 5/50 [00:01<00:09,  4.95it/s]\u001b[A\n",
      "Average Metric: 5 / 6  (83.3):  12%|█████████████▍                                                                                                  | 6/50 [00:01<00:06,  6.93it/s]\u001b[A\n",
      "Average Metric: 6 / 7  (85.7):  12%|█████████████▍                                                                                                  | 6/50 [00:01<00:06,  6.93it/s]\u001b[A\n",
      "Average Metric: 6 / 8  (75.0):  14%|███████████████▋                                                                                                | 7/50 [00:01<00:06,  6.93it/s]\u001b[A\n",
      "Average Metric: 6 / 8  (75.0):  16%|█████████████████▉                                                                                              | 8/50 [00:01<00:07,  5.85it/s]\u001b[A\n",
      "Average Metric: 6 / 9  (66.7):  16%|█████████████████▉                                                                                              | 8/50 [00:01<00:07,  5.85it/s]\u001b[A\n",
      "Average Metric: 7 / 10  (70.0):  18%|███████████████████▉                                                                                           | 9/50 [00:01<00:07,  5.85it/s]\u001b[A\n",
      "Average Metric: 7 / 10  (70.0):  20%|██████████████████████                                                                                        | 10/50 [00:01<00:05,  6.79it/s]\u001b[A\n",
      "Average Metric: 7 / 11  (63.6):  20%|██████████████████████                                                                                        | 10/50 [00:01<00:05,  6.79it/s]\u001b[A\n",
      "Average Metric: 8 / 12  (66.7):  22%|████████████████████████▏                                                                                     | 11/50 [00:01<00:05,  6.79it/s]\u001b[A\n",
      "Average Metric: 9 / 13  (69.2):  24%|██████████████████████████▍                                                                                   | 12/50 [00:02<00:05,  6.79it/s]\u001b[A\n",
      "Average Metric: 9 / 13  (69.2):  26%|████████████████████████████▌                                                                                 | 13/50 [00:02<00:04,  8.41it/s]\u001b[A\n",
      "Average Metric: 10 / 14  (71.4):  26%|████████████████████████████▎                                                                                | 13/50 [00:02<00:04,  8.41it/s]\u001b[A\n",
      "Average Metric: 10 / 15  (66.7):  28%|██████████████████████████████▌                                                                              | 14/50 [00:02<00:04,  8.41it/s]\u001b[A\n",
      "Average Metric: 10 / 15  (66.7):  30%|████████████████████████████████▋                                                                            | 15/50 [00:02<00:05,  6.65it/s]\u001b[A\n",
      "Average Metric: 11 / 16  (68.8):  30%|████████████████████████████████▋                                                                            | 15/50 [00:02<00:05,  6.65it/s]\u001b[A\n",
      "Average Metric: 11 / 17  (64.7):  32%|██████████████████████████████████▉                                                                          | 16/50 [00:02<00:05,  6.65it/s]\u001b[A\n",
      "Average Metric: 11 / 17  (64.7):  34%|█████████████████████████████████████                                                                        | 17/50 [00:02<00:04,  8.24it/s]\u001b[A\n",
      "Average Metric: 11 / 18  (61.1):  34%|█████████████████████████████████████                                                                        | 17/50 [00:02<00:04,  8.24it/s]\u001b[A\n",
      "Average Metric: 11 / 19  (57.9):  36%|███████████████████████████████████████▏                                                                     | 18/50 [00:02<00:03,  8.24it/s]\u001b[A\n",
      "Average Metric: 11 / 19  (57.9):  38%|█████████████████████████████████████████▍                                                                   | 19/50 [00:02<00:03,  8.12it/s]\u001b[A\n",
      "Average Metric: 12 / 20  (60.0):  38%|█████████████████████████████████████████▍                                                                   | 19/50 [00:02<00:03,  8.12it/s]\u001b[A\n",
      "Average Metric: 12 / 21  (57.1):  40%|███████████████████████████████████████████▌                                                                 | 20/50 [00:02<00:03,  8.12it/s]\u001b[A\n",
      "Average Metric: 12 / 21  (57.1):  42%|█████████████████████████████████████████████▊                                                               | 21/50 [00:02<00:03,  8.77it/s]\u001b[A\n",
      "Average Metric: 12 / 22  (54.5):  42%|█████████████████████████████████████████████▊                                                               | 21/50 [00:03<00:03,  8.77it/s]\u001b[A\n",
      "Average Metric: 12 / 23  (52.2):  44%|███████████████████████████████████████████████▉                                                             | 22/50 [00:03<00:03,  8.77it/s]\u001b[A\n",
      "Average Metric: 12 / 23  (52.2):  46%|██████████████████████████████████████████████████▏                                                          | 23/50 [00:03<00:03,  7.09it/s]\u001b[A\n",
      "Average Metric: 12 / 24  (50.0):  46%|██████████████████████████████████████████████████▏                                                          | 23/50 [00:03<00:03,  7.09it/s]\u001b[A\n",
      "Average Metric: 12 / 24  (50.0):  48%|████████████████████████████████████████████████████▎                                                        | 24/50 [00:03<00:03,  7.44it/s]\u001b[A\n",
      "Average Metric: 12 / 25  (48.0):  48%|████████████████████████████████████████████████████▎                                                        | 24/50 [00:03<00:03,  7.44it/s]\u001b[A\n",
      "Average Metric: 13 / 26  (50.0):  50%|██████████████████████████████████████████████████████▌                                                      | 25/50 [00:03<00:03,  7.44it/s]\u001b[A\n",
      "Average Metric: 13 / 26  (50.0):  52%|████████████████████████████████████████████████████████▋                                                    | 26/50 [00:03<00:03,  7.43it/s]\u001b[A\n",
      "Average Metric: 14 / 27  (51.9):  52%|████████████████████████████████████████████████████████▋                                                    | 26/50 [00:03<00:03,  7.43it/s]\u001b[A\n",
      "Average Metric: 15 / 28  (53.6):  54%|██████████████████████████████████████████████████████████▊                                                  | 27/50 [00:03<00:03,  7.43it/s]\u001b[A\n",
      "Average Metric: 15 / 28  (53.6):  56%|█████████████████████████████████████████████████████████████                                                | 28/50 [00:03<00:02,  9.21it/s]\u001b[A\n",
      "Average Metric: 15 / 29  (51.7):  56%|█████████████████████████████████████████████████████████████                                                | 28/50 [00:03<00:02,  9.21it/s]\u001b[A\n",
      "Average Metric: 15 / 30  (50.0):  58%|███████████████████████████████████████████████████████████████▏                                             | 29/50 [00:04<00:02,  9.21it/s]\u001b[A\n",
      "Average Metric: 15 / 30  (50.0):  60%|█████████████████████████████████████████████████████████████████▍                                           | 30/50 [00:04<00:02,  7.39it/s]\u001b[A\n",
      "Average Metric: 15 / 31  (48.4):  60%|█████████████████████████████████████████████████████████████████▍                                           | 30/50 [00:04<00:02,  7.39it/s]\u001b[A\n",
      "Average Metric: 16 / 32  (50.0):  62%|███████████████████████████████████████████████████████████████████▌                                         | 31/50 [00:04<00:02,  7.39it/s]\u001b[A\n",
      "Average Metric: 16 / 32  (50.0):  64%|█████████████████████████████████████████████████████████████████████▊                                       | 32/50 [00:04<00:02,  7.82it/s]\u001b[A\n",
      "Average Metric: 16 / 33  (48.5):  64%|█████████████████████████████████████████████████████████████████████▊                                       | 32/50 [00:04<00:02,  7.82it/s]\u001b[A\n",
      "Average Metric: 16 / 33  (48.5):  66%|███████████████████████████████████████████████████████████████████████▉                                     | 33/50 [00:04<00:02,  7.05it/s]\u001b[A\n",
      "Average Metric: 16 / 34  (47.1):  66%|███████████████████████████████████████████████████████████████████████▉                                     | 33/50 [00:04<00:02,  7.05it/s]\u001b[A\n",
      "Average Metric: 16 / 35  (45.7):  68%|██████████████████████████████████████████████████████████████████████████                                   | 34/50 [00:04<00:02,  7.05it/s]\u001b[A\n",
      "Average Metric: 16 / 35  (45.7):  70%|████████████████████████████████████████████████████████████████████████████▎                                | 35/50 [00:04<00:02,  6.99it/s]\u001b[A\n",
      "Average Metric: 16 / 36  (44.4):  70%|████████████████████████████████████████████████████████████████████████████▎                                | 35/50 [00:05<00:02,  6.99it/s]\u001b[A\n",
      "Average Metric: 17 / 37  (45.9):  72%|██████████████████████████████████████████████████████████████████████████████▍                              | 36/50 [00:05<00:02,  6.99it/s]\u001b[A\n",
      "Average Metric: 17 / 38  (44.7):  74%|████████████████████████████████████████████████████████████████████████████████▋                            | 37/50 [00:05<00:01,  6.99it/s]\u001b[A\n",
      "Average Metric: 17 / 38  (44.7):  76%|██████████████████████████████████████████████████████████████████████████████████▊                          | 38/50 [00:05<00:01,  8.44it/s]\u001b[A\n",
      "Average Metric: 18 / 39  (46.2):  76%|██████████████████████████████████████████████████████████████████████████████████▊                          | 38/50 [00:05<00:01,  8.44it/s]\u001b[A\n",
      "Average Metric: 19 / 40  (47.5):  78%|█████████████████████████████████████████████████████████████████████████████████████                        | 39/50 [00:05<00:01,  8.44it/s]\u001b[A\n",
      "Average Metric: 19 / 40  (47.5):  80%|███████████████████████████████████████████████████████████████████████████████████████▏                     | 40/50 [00:05<00:01,  8.11it/s]\u001b[A\n",
      "Average Metric: 20 / 41  (48.8):  80%|███████████████████████████████████████████████████████████████████████████████████████▏                     | 40/50 [00:05<00:01,  8.11it/s]\u001b[A\n",
      "Average Metric: 20 / 41  (48.8):  82%|█████████████████████████████████████████████████████████████████████████████████████████▍                   | 41/50 [00:05<00:01,  7.79it/s]\u001b[A"
     ]
    },
    {
     "name": "stdout",
     "output_type": "stream",
     "text": [
      "Backing off 0.4 seconds after 1 tries calling function <function GPT3.request at 0x117742200> with kwargs {}\n"
     ]
    },
    {
     "name": "stderr",
     "output_type": "stream",
     "text": [
      "\n",
      "Average Metric: 20 / 42  (47.6):  82%|█████████████████████████████████████████████████████████████████████████████████████████▍                   | 41/50 [00:06<00:01,  7.79it/s]\u001b[A\n",
      "Average Metric: 20 / 42  (47.6):  84%|███████████████████████████████████████████████████████████████████████████████████████████▌                 | 42/50 [00:06<00:01,  5.24it/s]\u001b[A\n",
      "Average Metric: 20 / 43  (46.5):  84%|███████████████████████████████████████████████████████████████████████████████████████████▌                 | 42/50 [00:06<00:01,  5.24it/s]\u001b[A\n",
      "Average Metric: 20 / 43  (46.5):  86%|█████████████████████████████████████████████████████████████████████████████████████████████▋               | 43/50 [00:06<00:01,  5.80it/s]\u001b[A\n",
      "Average Metric: 21 / 44  (47.7):  86%|█████████████████████████████████████████████████████████████████████████████████████████████▋               | 43/50 [00:06<00:01,  5.80it/s]\u001b[A\n",
      "Average Metric: 21 / 44  (47.7):  88%|███████████████████████████████████████████████████████████████████████████████████████████████▉             | 44/50 [00:06<00:01,  5.73it/s]\u001b[A\n",
      "Average Metric: 21 / 45  (46.7):  88%|███████████████████████████████████████████████████████████████████████████████████████████████▉             | 44/50 [00:06<00:01,  5.73it/s]\u001b[A\n",
      "Average Metric: 21 / 45  (46.7):  90%|██████████████████████████████████████████████████████████████████████████████████████████████████           | 45/50 [00:06<00:00,  6.06it/s]\u001b[A"
     ]
    },
    {
     "name": "stdout",
     "output_type": "stream",
     "text": [
      "Backing off 0.1 seconds after 1 tries calling function <function GPT3.request at 0x117742200> with kwargs {}\n",
      "Backing off 0.9 seconds after 1 tries calling function <function GPT3.request at 0x117742200> with kwargs {}\n"
     ]
    },
    {
     "name": "stderr",
     "output_type": "stream",
     "text": [
      "\n",
      "Average Metric: 22 / 46  (47.8):  90%|██████████████████████████████████████████████████████████████████████████████████████████████████           | 45/50 [00:07<00:00,  6.06it/s]\u001b[A\n",
      "Average Metric: 22 / 46  (47.8):  92%|████████████████████████████████████████████████████████████████████████████████████████████████████▎        | 46/50 [00:07<00:01,  3.18it/s]\u001b[A\n",
      "Average Metric: 23 / 47  (48.9):  92%|████████████████████████████████████████████████████████████████████████████████████████████████████▎        | 46/50 [00:07<00:01,  3.18it/s]\u001b[A\n",
      "Average Metric: 23 / 47  (48.9):  94%|██████████████████████████████████████████████████████████████████████████████████████████████████████▍      | 47/50 [00:07<00:00,  3.67it/s]\u001b[A\n",
      "Average Metric: 24 / 48  (50.0):  94%|██████████████████████████████████████████████████████████████████████████████████████████████████████▍      | 47/50 [00:07<00:00,  3.67it/s]\u001b[A\n",
      "Average Metric: 24 / 48  (50.0):  96%|████████████████████████████████████████████████████████████████████████████████████████████████████████▋    | 48/50 [00:07<00:00,  3.52it/s]\u001b[A\n",
      "Average Metric: 24 / 49  (49.0):  96%|████████████████████████████████████████████████████████████████████████████████████████████████████████▋    | 48/50 [00:07<00:00,  3.52it/s]\u001b[A\n",
      "Average Metric: 25 / 50  (50.0):  98%|██████████████████████████████████████████████████████████████████████████████████████████████████████████▊  | 49/50 [00:08<00:00,  3.52it/s]\u001b[A\n",
      "Average Metric: 25 / 50  (50.0): 100%|█████████████████████████████████████████████████████████████████████████████████████████████████████████████| 50/50 [00:08<00:00,  5.64it/s]\u001b[A\n"
     ]
    },
    {
     "name": "stdout",
     "output_type": "stream",
     "text": [
      "Average Metric: 25 / 50  (50.0%)\n",
      "Score: 50.0 for set: [8]\n",
      "Scores so far: [48.0, 58.0, 60.0, 72.0, 56.0, 70.0, 42.0, 56.0, 66.0, 46.0, 64.0, 50.0]\n",
      "Best score: 72.0\n",
      "Average of max per entry across top 1 scores: 0.72\n",
      "Average of max per entry across top 2 scores: 0.94\n",
      "Average of max per entry across top 3 scores: 0.98\n",
      "Average of max per entry across top 5 scores: 1.0\n",
      "Average of max per entry across top 8 scores: 1.0\n",
      "Average of max per entry across top 9999 scores: 1.0\n"
     ]
    },
    {
     "name": "stderr",
     "output_type": "stream",
     "text": [
      "\n",
      "  0%|                                                                                                                                                      | 0/200 [00:00<?, ?it/s]\u001b[A\n",
      "  0%|▋                                                                                                                                             | 1/200 [00:04<14:56,  4.51s/it]\u001b[A\n",
      "  1%|█▍                                                                                                                                            | 2/200 [00:07<12:53,  3.90s/it]\u001b[A\n",
      "  2%|██▏                                                                                                                                           | 3/200 [00:13<15:21,  4.68s/it]\u001b[A\n",
      "  2%|██▊                                                                                                                                           | 4/200 [00:16<13:05,  4.01s/it]\u001b[A\n",
      "  2%|███▌                                                                                                                                          | 5/200 [00:18<10:50,  3.34s/it]\u001b[A\n",
      "  3%|████▎                                                                                                                                         | 6/200 [00:21<10:26,  3.23s/it]\u001b[A\n",
      "  4%|████▉                                                                                                                                         | 7/200 [00:25<10:36,  3.30s/it]\u001b[A\n",
      "  4%|█████▋                                                                                                                                        | 8/200 [00:28<11:22,  3.56s/it]\u001b[A\n"
     ]
    },
    {
     "name": "stdout",
     "output_type": "stream",
     "text": [
      "Bootstrapped 8 full traces after 9 examples in round 0.\n"
     ]
    },
    {
     "name": "stderr",
     "output_type": "stream",
     "text": [
      "\n",
      "  0%|                                                                                                                                                       | 0/50 [00:00<?, ?it/s]\u001b[A\n",
      "Average Metric: 0 / 1  (0.0):   0%|                                                                                                                         | 0/50 [00:00<?, ?it/s]\u001b[A\n",
      "Average Metric: 0 / 1  (0.0):   2%|██▎                                                                                                              | 1/50 [00:00<00:44,  1.09it/s]\u001b[A\n",
      "Average Metric: 1 / 2  (50.0):   2%|██▏                                                                                                             | 1/50 [00:00<00:44,  1.09it/s]\u001b[A\n",
      "Average Metric: 2 / 3  (66.7):   4%|████▍                                                                                                           | 2/50 [00:01<00:43,  1.09it/s]\u001b[A\n",
      "Average Metric: 2 / 3  (66.7):   6%|██████▋                                                                                                         | 3/50 [00:01<00:16,  2.89it/s]\u001b[A\n",
      "Average Metric: 3 / 4  (75.0):   6%|██████▋                                                                                                         | 3/50 [00:01<00:16,  2.89it/s]\u001b[A\n",
      "Average Metric: 3 / 4  (75.0):   8%|████████▉                                                                                                       | 4/50 [00:01<00:12,  3.61it/s]\u001b[A\n",
      "Average Metric: 4 / 5  (80.0):   8%|████████▉                                                                                                       | 4/50 [00:01<00:12,  3.61it/s]\u001b[A\n",
      "Average Metric: 5 / 6  (83.3):  10%|███████████▏                                                                                                    | 5/50 [00:01<00:12,  3.61it/s]\u001b[A\n",
      "Average Metric: 5 / 7  (71.4):  12%|█████████████▍                                                                                                  | 6/50 [00:01<00:12,  3.61it/s]\u001b[A\n",
      "Average Metric: 5 / 7  (71.4):  14%|███████████████▋                                                                                                | 7/50 [00:01<00:06,  7.04it/s]\u001b[A\n",
      "Average Metric: 6 / 8  (75.0):  14%|███████████████▋                                                                                                | 7/50 [00:01<00:06,  7.04it/s]\u001b[A\n",
      "Average Metric: 7 / 9  (77.8):  16%|█████████████████▉                                                                                              | 8/50 [00:01<00:05,  7.04it/s]\u001b[A\n",
      "Average Metric: 7 / 9  (77.8):  18%|████████████████████▏                                                                                           | 9/50 [00:01<00:05,  8.16it/s]\u001b[A\n",
      "Average Metric: 8 / 10  (80.0):  18%|███████████████████▉                                                                                           | 9/50 [00:02<00:05,  8.16it/s]\u001b[A\n",
      "Average Metric: 8 / 11  (72.7):  20%|██████████████████████                                                                                        | 10/50 [00:02<00:04,  8.16it/s]\u001b[A\n",
      "Average Metric: 8 / 11  (72.7):  22%|████████████████████████▏                                                                                     | 11/50 [00:02<00:06,  6.05it/s]\u001b[A\n",
      "Average Metric: 9 / 12  (75.0):  22%|████████████████████████▏                                                                                     | 11/50 [00:02<00:06,  6.05it/s]\u001b[A\n",
      "Average Metric: 9 / 12  (75.0):  24%|██████████████████████████▍                                                                                   | 12/50 [00:02<00:06,  6.05it/s]\u001b[A\n",
      "Average Metric: 9 / 13  (69.2):  24%|██████████████████████████▍                                                                                   | 12/50 [00:02<00:06,  6.05it/s]\u001b[A\n",
      "Average Metric: 9 / 13  (69.2):  26%|████████████████████████████▌                                                                                 | 13/50 [00:02<00:05,  6.39it/s]\u001b[A\n",
      "Average Metric: 9 / 14  (64.3):  26%|████████████████████████████▌                                                                                 | 13/50 [00:02<00:05,  6.39it/s]\u001b[A\n",
      "Average Metric: 9 / 15  (60.0):  28%|██████████████████████████████▊                                                                               | 14/50 [00:02<00:05,  6.39it/s]\u001b[A\n",
      "Average Metric: 9 / 16  (56.2):  30%|█████████████████████████████████                                                                             | 15/50 [00:02<00:05,  6.39it/s]\u001b[A\n",
      "Average Metric: 9 / 16  (56.2):  32%|███████████████████████████████████▏                                                                          | 16/50 [00:02<00:03, 10.13it/s]\u001b[A\n",
      "Average Metric: 10 / 17  (58.8):  32%|██████████████████████████████████▉                                                                          | 16/50 [00:02<00:03, 10.13it/s]\u001b[A\n",
      "Average Metric: 10 / 18  (55.6):  34%|█████████████████████████████████████                                                                        | 17/50 [00:03<00:03, 10.13it/s]\u001b[A\n",
      "Average Metric: 10 / 18  (55.6):  36%|███████████████████████████████████████▏                                                                     | 18/50 [00:03<00:04,  6.46it/s]\u001b[A\n",
      "Average Metric: 11 / 19  (57.9):  36%|███████████████████████████████████████▏                                                                     | 18/50 [00:03<00:04,  6.46it/s]\u001b[A\n",
      "Average Metric: 12 / 20  (60.0):  38%|█████████████████████████████████████████▍                                                                   | 19/50 [00:03<00:04,  6.46it/s]\u001b[A\n",
      "Average Metric: 12 / 20  (60.0):  40%|███████████████████████████████████████████▌                                                                 | 20/50 [00:03<00:04,  6.49it/s]\u001b[A\n",
      "Average Metric: 13 / 21  (61.9):  40%|███████████████████████████████████████████▌                                                                 | 20/50 [00:03<00:04,  6.49it/s]\u001b[A\n",
      "Average Metric: 14 / 22  (63.6):  42%|█████████████████████████████████████████████▊                                                               | 21/50 [00:03<00:04,  6.49it/s]\u001b[A\n",
      "Average Metric: 14 / 23  (60.9):  44%|███████████████████████████████████████████████▉                                                             | 22/50 [00:03<00:04,  6.49it/s]\u001b[A\n",
      "Average Metric: 14 / 24  (58.3):  46%|██████████████████████████████████████████████████▏                                                          | 23/50 [00:03<00:04,  6.49it/s]\u001b[A\n",
      "Average Metric: 14 / 24  (58.3):  48%|████████████████████████████████████████████████████▎                                                        | 24/50 [00:03<00:03,  7.88it/s]\u001b[A\n",
      "Average Metric: 14 / 25  (56.0):  48%|████████████████████████████████████████████████████▎                                                        | 24/50 [00:03<00:03,  7.88it/s]\u001b[A\n",
      "Average Metric: 15 / 26  (57.7):  50%|██████████████████████████████████████████████████████▌                                                      | 25/50 [00:04<00:03,  7.88it/s]\u001b[A\n",
      "Average Metric: 15 / 26  (57.7):  52%|████████████████████████████████████████████████████████▋                                                    | 26/50 [00:04<00:03,  6.63it/s]\u001b[A\n",
      "Average Metric: 16 / 27  (59.3):  52%|████████████████████████████████████████████████████████▋                                                    | 26/50 [00:04<00:03,  6.63it/s]\u001b[A\n",
      "Average Metric: 16 / 27  (59.3):  54%|██████████████████████████████████████████████████████████▊                                                  | 27/50 [00:04<00:03,  6.59it/s]\u001b[A\n",
      "Average Metric: 16 / 28  (57.1):  54%|██████████████████████████████████████████████████████████▊                                                  | 27/50 [00:04<00:03,  6.59it/s]\u001b[A\n",
      "Average Metric: 17 / 29  (58.6):  56%|█████████████████████████████████████████████████████████████                                                | 28/50 [00:04<00:03,  6.59it/s]\u001b[A\n",
      "Average Metric: 17 / 29  (58.6):  58%|███████████████████████████████████████████████████████████████▏                                             | 29/50 [00:04<00:03,  6.20it/s]\u001b[A\n",
      "Average Metric: 17 / 30  (56.7):  58%|███████████████████████████████████████████████████████████████▏                                             | 29/50 [00:04<00:03,  6.20it/s]\u001b[A\n",
      "Average Metric: 17 / 31  (54.8):  60%|█████████████████████████████████████████████████████████████████▍                                           | 30/50 [00:04<00:03,  6.20it/s]\u001b[A\n",
      "Average Metric: 17 / 32  (53.1):  62%|███████████████████████████████████████████████████████████████████▌                                         | 31/50 [00:05<00:03,  6.20it/s]\u001b[A\n",
      "Average Metric: 17 / 32  (53.1):  64%|█████████████████████████████████████████████████████████████████████▊                                       | 32/50 [00:05<00:02,  7.80it/s]\u001b[A\n",
      "Average Metric: 18 / 33  (54.5):  64%|█████████████████████████████████████████████████████████████████████▊                                       | 32/50 [00:05<00:02,  7.80it/s]\u001b[A\n",
      "Average Metric: 18 / 33  (54.5):  66%|███████████████████████████████████████████████████████████████████████▉                                     | 33/50 [00:05<00:02,  6.82it/s]\u001b[A\n",
      "Average Metric: 19 / 34  (55.9):  66%|███████████████████████████████████████████████████████████████████████▉                                     | 33/50 [00:05<00:02,  6.82it/s]\u001b[A\n",
      "Average Metric: 19 / 35  (54.3):  68%|██████████████████████████████████████████████████████████████████████████                                   | 34/50 [00:05<00:02,  6.82it/s]\u001b[A\n",
      "Average Metric: 19 / 35  (54.3):  70%|████████████████████████████████████████████████████████████████████████████▎                                | 35/50 [00:05<00:02,  6.10it/s]\u001b[A\n",
      "Average Metric: 20 / 36  (55.6):  70%|████████████████████████████████████████████████████████████████████████████▎                                | 35/50 [00:05<00:02,  6.10it/s]\u001b[A\n",
      "Average Metric: 21 / 37  (56.8):  72%|██████████████████████████████████████████████████████████████████████████████▍                              | 36/50 [00:05<00:02,  6.10it/s]\u001b[A\n",
      "Average Metric: 22 / 38  (57.9):  74%|████████████████████████████████████████████████████████████████████████████████▋                            | 37/50 [00:05<00:02,  6.10it/s]\u001b[A\n",
      "Average Metric: 22 / 38  (57.9):  76%|██████████████████████████████████████████████████████████████████████████████████▊                          | 38/50 [00:05<00:01,  8.04it/s]\u001b[A\n",
      "Average Metric: 22 / 39  (56.4):  76%|██████████████████████████████████████████████████████████████████████████████████▊                          | 38/50 [00:05<00:01,  8.04it/s]\u001b[A\n",
      "Average Metric: 22 / 40  (55.0):  78%|█████████████████████████████████████████████████████████████████████████████████████                        | 39/50 [00:06<00:01,  8.04it/s]\u001b[A\n",
      "Average Metric: 22 / 40  (55.0):  80%|███████████████████████████████████████████████████████████████████████████████████████▏                     | 40/50 [00:06<00:01,  7.66it/s]\u001b[A\n",
      "Average Metric: 22 / 41  (53.7):  80%|███████████████████████████████████████████████████████████████████████████████████████▏                     | 40/50 [00:06<00:01,  7.66it/s]\u001b[A\n",
      "Average Metric: 22 / 42  (52.4):  82%|█████████████████████████████████████████████████████████████████████████████████████████▍                   | 41/50 [00:06<00:01,  7.66it/s]\u001b[A\n",
      "Average Metric: 22 / 42  (52.4):  84%|███████████████████████████████████████████████████████████████████████████████████████████▌                 | 42/50 [00:06<00:00,  8.06it/s]\u001b[A\n",
      "Average Metric: 22 / 43  (51.2):  84%|███████████████████████████████████████████████████████████████████████████████████████████▌                 | 42/50 [00:06<00:00,  8.06it/s]\u001b[A\n",
      "Average Metric: 22 / 43  (51.2):  86%|█████████████████████████████████████████████████████████████████████████████████████████████▋               | 43/50 [00:06<00:01,  5.38it/s]\u001b[A\n",
      "Average Metric: 23 / 44  (52.3):  86%|█████████████████████████████████████████████████████████████████████████████████████████████▋               | 43/50 [00:06<00:01,  5.38it/s]\u001b[A"
     ]
    },
    {
     "name": "stdout",
     "output_type": "stream",
     "text": [
      "Backing off 0.6 seconds after 1 tries calling function <function GPT3.request at 0x117742200> with kwargs {}\n",
      "Backing off 0.2 seconds after 1 tries calling function <function GPT3.request at 0x117742200> with kwargs {}\n"
     ]
    },
    {
     "name": "stderr",
     "output_type": "stream",
     "text": [
      "\n",
      "Average Metric: 23 / 45  (51.1):  88%|███████████████████████████████████████████████████████████████████████████████████████████████▉             | 44/50 [00:07<00:01,  5.38it/s]\u001b[A\n",
      "Average Metric: 23 / 45  (51.1):  90%|██████████████████████████████████████████████████████████████████████████████████████████████████           | 45/50 [00:07<00:00,  6.11it/s]\u001b[A\n",
      "Average Metric: 24 / 46  (52.2):  90%|██████████████████████████████████████████████████████████████████████████████████████████████████           | 45/50 [00:07<00:00,  6.11it/s]\u001b[A\n",
      "Average Metric: 24 / 46  (52.2):  92%|████████████████████████████████████████████████████████████████████████████████████████████████████▎        | 46/50 [00:07<00:00,  4.72it/s]\u001b[A"
     ]
    },
    {
     "name": "stdout",
     "output_type": "stream",
     "text": [
      "Backing off 1.0 seconds after 2 tries calling function <function GPT3.request at 0x117742200> with kwargs {}\n"
     ]
    },
    {
     "name": "stderr",
     "output_type": "stream",
     "text": [
      "\n",
      "Average Metric: 25 / 47  (53.2):  92%|████████████████████████████████████████████████████████████████████████████████████████████████████▎        | 46/50 [00:08<00:00,  4.72it/s]\u001b[A\n",
      "Average Metric: 25 / 47  (53.2):  94%|██████████████████████████████████████████████████████████████████████████████████████████████████████▍      | 47/50 [00:08<00:01,  2.97it/s]\u001b[A\n",
      "Average Metric: 26 / 48  (54.2):  94%|██████████████████████████████████████████████████████████████████████████████████████████████████████▍      | 47/50 [00:08<00:01,  2.97it/s]\u001b[A\n",
      "Average Metric: 26 / 48  (54.2):  96%|████████████████████████████████████████████████████████████████████████████████████████████████████████▋    | 48/50 [00:08<00:00,  2.61it/s]\u001b[A\n",
      "Average Metric: 26 / 49  (53.1):  96%|████████████████████████████████████████████████████████████████████████████████████████████████████████▋    | 48/50 [00:10<00:00,  2.61it/s]\u001b[A\n",
      "Average Metric: 26 / 49  (53.1):  98%|██████████████████████████████████████████████████████████████████████████████████████████████████████████▊  | 49/50 [00:10<00:00,  1.60it/s]\u001b[A\n",
      "Average Metric: 27 / 50  (54.0):  98%|██████████████████████████████████████████████████████████████████████████████████████████████████████████▊  | 49/50 [00:10<00:00,  1.60it/s]\u001b[A\n",
      "Average Metric: 27 / 50  (54.0): 100%|█████████████████████████████████████████████████████████████████████████████████████████████████████████████| 50/50 [00:10<00:00,  4.77it/s]\u001b[A"
     ]
    },
    {
     "name": "stdout",
     "output_type": "stream",
     "text": [
      "Average Metric: 27 / 50  (54.0%)\n",
      "Score: 54.0 for set: [8]\n",
      "Scores so far: [48.0, 58.0, 60.0, 72.0, 56.0, 70.0, 42.0, 56.0, 66.0, 46.0, 64.0, 50.0, 54.0]\n",
      "Best score: 72.0\n",
      "Average of max per entry across top 1 scores: 0.72\n",
      "Average of max per entry across top 2 scores: 0.94\n",
      "Average of max per entry across top 3 scores: 0.98\n",
      "Average of max per entry across top 5 scores: 1.0\n",
      "Average of max per entry across top 8 scores: 1.0\n",
      "Average of max per entry across top 9999 scores: 1.0\n",
      "13 candidate programs found.\n"
     ]
    },
    {
     "name": "stderr",
     "output_type": "stream",
     "text": [
      "\n"
     ]
    }
   ],
   "source": [
    "if RUN_FROM_SCRATCH:\n",
    "    cot_fewshot = bootstrap_optimizer.compile(cot_zeroshot, trainset=train, valset=dev)\n",
    "else:\n",
    "    cot_fewshot = ScoNeCoT()\n",
    "    cot_fewshot.load(\"scone-cot_fewshot-turbo-gpt4-demos.json\")"
   ]
  },
  {
   "cell_type": "code",
   "execution_count": 24,
   "id": "55a110e7-dd21-4f6a-b770-e4237933185f",
   "metadata": {},
   "outputs": [
    {
     "name": "stderr",
     "output_type": "stream",
     "text": [
      "\n",
      "  0%|                                                                                                                                                      | 0/200 [00:00<?, ?it/s]\u001b[A\n",
      "Average Metric: 1 / 1  (100.0):   0%|                                                                                                                      | 0/200 [00:00<?, ?it/s]\u001b[A\n",
      "Average Metric: 1 / 1  (100.0):   0%|▌                                                                                                             | 1/200 [00:00<02:57,  1.12it/s]\u001b[A\n",
      "Average Metric: 2 / 2  (100.0):   0%|▌                                                                                                             | 1/200 [00:01<02:57,  1.12it/s]\u001b[A\n",
      "Average Metric: 2 / 2  (100.0):   1%|█                                                                                                             | 2/200 [00:01<02:27,  1.34it/s]\u001b[A\n",
      "Average Metric: 3 / 3  (100.0):   1%|█                                                                                                             | 2/200 [00:02<02:27,  1.34it/s]\u001b[A\n",
      "Average Metric: 3 / 3  (100.0):   2%|█▋                                                                                                            | 3/200 [00:02<03:05,  1.06it/s]\u001b[A\n",
      "Average Metric: 4 / 4  (100.0):   2%|█▋                                                                                                            | 3/200 [00:03<03:05,  1.06it/s]\u001b[A\n",
      "Average Metric: 4 / 4  (100.0):   2%|██▏                                                                                                           | 4/200 [00:03<03:03,  1.07it/s]\u001b[A\n",
      "Average Metric: 5 / 5  (100.0):   2%|██▏                                                                                                           | 4/200 [00:04<03:03,  1.07it/s]\u001b[A\n",
      "Average Metric: 5 / 5  (100.0):   2%|██▊                                                                                                           | 5/200 [00:04<02:45,  1.18it/s]\u001b[A\n",
      "Average Metric: 6 / 6  (100.0):   2%|██▊                                                                                                           | 5/200 [00:05<02:45,  1.18it/s]\u001b[A\n",
      "Average Metric: 6 / 6  (100.0):   3%|███▎                                                                                                          | 6/200 [00:05<03:04,  1.05it/s]\u001b[A\n",
      "Average Metric: 7 / 7  (100.0):   3%|███▎                                                                                                          | 6/200 [00:06<03:04,  1.05it/s]\u001b[A\n",
      "Average Metric: 7 / 7  (100.0):   4%|███▊                                                                                                          | 7/200 [00:06<02:54,  1.10it/s]\u001b[A\n",
      "Average Metric: 8 / 8  (100.0):   4%|███▊                                                                                                          | 7/200 [00:07<02:54,  1.10it/s]\u001b[A\n",
      "Average Metric: 8 / 8  (100.0):   4%|████▍                                                                                                         | 8/200 [00:07<03:04,  1.04it/s]\u001b[A\n",
      "Average Metric: 9 / 9  (100.0):   4%|████▍                                                                                                         | 8/200 [00:08<03:04,  1.04it/s]\u001b[A\n",
      "Average Metric: 9 / 9  (100.0):   4%|████▉                                                                                                         | 9/200 [00:08<02:54,  1.10it/s]\u001b[A\n",
      "Average Metric: 10 / 10  (100.0):   4%|████▊                                                                                                       | 9/200 [00:09<02:54,  1.10it/s]\u001b[A\n",
      "Average Metric: 10 / 10  (100.0):   5%|█████▎                                                                                                     | 10/200 [00:09<02:51,  1.11it/s]\u001b[A\n",
      "Average Metric: 11 / 11  (100.0):   5%|█████▎                                                                                                     | 10/200 [00:09<02:51,  1.11it/s]\u001b[A\n",
      "Average Metric: 11 / 11  (100.0):   6%|█████▉                                                                                                     | 11/200 [00:09<02:40,  1.18it/s]\u001b[A\n",
      "Average Metric: 11 / 12  (91.7):   6%|█████▉                                                                                                      | 11/200 [00:10<02:40,  1.18it/s]\u001b[A\n",
      "Average Metric: 11 / 12  (91.7):   6%|██████▍                                                                                                     | 12/200 [00:10<02:32,  1.23it/s]\u001b[A\n",
      "Average Metric: 12 / 13  (92.3):   6%|██████▍                                                                                                     | 12/200 [00:11<02:32,  1.23it/s]\u001b[A\n",
      "Average Metric: 12 / 13  (92.3):   6%|███████                                                                                                     | 13/200 [00:11<02:30,  1.24it/s]\u001b[A\n",
      "Average Metric: 13 / 14  (92.9):   6%|███████                                                                                                     | 13/200 [00:12<02:30,  1.24it/s]\u001b[A\n",
      "Average Metric: 13 / 14  (92.9):   7%|███████▌                                                                                                    | 14/200 [00:12<02:38,  1.18it/s]\u001b[A\n",
      "Average Metric: 14 / 15  (93.3):   7%|███████▌                                                                                                    | 14/200 [00:13<02:38,  1.18it/s]\u001b[A\n",
      "Average Metric: 14 / 15  (93.3):   8%|████████                                                                                                    | 15/200 [00:13<02:44,  1.12it/s]\u001b[A\n",
      "Average Metric: 15 / 16  (93.8):   8%|████████                                                                                                    | 15/200 [00:14<02:44,  1.12it/s]\u001b[A\n",
      "Average Metric: 15 / 16  (93.8):   8%|████████▋                                                                                                   | 16/200 [00:14<02:48,  1.09it/s]\u001b[A\n",
      "Average Metric: 16 / 17  (94.1):   8%|████████▋                                                                                                   | 16/200 [00:15<02:48,  1.09it/s]\u001b[A\n",
      "Average Metric: 16 / 17  (94.1):   8%|█████████▏                                                                                                  | 17/200 [00:15<02:40,  1.14it/s]\u001b[A\n",
      "Average Metric: 17 / 18  (94.4):   8%|█████████▏                                                                                                  | 17/200 [00:15<02:40,  1.14it/s]\u001b[A\n",
      "Average Metric: 17 / 18  (94.4):   9%|█████████▋                                                                                                  | 18/200 [00:15<02:38,  1.15it/s]\u001b[A\n",
      "Average Metric: 18 / 19  (94.7):   9%|█████████▋                                                                                                  | 18/200 [00:16<02:38,  1.15it/s]\u001b[A\n",
      "Average Metric: 18 / 19  (94.7):  10%|██████████▎                                                                                                 | 19/200 [00:16<02:48,  1.07it/s]\u001b[A\n",
      "Average Metric: 19 / 20  (95.0):  10%|██████████▎                                                                                                 | 19/200 [00:17<02:48,  1.07it/s]\u001b[A\n",
      "Average Metric: 19 / 20  (95.0):  10%|██████████▊                                                                                                 | 20/200 [00:17<02:53,  1.04it/s]\u001b[A\n",
      "Average Metric: 20 / 21  (95.2):  10%|██████████▊                                                                                                 | 20/200 [00:19<02:53,  1.04it/s]\u001b[A\n",
      "Average Metric: 20 / 21  (95.2):  10%|███████████▎                                                                                                | 21/200 [00:19<02:56,  1.02it/s]\u001b[A\n",
      "Average Metric: 21 / 22  (95.5):  10%|███████████▎                                                                                                | 21/200 [00:19<02:56,  1.02it/s]\u001b[A\n",
      "Average Metric: 21 / 22  (95.5):  11%|███████████▉                                                                                                | 22/200 [00:19<02:51,  1.04it/s]\u001b[A\n",
      "Average Metric: 22 / 23  (95.7):  11%|███████████▉                                                                                                | 22/200 [00:20<02:51,  1.04it/s]\u001b[A\n",
      "Average Metric: 22 / 23  (95.7):  12%|████████████▍                                                                                               | 23/200 [00:20<02:47,  1.06it/s]\u001b[A\n",
      "Average Metric: 23 / 24  (95.8):  12%|████████████▍                                                                                               | 23/200 [00:21<02:47,  1.06it/s]\u001b[A\n",
      "Average Metric: 23 / 24  (95.8):  12%|████████████▉                                                                                               | 24/200 [00:21<02:51,  1.03it/s]\u001b[A\n",
      "Average Metric: 24 / 25  (96.0):  12%|████████████▉                                                                                               | 24/200 [00:22<02:51,  1.03it/s]\u001b[A\n",
      "Average Metric: 24 / 25  (96.0):  12%|█████████████▌                                                                                              | 25/200 [00:22<02:55,  1.00s/it]\u001b[A\n",
      "Average Metric: 25 / 26  (96.2):  12%|█████████████▌                                                                                              | 25/200 [00:23<02:55,  1.00s/it]\u001b[A\n",
      "Average Metric: 25 / 26  (96.2):  13%|██████████████                                                                                              | 26/200 [00:23<02:55,  1.01s/it]\u001b[A\n",
      "Average Metric: 26 / 27  (96.3):  13%|██████████████                                                                                              | 26/200 [00:24<02:55,  1.01s/it]\u001b[A\n",
      "Average Metric: 26 / 27  (96.3):  14%|██████████████▌                                                                                             | 27/200 [00:24<02:46,  1.04it/s]\u001b[A\n",
      "Average Metric: 27 / 28  (96.4):  14%|██████████████▌                                                                                             | 27/200 [00:25<02:46,  1.04it/s]\u001b[A\n",
      "Average Metric: 27 / 28  (96.4):  14%|███████████████                                                                                             | 28/200 [00:25<02:54,  1.02s/it]\u001b[A\n",
      "Average Metric: 28 / 29  (96.6):  14%|███████████████                                                                                             | 28/200 [00:26<02:54,  1.02s/it]\u001b[A\n",
      "Average Metric: 28 / 29  (96.6):  14%|███████████████▋                                                                                            | 29/200 [00:26<02:39,  1.07it/s]\u001b[A\n",
      "Average Metric: 29 / 30  (96.7):  14%|███████████████▋                                                                                            | 29/200 [00:27<02:39,  1.07it/s]\u001b[A\n",
      "Average Metric: 29 / 30  (96.7):  15%|████████████████▏                                                                                           | 30/200 [00:27<02:34,  1.10it/s]\u001b[A\n",
      "Average Metric: 30 / 31  (96.8):  15%|████████████████▏                                                                                           | 30/200 [00:28<02:34,  1.10it/s]\u001b[A\n",
      "Average Metric: 30 / 31  (96.8):  16%|████████████████▋                                                                                           | 31/200 [00:28<02:29,  1.13it/s]\u001b[A\n",
      "Average Metric: 31 / 32  (96.9):  16%|████████████████▋                                                                                           | 31/200 [00:29<02:29,  1.13it/s]\u001b[A\n",
      "Average Metric: 31 / 32  (96.9):  16%|█████████████████▎                                                                                          | 32/200 [00:29<02:32,  1.10it/s]\u001b[A\n",
      "Average Metric: 32 / 33  (97.0):  16%|█████████████████▎                                                                                          | 32/200 [00:30<02:32,  1.10it/s]\u001b[A\n",
      "Average Metric: 32 / 33  (97.0):  16%|█████████████████▊                                                                                          | 33/200 [00:30<02:27,  1.13it/s]\u001b[A\n",
      "Average Metric: 33 / 34  (97.1):  16%|█████████████████▊                                                                                          | 33/200 [00:31<02:27,  1.13it/s]\u001b[A\n",
      "Average Metric: 33 / 34  (97.1):  17%|██████████████████▎                                                                                         | 34/200 [00:31<02:27,  1.12it/s]\u001b[A\n",
      "Average Metric: 34 / 35  (97.1):  17%|██████████████████▎                                                                                         | 34/200 [00:31<02:27,  1.12it/s]\u001b[A\n",
      "Average Metric: 34 / 35  (97.1):  18%|██████████████████▉                                                                                         | 35/200 [00:31<02:20,  1.17it/s]\u001b[A\n",
      "Average Metric: 35 / 36  (97.2):  18%|██████████████████▉                                                                                         | 35/200 [00:33<02:20,  1.17it/s]\u001b[A\n",
      "Average Metric: 35 / 36  (97.2):  18%|███████████████████▍                                                                                        | 36/200 [00:33<02:37,  1.04it/s]\u001b[A\n",
      "Average Metric: 36 / 37  (97.3):  18%|███████████████████▍                                                                                        | 36/200 [00:33<02:37,  1.04it/s]\u001b[A\n",
      "Average Metric: 36 / 37  (97.3):  18%|███████████████████▉                                                                                        | 37/200 [00:33<02:28,  1.10it/s]\u001b[A\n",
      "Average Metric: 37 / 38  (97.4):  18%|███████████████████▉                                                                                        | 37/200 [00:34<02:28,  1.10it/s]\u001b[A\n",
      "Average Metric: 37 / 38  (97.4):  19%|████████████████████▌                                                                                       | 38/200 [00:34<02:35,  1.04it/s]\u001b[A\n",
      "Average Metric: 38 / 39  (97.4):  19%|████████████████████▌                                                                                       | 38/200 [00:35<02:35,  1.04it/s]\u001b[A\n",
      "Average Metric: 38 / 39  (97.4):  20%|█████████████████████                                                                                       | 39/200 [00:35<02:23,  1.12it/s]\u001b[A\n",
      "Average Metric: 39 / 40  (97.5):  20%|█████████████████████                                                                                       | 39/200 [00:36<02:23,  1.12it/s]\u001b[A\n",
      "Average Metric: 39 / 40  (97.5):  20%|█████████████████████▌                                                                                      | 40/200 [00:36<02:32,  1.05it/s]\u001b[A\n",
      "Average Metric: 40 / 41  (97.6):  20%|█████████████████████▌                                                                                      | 40/200 [00:37<02:32,  1.05it/s]\u001b[A\n",
      "Average Metric: 40 / 41  (97.6):  20%|██████████████████████▏                                                                                     | 41/200 [00:37<02:27,  1.08it/s]\u001b[A\n",
      "Average Metric: 41 / 42  (97.6):  20%|██████████████████████▏                                                                                     | 41/200 [00:38<02:27,  1.08it/s]\u001b[A\n",
      "Average Metric: 41 / 42  (97.6):  21%|██████████████████████▋                                                                                     | 42/200 [00:38<02:31,  1.05it/s]\u001b[A\n",
      "Average Metric: 42 / 43  (97.7):  21%|██████████████████████▋                                                                                     | 42/200 [00:39<02:31,  1.05it/s]\u001b[A\n",
      "Average Metric: 42 / 43  (97.7):  22%|███████████████████████▏                                                                                    | 43/200 [00:39<02:26,  1.07it/s]\u001b[A\n",
      "Average Metric: 43 / 44  (97.7):  22%|███████████████████████▏                                                                                    | 43/200 [00:40<02:26,  1.07it/s]\u001b[A\n",
      "Average Metric: 43 / 44  (97.7):  22%|███████████████████████▊                                                                                    | 44/200 [00:40<02:27,  1.06it/s]\u001b[A\n",
      "Average Metric: 44 / 45  (97.8):  22%|███████████████████████▊                                                                                    | 44/200 [00:41<02:27,  1.06it/s]\u001b[A\n",
      "Average Metric: 44 / 45  (97.8):  22%|████████████████████████▎                                                                                   | 45/200 [00:41<02:25,  1.07it/s]\u001b[A\n",
      "Average Metric: 45 / 46  (97.8):  22%|████████████████████████▎                                                                                   | 45/200 [00:42<02:25,  1.07it/s]\u001b[A\n",
      "Average Metric: 45 / 46  (97.8):  23%|████████████████████████▊                                                                                   | 46/200 [00:42<02:25,  1.06it/s]\u001b[A\n",
      "Average Metric: 46 / 47  (97.9):  23%|████████████████████████▊                                                                                   | 46/200 [00:43<02:25,  1.06it/s]\u001b[A\n",
      "Average Metric: 46 / 47  (97.9):  24%|█████████████████████████▍                                                                                  | 47/200 [00:43<02:21,  1.08it/s]\u001b[A\n",
      "Average Metric: 47 / 48  (97.9):  24%|█████████████████████████▍                                                                                  | 47/200 [00:44<02:21,  1.08it/s]\u001b[A\n",
      "Average Metric: 47 / 48  (97.9):  24%|█████████████████████████▉                                                                                  | 48/200 [00:44<02:27,  1.03it/s]\u001b[A\n",
      "Average Metric: 48 / 49  (98.0):  24%|█████████████████████████▉                                                                                  | 48/200 [00:45<02:27,  1.03it/s]\u001b[A\n",
      "Average Metric: 48 / 49  (98.0):  24%|██████████████████████████▍                                                                                 | 49/200 [00:45<02:34,  1.02s/it]\u001b[A\n",
      "Average Metric: 49 / 50  (98.0):  24%|██████████████████████████▍                                                                                 | 49/200 [00:46<02:34,  1.02s/it]\u001b[A\n",
      "Average Metric: 49 / 50  (98.0):  25%|███████████████████████████                                                                                 | 50/200 [00:46<02:32,  1.01s/it]\u001b[A\n",
      "Average Metric: 50 / 51  (98.0):  25%|███████████████████████████                                                                                 | 50/200 [00:47<02:32,  1.01s/it]\u001b[A\n",
      "Average Metric: 50 / 51  (98.0):  26%|███████████████████████████▌                                                                                | 51/200 [00:47<02:20,  1.06it/s]\u001b[A\n",
      "Average Metric: 51 / 52  (98.1):  26%|███████████████████████████▌                                                                                | 51/200 [00:48<02:20,  1.06it/s]\u001b[A\n",
      "Average Metric: 51 / 52  (98.1):  26%|████████████████████████████                                                                                | 52/200 [00:48<02:35,  1.05s/it]\u001b[A\n",
      "Average Metric: 51 / 53  (96.2):  26%|████████████████████████████                                                                                | 52/200 [00:49<02:35,  1.05s/it]\u001b[A\n",
      "Average Metric: 51 / 53  (96.2):  26%|████████████████████████████▌                                                                               | 53/200 [00:49<02:45,  1.13s/it]\u001b[A\n",
      "Average Metric: 52 / 54  (96.3):  26%|████████████████████████████▌                                                                               | 53/200 [00:50<02:45,  1.13s/it]\u001b[A\n",
      "Average Metric: 52 / 54  (96.3):  27%|█████████████████████████████▏                                                                              | 54/200 [00:50<02:42,  1.11s/it]\u001b[A\n",
      "Average Metric: 52 / 55  (94.5):  27%|█████████████████████████████▏                                                                              | 54/200 [00:51<02:42,  1.11s/it]\u001b[A\n",
      "Average Metric: 52 / 55  (94.5):  28%|█████████████████████████████▋                                                                              | 55/200 [00:51<02:35,  1.07s/it]\u001b[A\n",
      "Average Metric: 53 / 56  (94.6):  28%|█████████████████████████████▋                                                                              | 55/200 [00:52<02:35,  1.07s/it]\u001b[A\n",
      "Average Metric: 53 / 56  (94.6):  28%|██████████████████████████████▏                                                                             | 56/200 [00:52<02:21,  1.02it/s]\u001b[A\n",
      "Average Metric: 54 / 57  (94.7):  28%|██████████████████████████████▏                                                                             | 56/200 [00:53<02:21,  1.02it/s]\u001b[A\n",
      "Average Metric: 54 / 57  (94.7):  28%|██████████████████████████████▊                                                                             | 57/200 [00:53<02:12,  1.08it/s]\u001b[A\n",
      "Average Metric: 55 / 58  (94.8):  28%|██████████████████████████████▊                                                                             | 57/200 [00:54<02:12,  1.08it/s]\u001b[A\n",
      "Average Metric: 55 / 58  (94.8):  29%|███████████████████████████████▎                                                                            | 58/200 [00:54<02:05,  1.13it/s]\u001b[A\n",
      "Average Metric: 56 / 59  (94.9):  29%|███████████████████████████████▎                                                                            | 58/200 [00:55<02:05,  1.13it/s]\u001b[A\n",
      "Average Metric: 56 / 59  (94.9):  30%|███████████████████████████████▊                                                                            | 59/200 [00:55<02:08,  1.10it/s]\u001b[A\n",
      "Average Metric: 56 / 60  (93.3):  30%|███████████████████████████████▊                                                                            | 59/200 [00:56<02:08,  1.10it/s]\u001b[A\n",
      "Average Metric: 56 / 60  (93.3):  30%|████████████████████████████████▍                                                                           | 60/200 [00:56<02:03,  1.13it/s]\u001b[A\n",
      "Average Metric: 57 / 61  (93.4):  30%|████████████████████████████████▍                                                                           | 60/200 [00:57<02:03,  1.13it/s]\u001b[A\n",
      "Average Metric: 57 / 61  (93.4):  30%|████████████████████████████████▉                                                                           | 61/200 [00:57<02:13,  1.04it/s]\u001b[A\n",
      "Average Metric: 58 / 62  (93.5):  30%|████████████████████████████████▉                                                                           | 61/200 [00:58<02:13,  1.04it/s]\u001b[A\n",
      "Average Metric: 58 / 62  (93.5):  31%|█████████████████████████████████▍                                                                          | 62/200 [00:58<02:14,  1.02it/s]\u001b[A\n",
      "Average Metric: 59 / 63  (93.7):  31%|█████████████████████████████████▍                                                                          | 62/200 [00:59<02:14,  1.02it/s]\u001b[A\n",
      "Average Metric: 59 / 63  (93.7):  32%|██████████████████████████████████                                                                          | 63/200 [00:59<02:17,  1.00s/it]\u001b[A\n",
      "Average Metric: 59 / 64  (92.2):  32%|██████████████████████████████████                                                                          | 63/200 [01:00<02:17,  1.00s/it]\u001b[A\n",
      "Average Metric: 59 / 64  (92.2):  32%|██████████████████████████████████▌                                                                         | 64/200 [01:00<02:08,  1.06it/s]\u001b[A\n",
      "Average Metric: 60 / 65  (92.3):  32%|██████████████████████████████████▌                                                                         | 64/200 [01:00<02:08,  1.06it/s]\u001b[A\n",
      "Average Metric: 60 / 65  (92.3):  32%|███████████████████████████████████                                                                         | 65/200 [01:00<02:04,  1.08it/s]\u001b[A\n",
      "Average Metric: 61 / 66  (92.4):  32%|███████████████████████████████████                                                                         | 65/200 [01:01<02:04,  1.08it/s]\u001b[A\n",
      "Average Metric: 61 / 66  (92.4):  33%|███████████████████████████████████▋                                                                        | 66/200 [01:01<02:00,  1.11it/s]\u001b[A\n",
      "Average Metric: 62 / 67  (92.5):  33%|███████████████████████████████████▋                                                                        | 66/200 [01:02<02:00,  1.11it/s]\u001b[A\n",
      "Average Metric: 62 / 67  (92.5):  34%|████████████████████████████████████▏                                                                       | 67/200 [01:02<02:06,  1.06it/s]\u001b[A\n",
      "Average Metric: 62 / 68  (91.2):  34%|████████████████████████████████████▏                                                                       | 67/200 [01:03<02:06,  1.06it/s]\u001b[A\n",
      "Average Metric: 62 / 68  (91.2):  34%|████████████████████████████████████▋                                                                       | 68/200 [01:03<02:02,  1.08it/s]\u001b[A\n",
      "Average Metric: 63 / 69  (91.3):  34%|████████████████████████████████████▋                                                                       | 68/200 [01:04<02:02,  1.08it/s]\u001b[A\n",
      "Average Metric: 63 / 69  (91.3):  34%|█████████████████████████████████████▎                                                                      | 69/200 [01:04<02:09,  1.01it/s]\u001b[A\n",
      "Average Metric: 63 / 70  (90.0):  34%|█████████████████████████████████████▎                                                                      | 69/200 [01:05<02:09,  1.01it/s]\u001b[A\n",
      "Average Metric: 63 / 70  (90.0):  35%|█████████████████████████████████████▊                                                                      | 70/200 [01:05<02:05,  1.04it/s]\u001b[A\n",
      "Average Metric: 64 / 71  (90.1):  35%|█████████████████████████████████████▊                                                                      | 70/200 [01:06<02:05,  1.04it/s]\u001b[A\n",
      "Average Metric: 64 / 71  (90.1):  36%|██████████████████████████████████████▎                                                                     | 71/200 [01:06<02:04,  1.04it/s]\u001b[A\n",
      "Average Metric: 65 / 72  (90.3):  36%|██████████████████████████████████████▎                                                                     | 71/200 [01:08<02:04,  1.04it/s]\u001b[A\n",
      "Average Metric: 65 / 72  (90.3):  36%|██████████████████████████████████████▉                                                                     | 72/200 [01:08<02:20,  1.10s/it]\u001b[A\n",
      "Average Metric: 66 / 73  (90.4):  36%|██████████████████████████████████████▉                                                                     | 72/200 [01:09<02:20,  1.10s/it]\u001b[A\n",
      "Average Metric: 66 / 73  (90.4):  36%|███████████████████████████████████████▍                                                                    | 73/200 [01:09<02:20,  1.10s/it]\u001b[A\n",
      "Average Metric: 66 / 74  (89.2):  36%|███████████████████████████████████████▍                                                                    | 73/200 [01:10<02:20,  1.10s/it]\u001b[A\n",
      "Average Metric: 66 / 74  (89.2):  37%|███████████████████████████████████████▉                                                                    | 74/200 [01:10<02:13,  1.06s/it]\u001b[A\n",
      "Average Metric: 67 / 75  (89.3):  37%|███████████████████████████████████████▉                                                                    | 74/200 [01:11<02:13,  1.06s/it]\u001b[A\n",
      "Average Metric: 67 / 75  (89.3):  38%|████████████████████████████████████████▌                                                                   | 75/200 [01:11<02:02,  1.02it/s]\u001b[A\n",
      "Average Metric: 67 / 76  (88.2):  38%|████████████████████████████████████████▌                                                                   | 75/200 [01:11<02:02,  1.02it/s]\u001b[A\n",
      "Average Metric: 67 / 76  (88.2):  38%|█████████████████████████████████████████                                                                   | 76/200 [01:11<01:54,  1.08it/s]\u001b[A\n",
      "Average Metric: 68 / 77  (88.3):  38%|█████████████████████████████████████████                                                                   | 76/200 [01:12<01:54,  1.08it/s]\u001b[A\n",
      "Average Metric: 68 / 77  (88.3):  38%|█████████████████████████████████████████▌                                                                  | 77/200 [01:12<01:48,  1.14it/s]\u001b[A\n",
      "Average Metric: 68 / 78  (87.2):  38%|█████████████████████████████████████████▌                                                                  | 77/200 [01:13<01:48,  1.14it/s]\u001b[A\n",
      "Average Metric: 68 / 78  (87.2):  39%|██████████████████████████████████████████                                                                  | 78/200 [01:13<01:47,  1.13it/s]\u001b[A\n",
      "Average Metric: 69 / 79  (87.3):  39%|██████████████████████████████████████████                                                                  | 78/200 [01:14<01:47,  1.13it/s]\u001b[A\n",
      "Average Metric: 69 / 79  (87.3):  40%|██████████████████████████████████████████▋                                                                 | 79/200 [01:14<01:44,  1.16it/s]\u001b[A\n",
      "Average Metric: 70 / 80  (87.5):  40%|██████████████████████████████████████████▋                                                                 | 79/200 [01:15<01:44,  1.16it/s]\u001b[A\n",
      "Average Metric: 70 / 80  (87.5):  40%|███████████████████████████████████████████▏                                                                | 80/200 [01:15<01:45,  1.13it/s]\u001b[A\n",
      "Average Metric: 71 / 81  (87.7):  40%|███████████████████████████████████████████▏                                                                | 80/200 [01:16<01:45,  1.13it/s]\u001b[A\n",
      "Average Metric: 71 / 81  (87.7):  40%|███████████████████████████████████████████▋                                                                | 81/200 [01:16<01:44,  1.14it/s]\u001b[A\n",
      "Average Metric: 72 / 82  (87.8):  40%|███████████████████████████████████████████▋                                                                | 81/200 [01:17<01:44,  1.14it/s]\u001b[A\n",
      "Average Metric: 72 / 82  (87.8):  41%|████████████████████████████████████████████▎                                                               | 82/200 [01:17<02:05,  1.06s/it]\u001b[A\n",
      "Average Metric: 73 / 83  (88.0):  41%|████████████████████████████████████████████▎                                                               | 82/200 [01:18<02:05,  1.06s/it]\u001b[A\n",
      "Average Metric: 73 / 83  (88.0):  42%|████████████████████████████████████████████▊                                                               | 83/200 [01:18<02:13,  1.14s/it]\u001b[A\n",
      "Average Metric: 73 / 84  (86.9):  42%|████████████████████████████████████████████▊                                                               | 83/200 [01:19<02:13,  1.14s/it]\u001b[A\n",
      "Average Metric: 73 / 84  (86.9):  42%|█████████████████████████████████████████████▎                                                              | 84/200 [01:19<02:03,  1.06s/it]\u001b[A\n",
      "Average Metric: 74 / 85  (87.1):  42%|█████████████████████████████████████████████▎                                                              | 84/200 [01:20<02:03,  1.06s/it]\u001b[A\n",
      "Average Metric: 74 / 85  (87.1):  42%|█████████████████████████████████████████████▉                                                              | 85/200 [01:20<01:57,  1.02s/it]\u001b[A\n",
      "Average Metric: 74 / 86  (86.0):  42%|█████████████████████████████████████████████▉                                                              | 85/200 [01:21<01:57,  1.02s/it]\u001b[A\n",
      "Average Metric: 74 / 86  (86.0):  43%|██████████████████████████████████████████████▍                                                             | 86/200 [01:21<01:54,  1.01s/it]\u001b[A\n",
      "Average Metric: 75 / 87  (86.2):  43%|██████████████████████████████████████████████▍                                                             | 86/200 [01:22<01:54,  1.01s/it]\u001b[A\n",
      "Average Metric: 75 / 87  (86.2):  44%|██████████████████████████████████████████████▉                                                             | 87/200 [01:22<01:48,  1.04it/s]\u001b[A\n",
      "Average Metric: 75 / 88  (85.2):  44%|██████████████████████████████████████████████▉                                                             | 87/200 [01:23<01:48,  1.04it/s]\u001b[A\n",
      "Average Metric: 75 / 88  (85.2):  44%|███████████████████████████████████████████████▌                                                            | 88/200 [01:23<01:54,  1.02s/it]\u001b[A\n",
      "Average Metric: 76 / 89  (85.4):  44%|███████████████████████████████████████████████▌                                                            | 88/200 [01:24<01:54,  1.02s/it]\u001b[A\n",
      "Average Metric: 76 / 89  (85.4):  44%|████████████████████████████████████████████████                                                            | 89/200 [01:24<01:48,  1.02it/s]\u001b[A\n",
      "Average Metric: 76 / 90  (84.4):  44%|████████████████████████████████████████████████                                                            | 89/200 [01:25<01:48,  1.02it/s]\u001b[A\n",
      "Average Metric: 76 / 90  (84.4):  45%|████████████████████████████████████████████████▌                                                           | 90/200 [01:25<01:53,  1.03s/it]\u001b[A\n",
      "Average Metric: 77 / 91  (84.6):  45%|████████████████████████████████████████████████▌                                                           | 90/200 [01:26<01:53,  1.03s/it]\u001b[A\n",
      "Average Metric: 77 / 91  (84.6):  46%|█████████████████████████████████████████████████▏                                                          | 91/200 [01:27<02:00,  1.11s/it]\u001b[A\n",
      "Average Metric: 77 / 92  (83.7):  46%|█████████████████████████████████████████████████▏                                                          | 91/200 [01:28<02:00,  1.11s/it]\u001b[A\n",
      "Average Metric: 77 / 92  (83.7):  46%|█████████████████████████████████████████████████▋                                                          | 92/200 [01:28<02:03,  1.14s/it]\u001b[A\n",
      "Average Metric: 78 / 93  (83.9):  46%|█████████████████████████████████████████████████▋                                                          | 92/200 [01:29<02:03,  1.14s/it]\u001b[A\n",
      "Average Metric: 78 / 93  (83.9):  46%|██████████████████████████████████████████████████▏                                                         | 93/200 [01:29<01:56,  1.09s/it]\u001b[A\n",
      "Average Metric: 78 / 94  (83.0):  46%|██████████████████████████████████████████████████▏                                                         | 93/200 [01:30<01:56,  1.09s/it]\u001b[A\n",
      "Average Metric: 78 / 94  (83.0):  47%|██████████████████████████████████████████████████▊                                                         | 94/200 [01:30<01:57,  1.11s/it]\u001b[A\n",
      "Average Metric: 79 / 95  (83.2):  47%|██████████████████████████████████████████████████▊                                                         | 94/200 [01:31<01:57,  1.11s/it]\u001b[A\n",
      "Average Metric: 79 / 95  (83.2):  48%|███████████████████████████████████████████████████▎                                                        | 95/200 [01:31<01:47,  1.03s/it]\u001b[A\n",
      "Average Metric: 79 / 96  (82.3):  48%|███████████████████████████████████████████████████▎                                                        | 95/200 [01:32<01:47,  1.03s/it]\u001b[A\n",
      "Average Metric: 79 / 96  (82.3):  48%|███████████████████████████████████████████████████▊                                                        | 96/200 [01:32<01:46,  1.03s/it]\u001b[A\n",
      "Average Metric: 80 / 97  (82.5):  48%|███████████████████████████████████████████████████▊                                                        | 96/200 [01:33<01:46,  1.03s/it]\u001b[A\n",
      "Average Metric: 80 / 97  (82.5):  48%|████████████████████████████████████████████████████▍                                                       | 97/200 [01:33<01:52,  1.09s/it]\u001b[A\n",
      "Average Metric: 80 / 98  (81.6):  48%|████████████████████████████████████████████████████▍                                                       | 97/200 [01:34<01:52,  1.09s/it]\u001b[A\n",
      "Average Metric: 80 / 98  (81.6):  49%|████████████████████████████████████████████████████▉                                                       | 98/200 [01:34<01:58,  1.16s/it]\u001b[A\n",
      "Average Metric: 81 / 99  (81.8):  49%|████████████████████████████████████████████████████▉                                                       | 98/200 [01:35<01:58,  1.16s/it]\u001b[A\n",
      "Average Metric: 81 / 99  (81.8):  50%|█████████████████████████████████████████████████████▍                                                      | 99/200 [01:35<01:54,  1.13s/it]\u001b[A\n",
      "Average Metric: 82 / 100  (82.0):  50%|████████████████████████████████████████████████████▉                                                      | 99/200 [01:37<01:54,  1.13s/it]\u001b[A\n",
      "Average Metric: 82 / 100  (82.0):  50%|█████████████████████████████████████████████████████                                                     | 100/200 [01:37<01:55,  1.16s/it]\u001b[A\n",
      "Average Metric: 83 / 101  (82.2):  50%|█████████████████████████████████████████████████████                                                     | 100/200 [01:38<01:55,  1.16s/it]\u001b[A\n",
      "Average Metric: 83 / 101  (82.2):  50%|█████████████████████████████████████████████████████▌                                                    | 101/200 [01:38<01:49,  1.11s/it]\u001b[A\n",
      "Average Metric: 84 / 102  (82.4):  50%|█████████████████████████████████████████████████████▌                                                    | 101/200 [01:39<01:49,  1.11s/it]\u001b[A\n",
      "Average Metric: 84 / 102  (82.4):  51%|██████████████████████████████████████████████████████                                                    | 102/200 [01:39<01:53,  1.16s/it]\u001b[A\n",
      "Average Metric: 85 / 103  (82.5):  51%|██████████████████████████████████████████████████████                                                    | 102/200 [01:40<01:53,  1.16s/it]\u001b[A\n",
      "Average Metric: 85 / 103  (82.5):  52%|██████████████████████████████████████████████████████▌                                                   | 103/200 [01:40<01:44,  1.08s/it]\u001b[A\n",
      "Average Metric: 86 / 104  (82.7):  52%|██████████████████████████████████████████████████████▌                                                   | 103/200 [01:41<01:44,  1.08s/it]\u001b[A\n",
      "Average Metric: 86 / 104  (82.7):  52%|███████████████████████████████████████████████████████                                                   | 104/200 [01:41<01:53,  1.18s/it]\u001b[A\n",
      "Average Metric: 87 / 105  (82.9):  52%|███████████████████████████████████████████████████████                                                   | 104/200 [01:42<01:53,  1.18s/it]\u001b[A\n",
      "Average Metric: 87 / 105  (82.9):  52%|███████████████████████████████████████████████████████▋                                                  | 105/200 [01:42<01:48,  1.14s/it]\u001b[A\n",
      "Average Metric: 88 / 106  (83.0):  52%|███████████████████████████████████████████████████████▋                                                  | 105/200 [01:44<01:48,  1.14s/it]\u001b[A\n",
      "Average Metric: 88 / 106  (83.0):  53%|████████████████████████████████████████████████████████▏                                                 | 106/200 [01:44<01:53,  1.21s/it]\u001b[A\n",
      "Average Metric: 89 / 107  (83.2):  53%|████████████████████████████████████████████████████████▏                                                 | 106/200 [01:44<01:53,  1.21s/it]\u001b[A\n",
      "Average Metric: 89 / 107  (83.2):  54%|████████████████████████████████████████████████████████▋                                                 | 107/200 [01:44<01:41,  1.09s/it]\u001b[A\n",
      "Average Metric: 90 / 108  (83.3):  54%|████████████████████████████████████████████████████████▋                                                 | 107/200 [01:45<01:41,  1.09s/it]\u001b[A\n",
      "Average Metric: 90 / 108  (83.3):  54%|█████████████████████████████████████████████████████████▏                                                | 108/200 [01:45<01:40,  1.09s/it]\u001b[A\n",
      "Average Metric: 91 / 109  (83.5):  54%|█████████████████████████████████████████████████████████▏                                                | 108/200 [01:47<01:40,  1.09s/it]\u001b[A\n",
      "Average Metric: 91 / 109  (83.5):  55%|█████████████████████████████████████████████████████████▊                                                | 109/200 [01:47<01:39,  1.10s/it]\u001b[A\n",
      "Average Metric: 92 / 110  (83.6):  55%|█████████████████████████████████████████████████████████▊                                                | 109/200 [01:48<01:39,  1.10s/it]\u001b[A\n",
      "Average Metric: 92 / 110  (83.6):  55%|██████████████████████████████████████████████████████████▎                                               | 110/200 [01:48<01:34,  1.05s/it]\u001b[A\n",
      "Average Metric: 93 / 111  (83.8):  55%|██████████████████████████████████████████████████████████▎                                               | 110/200 [01:49<01:34,  1.05s/it]\u001b[A\n",
      "Average Metric: 93 / 111  (83.8):  56%|██████████████████████████████████████████████████████████▊                                               | 111/200 [01:49<01:51,  1.25s/it]\u001b[A\n",
      "Average Metric: 94 / 112  (83.9):  56%|██████████████████████████████████████████████████████████▊                                               | 111/200 [01:51<01:51,  1.25s/it]\u001b[A\n",
      "Average Metric: 94 / 112  (83.9):  56%|███████████████████████████████████████████████████████████▎                                              | 112/200 [01:51<02:02,  1.39s/it]\u001b[A\n",
      "Average Metric: 95 / 113  (84.1):  56%|███████████████████████████████████████████████████████████▎                                              | 112/200 [01:52<02:02,  1.39s/it]\u001b[A\n",
      "Average Metric: 95 / 113  (84.1):  56%|███████████████████████████████████████████████████████████▉                                              | 113/200 [01:52<01:59,  1.38s/it]\u001b[A\n",
      "Average Metric: 96 / 114  (84.2):  56%|███████████████████████████████████████████████████████████▉                                              | 113/200 [01:53<01:59,  1.38s/it]\u001b[A\n",
      "Average Metric: 96 / 114  (84.2):  57%|████████████████████████████████████████████████████████████▍                                             | 114/200 [01:53<01:52,  1.31s/it]\u001b[A\n",
      "Average Metric: 97 / 115  (84.3):  57%|████████████████████████████████████████████████████████████▍                                             | 114/200 [01:55<01:52,  1.31s/it]\u001b[A\n",
      "Average Metric: 97 / 115  (84.3):  57%|████████████████████████████████████████████████████████████▉                                             | 115/200 [01:55<01:54,  1.35s/it]\u001b[A\n",
      "Average Metric: 98 / 116  (84.5):  57%|████████████████████████████████████████████████████████████▉                                             | 115/200 [01:56<01:54,  1.35s/it]\u001b[A\n",
      "Average Metric: 98 / 116  (84.5):  58%|█████████████████████████████████████████████████████████████▍                                            | 116/200 [01:56<01:50,  1.32s/it]\u001b[A\n",
      "Average Metric: 99 / 117  (84.6):  58%|█████████████████████████████████████████████████████████████▍                                            | 116/200 [01:58<01:50,  1.32s/it]\u001b[A\n",
      "Average Metric: 99 / 117  (84.6):  58%|██████████████████████████████████████████████████████████████                                            | 117/200 [01:58<02:03,  1.49s/it]\u001b[A\n",
      "Average Metric: 100 / 118  (84.7):  58%|█████████████████████████████████████████████████████████████▍                                           | 117/200 [01:59<02:03,  1.49s/it]\u001b[A\n",
      "Average Metric: 100 / 118  (84.7):  59%|█████████████████████████████████████████████████████████████▉                                           | 118/200 [01:59<01:49,  1.33s/it]\u001b[A\n",
      "Average Metric: 101 / 119  (84.9):  59%|█████████████████████████████████████████████████████████████▉                                           | 118/200 [02:00<01:49,  1.33s/it]\u001b[A\n",
      "Average Metric: 101 / 119  (84.9):  60%|██████████████████████████████████████████████████████████████▍                                          | 119/200 [02:00<01:35,  1.18s/it]\u001b[A\n",
      "Average Metric: 102 / 120  (85.0):  60%|██████████████████████████████████████████████████████████████▍                                          | 119/200 [02:01<01:35,  1.18s/it]\u001b[A\n",
      "Average Metric: 102 / 120  (85.0):  60%|███████████████████████████████████████████████████████████████                                          | 120/200 [02:01<01:34,  1.19s/it]\u001b[A\n",
      "Average Metric: 103 / 121  (85.1):  60%|███████████████████████████████████████████████████████████████                                          | 120/200 [02:02<01:34,  1.19s/it]\u001b[A\n",
      "Average Metric: 103 / 121  (85.1):  60%|███████████████████████████████████████████████████████████████▌                                         | 121/200 [02:02<01:25,  1.08s/it]\u001b[A\n",
      "Average Metric: 104 / 122  (85.2):  60%|███████████████████████████████████████████████████████████████▌                                         | 121/200 [02:03<01:25,  1.08s/it]\u001b[A\n",
      "Average Metric: 104 / 122  (85.2):  61%|████████████████████████████████████████████████████████████████                                         | 122/200 [02:03<01:23,  1.07s/it]\u001b[A\n",
      "Average Metric: 105 / 123  (85.4):  61%|████████████████████████████████████████████████████████████████                                         | 122/200 [02:04<01:23,  1.07s/it]\u001b[A\n",
      "Average Metric: 105 / 123  (85.4):  62%|████████████████████████████████████████████████████████████████▌                                        | 123/200 [02:04<01:23,  1.08s/it]\u001b[A\n",
      "Average Metric: 106 / 124  (85.5):  62%|████████████████████████████████████████████████████████████████▌                                        | 123/200 [02:05<01:23,  1.08s/it]\u001b[A\n",
      "Average Metric: 106 / 124  (85.5):  62%|█████████████████████████████████████████████████████████████████                                        | 124/200 [02:05<01:17,  1.02s/it]\u001b[A\n",
      "Average Metric: 107 / 125  (85.6):  62%|█████████████████████████████████████████████████████████████████                                        | 124/200 [02:06<01:17,  1.02s/it]\u001b[A\n",
      "Average Metric: 107 / 125  (85.6):  62%|█████████████████████████████████████████████████████████████████▋                                       | 125/200 [02:06<01:21,  1.08s/it]\u001b[A\n",
      "Average Metric: 108 / 126  (85.7):  62%|█████████████████████████████████████████████████████████████████▋                                       | 125/200 [02:07<01:21,  1.08s/it]\u001b[A\n",
      "Average Metric: 108 / 126  (85.7):  63%|██████████████████████████████████████████████████████████████████▏                                      | 126/200 [02:07<01:23,  1.12s/it]\u001b[A\n",
      "Average Metric: 109 / 127  (85.8):  63%|██████████████████████████████████████████████████████████████████▏                                      | 126/200 [02:08<01:23,  1.12s/it]\u001b[A\n",
      "Average Metric: 109 / 127  (85.8):  64%|██████████████████████████████████████████████████████████████████▋                                      | 127/200 [02:08<01:17,  1.07s/it]\u001b[A\n",
      "Average Metric: 110 / 128  (85.9):  64%|██████████████████████████████████████████████████████████████████▋                                      | 127/200 [02:09<01:17,  1.07s/it]\u001b[A\n",
      "Average Metric: 110 / 128  (85.9):  64%|███████████████████████████████████████████████████████████████████▏                                     | 128/200 [02:09<01:16,  1.06s/it]\u001b[A\n",
      "Average Metric: 111 / 129  (86.0):  64%|███████████████████████████████████████████████████████████████████▏                                     | 128/200 [02:10<01:16,  1.06s/it]\u001b[A\n",
      "Average Metric: 111 / 129  (86.0):  64%|███████████████████████████████████████████████████████████████████▋                                     | 129/200 [02:10<01:09,  1.02it/s]\u001b[A\n",
      "Average Metric: 111 / 130  (85.4):  64%|███████████████████████████████████████████████████████████████████▋                                     | 129/200 [02:11<01:09,  1.02it/s]\u001b[A\n",
      "Average Metric: 111 / 130  (85.4):  65%|████████████████████████████████████████████████████████████████████▎                                    | 130/200 [02:11<01:09,  1.01it/s]\u001b[A\n",
      "Average Metric: 112 / 131  (85.5):  65%|████████████████████████████████████████████████████████████████████▎                                    | 130/200 [02:12<01:09,  1.01it/s]\u001b[A\n",
      "Average Metric: 112 / 131  (85.5):  66%|████████████████████████████████████████████████████████████████████▊                                    | 131/200 [02:12<01:09,  1.00s/it]\u001b[A\n",
      "Average Metric: 113 / 132  (85.6):  66%|████████████████████████████████████████████████████████████████████▊                                    | 131/200 [02:13<01:09,  1.00s/it]\u001b[A\n",
      "Average Metric: 113 / 132  (85.6):  66%|█████████████████████████████████████████████████████████████████████▎                                   | 132/200 [02:13<01:10,  1.04s/it]\u001b[A\n",
      "Average Metric: 114 / 133  (85.7):  66%|█████████████████████████████████████████████████████████████████████▎                                   | 132/200 [02:15<01:10,  1.04s/it]\u001b[A\n",
      "Average Metric: 114 / 133  (85.7):  66%|█████████████████████████████████████████████████████████████████████▊                                   | 133/200 [02:15<01:14,  1.11s/it]\u001b[A\n",
      "Average Metric: 115 / 134  (85.8):  66%|█████████████████████████████████████████████████████████████████████▊                                   | 133/200 [02:16<01:14,  1.11s/it]\u001b[A\n",
      "Average Metric: 115 / 134  (85.8):  67%|██████████████████████████████████████████████████████████████████████▎                                  | 134/200 [02:16<01:13,  1.12s/it]\u001b[A\n",
      "Average Metric: 116 / 135  (85.9):  67%|██████████████████████████████████████████████████████████████████████▎                                  | 134/200 [02:17<01:13,  1.12s/it]\u001b[A\n",
      "Average Metric: 116 / 135  (85.9):  68%|██████████████████████████████████████████████████████████████████████▉                                  | 135/200 [02:17<01:06,  1.03s/it]\u001b[A\n",
      "Average Metric: 117 / 136  (86.0):  68%|██████████████████████████████████████████████████████████████████████▉                                  | 135/200 [02:18<01:06,  1.03s/it]\u001b[A\n",
      "Average Metric: 117 / 136  (86.0):  68%|███████████████████████████████████████████████████████████████████████▍                                 | 136/200 [02:18<01:06,  1.04s/it]\u001b[A\n",
      "Average Metric: 118 / 137  (86.1):  68%|███████████████████████████████████████████████████████████████████████▍                                 | 136/200 [02:18<01:06,  1.04s/it]\u001b[A\n",
      "Average Metric: 118 / 137  (86.1):  68%|███████████████████████████████████████████████████████████████████████▉                                 | 137/200 [02:18<01:02,  1.01it/s]\u001b[A\n",
      "Average Metric: 119 / 138  (86.2):  68%|███████████████████████████████████████████████████████████████████████▉                                 | 137/200 [02:20<01:02,  1.01it/s]\u001b[A\n",
      "Average Metric: 119 / 138  (86.2):  69%|████████████████████████████████████████████████████████████████████████▍                                | 138/200 [02:20<01:12,  1.17s/it]\u001b[A\n",
      "Average Metric: 120 / 139  (86.3):  69%|████████████████████████████████████████████████████████████████████████▍                                | 138/200 [02:21<01:12,  1.17s/it]\u001b[A\n",
      "Average Metric: 120 / 139  (86.3):  70%|████████████████████████████████████████████████████████████████████████▉                                | 139/200 [02:21<01:08,  1.12s/it]\u001b[A\n",
      "Average Metric: 121 / 140  (86.4):  70%|████████████████████████████████████████████████████████████████████████▉                                | 139/200 [02:22<01:08,  1.12s/it]\u001b[A\n",
      "Average Metric: 121 / 140  (86.4):  70%|█████████████████████████████████████████████████████████████████████████▌                               | 140/200 [02:22<01:03,  1.06s/it]\u001b[A\n",
      "Average Metric: 122 / 141  (86.5):  70%|█████████████████████████████████████████████████████████████████████████▌                               | 140/200 [02:23<01:03,  1.06s/it]\u001b[A\n",
      "Average Metric: 122 / 141  (86.5):  70%|██████████████████████████████████████████████████████████████████████████                               | 141/200 [02:23<00:58,  1.00it/s]\u001b[A\n",
      "Average Metric: 123 / 142  (86.6):  70%|██████████████████████████████████████████████████████████████████████████                               | 141/200 [02:24<00:58,  1.00it/s]\u001b[A\n",
      "Average Metric: 123 / 142  (86.6):  71%|██████████████████████████████████████████████████████████████████████████▌                              | 142/200 [02:24<00:57,  1.00it/s]\u001b[A\n",
      "Average Metric: 124 / 143  (86.7):  71%|██████████████████████████████████████████████████████████████████████████▌                              | 142/200 [02:25<00:57,  1.00it/s]\u001b[A\n",
      "Average Metric: 124 / 143  (86.7):  72%|███████████████████████████████████████████████████████████████████████████                              | 143/200 [02:25<00:53,  1.06it/s]\u001b[A\n",
      "Average Metric: 125 / 144  (86.8):  72%|███████████████████████████████████████████████████████████████████████████                              | 143/200 [02:26<00:53,  1.06it/s]\u001b[A\n",
      "Average Metric: 125 / 144  (86.8):  72%|███████████████████████████████████████████████████████████████████████████▌                             | 144/200 [02:26<00:54,  1.03it/s]\u001b[A\n",
      "Average Metric: 126 / 145  (86.9):  72%|███████████████████████████████████████████████████████████████████████████▌                             | 144/200 [02:27<00:54,  1.03it/s]\u001b[A\n",
      "Average Metric: 126 / 145  (86.9):  72%|████████████████████████████████████████████████████████████████████████████▏                            | 145/200 [02:27<00:54,  1.01it/s]\u001b[A\n",
      "Average Metric: 127 / 146  (87.0):  72%|████████████████████████████████████████████████████████████████████████████▏                            | 145/200 [02:28<00:54,  1.01it/s]\u001b[A\n",
      "Average Metric: 127 / 146  (87.0):  73%|████████████████████████████████████████████████████████████████████████████▋                            | 146/200 [02:28<00:54,  1.01s/it]\u001b[A\n",
      "Average Metric: 128 / 147  (87.1):  73%|████████████████████████████████████████████████████████████████████████████▋                            | 146/200 [02:29<00:54,  1.01s/it]\u001b[A\n",
      "Average Metric: 128 / 147  (87.1):  74%|█████████████████████████████████████████████████████████████████████████████▏                           | 147/200 [02:29<00:50,  1.05it/s]\u001b[A\n",
      "Average Metric: 129 / 148  (87.2):  74%|█████████████████████████████████████████████████████████████████████████████▏                           | 147/200 [02:29<00:50,  1.05it/s]\u001b[A\n",
      "Average Metric: 129 / 148  (87.2):  74%|█████████████████████████████████████████████████████████████████████████████▋                           | 148/200 [02:29<00:48,  1.07it/s]\u001b[A\n",
      "Average Metric: 130 / 149  (87.2):  74%|█████████████████████████████████████████████████████████████████████████████▋                           | 148/200 [02:30<00:48,  1.07it/s]\u001b[A\n",
      "Average Metric: 130 / 149  (87.2):  74%|██████████████████████████████████████████████████████████████████████████████▏                          | 149/200 [02:30<00:45,  1.11it/s]\u001b[A\n",
      "Average Metric: 131 / 150  (87.3):  74%|██████████████████████████████████████████████████████████████████████████████▏                          | 149/200 [02:32<00:45,  1.11it/s]\u001b[A\n",
      "Average Metric: 131 / 150  (87.3):  75%|██████████████████████████████████████████████████████████████████████████████▊                          | 150/200 [02:32<00:52,  1.06s/it]\u001b[A\n",
      "Average Metric: 132 / 151  (87.4):  75%|██████████████████████████████████████████████████████████████████████████████▊                          | 150/200 [02:33<00:52,  1.06s/it]\u001b[A\n",
      "Average Metric: 132 / 151  (87.4):  76%|███████████████████████████████████████████████████████████████████████████████▎                         | 151/200 [02:33<00:48,  1.00it/s]\u001b[A\n",
      "Average Metric: 133 / 152  (87.5):  76%|███████████████████████████████████████████████████████████████████████████████▎                         | 151/200 [02:34<00:48,  1.00it/s]\u001b[A\n",
      "Average Metric: 133 / 152  (87.5):  76%|███████████████████████████████████████████████████████████████████████████████▊                         | 152/200 [02:34<00:53,  1.11s/it]\u001b[A\n",
      "Average Metric: 134 / 153  (87.6):  76%|███████████████████████████████████████████████████████████████████████████████▊                         | 152/200 [02:35<00:53,  1.11s/it]\u001b[A\n",
      "Average Metric: 134 / 153  (87.6):  76%|████████████████████████████████████████████████████████████████████████████████▎                        | 153/200 [02:35<00:48,  1.04s/it]\u001b[A\n",
      "Average Metric: 135 / 154  (87.7):  76%|████████████████████████████████████████████████████████████████████████████████▎                        | 153/200 [02:36<00:48,  1.04s/it]\u001b[A\n",
      "Average Metric: 135 / 154  (87.7):  77%|████████████████████████████████████████████████████████████████████████████████▊                        | 154/200 [02:36<00:49,  1.08s/it]\u001b[A\n",
      "Average Metric: 136 / 155  (87.7):  77%|████████████████████████████████████████████████████████████████████████████████▊                        | 154/200 [02:37<00:49,  1.08s/it]\u001b[A\n",
      "Average Metric: 136 / 155  (87.7):  78%|█████████████████████████████████████████████████████████████████████████████████▍                       | 155/200 [02:37<00:48,  1.08s/it]\u001b[A\n",
      "Average Metric: 137 / 156  (87.8):  78%|█████████████████████████████████████████████████████████████████████████████████▍                       | 155/200 [02:38<00:48,  1.08s/it]\u001b[A\n",
      "Average Metric: 137 / 156  (87.8):  78%|█████████████████████████████████████████████████████████████████████████████████▉                       | 156/200 [02:38<00:44,  1.02s/it]\u001b[A\n",
      "Average Metric: 138 / 157  (87.9):  78%|█████████████████████████████████████████████████████████████████████████████████▉                       | 156/200 [02:39<00:44,  1.02s/it]\u001b[A\n",
      "Average Metric: 138 / 157  (87.9):  78%|██████████████████████████████████████████████████████████████████████████████████▍                      | 157/200 [02:39<00:42,  1.02it/s]\u001b[A\n",
      "Average Metric: 139 / 158  (88.0):  78%|██████████████████████████████████████████████████████████████████████████████████▍                      | 157/200 [02:40<00:42,  1.02it/s]\u001b[A\n",
      "Average Metric: 139 / 158  (88.0):  79%|██████████████████████████████████████████████████████████████████████████████████▉                      | 158/200 [02:40<00:39,  1.05it/s]\u001b[A\n",
      "Average Metric: 140 / 159  (88.1):  79%|██████████████████████████████████████████████████████████████████████████████████▉                      | 158/200 [02:41<00:39,  1.05it/s]\u001b[A\n",
      "Average Metric: 140 / 159  (88.1):  80%|███████████████████████████████████████████████████████████████████████████████████▍                     | 159/200 [02:41<00:38,  1.07it/s]\u001b[A\n",
      "Average Metric: 141 / 160  (88.1):  80%|███████████████████████████████████████████████████████████████████████████████████▍                     | 159/200 [02:42<00:38,  1.07it/s]\u001b[A\n",
      "Average Metric: 141 / 160  (88.1):  80%|████████████████████████████████████████████████████████████████████████████████████                     | 160/200 [02:42<00:37,  1.06it/s]\u001b[A\n",
      "Average Metric: 142 / 161  (88.2):  80%|████████████████████████████████████████████████████████████████████████████████████                     | 160/200 [02:42<00:37,  1.06it/s]\u001b[A\n",
      "Average Metric: 142 / 161  (88.2):  80%|████████████████████████████████████████████████████████████████████████████████████▌                    | 161/200 [02:42<00:34,  1.14it/s]\u001b[A\n",
      "Average Metric: 142 / 162  (87.7):  80%|████████████████████████████████████████████████████████████████████████████████████▌                    | 161/200 [02:43<00:34,  1.14it/s]\u001b[A\n",
      "Average Metric: 142 / 162  (87.7):  81%|█████████████████████████████████████████████████████████████████████████████████████                    | 162/200 [02:43<00:36,  1.03it/s]\u001b[A\n",
      "Average Metric: 143 / 163  (87.7):  81%|█████████████████████████████████████████████████████████████████████████████████████                    | 162/200 [02:44<00:36,  1.03it/s]\u001b[A\n",
      "Average Metric: 143 / 163  (87.7):  82%|█████████████████████████████████████████████████████████████████████████████████████▌                   | 163/200 [02:45<00:36,  1.01it/s]\u001b[A\n",
      "Average Metric: 143 / 164  (87.2):  82%|█████████████████████████████████████████████████████████████████████████████████████▌                   | 163/200 [02:45<00:36,  1.01it/s]\u001b[A\n",
      "Average Metric: 143 / 164  (87.2):  82%|██████████████████████████████████████████████████████████████████████████████████████                   | 164/200 [02:45<00:35,  1.02it/s]\u001b[A\n",
      "Average Metric: 144 / 165  (87.3):  82%|██████████████████████████████████████████████████████████████████████████████████████                   | 164/200 [02:47<00:35,  1.02it/s]\u001b[A\n",
      "Average Metric: 144 / 165  (87.3):  82%|██████████████████████████████████████████████████████████████████████████████████████▋                  | 165/200 [02:47<00:36,  1.04s/it]\u001b[A\n",
      "Average Metric: 144 / 166  (86.7):  82%|██████████████████████████████████████████████████████████████████████████████████████▋                  | 165/200 [02:48<00:36,  1.04s/it]\u001b[A\n",
      "Average Metric: 144 / 166  (86.7):  83%|███████████████████████████████████████████████████████████████████████████████████████▏                 | 166/200 [02:48<00:37,  1.10s/it]\u001b[A\n",
      "Average Metric: 145 / 167  (86.8):  83%|███████████████████████████████████████████████████████████████████████████████████████▏                 | 166/200 [02:49<00:37,  1.10s/it]\u001b[A\n",
      "Average Metric: 145 / 167  (86.8):  84%|███████████████████████████████████████████████████████████████████████████████████████▋                 | 167/200 [02:49<00:34,  1.06s/it]\u001b[A\n",
      "Average Metric: 145 / 168  (86.3):  84%|███████████████████████████████████████████████████████████████████████████████████████▋                 | 167/200 [02:50<00:34,  1.06s/it]\u001b[A\n",
      "Average Metric: 145 / 168  (86.3):  84%|████████████████████████████████████████████████████████████████████████████████████████▏                | 168/200 [02:50<00:35,  1.09s/it]\u001b[A\n",
      "Average Metric: 146 / 169  (86.4):  84%|████████████████████████████████████████████████████████████████████████████████████████▏                | 168/200 [02:51<00:35,  1.09s/it]\u001b[A\n",
      "Average Metric: 146 / 169  (86.4):  84%|████████████████████████████████████████████████████████████████████████████████████████▋                | 169/200 [02:51<00:31,  1.01s/it]\u001b[A\n",
      "Average Metric: 147 / 170  (86.5):  84%|████████████████████████████████████████████████████████████████████████████████████████▋                | 169/200 [02:52<00:31,  1.01s/it]\u001b[A\n",
      "Average Metric: 147 / 170  (86.5):  85%|█████████████████████████████████████████████████████████████████████████████████████████▎               | 170/200 [02:52<00:30,  1.02s/it]\u001b[A\n",
      "Average Metric: 148 / 171  (86.5):  85%|█████████████████████████████████████████████████████████████████████████████████████████▎               | 170/200 [02:53<00:30,  1.02s/it]\u001b[A\n",
      "Average Metric: 148 / 171  (86.5):  86%|█████████████████████████████████████████████████████████████████████████████████████████▊               | 171/200 [02:53<00:26,  1.08it/s]\u001b[A\n",
      "Average Metric: 148 / 172  (86.0):  86%|█████████████████████████████████████████████████████████████████████████████████████████▊               | 171/200 [02:54<00:26,  1.08it/s]\u001b[A\n",
      "Average Metric: 148 / 172  (86.0):  86%|██████████████████████████████████████████████████████████████████████████████████████████▎              | 172/200 [02:54<00:26,  1.05it/s]\u001b[A\n",
      "Average Metric: 149 / 173  (86.1):  86%|██████████████████████████████████████████████████████████████████████████████████████████▎              | 172/200 [02:55<00:26,  1.05it/s]\u001b[A\n",
      "Average Metric: 149 / 173  (86.1):  86%|██████████████████████████████████████████████████████████████████████████████████████████▊              | 173/200 [02:55<00:28,  1.07s/it]\u001b[A\n",
      "Average Metric: 149 / 174  (85.6):  86%|██████████████████████████████████████████████████████████████████████████████████████████▊              | 173/200 [02:56<00:28,  1.07s/it]\u001b[A\n",
      "Average Metric: 149 / 174  (85.6):  87%|███████████████████████████████████████████████████████████████████████████████████████████▎             | 174/200 [02:56<00:29,  1.12s/it]\u001b[A\n",
      "Average Metric: 150 / 175  (85.7):  87%|███████████████████████████████████████████████████████████████████████████████████████████▎             | 174/200 [02:57<00:29,  1.12s/it]\u001b[A\n",
      "Average Metric: 150 / 175  (85.7):  88%|███████████████████████████████████████████████████████████████████████████████████████████▉             | 175/200 [02:57<00:24,  1.01it/s]\u001b[A\n",
      "Average Metric: 151 / 176  (85.8):  88%|███████████████████████████████████████████████████████████████████████████████████████████▉             | 175/200 [02:58<00:24,  1.01it/s]\u001b[A\n",
      "Average Metric: 151 / 176  (85.8):  88%|████████████████████████████████████████████████████████████████████████████████████████████▍            | 176/200 [02:58<00:24,  1.01s/it]\u001b[A\n",
      "Average Metric: 152 / 177  (85.9):  88%|████████████████████████████████████████████████████████████████████████████████████████████▍            | 176/200 [02:59<00:24,  1.01s/it]\u001b[A\n",
      "Average Metric: 152 / 177  (85.9):  88%|████████████████████████████████████████████████████████████████████████████████████████████▉            | 177/200 [02:59<00:23,  1.02s/it]\u001b[A\n",
      "Average Metric: 153 / 178  (86.0):  88%|████████████████████████████████████████████████████████████████████████████████████████████▉            | 177/200 [03:00<00:23,  1.02s/it]\u001b[A\n",
      "Average Metric: 153 / 178  (86.0):  89%|█████████████████████████████████████████████████████████████████████████████████████████████▍           | 178/200 [03:00<00:21,  1.04it/s]\u001b[A\n",
      "Average Metric: 154 / 179  (86.0):  89%|█████████████████████████████████████████████████████████████████████████████████████████████▍           | 178/200 [03:00<00:21,  1.04it/s]\u001b[A\n",
      "Average Metric: 154 / 179  (86.0):  90%|█████████████████████████████████████████████████████████████████████████████████████████████▉           | 179/200 [03:00<00:18,  1.14it/s]\u001b[A\n",
      "Average Metric: 155 / 180  (86.1):  90%|█████████████████████████████████████████████████████████████████████████████████████████████▉           | 179/200 [03:01<00:18,  1.14it/s]\u001b[A\n",
      "Average Metric: 155 / 180  (86.1):  90%|██████████████████████████████████████████████████████████████████████████████████████████████▌          | 180/200 [03:01<00:17,  1.12it/s]\u001b[A\n",
      "Average Metric: 156 / 181  (86.2):  90%|██████████████████████████████████████████████████████████████████████████████████████████████▌          | 180/200 [03:02<00:17,  1.12it/s]\u001b[A\n",
      "Average Metric: 156 / 181  (86.2):  90%|███████████████████████████████████████████████████████████████████████████████████████████████          | 181/200 [03:02<00:15,  1.20it/s]\u001b[A\n",
      "Average Metric: 157 / 182  (86.3):  90%|███████████████████████████████████████████████████████████████████████████████████████████████          | 181/200 [03:03<00:15,  1.20it/s]\u001b[A\n",
      "Average Metric: 157 / 182  (86.3):  91%|███████████████████████████████████████████████████████████████████████████████████████████████▌         | 182/200 [03:03<00:16,  1.08it/s]\u001b[A\n",
      "Average Metric: 158 / 183  (86.3):  91%|███████████████████████████████████████████████████████████████████████████████████████████████▌         | 182/200 [03:04<00:16,  1.08it/s]\u001b[A\n",
      "Average Metric: 158 / 183  (86.3):  92%|████████████████████████████████████████████████████████████████████████████████████████████████         | 183/200 [03:04<00:15,  1.09it/s]\u001b[A\n",
      "Average Metric: 159 / 184  (86.4):  92%|████████████████████████████████████████████████████████████████████████████████████████████████         | 183/200 [03:05<00:15,  1.09it/s]\u001b[A\n",
      "Average Metric: 159 / 184  (86.4):  92%|████████████████████████████████████████████████████████████████████████████████████████████████▌        | 184/200 [03:05<00:16,  1.01s/it]\u001b[A\n",
      "Average Metric: 160 / 185  (86.5):  92%|████████████████████████████████████████████████████████████████████████████████████████████████▌        | 184/200 [03:06<00:16,  1.01s/it]\u001b[A\n",
      "Average Metric: 160 / 185  (86.5):  92%|█████████████████████████████████████████████████████████████████████████████████████████████████▏       | 185/200 [03:06<00:14,  1.05it/s]\u001b[A\n",
      "Average Metric: 160 / 186  (86.0):  92%|█████████████████████████████████████████████████████████████████████████████████████████████████▏       | 185/200 [03:07<00:14,  1.05it/s]\u001b[A\n",
      "Average Metric: 160 / 186  (86.0):  93%|█████████████████████████████████████████████████████████████████████████████████████████████████▋       | 186/200 [03:07<00:12,  1.13it/s]\u001b[A\n",
      "Average Metric: 161 / 187  (86.1):  93%|█████████████████████████████████████████████████████████████████████████████████████████████████▋       | 186/200 [03:08<00:12,  1.13it/s]\u001b[A\n",
      "Average Metric: 161 / 187  (86.1):  94%|██████████████████████████████████████████████████████████████████████████████████████████████████▏      | 187/200 [03:08<00:10,  1.20it/s]\u001b[A\n",
      "Average Metric: 162 / 188  (86.2):  94%|██████████████████████████████████████████████████████████████████████████████████████████████████▏      | 187/200 [03:09<00:10,  1.20it/s]\u001b[A\n",
      "Average Metric: 162 / 188  (86.2):  94%|██████████████████████████████████████████████████████████████████████████████████████████████████▋      | 188/200 [03:09<00:11,  1.07it/s]\u001b[A\n",
      "Average Metric: 163 / 189  (86.2):  94%|██████████████████████████████████████████████████████████████████████████████████████████████████▋      | 188/200 [03:10<00:11,  1.07it/s]\u001b[A\n",
      "Average Metric: 163 / 189  (86.2):  94%|███████████████████████████████████████████████████████████████████████████████████████████████████▏     | 189/200 [03:10<00:10,  1.02it/s]\u001b[A\n",
      "Average Metric: 164 / 190  (86.3):  94%|███████████████████████████████████████████████████████████████████████████████████████████████████▏     | 189/200 [03:11<00:10,  1.02it/s]\u001b[A\n",
      "Average Metric: 164 / 190  (86.3):  95%|███████████████████████████████████████████████████████████████████████████████████████████████████▊     | 190/200 [03:11<00:10,  1.04s/it]\u001b[A\n",
      "Average Metric: 165 / 191  (86.4):  95%|███████████████████████████████████████████████████████████████████████████████████████████████████▊     | 190/200 [03:12<00:10,  1.04s/it]\u001b[A\n",
      "Average Metric: 165 / 191  (86.4):  96%|████████████████████████████████████████████████████████████████████████████████████████████████████▎    | 191/200 [03:12<00:08,  1.09it/s]\u001b[A\n",
      "Average Metric: 166 / 192  (86.5):  96%|████████████████████████████████████████████████████████████████████████████████████████████████████▎    | 191/200 [03:13<00:08,  1.09it/s]\u001b[A\n",
      "Average Metric: 166 / 192  (86.5):  96%|████████████████████████████████████████████████████████████████████████████████████████████████████▊    | 192/200 [03:13<00:07,  1.12it/s]\u001b[A\n",
      "Average Metric: 167 / 193  (86.5):  96%|████████████████████████████████████████████████████████████████████████████████████████████████████▊    | 192/200 [03:13<00:07,  1.12it/s]\u001b[A\n",
      "Average Metric: 167 / 193  (86.5):  96%|█████████████████████████████████████████████████████████████████████████████████████████████████████▎   | 193/200 [03:13<00:06,  1.15it/s]\u001b[A\n",
      "Average Metric: 168 / 194  (86.6):  96%|█████████████████████████████████████████████████████████████████████████████████████████████████████▎   | 193/200 [03:15<00:06,  1.15it/s]\u001b[A\n",
      "Average Metric: 168 / 194  (86.6):  97%|█████████████████████████████████████████████████████████████████████████████████████████████████████▊   | 194/200 [03:15<00:05,  1.05it/s]\u001b[A\n",
      "Average Metric: 169 / 195  (86.7):  97%|█████████████████████████████████████████████████████████████████████████████████████████████████████▊   | 194/200 [03:15<00:05,  1.05it/s]\u001b[A\n",
      "Average Metric: 169 / 195  (86.7):  98%|██████████████████████████████████████████████████████████████████████████████████████████████████████▍  | 195/200 [03:15<00:04,  1.12it/s]\u001b[A\n",
      "Average Metric: 170 / 196  (86.7):  98%|██████████████████████████████████████████████████████████████████████████████████████████████████████▍  | 195/200 [03:16<00:04,  1.12it/s]\u001b[A\n",
      "Average Metric: 170 / 196  (86.7):  98%|██████████████████████████████████████████████████████████████████████████████████████████████████████▉  | 196/200 [03:16<00:03,  1.18it/s]\u001b[A\n",
      "Average Metric: 171 / 197  (86.8):  98%|██████████████████████████████████████████████████████████████████████████████████████████████████████▉  | 196/200 [03:17<00:03,  1.18it/s]\u001b[A\n",
      "Average Metric: 171 / 197  (86.8):  98%|███████████████████████████████████████████████████████████████████████████████████████████████████████▍ | 197/200 [03:17<00:02,  1.17it/s]\u001b[A\n",
      "Average Metric: 171 / 198  (86.4):  98%|███████████████████████████████████████████████████████████████████████████████████████████████████████▍ | 197/200 [03:18<00:02,  1.17it/s]\u001b[A\n",
      "Average Metric: 171 / 198  (86.4):  99%|███████████████████████████████████████████████████████████████████████████████████████████████████████▉ | 198/200 [03:18<00:01,  1.15it/s]\u001b[A\n",
      "Average Metric: 172 / 199  (86.4):  99%|███████████████████████████████████████████████████████████████████████████████████████████████████████▉ | 198/200 [03:19<00:01,  1.15it/s]\u001b[A\n",
      "Average Metric: 172 / 199  (86.4): 100%|████████████████████████████████████████████████████████████████████████████████████████████████████████▍| 199/200 [03:19<00:00,  1.20it/s]\u001b[A\n",
      "Average Metric: 173 / 200  (86.5): 100%|████████████████████████████████████████████████████████████████████████████████████████████████████████▍| 199/200 [03:22<00:00,  1.20it/s]\u001b[A\n",
      "Average Metric: 173 / 200  (86.5): 100%|█████████████████████████████████████████████████████████████████████████████████████████████████████████| 200/200 [03:22<00:00,  1.01s/it]\u001b[A"
     ]
    },
    {
     "name": "stdout",
     "output_type": "stream",
     "text": [
      "Average Metric: 173 / 200  (86.5%)\n"
     ]
    },
    {
     "name": "stderr",
     "output_type": "stream",
     "text": [
      "\n"
     ]
    },
    {
     "data": {
      "text/plain": [
       "86.5"
      ]
     },
     "execution_count": 24,
     "metadata": {},
     "output_type": "execute_result"
    }
   ],
   "source": [
    "evaluator(cot_fewshot, metric=scone_accuracy)"
   ]
  },
  {
   "cell_type": "code",
   "execution_count": 25,
   "id": "9d2b642c-9a4c-4081-bed8-34a3ac836628",
   "metadata": {},
   "outputs": [],
   "source": [
    "cot_fewshot.save(\"scone-cot_fewshot-turbo-gpt4-demos.json\")"
   ]
  },
  {
   "cell_type": "markdown",
   "id": "e8331a5b-b294-4924-84f6-8fb5fdb1fbde",
   "metadata": {},
   "source": [
    "# Examples"
   ]
  },
  {
   "cell_type": "code",
   "execution_count": 26,
   "id": "15db4e7c-cbf5-402c-bcae-064b98f60e90",
   "metadata": {},
   "outputs": [
    {
     "name": "stdout",
     "output_type": "stream",
     "text": [
      "\n",
      "\n",
      "\n",
      "\n",
      "You are given some context (a premise) and a question (a hypothesis). You must indicate with Yes/No answer whether we can logically conclude the hypothesis from the premise.\n",
      "\n",
      "---\n",
      "\n",
      "Follow the following format.\n",
      "\n",
      "Context: ${context}\n",
      "\n",
      "Question: ${question}\n",
      "\n",
      "Reasoning: Let's think step by step in order to ${produce the answer}. We ...\n",
      "\n",
      "Answer: Yes or No\n",
      "\n",
      "---\n",
      "\n",
      "Context: It is not true that there is not a single person walking in the city.\n",
      "\n",
      "Question: Can we logically conclude for sure that it is not true that there is not a single celebrity walking in the city?\n",
      "\n",
      "Reasoning: Let's think step by step in order to produce the answer. We know that the statement negates the absence of any person walking in the city, which means there is at least one person walking in the city. However, we do not have information about the status of the person or persons walking in the city. They could be celebrities or they could be non-celebrities. Without specific information about the individuals' celebrity status, we cannot logically conclude that a celebrity is walking in the city.\n",
      "\n",
      "Answer: No\n",
      "\n",
      "---\n",
      "\n",
      "Context: the boy, not girl, will play an trombone, but not for another week\n",
      "\n",
      "Question: Can we logically conclude for sure that the boy, not girl, will play an instrument, but not for another week?\n",
      "\n",
      "Reasoning: Let's think step by step in order to produce the answer. We know that the subject is a boy and not a girl. We also know that he will play a trombone, which is a type of instrument. The time frame given is that he will not play for another week. Since a trombone is an instrument, we can conclude that the boy will play an instrument, and the time frame does not change this fact.\n",
      "\n",
      "Answer: Yes\n",
      "\n",
      "---\n",
      "\n",
      "Context: A man is not holding anything in his hands.\n",
      "\n",
      "Question: Can we logically conclude for sure that a man is not holding beverages in his hands?\n",
      "\n",
      "Reasoning: Let's think step by step in order to produce the answer. We know that the man is not holding anything in his hands. Beverages are a subset of \"anything.\" Therefore, if he is not holding anything, he is also not holding beverages.\n",
      "\n",
      "Answer: Yes\n",
      "\n",
      "---\n",
      "\n",
      "Context: There is not a boat nearby.\n",
      "\n",
      "Question: Can we logically conclude for sure that there is not a speedboat nearby?\n",
      "\n",
      "Reasoning: Let's think step by step in order to produce the answer. We know that there is not a boat nearby. A speedboat is a type of boat. If there is no boat of any kind nearby, then it follows that there cannot be a speedboat nearby either.\n",
      "\n",
      "Answer: Yes\n",
      "\n",
      "---\n",
      "\n",
      "Context: The man is not listening to music.\n",
      "\n",
      "Question: Can we logically conclude for sure that the man is not listening to rockabilly?\n",
      "\n",
      "Reasoning: Let's think step by step in order to produce the answer. We know that the man is not listening to music. Rockabilly is a genre of music. If the man is not listening to music at all, then he cannot be listening to rockabilly, which is a specific type of music.\n",
      "\n",
      "Answer: Yes\n",
      "\n",
      "---\n",
      "\n",
      "Context: There is not a single person walking in the city.\n",
      "\n",
      "Question: Can we logically conclude for sure that there is not a single mover walking in the city?\n",
      "\n",
      "Reasoning: Let's think step by step in order to produce the answer. We know that there is not a single person walking in the city. A mover is a type of person. If there are no people walking in the city, then there cannot be a mover walking in the city, because a mover is included in the broader category of people.\n",
      "\n",
      "Answer: Yes\n",
      "\n",
      "---\n",
      "\n",
      "Context: a man walks not so confidently, but he does not drop eggplants\n",
      "\n",
      "Question: Can we logically conclude for sure that a man walks not so confidently, but he does not drop produce?\n",
      "\n",
      "Reasoning: Let's think step by step in order to produce the answer. We know that the man does not drop eggplants, which are a type of produce. However, the statement does not provide information about other types of produce. Therefore, we cannot conclude that he does not drop any type of produce, only that he does not drop eggplants specifically.\n",
      "\n",
      "Answer: No\n",
      "\n",
      "---\n",
      "\n",
      "Context: The girl who is not here is not wearing any jewelry at all.\n",
      "Question: Can we logically conclude for sure that the girl who is not here is not wearing any ringlets at all?\n",
      "Answer: Yes\n",
      "\n",
      "---\n",
      "\n",
      "Context: The man is not steering a sedan\n",
      "\n",
      "Question: Can we logically conclude for sure that the man is not steering a car?\n",
      "\n",
      "Reasoning: Let's think step by step in order to\u001b[32m produce the answer. We know that the man is not steering a sedan, which is a type of car. However, there are many other types of cars that the man could be steering. Without specific information about the type of car he is steering, we cannot logically conclude that he is not steering a car at all.\n",
      "\n",
      "Answer: No\u001b[0m\n",
      "\n",
      "\n",
      "\n"
     ]
    }
   ],
   "source": [
    "turbo.inspect_history(n=1)"
   ]
  },
  {
   "cell_type": "code",
   "execution_count": null,
   "id": "1f5fd951-6712-4ebb-a6e7-ddacf83068d8",
   "metadata": {},
   "outputs": [],
   "source": []
  }
 ],
 "metadata": {
  "kernelspec": {
   "display_name": "Python 3 (ipykernel)",
   "language": "python",
   "name": "python3"
  },
  "language_info": {
   "codemirror_mode": {
    "name": "ipython",
    "version": 3
   },
   "file_extension": ".py",
   "mimetype": "text/x-python",
   "name": "python",
   "nbconvert_exporter": "python",
   "pygments_lexer": "ipython3",
   "version": "3.11.7"
  }
 },
 "nbformat": 4,
 "nbformat_minor": 5
}
